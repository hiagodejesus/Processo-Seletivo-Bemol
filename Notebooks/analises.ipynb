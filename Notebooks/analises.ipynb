{
 "cells": [
  {
   "cell_type": "markdown",
   "id": "a33e3f15",
   "metadata": {},
   "source": [
    "# Análise Exploratória "
   ]
  },
  {
   "cell_type": "markdown",
   "id": "a29b271a",
   "metadata": {},
   "source": [
    "### Bibliotecas"
   ]
  },
  {
   "cell_type": "code",
   "execution_count": 1,
   "id": "7743c2c7",
   "metadata": {},
   "outputs": [],
   "source": [
    "import numpy as np\n",
    "import pandas as pd"
   ]
  },
  {
   "cell_type": "markdown",
   "id": "68212333",
   "metadata": {},
   "source": [
    "### Localizando as bases de dados no diretório"
   ]
  },
  {
   "cell_type": "code",
   "execution_count": 2,
   "id": "2ec05f6b",
   "metadata": {
    "scrolled": true
   },
   "outputs": [
    {
     "name": "stdout",
     "output_type": "stream",
     "text": [
      " O volume na unidade C ‚ Windows\n",
      " O N£mero de S‚rie do Volume ‚ 8ED9-8750\n",
      "\n",
      " Pasta de c:\\Github\\Desafio Bemol\\Datasets\n",
      "\n",
      "29/08/2021  16:16         1.848.369 dataset_questao1.csv\n",
      "29/08/2021  16:16           136.819 dataset_questao2.csv\n",
      "               2 arquivo(s)      1.985.188 bytes\n",
      "               0 pasta(s)   62.963.937.280 bytes dispon¡veis\n"
     ]
    }
   ],
   "source": [
    "ls \"../Datasets/*.csv\""
   ]
  },
  {
   "cell_type": "markdown",
   "id": "8c7b9195",
   "metadata": {},
   "source": [
    "### Realizando a leitura das bases de dados"
   ]
  },
  {
   "cell_type": "code",
   "execution_count": 3,
   "id": "2531d1a6",
   "metadata": {},
   "outputs": [],
   "source": [
    "df1 = pd.read_csv(\"../Datasets/dataset_questao1.csv\")"
   ]
  },
  {
   "cell_type": "code",
   "execution_count": 4,
   "id": "b5af71d2",
   "metadata": {},
   "outputs": [],
   "source": [
    "df2 = pd.read_csv(\"../Datasets/dataset_questao2.csv\")"
   ]
  },
  {
   "cell_type": "markdown",
   "id": "54e528c9",
   "metadata": {},
   "source": [
    "## Visão Geral - Dataset Questão 1"
   ]
  },
  {
   "cell_type": "code",
   "execution_count": 5,
   "id": "def2ef60",
   "metadata": {},
   "outputs": [
    {
     "data": {
      "text/html": [
       "<div>\n",
       "<style scoped>\n",
       "    .dataframe tbody tr th:only-of-type {\n",
       "        vertical-align: middle;\n",
       "    }\n",
       "\n",
       "    .dataframe tbody tr th {\n",
       "        vertical-align: top;\n",
       "    }\n",
       "\n",
       "    .dataframe thead th {\n",
       "        text-align: right;\n",
       "    }\n",
       "</style>\n",
       "<table border=\"1\" class=\"dataframe\">\n",
       "  <thead>\n",
       "    <tr style=\"text-align: right;\">\n",
       "      <th></th>\n",
       "      <th>num_compra</th>\n",
       "      <th>cliente</th>\n",
       "      <th>vendedor</th>\n",
       "      <th>tipo_de_mercadoria</th>\n",
       "      <th>filial</th>\n",
       "      <th>data_compra</th>\n",
       "      <th>valor_compra</th>\n",
       "      <th>imposto</th>\n",
       "      <th>cpf_na_nota</th>\n",
       "      <th>produto_devolvido</th>\n",
       "      <th>motivo_devolucao</th>\n",
       "    </tr>\n",
       "  </thead>\n",
       "  <tbody>\n",
       "    <tr>\n",
       "      <th>1499</th>\n",
       "      <td>25832906</td>\n",
       "      <td>8899</td>\n",
       "      <td>WILDES</td>\n",
       "      <td>ANTIARTRÍTICO REF</td>\n",
       "      <td>Loja Autazes</td>\n",
       "      <td>2020-12-17 12:09:35.103</td>\n",
       "      <td>16.056</td>\n",
       "      <td>0.72252</td>\n",
       "      <td>Sim</td>\n",
       "      <td>Sim</td>\n",
       "      <td>Problema na Entrega</td>\n",
       "    </tr>\n",
       "  </tbody>\n",
       "</table>\n",
       "</div>"
      ],
      "text/plain": [
       "      num_compra  cliente vendedor tipo_de_mercadoria        filial  \\\n",
       "1499    25832906     8899   WILDES  ANTIARTRÍTICO REF  Loja Autazes   \n",
       "\n",
       "                  data_compra  valor_compra  imposto cpf_na_nota  \\\n",
       "1499  2020-12-17 12:09:35.103        16.056  0.72252         Sim   \n",
       "\n",
       "     produto_devolvido     motivo_devolucao  \n",
       "1499               Sim  Problema na Entrega  "
      ]
     },
     "execution_count": 5,
     "metadata": {},
     "output_type": "execute_result"
    }
   ],
   "source": [
    "df1.sample()"
   ]
  },
  {
   "cell_type": "code",
   "execution_count": 6,
   "id": "91f6f0fe",
   "metadata": {},
   "outputs": [
    {
     "data": {
      "text/plain": [
       "num_compra              int64\n",
       "cliente                 int64\n",
       "vendedor               object\n",
       "tipo_de_mercadoria     object\n",
       "filial                 object\n",
       "data_compra            object\n",
       "valor_compra          float64\n",
       "imposto               float64\n",
       "cpf_na_nota            object\n",
       "produto_devolvido      object\n",
       "motivo_devolucao       object\n",
       "dtype: object"
      ]
     },
     "execution_count": 6,
     "metadata": {},
     "output_type": "execute_result"
    }
   ],
   "source": [
    "df1.dtypes"
   ]
  },
  {
   "cell_type": "code",
   "execution_count": 7,
   "id": "244363ca",
   "metadata": {},
   "outputs": [
    {
     "data": {
      "text/plain": [
       "(13877, 11)"
      ]
     },
     "execution_count": 7,
     "metadata": {},
     "output_type": "execute_result"
    }
   ],
   "source": [
    "df1.shape"
   ]
  },
  {
   "cell_type": "code",
   "execution_count": 8,
   "id": "d09182fd",
   "metadata": {},
   "outputs": [
    {
     "data": {
      "text/html": [
       "<div>\n",
       "<style scoped>\n",
       "    .dataframe tbody tr th:only-of-type {\n",
       "        vertical-align: middle;\n",
       "    }\n",
       "\n",
       "    .dataframe tbody tr th {\n",
       "        vertical-align: top;\n",
       "    }\n",
       "\n",
       "    .dataframe thead th {\n",
       "        text-align: right;\n",
       "    }\n",
       "</style>\n",
       "<table border=\"1\" class=\"dataframe\">\n",
       "  <thead>\n",
       "    <tr style=\"text-align: right;\">\n",
       "      <th></th>\n",
       "      <th>num_compra</th>\n",
       "      <th>cliente</th>\n",
       "      <th>valor_compra</th>\n",
       "      <th>imposto</th>\n",
       "    </tr>\n",
       "  </thead>\n",
       "  <tbody>\n",
       "    <tr>\n",
       "      <th>count</th>\n",
       "      <td>1.387700e+04</td>\n",
       "      <td>13877.000000</td>\n",
       "      <td>13877.000000</td>\n",
       "      <td>13877.000000</td>\n",
       "    </tr>\n",
       "    <tr>\n",
       "      <th>mean</th>\n",
       "      <td>2.373366e+07</td>\n",
       "      <td>186941.049723</td>\n",
       "      <td>132.021628</td>\n",
       "      <td>5.940973</td>\n",
       "    </tr>\n",
       "    <tr>\n",
       "      <th>std</th>\n",
       "      <td>1.378146e+06</td>\n",
       "      <td>127108.741747</td>\n",
       "      <td>788.208066</td>\n",
       "      <td>35.469363</td>\n",
       "    </tr>\n",
       "    <tr>\n",
       "      <th>min</th>\n",
       "      <td>2.184217e+07</td>\n",
       "      <td>295.000000</td>\n",
       "      <td>0.304000</td>\n",
       "      <td>0.013680</td>\n",
       "    </tr>\n",
       "    <tr>\n",
       "      <th>25%</th>\n",
       "      <td>2.244832e+07</td>\n",
       "      <td>76698.000000</td>\n",
       "      <td>10.384000</td>\n",
       "      <td>0.467280</td>\n",
       "    </tr>\n",
       "    <tr>\n",
       "      <th>50%</th>\n",
       "      <td>2.367986e+07</td>\n",
       "      <td>182834.000000</td>\n",
       "      <td>23.996000</td>\n",
       "      <td>1.079820</td>\n",
       "    </tr>\n",
       "    <tr>\n",
       "      <th>75%</th>\n",
       "      <td>2.491794e+07</td>\n",
       "      <td>277666.000000</td>\n",
       "      <td>54.776000</td>\n",
       "      <td>2.464920</td>\n",
       "    </tr>\n",
       "    <tr>\n",
       "      <th>max</th>\n",
       "      <td>2.629532e+07</td>\n",
       "      <td>466595.000000</td>\n",
       "      <td>24845.040000</td>\n",
       "      <td>1118.026800</td>\n",
       "    </tr>\n",
       "  </tbody>\n",
       "</table>\n",
       "</div>"
      ],
      "text/plain": [
       "         num_compra        cliente  valor_compra       imposto\n",
       "count  1.387700e+04   13877.000000  13877.000000  13877.000000\n",
       "mean   2.373366e+07  186941.049723    132.021628      5.940973\n",
       "std    1.378146e+06  127108.741747    788.208066     35.469363\n",
       "min    2.184217e+07     295.000000      0.304000      0.013680\n",
       "25%    2.244832e+07   76698.000000     10.384000      0.467280\n",
       "50%    2.367986e+07  182834.000000     23.996000      1.079820\n",
       "75%    2.491794e+07  277666.000000     54.776000      2.464920\n",
       "max    2.629532e+07  466595.000000  24845.040000   1118.026800"
      ]
     },
     "execution_count": 8,
     "metadata": {},
     "output_type": "execute_result"
    }
   ],
   "source": [
    "df1.describe()"
   ]
  },
  {
   "cell_type": "markdown",
   "id": "41acbcfa",
   "metadata": {},
   "source": [
    "## Visão Geral - Dataset Questão 2"
   ]
  },
  {
   "cell_type": "code",
   "execution_count": 9,
   "id": "9e8c004c",
   "metadata": {},
   "outputs": [
    {
     "data": {
      "text/html": [
       "<div>\n",
       "<style scoped>\n",
       "    .dataframe tbody tr th:only-of-type {\n",
       "        vertical-align: middle;\n",
       "    }\n",
       "\n",
       "    .dataframe tbody tr th {\n",
       "        vertical-align: top;\n",
       "    }\n",
       "\n",
       "    .dataframe thead th {\n",
       "        text-align: right;\n",
       "    }\n",
       "</style>\n",
       "<table border=\"1\" class=\"dataframe\">\n",
       "  <thead>\n",
       "    <tr style=\"text-align: right;\">\n",
       "      <th></th>\n",
       "      <th>cod_loja</th>\n",
       "      <th>data_compra</th>\n",
       "      <th>inicio</th>\n",
       "      <th>termino</th>\n",
       "      <th>loja</th>\n",
       "      <th>cod_produto</th>\n",
       "      <th>produto</th>\n",
       "      <th>ean</th>\n",
       "      <th>valor_unitario_sem_imposto</th>\n",
       "      <th>quantidade</th>\n",
       "      <th>valor_total</th>\n",
       "      <th>impostos</th>\n",
       "      <th>dinheiro_de_volta</th>\n",
       "    </tr>\n",
       "  </thead>\n",
       "  <tbody>\n",
       "    <tr>\n",
       "      <th>32</th>\n",
       "      <td>410</td>\n",
       "      <td>2019-07-05 20:43:33</td>\n",
       "      <td>2019-07-05 00:00:00</td>\n",
       "      <td>2019-07-20 00:00:00</td>\n",
       "      <td>Unidade Manaus 1</td>\n",
       "      <td>49618556000135</td>\n",
       "      <td>Smart Pro</td>\n",
       "      <td>190199383180</td>\n",
       "      <td>3000</td>\n",
       "      <td>1</td>\n",
       "      <td>3331.29</td>\n",
       "      <td>376.29</td>\n",
       "      <td>45.0</td>\n",
       "    </tr>\n",
       "  </tbody>\n",
       "</table>\n",
       "</div>"
      ],
      "text/plain": [
       "    cod_loja          data_compra               inicio              termino  \\\n",
       "32       410  2019-07-05 20:43:33  2019-07-05 00:00:00  2019-07-20 00:00:00   \n",
       "\n",
       "                loja     cod_produto    produto           ean  \\\n",
       "32  Unidade Manaus 1  49618556000135  Smart Pro  190199383180   \n",
       "\n",
       "    valor_unitario_sem_imposto  quantidade  valor_total  impostos  \\\n",
       "32                        3000           1      3331.29    376.29   \n",
       "\n",
       "    dinheiro_de_volta  \n",
       "32               45.0  "
      ]
     },
     "execution_count": 9,
     "metadata": {},
     "output_type": "execute_result"
    }
   ],
   "source": [
    "df2.sample()"
   ]
  },
  {
   "cell_type": "code",
   "execution_count": 10,
   "id": "874b33b4",
   "metadata": {},
   "outputs": [
    {
     "data": {
      "text/plain": [
       "cod_loja                        int64\n",
       "data_compra                    object\n",
       "inicio                         object\n",
       "termino                        object\n",
       "loja                           object\n",
       "cod_produto                     int64\n",
       "produto                        object\n",
       "ean                             int64\n",
       "valor_unitario_sem_imposto      int64\n",
       "quantidade                      int64\n",
       "valor_total                   float64\n",
       "impostos                      float64\n",
       "dinheiro_de_volta             float64\n",
       "dtype: object"
      ]
     },
     "execution_count": 10,
     "metadata": {},
     "output_type": "execute_result"
    }
   ],
   "source": [
    "df2.dtypes"
   ]
  },
  {
   "cell_type": "code",
   "execution_count": 11,
   "id": "5ebe7db2",
   "metadata": {},
   "outputs": [
    {
     "data": {
      "text/plain": [
       "(899, 13)"
      ]
     },
     "execution_count": 11,
     "metadata": {},
     "output_type": "execute_result"
    }
   ],
   "source": [
    "df2.shape"
   ]
  },
  {
   "cell_type": "code",
   "execution_count": 12,
   "id": "c3d45c80",
   "metadata": {},
   "outputs": [
    {
     "data": {
      "text/html": [
       "<div>\n",
       "<style scoped>\n",
       "    .dataframe tbody tr th:only-of-type {\n",
       "        vertical-align: middle;\n",
       "    }\n",
       "\n",
       "    .dataframe tbody tr th {\n",
       "        vertical-align: top;\n",
       "    }\n",
       "\n",
       "    .dataframe thead th {\n",
       "        text-align: right;\n",
       "    }\n",
       "</style>\n",
       "<table border=\"1\" class=\"dataframe\">\n",
       "  <thead>\n",
       "    <tr style=\"text-align: right;\">\n",
       "      <th></th>\n",
       "      <th>cod_loja</th>\n",
       "      <th>cod_produto</th>\n",
       "      <th>ean</th>\n",
       "      <th>valor_unitario_sem_imposto</th>\n",
       "      <th>quantidade</th>\n",
       "      <th>valor_total</th>\n",
       "      <th>impostos</th>\n",
       "      <th>dinheiro_de_volta</th>\n",
       "    </tr>\n",
       "  </thead>\n",
       "  <tbody>\n",
       "    <tr>\n",
       "      <th>count</th>\n",
       "      <td>899.000000</td>\n",
       "      <td>8.990000e+02</td>\n",
       "      <td>8.990000e+02</td>\n",
       "      <td>899.000000</td>\n",
       "      <td>899.000000</td>\n",
       "      <td>899.000000</td>\n",
       "      <td>899.000000</td>\n",
       "      <td>899.000000</td>\n",
       "    </tr>\n",
       "    <tr>\n",
       "      <th>mean</th>\n",
       "      <td>419.299221</td>\n",
       "      <td>4.961856e+13</td>\n",
       "      <td>3.700537e+11</td>\n",
       "      <td>2441.323693</td>\n",
       "      <td>1.416018</td>\n",
       "      <td>3668.803902</td>\n",
       "      <td>414.414302</td>\n",
       "      <td>49.559232</td>\n",
       "    </tr>\n",
       "    <tr>\n",
       "      <th>std</th>\n",
       "      <td>9.980968</td>\n",
       "      <td>4.042427e+01</td>\n",
       "      <td>2.627831e+11</td>\n",
       "      <td>816.275373</td>\n",
       "      <td>1.006886</td>\n",
       "      <td>2274.318673</td>\n",
       "      <td>256.898491</td>\n",
       "      <td>30.722135</td>\n",
       "    </tr>\n",
       "    <tr>\n",
       "      <th>min</th>\n",
       "      <td>410.000000</td>\n",
       "      <td>4.961856e+13</td>\n",
       "      <td>1.901994e+11</td>\n",
       "      <td>1250.000000</td>\n",
       "      <td>1.000000</td>\n",
       "      <td>1388.037500</td>\n",
       "      <td>156.787500</td>\n",
       "      <td>18.750000</td>\n",
       "    </tr>\n",
       "    <tr>\n",
       "      <th>25%</th>\n",
       "      <td>410.000000</td>\n",
       "      <td>4.961856e+13</td>\n",
       "      <td>1.901994e+11</td>\n",
       "      <td>1250.000000</td>\n",
       "      <td>1.000000</td>\n",
       "      <td>2776.075000</td>\n",
       "      <td>313.575000</td>\n",
       "      <td>37.500000</td>\n",
       "    </tr>\n",
       "    <tr>\n",
       "      <th>50%</th>\n",
       "      <td>410.000000</td>\n",
       "      <td>4.961856e+13</td>\n",
       "      <td>1.901994e+11</td>\n",
       "      <td>3000.000000</td>\n",
       "      <td>1.000000</td>\n",
       "      <td>3331.290000</td>\n",
       "      <td>376.290000</td>\n",
       "      <td>45.000000</td>\n",
       "    </tr>\n",
       "    <tr>\n",
       "      <th>75%</th>\n",
       "      <td>430.000000</td>\n",
       "      <td>4.961856e+13</td>\n",
       "      <td>7.535760e+11</td>\n",
       "      <td>3000.000000</td>\n",
       "      <td>2.000000</td>\n",
       "      <td>3331.290000</td>\n",
       "      <td>376.290000</td>\n",
       "      <td>45.000000</td>\n",
       "    </tr>\n",
       "    <tr>\n",
       "      <th>max</th>\n",
       "      <td>430.000000</td>\n",
       "      <td>4.961856e+13</td>\n",
       "      <td>7.535760e+11</td>\n",
       "      <td>3000.000000</td>\n",
       "      <td>18.000000</td>\n",
       "      <td>26650.320000</td>\n",
       "      <td>3010.320000</td>\n",
       "      <td>360.000000</td>\n",
       "    </tr>\n",
       "  </tbody>\n",
       "</table>\n",
       "</div>"
      ],
      "text/plain": [
       "         cod_loja   cod_produto           ean  valor_unitario_sem_imposto  \\\n",
       "count  899.000000  8.990000e+02  8.990000e+02                  899.000000   \n",
       "mean   419.299221  4.961856e+13  3.700537e+11                 2441.323693   \n",
       "std      9.980968  4.042427e+01  2.627831e+11                  816.275373   \n",
       "min    410.000000  4.961856e+13  1.901994e+11                 1250.000000   \n",
       "25%    410.000000  4.961856e+13  1.901994e+11                 1250.000000   \n",
       "50%    410.000000  4.961856e+13  1.901994e+11                 3000.000000   \n",
       "75%    430.000000  4.961856e+13  7.535760e+11                 3000.000000   \n",
       "max    430.000000  4.961856e+13  7.535760e+11                 3000.000000   \n",
       "\n",
       "       quantidade   valor_total     impostos  dinheiro_de_volta  \n",
       "count  899.000000    899.000000   899.000000         899.000000  \n",
       "mean     1.416018   3668.803902   414.414302          49.559232  \n",
       "std      1.006886   2274.318673   256.898491          30.722135  \n",
       "min      1.000000   1388.037500   156.787500          18.750000  \n",
       "25%      1.000000   2776.075000   313.575000          37.500000  \n",
       "50%      1.000000   3331.290000   376.290000          45.000000  \n",
       "75%      2.000000   3331.290000   376.290000          45.000000  \n",
       "max     18.000000  26650.320000  3010.320000         360.000000  "
      ]
     },
     "execution_count": 12,
     "metadata": {},
     "output_type": "execute_result"
    }
   ],
   "source": [
    "df2.describe()"
   ]
  },
  {
   "cell_type": "markdown",
   "id": "33e5745a",
   "metadata": {},
   "source": [
    "# Análises Dataset Questão 1"
   ]
  },
  {
   "cell_type": "markdown",
   "id": "55b7f518",
   "metadata": {},
   "source": [
    "- Funções auxiliares"
   ]
  },
  {
   "cell_type": "code",
   "execution_count": 13,
   "id": "08d77a3d",
   "metadata": {},
   "outputs": [],
   "source": [
    "moeda = lambda numero : '{:,.2f}'.format(numero).replace(\".\",\"*\").replace(\",\",\".\").replace(\"*\",\",\")\n",
    "casas = lambda numero : '{:,}'.format(numero).replace(\",\",\".\")"
   ]
  },
  {
   "cell_type": "markdown",
   "id": "d6180ceb",
   "metadata": {},
   "source": [
    "### Quantidade de clientes"
   ]
  },
  {
   "cell_type": "code",
   "execution_count": 14,
   "id": "b454611e",
   "metadata": {},
   "outputs": [
    {
     "data": {
      "text/plain": [
       "730"
      ]
     },
     "execution_count": 14,
     "metadata": {},
     "output_type": "execute_result"
    }
   ],
   "source": [
    "clientes = df1.cliente.unique()\n",
    "clientes.__len__()"
   ]
  },
  {
   "cell_type": "markdown",
   "id": "d8072642",
   "metadata": {},
   "source": [
    "### Quantidade de vendedores"
   ]
  },
  {
   "cell_type": "code",
   "execution_count": 15,
   "id": "dd27066c",
   "metadata": {},
   "outputs": [
    {
     "data": {
      "text/plain": [
       "510"
      ]
     },
     "execution_count": 15,
     "metadata": {},
     "output_type": "execute_result"
    }
   ],
   "source": [
    "vendedores = df1.vendedor.unique()\n",
    "vendedores.__len__()"
   ]
  },
  {
   "cell_type": "markdown",
   "id": "db944b81",
   "metadata": {},
   "source": [
    "### Quantidade de produtos"
   ]
  },
  {
   "cell_type": "code",
   "execution_count": 16,
   "id": "0208982e",
   "metadata": {},
   "outputs": [
    {
     "data": {
      "text/plain": [
       "857"
      ]
     },
     "execution_count": 16,
     "metadata": {},
     "output_type": "execute_result"
    }
   ],
   "source": [
    "produtos = df1.tipo_de_mercadoria.unique()\n",
    "produtos.__len__()"
   ]
  },
  {
   "cell_type": "markdown",
   "id": "2c32c8a7",
   "metadata": {},
   "source": [
    "### Quantidade de filiais"
   ]
  },
  {
   "cell_type": "code",
   "execution_count": 17,
   "id": "9490d80e",
   "metadata": {},
   "outputs": [
    {
     "data": {
      "text/plain": [
       "5"
      ]
     },
     "execution_count": 17,
     "metadata": {},
     "output_type": "execute_result"
    }
   ],
   "source": [
    "filiais = df1.filial.unique()\n",
    "filiais.__len__()"
   ]
  },
  {
   "cell_type": "markdown",
   "id": "dc0eeadc",
   "metadata": {},
   "source": [
    "### Os nomes das lojas filiais"
   ]
  },
  {
   "cell_type": "code",
   "execution_count": 18,
   "id": "d895d6a1",
   "metadata": {},
   "outputs": [
    {
     "data": {
      "text/plain": [
       "['Loja Autazes',\n",
       " 'Loja Manicoré',\n",
       " 'Loja Lábrea',\n",
       " 'Loja Itacoatiara',\n",
       " 'Loja Manacapuru']"
      ]
     },
     "execution_count": 18,
     "metadata": {},
     "output_type": "execute_result"
    }
   ],
   "source": [
    "list(filiais)"
   ]
  },
  {
   "cell_type": "markdown",
   "id": "dfaafc4a",
   "metadata": {},
   "source": [
    "### Os motivos de devoluções"
   ]
  },
  {
   "cell_type": "code",
   "execution_count": 19,
   "id": "9a127cae",
   "metadata": {},
   "outputs": [
    {
     "data": {
      "text/plain": [
       "['Sem devolução',\n",
       " 'Antecipação de troca',\n",
       " 'Insatisfação com o produto',\n",
       " 'Problema na Entrega',\n",
       " 'Insatisfação com o atendimento',\n",
       " 'Defeito do produto']"
      ]
     },
     "execution_count": 19,
     "metadata": {},
     "output_type": "execute_result"
    }
   ],
   "source": [
    "motivos = df1.motivo_devolucao.unique()\n",
    "list(motivos)"
   ]
  },
  {
   "cell_type": "markdown",
   "id": "0266f1ce",
   "metadata": {},
   "source": [
    "### Quantidade de compras e a soma das compras de cada cliente"
   ]
  },
  {
   "cell_type": "code",
   "execution_count": 20,
   "id": "47d057f8",
   "metadata": {},
   "outputs": [],
   "source": [
    "quantidade = np.array([])\n",
    "soma = np.array([])\n",
    "\n",
    "for cliente in clientes:\n",
    "    condicao = df1.cliente == cliente\n",
    "    compras = df1[condicao].valor_compra\n",
    "    soma = np.append(soma, compras.sum())\n",
    "    quantidade = np.append(quantidade, compras.count())\n",
    "\n",
    "colunas = [\"Cliente\", \"Qtde_Compras\", \"Soma_Compras\"]\n",
    "dados = [clientes, quantidade, soma]\n",
    "\n",
    "dataframe1 = pd.DataFrame(dados, index=colunas).T"
   ]
  },
  {
   "cell_type": "code",
   "execution_count": 21,
   "id": "735c6613",
   "metadata": {},
   "outputs": [
    {
     "data": {
      "text/html": [
       "<div>\n",
       "<style scoped>\n",
       "    .dataframe tbody tr th:only-of-type {\n",
       "        vertical-align: middle;\n",
       "    }\n",
       "\n",
       "    .dataframe tbody tr th {\n",
       "        vertical-align: top;\n",
       "    }\n",
       "\n",
       "    .dataframe thead th {\n",
       "        text-align: right;\n",
       "    }\n",
       "</style>\n",
       "<table border=\"1\" class=\"dataframe\">\n",
       "  <thead>\n",
       "    <tr style=\"text-align: right;\">\n",
       "      <th></th>\n",
       "      <th>Cliente</th>\n",
       "      <th>Qtde_Compras</th>\n",
       "      <th>Soma_Compras</th>\n",
       "    </tr>\n",
       "  </thead>\n",
       "  <tbody>\n",
       "    <tr>\n",
       "      <th>0</th>\n",
       "      <td>295.0</td>\n",
       "      <td>22.0</td>\n",
       "      <td>4853.068</td>\n",
       "    </tr>\n",
       "    <tr>\n",
       "      <th>1</th>\n",
       "      <td>331.0</td>\n",
       "      <td>21.0</td>\n",
       "      <td>11262.288</td>\n",
       "    </tr>\n",
       "    <tr>\n",
       "      <th>2</th>\n",
       "      <td>370.0</td>\n",
       "      <td>21.0</td>\n",
       "      <td>24481.072</td>\n",
       "    </tr>\n",
       "    <tr>\n",
       "      <th>3</th>\n",
       "      <td>460.0</td>\n",
       "      <td>21.0</td>\n",
       "      <td>18042.312</td>\n",
       "    </tr>\n",
       "    <tr>\n",
       "      <th>4</th>\n",
       "      <td>538.0</td>\n",
       "      <td>21.0</td>\n",
       "      <td>9149.336</td>\n",
       "    </tr>\n",
       "    <tr>\n",
       "      <th>...</th>\n",
       "      <td>...</td>\n",
       "      <td>...</td>\n",
       "      <td>...</td>\n",
       "    </tr>\n",
       "    <tr>\n",
       "      <th>725</th>\n",
       "      <td>465263.0</td>\n",
       "      <td>17.0</td>\n",
       "      <td>5301.628</td>\n",
       "    </tr>\n",
       "    <tr>\n",
       "      <th>726</th>\n",
       "      <td>465620.0</td>\n",
       "      <td>17.0</td>\n",
       "      <td>3278.040</td>\n",
       "    </tr>\n",
       "    <tr>\n",
       "      <th>727</th>\n",
       "      <td>466079.0</td>\n",
       "      <td>17.0</td>\n",
       "      <td>1375.576</td>\n",
       "    </tr>\n",
       "    <tr>\n",
       "      <th>728</th>\n",
       "      <td>466205.0</td>\n",
       "      <td>17.0</td>\n",
       "      <td>1865.080</td>\n",
       "    </tr>\n",
       "    <tr>\n",
       "      <th>729</th>\n",
       "      <td>466595.0</td>\n",
       "      <td>17.0</td>\n",
       "      <td>566.956</td>\n",
       "    </tr>\n",
       "  </tbody>\n",
       "</table>\n",
       "<p>730 rows × 3 columns</p>\n",
       "</div>"
      ],
      "text/plain": [
       "      Cliente  Qtde_Compras  Soma_Compras\n",
       "0       295.0          22.0      4853.068\n",
       "1       331.0          21.0     11262.288\n",
       "2       370.0          21.0     24481.072\n",
       "3       460.0          21.0     18042.312\n",
       "4       538.0          21.0      9149.336\n",
       "..        ...           ...           ...\n",
       "725  465263.0          17.0      5301.628\n",
       "726  465620.0          17.0      3278.040\n",
       "727  466079.0          17.0      1375.576\n",
       "728  466205.0          17.0      1865.080\n",
       "729  466595.0          17.0       566.956\n",
       "\n",
       "[730 rows x 3 columns]"
      ]
     },
     "execution_count": 21,
     "metadata": {},
     "output_type": "execute_result"
    }
   ],
   "source": [
    "dataframe1"
   ]
  },
  {
   "cell_type": "markdown",
   "id": "03e08a62",
   "metadata": {},
   "source": [
    "### O cliente que mais realizou compras"
   ]
  },
  {
   "cell_type": "code",
   "execution_count": 22,
   "id": "42b8bfbd",
   "metadata": {},
   "outputs": [
    {
     "data": {
      "text/html": [
       "<div>\n",
       "<style scoped>\n",
       "    .dataframe tbody tr th:only-of-type {\n",
       "        vertical-align: middle;\n",
       "    }\n",
       "\n",
       "    .dataframe tbody tr th {\n",
       "        vertical-align: top;\n",
       "    }\n",
       "\n",
       "    .dataframe thead th {\n",
       "        text-align: right;\n",
       "    }\n",
       "</style>\n",
       "<table border=\"1\" class=\"dataframe\">\n",
       "  <thead>\n",
       "    <tr style=\"text-align: right;\">\n",
       "      <th></th>\n",
       "      <th>Cliente</th>\n",
       "      <th>Qtde_Compras</th>\n",
       "      <th>Soma_Compras</th>\n",
       "    </tr>\n",
       "  </thead>\n",
       "  <tbody>\n",
       "    <tr>\n",
       "      <th>0</th>\n",
       "      <td>295.0</td>\n",
       "      <td>22.0</td>\n",
       "      <td>4853.068</td>\n",
       "    </tr>\n",
       "  </tbody>\n",
       "</table>\n",
       "</div>"
      ],
      "text/plain": [
       "   Cliente  Qtde_Compras  Soma_Compras\n",
       "0    295.0          22.0      4853.068"
      ]
     },
     "execution_count": 22,
     "metadata": {},
     "output_type": "execute_result"
    }
   ],
   "source": [
    "dataframe1.sort_values(by=[\"Qtde_Compras\"], ascending=False).head(1)"
   ]
  },
  {
   "cell_type": "markdown",
   "id": "9834c9d2",
   "metadata": {},
   "source": [
    "### O cliente que mais gastou em compras"
   ]
  },
  {
   "cell_type": "code",
   "execution_count": 23,
   "id": "4ebb03f0",
   "metadata": {
    "scrolled": false
   },
   "outputs": [
    {
     "data": {
      "text/html": [
       "<div>\n",
       "<style scoped>\n",
       "    .dataframe tbody tr th:only-of-type {\n",
       "        vertical-align: middle;\n",
       "    }\n",
       "\n",
       "    .dataframe tbody tr th {\n",
       "        vertical-align: top;\n",
       "    }\n",
       "\n",
       "    .dataframe thead th {\n",
       "        text-align: right;\n",
       "    }\n",
       "</style>\n",
       "<table border=\"1\" class=\"dataframe\">\n",
       "  <thead>\n",
       "    <tr style=\"text-align: right;\">\n",
       "      <th></th>\n",
       "      <th>Cliente</th>\n",
       "      <th>Qtde_Compras</th>\n",
       "      <th>Soma_Compras</th>\n",
       "    </tr>\n",
       "  </thead>\n",
       "  <tbody>\n",
       "    <tr>\n",
       "      <th>511</th>\n",
       "      <td>266970.0</td>\n",
       "      <td>19.0</td>\n",
       "      <td>28550.036</td>\n",
       "    </tr>\n",
       "  </tbody>\n",
       "</table>\n",
       "</div>"
      ],
      "text/plain": [
       "      Cliente  Qtde_Compras  Soma_Compras\n",
       "511  266970.0          19.0     28550.036"
      ]
     },
     "execution_count": 23,
     "metadata": {},
     "output_type": "execute_result"
    }
   ],
   "source": [
    "dataframe1.sort_values(by=[\"Soma_Compras\"], ascending=False).head(1)"
   ]
  },
  {
   "cell_type": "markdown",
   "id": "65291f08",
   "metadata": {},
   "source": [
    "### Total de compras realizadas"
   ]
  },
  {
   "cell_type": "code",
   "execution_count": 24,
   "id": "63709b33",
   "metadata": {},
   "outputs": [
    {
     "data": {
      "text/plain": [
       "'13.877'"
      ]
     },
     "execution_count": 24,
     "metadata": {},
     "output_type": "execute_result"
    }
   ],
   "source": [
    "casas(dataframe1.Qtde_Compras.sum().astype(int))"
   ]
  },
  {
   "cell_type": "markdown",
   "id": "1ced821f",
   "metadata": {},
   "source": [
    "### Faturamento"
   ]
  },
  {
   "cell_type": "code",
   "execution_count": 25,
   "id": "145b4da6",
   "metadata": {},
   "outputs": [
    {
     "data": {
      "text/plain": [
       "'1.832.064,13'"
      ]
     },
     "execution_count": 25,
     "metadata": {},
     "output_type": "execute_result"
    }
   ],
   "source": [
    "moeda(dataframe1.Soma_Compras.sum())"
   ]
  },
  {
   "cell_type": "markdown",
   "id": "174c5219",
   "metadata": {},
   "source": [
    "### Quantos clientes registraram CPF na nota"
   ]
  },
  {
   "cell_type": "code",
   "execution_count": 26,
   "id": "cf552648",
   "metadata": {},
   "outputs": [
    {
     "data": {
      "text/plain": [
       "'11.908'"
      ]
     },
     "execution_count": 26,
     "metadata": {},
     "output_type": "execute_result"
    }
   ],
   "source": [
    "casas(df1.query(\"cpf_na_nota == 'Sim'\")[\"cpf_na_nota\"].count())"
   ]
  },
  {
   "cell_type": "markdown",
   "id": "18603307",
   "metadata": {},
   "source": [
    "### Quantos clientes não cadastraram CPF na nota"
   ]
  },
  {
   "cell_type": "code",
   "execution_count": 27,
   "id": "4b1ca309",
   "metadata": {},
   "outputs": [
    {
     "data": {
      "text/plain": [
       "'1.969'"
      ]
     },
     "execution_count": 27,
     "metadata": {},
     "output_type": "execute_result"
    }
   ],
   "source": [
    "casas(df1.query(\"cpf_na_nota == 'Não'\")[\"cpf_na_nota\"].count())"
   ]
  },
  {
   "cell_type": "markdown",
   "id": "b5816a99",
   "metadata": {},
   "source": [
    "### O total de cada motivo de devolução"
   ]
  },
  {
   "cell_type": "code",
   "execution_count": 28,
   "id": "4a1479d3",
   "metadata": {},
   "outputs": [],
   "source": [
    "total_motivos = np.array([])\n",
    "\n",
    "for motivo in motivos:\n",
    "    total = df1.query(f\"motivo_devolucao == '{motivo}'\")[\"motivo_devolucao\"].count()\n",
    "    total_motivos = np.append(total_motivos, (motivo, total))"
   ]
  },
  {
   "cell_type": "code",
   "execution_count": 29,
   "id": "f782c30f",
   "metadata": {
    "scrolled": true
   },
   "outputs": [
    {
     "data": {
      "text/html": [
       "<div>\n",
       "<style scoped>\n",
       "    .dataframe tbody tr th:only-of-type {\n",
       "        vertical-align: middle;\n",
       "    }\n",
       "\n",
       "    .dataframe tbody tr th {\n",
       "        vertical-align: top;\n",
       "    }\n",
       "\n",
       "    .dataframe thead th {\n",
       "        text-align: right;\n",
       "    }\n",
       "</style>\n",
       "<table border=\"1\" class=\"dataframe\">\n",
       "  <thead>\n",
       "    <tr style=\"text-align: right;\">\n",
       "      <th></th>\n",
       "      <th>Motivos</th>\n",
       "      <th>Total</th>\n",
       "    </tr>\n",
       "  </thead>\n",
       "  <tbody>\n",
       "    <tr>\n",
       "      <th>0</th>\n",
       "      <td>Sem devolução</td>\n",
       "      <td>6962</td>\n",
       "    </tr>\n",
       "    <tr>\n",
       "      <th>1</th>\n",
       "      <td>Antecipação de troca</td>\n",
       "      <td>1368</td>\n",
       "    </tr>\n",
       "    <tr>\n",
       "      <th>2</th>\n",
       "      <td>Insatisfação com o produto</td>\n",
       "      <td>1385</td>\n",
       "    </tr>\n",
       "    <tr>\n",
       "      <th>3</th>\n",
       "      <td>Problema na Entrega</td>\n",
       "      <td>1369</td>\n",
       "    </tr>\n",
       "    <tr>\n",
       "      <th>4</th>\n",
       "      <td>Insatisfação com o atendimento</td>\n",
       "      <td>1354</td>\n",
       "    </tr>\n",
       "    <tr>\n",
       "      <th>5</th>\n",
       "      <td>Defeito do produto</td>\n",
       "      <td>1439</td>\n",
       "    </tr>\n",
       "  </tbody>\n",
       "</table>\n",
       "</div>"
      ],
      "text/plain": [
       "                          Motivos Total\n",
       "0                   Sem devolução  6962\n",
       "1            Antecipação de troca  1368\n",
       "2      Insatisfação com o produto  1385\n",
       "3             Problema na Entrega  1369\n",
       "4  Insatisfação com o atendimento  1354\n",
       "5              Defeito do produto  1439"
      ]
     },
     "execution_count": 29,
     "metadata": {},
     "output_type": "execute_result"
    }
   ],
   "source": [
    "total = total_motivos.reshape((6,2))\n",
    "dataframe2 = pd.DataFrame.from_records(total, columns=['Motivos', 'Total'])\n",
    "dataframe2"
   ]
  },
  {
   "cell_type": "markdown",
   "id": "c2f4469a",
   "metadata": {},
   "source": [
    "###  O maior motivo de devolução de produtos"
   ]
  },
  {
   "cell_type": "code",
   "execution_count": 30,
   "id": "10866753",
   "metadata": {},
   "outputs": [
    {
     "data": {
      "text/html": [
       "<div>\n",
       "<style scoped>\n",
       "    .dataframe tbody tr th:only-of-type {\n",
       "        vertical-align: middle;\n",
       "    }\n",
       "\n",
       "    .dataframe tbody tr th {\n",
       "        vertical-align: top;\n",
       "    }\n",
       "\n",
       "    .dataframe thead th {\n",
       "        text-align: right;\n",
       "    }\n",
       "</style>\n",
       "<table border=\"1\" class=\"dataframe\">\n",
       "  <thead>\n",
       "    <tr style=\"text-align: right;\">\n",
       "      <th></th>\n",
       "      <th>Motivos</th>\n",
       "      <th>Total</th>\n",
       "    </tr>\n",
       "  </thead>\n",
       "  <tbody>\n",
       "    <tr>\n",
       "      <th>5</th>\n",
       "      <td>Defeito do produto</td>\n",
       "      <td>1439</td>\n",
       "    </tr>\n",
       "  </tbody>\n",
       "</table>\n",
       "</div>"
      ],
      "text/plain": [
       "              Motivos Total\n",
       "5  Defeito do produto  1439"
      ]
     },
     "execution_count": 30,
     "metadata": {},
     "output_type": "execute_result"
    }
   ],
   "source": [
    "data = dataframe2.sort_values(by=[\"Total\"], ascending=False)\n",
    "data.iloc[1:2,0:2]"
   ]
  },
  {
   "cell_type": "markdown",
   "id": "91a4dc06",
   "metadata": {},
   "source": [
    "###  O menor motivo de devolução de produtos"
   ]
  },
  {
   "cell_type": "code",
   "execution_count": 31,
   "id": "458e19e9",
   "metadata": {},
   "outputs": [
    {
     "data": {
      "text/html": [
       "<div>\n",
       "<style scoped>\n",
       "    .dataframe tbody tr th:only-of-type {\n",
       "        vertical-align: middle;\n",
       "    }\n",
       "\n",
       "    .dataframe tbody tr th {\n",
       "        vertical-align: top;\n",
       "    }\n",
       "\n",
       "    .dataframe thead th {\n",
       "        text-align: right;\n",
       "    }\n",
       "</style>\n",
       "<table border=\"1\" class=\"dataframe\">\n",
       "  <thead>\n",
       "    <tr style=\"text-align: right;\">\n",
       "      <th></th>\n",
       "      <th>Motivos</th>\n",
       "      <th>Total</th>\n",
       "    </tr>\n",
       "  </thead>\n",
       "  <tbody>\n",
       "    <tr>\n",
       "      <th>4</th>\n",
       "      <td>Insatisfação com o atendimento</td>\n",
       "      <td>1354</td>\n",
       "    </tr>\n",
       "  </tbody>\n",
       "</table>\n",
       "</div>"
      ],
      "text/plain": [
       "                          Motivos Total\n",
       "4  Insatisfação com o atendimento  1354"
      ]
     },
     "execution_count": 31,
     "metadata": {},
     "output_type": "execute_result"
    }
   ],
   "source": [
    "data.iloc[-1:,0:2]"
   ]
  },
  {
   "cell_type": "markdown",
   "id": "3062d2ed",
   "metadata": {},
   "source": [
    "###  Os produtos mais vendidos"
   ]
  },
  {
   "cell_type": "code",
   "execution_count": 32,
   "id": "04cf2a78",
   "metadata": {
    "scrolled": false
   },
   "outputs": [
    {
     "data": {
      "text/html": [
       "<div>\n",
       "<style scoped>\n",
       "    .dataframe tbody tr th:only-of-type {\n",
       "        vertical-align: middle;\n",
       "    }\n",
       "\n",
       "    .dataframe tbody tr th {\n",
       "        vertical-align: top;\n",
       "    }\n",
       "\n",
       "    .dataframe thead th {\n",
       "        text-align: right;\n",
       "    }\n",
       "</style>\n",
       "<table border=\"1\" class=\"dataframe\">\n",
       "  <thead>\n",
       "    <tr style=\"text-align: right;\">\n",
       "      <th></th>\n",
       "      <th>Produtos</th>\n",
       "      <th>Vendidos</th>\n",
       "    </tr>\n",
       "  </thead>\n",
       "  <tbody>\n",
       "    <tr>\n",
       "      <th>0</th>\n",
       "      <td>SPLIT 18001 À 30000</td>\n",
       "      <td>103</td>\n",
       "    </tr>\n",
       "    <tr>\n",
       "      <th>1</th>\n",
       "      <td>SPLIT 10001 À 18000</td>\n",
       "      <td>103</td>\n",
       "    </tr>\n",
       "    <tr>\n",
       "      <th>2</th>\n",
       "      <td>GRILL</td>\n",
       "      <td>25</td>\n",
       "    </tr>\n",
       "    <tr>\n",
       "      <th>3</th>\n",
       "      <td>FERRO SECO</td>\n",
       "      <td>25</td>\n",
       "    </tr>\n",
       "    <tr>\n",
       "      <th>4</th>\n",
       "      <td>JANELA 8501 À 10000</td>\n",
       "      <td>25</td>\n",
       "    </tr>\n",
       "    <tr>\n",
       "      <th>...</th>\n",
       "      <td>...</td>\n",
       "      <td>...</td>\n",
       "    </tr>\n",
       "    <tr>\n",
       "      <th>852</th>\n",
       "      <td>ÔMEGA 3 E 6</td>\n",
       "      <td>11</td>\n",
       "    </tr>\n",
       "    <tr>\n",
       "      <th>853</th>\n",
       "      <td>PROTETOR DE MAMILO</td>\n",
       "      <td>11</td>\n",
       "    </tr>\n",
       "    <tr>\n",
       "      <th>854</th>\n",
       "      <td>PROTETOR SOLAR INFAN</td>\n",
       "      <td>11</td>\n",
       "    </tr>\n",
       "    <tr>\n",
       "      <th>855</th>\n",
       "      <td>SAB LIQ FITOTERÁPICO</td>\n",
       "      <td>11</td>\n",
       "    </tr>\n",
       "    <tr>\n",
       "      <th>856</th>\n",
       "      <td>MINERAIS REF</td>\n",
       "      <td>11</td>\n",
       "    </tr>\n",
       "  </tbody>\n",
       "</table>\n",
       "<p>857 rows × 2 columns</p>\n",
       "</div>"
      ],
      "text/plain": [
       "                 Produtos Vendidos\n",
       "0     SPLIT 18001 À 30000      103\n",
       "1     SPLIT 10001 À 18000      103\n",
       "2                   GRILL       25\n",
       "3              FERRO SECO       25\n",
       "4     JANELA 8501 À 10000       25\n",
       "..                    ...      ...\n",
       "852           ÔMEGA 3 E 6       11\n",
       "853    PROTETOR DE MAMILO       11\n",
       "854  PROTETOR SOLAR INFAN       11\n",
       "855  SAB LIQ FITOTERÁPICO       11\n",
       "856          MINERAIS REF       11\n",
       "\n",
       "[857 rows x 2 columns]"
      ]
     },
     "execution_count": 32,
     "metadata": {},
     "output_type": "execute_result"
    }
   ],
   "source": [
    "vendidos = df1.tipo_de_mercadoria.value_counts()\n",
    "\n",
    "dataframe3 = pd.DataFrame([vendidos.index, vendidos.values], index=[\"Produtos\",\"Vendidos\"]).T\n",
    "dataframe3"
   ]
  },
  {
   "cell_type": "markdown",
   "id": "f3d49f91",
   "metadata": {},
   "source": [
    "###  O total de devoluções de cada produto"
   ]
  },
  {
   "cell_type": "code",
   "execution_count": 33,
   "id": "5f0bd119",
   "metadata": {
    "scrolled": false
   },
   "outputs": [
    {
     "data": {
      "text/html": [
       "<div>\n",
       "<style scoped>\n",
       "    .dataframe tbody tr th:only-of-type {\n",
       "        vertical-align: middle;\n",
       "    }\n",
       "\n",
       "    .dataframe tbody tr th {\n",
       "        vertical-align: top;\n",
       "    }\n",
       "\n",
       "    .dataframe thead th {\n",
       "        text-align: right;\n",
       "    }\n",
       "</style>\n",
       "<table border=\"1\" class=\"dataframe\">\n",
       "  <thead>\n",
       "    <tr style=\"text-align: right;\">\n",
       "      <th></th>\n",
       "      <th>Produtos</th>\n",
       "      <th>Devolvidos</th>\n",
       "    </tr>\n",
       "  </thead>\n",
       "  <tbody>\n",
       "    <tr>\n",
       "      <th>0</th>\n",
       "      <td>SPLIT 10001 À 18000</td>\n",
       "      <td>57</td>\n",
       "    </tr>\n",
       "    <tr>\n",
       "      <th>1</th>\n",
       "      <td>SPLIT 18001 À 30000</td>\n",
       "      <td>55</td>\n",
       "    </tr>\n",
       "    <tr>\n",
       "      <th>2</th>\n",
       "      <td>TV LED DE 48\" À 54\"</td>\n",
       "      <td>19</td>\n",
       "    </tr>\n",
       "    <tr>\n",
       "      <th>3</th>\n",
       "      <td>TANQUINHO/SEMI-AUTOM</td>\n",
       "      <td>16</td>\n",
       "    </tr>\n",
       "    <tr>\n",
       "      <th>4</th>\n",
       "      <td>TV LED DE 32\"</td>\n",
       "      <td>16</td>\n",
       "    </tr>\n",
       "    <tr>\n",
       "      <th>...</th>\n",
       "      <td>...</td>\n",
       "      <td>...</td>\n",
       "    </tr>\n",
       "    <tr>\n",
       "      <th>852</th>\n",
       "      <td>KIT COZINHA DE MADEI</td>\n",
       "      <td>3</td>\n",
       "    </tr>\n",
       "    <tr>\n",
       "      <th>853</th>\n",
       "      <td>RÁDIOS AUTO 2</td>\n",
       "      <td>3</td>\n",
       "    </tr>\n",
       "    <tr>\n",
       "      <th>854</th>\n",
       "      <td>ADEGA 1</td>\n",
       "      <td>2</td>\n",
       "    </tr>\n",
       "    <tr>\n",
       "      <th>855</th>\n",
       "      <td>SABONETE LÍQUIDO</td>\n",
       "      <td>2</td>\n",
       "    </tr>\n",
       "    <tr>\n",
       "      <th>856</th>\n",
       "      <td>ARQ/GAVETEIRO ESCRIT</td>\n",
       "      <td>2</td>\n",
       "    </tr>\n",
       "  </tbody>\n",
       "</table>\n",
       "<p>857 rows × 2 columns</p>\n",
       "</div>"
      ],
      "text/plain": [
       "                 Produtos Devolvidos\n",
       "0     SPLIT 10001 À 18000         57\n",
       "1     SPLIT 18001 À 30000         55\n",
       "2     TV LED DE 48\" À 54\"         19\n",
       "3    TANQUINHO/SEMI-AUTOM         16\n",
       "4           TV LED DE 32\"         16\n",
       "..                    ...        ...\n",
       "852  KIT COZINHA DE MADEI          3\n",
       "853         RÁDIOS AUTO 2          3\n",
       "854               ADEGA 1          2\n",
       "855      SABONETE LÍQUIDO          2\n",
       "856  ARQ/GAVETEIRO ESCRIT          2\n",
       "\n",
       "[857 rows x 2 columns]"
      ]
     },
     "execution_count": 33,
     "metadata": {},
     "output_type": "execute_result"
    }
   ],
   "source": [
    "condicao = df1.produto_devolvido == \"Sim\"\n",
    "devolvidos = df1[condicao].tipo_de_mercadoria.value_counts()\n",
    "dataframe4 = pd.DataFrame([devolvidos.index, devolvidos.values], index=[\"Produtos\", \"Devolvidos\"]).T\n",
    "dataframe4"
   ]
  },
  {
   "cell_type": "markdown",
   "id": "691ebb7f",
   "metadata": {},
   "source": [
    "### O produto com mais devoluções"
   ]
  },
  {
   "cell_type": "code",
   "execution_count": 34,
   "id": "c8e90f54",
   "metadata": {},
   "outputs": [
    {
     "data": {
      "text/html": [
       "<div>\n",
       "<style scoped>\n",
       "    .dataframe tbody tr th:only-of-type {\n",
       "        vertical-align: middle;\n",
       "    }\n",
       "\n",
       "    .dataframe tbody tr th {\n",
       "        vertical-align: top;\n",
       "    }\n",
       "\n",
       "    .dataframe thead th {\n",
       "        text-align: right;\n",
       "    }\n",
       "</style>\n",
       "<table border=\"1\" class=\"dataframe\">\n",
       "  <thead>\n",
       "    <tr style=\"text-align: right;\">\n",
       "      <th></th>\n",
       "      <th>Produtos</th>\n",
       "      <th>Devolvidos</th>\n",
       "    </tr>\n",
       "  </thead>\n",
       "  <tbody>\n",
       "    <tr>\n",
       "      <th>0</th>\n",
       "      <td>SPLIT 10001 À 18000</td>\n",
       "      <td>57</td>\n",
       "    </tr>\n",
       "  </tbody>\n",
       "</table>\n",
       "</div>"
      ],
      "text/plain": [
       "              Produtos Devolvidos\n",
       "0  SPLIT 10001 À 18000         57"
      ]
     },
     "execution_count": 34,
     "metadata": {},
     "output_type": "execute_result"
    }
   ],
   "source": [
    "dataframe4.head(1)"
   ]
  },
  {
   "cell_type": "markdown",
   "id": "f2f2375c",
   "metadata": {},
   "source": [
    "###  O produto com menos devoluções"
   ]
  },
  {
   "cell_type": "code",
   "execution_count": 35,
   "id": "21746e15",
   "metadata": {},
   "outputs": [
    {
     "data": {
      "text/html": [
       "<div>\n",
       "<style scoped>\n",
       "    .dataframe tbody tr th:only-of-type {\n",
       "        vertical-align: middle;\n",
       "    }\n",
       "\n",
       "    .dataframe tbody tr th {\n",
       "        vertical-align: top;\n",
       "    }\n",
       "\n",
       "    .dataframe thead th {\n",
       "        text-align: right;\n",
       "    }\n",
       "</style>\n",
       "<table border=\"1\" class=\"dataframe\">\n",
       "  <thead>\n",
       "    <tr style=\"text-align: right;\">\n",
       "      <th></th>\n",
       "      <th>Produtos</th>\n",
       "      <th>Devolvidos</th>\n",
       "    </tr>\n",
       "  </thead>\n",
       "  <tbody>\n",
       "    <tr>\n",
       "      <th>856</th>\n",
       "      <td>ARQ/GAVETEIRO ESCRIT</td>\n",
       "      <td>2</td>\n",
       "    </tr>\n",
       "  </tbody>\n",
       "</table>\n",
       "</div>"
      ],
      "text/plain": [
       "                 Produtos Devolvidos\n",
       "856  ARQ/GAVETEIRO ESCRIT          2"
      ]
     },
     "execution_count": 35,
     "metadata": {},
     "output_type": "execute_result"
    }
   ],
   "source": [
    "dataframe4.tail(1)"
   ]
  },
  {
   "cell_type": "markdown",
   "id": "9b79b21f",
   "metadata": {},
   "source": [
    "###  O total de imposto de cada produto"
   ]
  },
  {
   "cell_type": "code",
   "execution_count": 36,
   "id": "59a61403",
   "metadata": {
    "scrolled": false
   },
   "outputs": [
    {
     "data": {
      "text/html": [
       "<div>\n",
       "<style scoped>\n",
       "    .dataframe tbody tr th:only-of-type {\n",
       "        vertical-align: middle;\n",
       "    }\n",
       "\n",
       "    .dataframe tbody tr th {\n",
       "        vertical-align: top;\n",
       "    }\n",
       "\n",
       "    .dataframe thead th {\n",
       "        text-align: right;\n",
       "    }\n",
       "</style>\n",
       "<table border=\"1\" class=\"dataframe\">\n",
       "  <thead>\n",
       "    <tr style=\"text-align: right;\">\n",
       "      <th></th>\n",
       "      <th>Produtos</th>\n",
       "      <th>Imposto</th>\n",
       "    </tr>\n",
       "  </thead>\n",
       "  <tbody>\n",
       "    <tr>\n",
       "      <th>3</th>\n",
       "      <td>SPLIT 10001 À 18000</td>\n",
       "      <td>9478.9764</td>\n",
       "    </tr>\n",
       "    <tr>\n",
       "      <th>4</th>\n",
       "      <td>SPLIT 18001 À 30000</td>\n",
       "      <td>7004.4372</td>\n",
       "    </tr>\n",
       "    <tr>\n",
       "      <th>2</th>\n",
       "      <td>SPLIT ACIMA DE 30000</td>\n",
       "      <td>3900.1932</td>\n",
       "    </tr>\n",
       "    <tr>\n",
       "      <th>14</th>\n",
       "      <td>TV LED DE 48\" À 54\"</td>\n",
       "      <td>3750.9372</td>\n",
       "    </tr>\n",
       "    <tr>\n",
       "      <th>412</th>\n",
       "      <td>SPLIT INV18001À30000</td>\n",
       "      <td>3211.3476</td>\n",
       "    </tr>\n",
       "    <tr>\n",
       "      <th>...</th>\n",
       "      <td>...</td>\n",
       "      <td>...</td>\n",
       "    </tr>\n",
       "    <tr>\n",
       "      <th>803</th>\n",
       "      <td>AGULHAS E SERINGAS</td>\n",
       "      <td>11.11194</td>\n",
       "    </tr>\n",
       "    <tr>\n",
       "      <th>328</th>\n",
       "      <td>TELEVISOR LCD 2</td>\n",
       "      <td>10.82466</td>\n",
       "    </tr>\n",
       "    <tr>\n",
       "      <th>456</th>\n",
       "      <td>AR COND JANELA 2</td>\n",
       "      <td>10.38888</td>\n",
       "    </tr>\n",
       "    <tr>\n",
       "      <th>466</th>\n",
       "      <td>BEBEDOURO 2</td>\n",
       "      <td>9.99288</td>\n",
       "    </tr>\n",
       "    <tr>\n",
       "      <th>331</th>\n",
       "      <td>GELADEIRA 1</td>\n",
       "      <td>9.4725</td>\n",
       "    </tr>\n",
       "  </tbody>\n",
       "</table>\n",
       "<p>857 rows × 2 columns</p>\n",
       "</div>"
      ],
      "text/plain": [
       "                 Produtos    Imposto\n",
       "3     SPLIT 10001 À 18000  9478.9764\n",
       "4     SPLIT 18001 À 30000  7004.4372\n",
       "2    SPLIT ACIMA DE 30000  3900.1932\n",
       "14    TV LED DE 48\" À 54\"  3750.9372\n",
       "412  SPLIT INV18001À30000  3211.3476\n",
       "..                    ...        ...\n",
       "803    AGULHAS E SERINGAS   11.11194\n",
       "328       TELEVISOR LCD 2   10.82466\n",
       "456      AR COND JANELA 2   10.38888\n",
       "466           BEBEDOURO 2    9.99288\n",
       "331           GELADEIRA 1     9.4725\n",
       "\n",
       "[857 rows x 2 columns]"
      ]
     },
     "execution_count": 36,
     "metadata": {},
     "output_type": "execute_result"
    }
   ],
   "source": [
    "icms = np.array([])\n",
    "\n",
    "for produto in produtos:\n",
    "    condicao = df1.tipo_de_mercadoria == produto\n",
    "    imposto = df1[condicao].imposto.sum()\n",
    "    icms = np.append(icms, imposto)\n",
    "    \n",
    "dataframe5 = pd.DataFrame([produtos, icms], index=[\"Produtos\",\"Imposto\"]).T.sort_values(by=[\"Imposto\"], ascending=False)\n",
    "dataframe5"
   ]
  },
  {
   "cell_type": "markdown",
   "id": "01dc3a4f",
   "metadata": {},
   "source": [
    "### O total de imposto dos produtos"
   ]
  },
  {
   "cell_type": "code",
   "execution_count": 37,
   "id": "9c3ef974",
   "metadata": {},
   "outputs": [
    {
     "data": {
      "text/plain": [
       "'82.442,89'"
      ]
     },
     "execution_count": 37,
     "metadata": {},
     "output_type": "execute_result"
    }
   ],
   "source": [
    "moeda(dataframe5.Imposto.sum())"
   ]
  },
  {
   "cell_type": "markdown",
   "id": "1a36d8ea",
   "metadata": {},
   "source": [
    "### O produto vendido que pagou mais imposto"
   ]
  },
  {
   "cell_type": "code",
   "execution_count": 38,
   "id": "6ad0a731",
   "metadata": {},
   "outputs": [
    {
     "data": {
      "text/html": [
       "<div>\n",
       "<style scoped>\n",
       "    .dataframe tbody tr th:only-of-type {\n",
       "        vertical-align: middle;\n",
       "    }\n",
       "\n",
       "    .dataframe tbody tr th {\n",
       "        vertical-align: top;\n",
       "    }\n",
       "\n",
       "    .dataframe thead th {\n",
       "        text-align: right;\n",
       "    }\n",
       "</style>\n",
       "<table border=\"1\" class=\"dataframe\">\n",
       "  <thead>\n",
       "    <tr style=\"text-align: right;\">\n",
       "      <th></th>\n",
       "      <th>Produtos</th>\n",
       "      <th>Imposto</th>\n",
       "    </tr>\n",
       "  </thead>\n",
       "  <tbody>\n",
       "    <tr>\n",
       "      <th>3</th>\n",
       "      <td>SPLIT 10001 À 18000</td>\n",
       "      <td>9478.9764</td>\n",
       "    </tr>\n",
       "  </tbody>\n",
       "</table>\n",
       "</div>"
      ],
      "text/plain": [
       "              Produtos    Imposto\n",
       "3  SPLIT 10001 À 18000  9478.9764"
      ]
     },
     "execution_count": 38,
     "metadata": {},
     "output_type": "execute_result"
    }
   ],
   "source": [
    "dataframe5.head(1)"
   ]
  },
  {
   "cell_type": "markdown",
   "id": "b2f88abd",
   "metadata": {},
   "source": [
    "### O produto vendido que pagou menos imposto"
   ]
  },
  {
   "cell_type": "code",
   "execution_count": 39,
   "id": "de8c095c",
   "metadata": {},
   "outputs": [
    {
     "data": {
      "text/html": [
       "<div>\n",
       "<style scoped>\n",
       "    .dataframe tbody tr th:only-of-type {\n",
       "        vertical-align: middle;\n",
       "    }\n",
       "\n",
       "    .dataframe tbody tr th {\n",
       "        vertical-align: top;\n",
       "    }\n",
       "\n",
       "    .dataframe thead th {\n",
       "        text-align: right;\n",
       "    }\n",
       "</style>\n",
       "<table border=\"1\" class=\"dataframe\">\n",
       "  <thead>\n",
       "    <tr style=\"text-align: right;\">\n",
       "      <th></th>\n",
       "      <th>Produtos</th>\n",
       "      <th>Imposto</th>\n",
       "    </tr>\n",
       "  </thead>\n",
       "  <tbody>\n",
       "    <tr>\n",
       "      <th>331</th>\n",
       "      <td>GELADEIRA 1</td>\n",
       "      <td>9.4725</td>\n",
       "    </tr>\n",
       "  </tbody>\n",
       "</table>\n",
       "</div>"
      ],
      "text/plain": [
       "        Produtos Imposto\n",
       "331  GELADEIRA 1  9.4725"
      ]
     },
     "execution_count": 39,
     "metadata": {},
     "output_type": "execute_result"
    }
   ],
   "source": [
    "dataframe5.tail(1)"
   ]
  },
  {
   "cell_type": "markdown",
   "id": "d849ca00",
   "metadata": {},
   "source": [
    "### O total do valor de vendas de cada produto em cada filial"
   ]
  },
  {
   "cell_type": "code",
   "execution_count": 40,
   "id": "f3988a27",
   "metadata": {},
   "outputs": [],
   "source": [
    "lista_dataframes = dict()\n",
    "\n",
    "for loja in filiais:\n",
    "    vendas = np.array([])\n",
    "    \n",
    "    for produto in produtos:\n",
    "        condicao1 = df1.filial == loja\n",
    "        condicao2 = df1.tipo_de_mercadoria == produto\n",
    "        \n",
    "        soma = df1[condicao1 & condicao2].valor_compra.sum()\n",
    "        vendas = np.append(vendas, soma)\n",
    "        \n",
    "    dataframe6 = pd.DataFrame([produtos, vendas], index=[\"Produtos\", \"Valor_Vendas\"]).T\n",
    "    lista_dataframes[loja] = dataframe6.sort_values(by=[\"Valor_Vendas\"], ascending=False)"
   ]
  },
  {
   "cell_type": "markdown",
   "id": "003910ac",
   "metadata": {},
   "source": [
    "### Total de Vendas da Loja Autazes"
   ]
  },
  {
   "cell_type": "code",
   "execution_count": 41,
   "id": "4045ae76",
   "metadata": {},
   "outputs": [
    {
     "data": {
      "text/html": [
       "<div>\n",
       "<style scoped>\n",
       "    .dataframe tbody tr th:only-of-type {\n",
       "        vertical-align: middle;\n",
       "    }\n",
       "\n",
       "    .dataframe tbody tr th {\n",
       "        vertical-align: top;\n",
       "    }\n",
       "\n",
       "    .dataframe thead th {\n",
       "        text-align: right;\n",
       "    }\n",
       "</style>\n",
       "<table border=\"1\" class=\"dataframe\">\n",
       "  <thead>\n",
       "    <tr style=\"text-align: right;\">\n",
       "      <th></th>\n",
       "      <th>Produtos</th>\n",
       "      <th>Valor_Vendas</th>\n",
       "    </tr>\n",
       "  </thead>\n",
       "  <tbody>\n",
       "    <tr>\n",
       "      <th>4</th>\n",
       "      <td>SPLIT 18001 À 30000</td>\n",
       "      <td>26467.92</td>\n",
       "    </tr>\n",
       "    <tr>\n",
       "      <th>3</th>\n",
       "      <td>SPLIT 10001 À 18000</td>\n",
       "      <td>24860.88</td>\n",
       "    </tr>\n",
       "    <tr>\n",
       "      <th>0</th>\n",
       "      <td>SPLIT 8501 À 10000</td>\n",
       "      <td>10045.68</td>\n",
       "    </tr>\n",
       "    <tr>\n",
       "      <th>17</th>\n",
       "      <td>TV 4K ATÉ 59\"</td>\n",
       "      <td>9579.36</td>\n",
       "    </tr>\n",
       "    <tr>\n",
       "      <th>12</th>\n",
       "      <td>TV LED DE 32\"</td>\n",
       "      <td>9091.2</td>\n",
       "    </tr>\n",
       "    <tr>\n",
       "      <th>...</th>\n",
       "      <td>...</td>\n",
       "      <td>...</td>\n",
       "    </tr>\n",
       "    <tr>\n",
       "      <th>129</th>\n",
       "      <td>CONJ LOUÇA JANTAR</td>\n",
       "      <td>0.0</td>\n",
       "    </tr>\n",
       "    <tr>\n",
       "      <th>135</th>\n",
       "      <td>COMPL COZ DE AÇO</td>\n",
       "      <td>0.0</td>\n",
       "    </tr>\n",
       "    <tr>\n",
       "      <th>130</th>\n",
       "      <td>CAÇAROLA</td>\n",
       "      <td>0.0</td>\n",
       "    </tr>\n",
       "    <tr>\n",
       "      <th>382</th>\n",
       "      <td>ACESS. P/ BICICLETA</td>\n",
       "      <td>0.0</td>\n",
       "    </tr>\n",
       "    <tr>\n",
       "      <th>270</th>\n",
       "      <td>FILTRO M CONSTRUÇÃO</td>\n",
       "      <td>0.0</td>\n",
       "    </tr>\n",
       "  </tbody>\n",
       "</table>\n",
       "<p>857 rows × 2 columns</p>\n",
       "</div>"
      ],
      "text/plain": [
       "                Produtos Valor_Vendas\n",
       "4    SPLIT 18001 À 30000     26467.92\n",
       "3    SPLIT 10001 À 18000     24860.88\n",
       "0     SPLIT 8501 À 10000     10045.68\n",
       "17         TV 4K ATÉ 59\"      9579.36\n",
       "12         TV LED DE 32\"       9091.2\n",
       "..                   ...          ...\n",
       "129    CONJ LOUÇA JANTAR          0.0\n",
       "135     COMPL COZ DE AÇO          0.0\n",
       "130             CAÇAROLA          0.0\n",
       "382  ACESS. P/ BICICLETA          0.0\n",
       "270  FILTRO M CONSTRUÇÃO          0.0\n",
       "\n",
       "[857 rows x 2 columns]"
      ]
     },
     "execution_count": 41,
     "metadata": {},
     "output_type": "execute_result"
    }
   ],
   "source": [
    "lista_dataframes['Loja Autazes']"
   ]
  },
  {
   "cell_type": "markdown",
   "id": "8cc126e7",
   "metadata": {},
   "source": [
    "### Total de Vendas da Loja Manicoré"
   ]
  },
  {
   "cell_type": "code",
   "execution_count": 42,
   "id": "85c98432",
   "metadata": {},
   "outputs": [
    {
     "data": {
      "text/html": [
       "<div>\n",
       "<style scoped>\n",
       "    .dataframe tbody tr th:only-of-type {\n",
       "        vertical-align: middle;\n",
       "    }\n",
       "\n",
       "    .dataframe tbody tr th {\n",
       "        vertical-align: top;\n",
       "    }\n",
       "\n",
       "    .dataframe thead th {\n",
       "        text-align: right;\n",
       "    }\n",
       "</style>\n",
       "<table border=\"1\" class=\"dataframe\">\n",
       "  <thead>\n",
       "    <tr style=\"text-align: right;\">\n",
       "      <th></th>\n",
       "      <th>Produtos</th>\n",
       "      <th>Valor_Vendas</th>\n",
       "    </tr>\n",
       "  </thead>\n",
       "  <tbody>\n",
       "    <tr>\n",
       "      <th>3</th>\n",
       "      <td>SPLIT 10001 À 18000</td>\n",
       "      <td>117295.68</td>\n",
       "    </tr>\n",
       "    <tr>\n",
       "      <th>4</th>\n",
       "      <td>SPLIT 18001 À 30000</td>\n",
       "      <td>58812.0</td>\n",
       "    </tr>\n",
       "    <tr>\n",
       "      <th>412</th>\n",
       "      <td>SPLIT INV18001À30000</td>\n",
       "      <td>58611.12</td>\n",
       "    </tr>\n",
       "    <tr>\n",
       "      <th>14</th>\n",
       "      <td>TV LED DE 48\" À 54\"</td>\n",
       "      <td>56574.24</td>\n",
       "    </tr>\n",
       "    <tr>\n",
       "      <th>2</th>\n",
       "      <td>SPLIT ACIMA DE 30000</td>\n",
       "      <td>42071.76</td>\n",
       "    </tr>\n",
       "    <tr>\n",
       "      <th>...</th>\n",
       "      <td>...</td>\n",
       "      <td>...</td>\n",
       "    </tr>\n",
       "    <tr>\n",
       "      <th>788</th>\n",
       "      <td>HIDRATANTE FACIAL</td>\n",
       "      <td>8.692</td>\n",
       "    </tr>\n",
       "    <tr>\n",
       "      <th>819</th>\n",
       "      <td>GEL ANTISSÉPTICO</td>\n",
       "      <td>8.348</td>\n",
       "    </tr>\n",
       "    <tr>\n",
       "      <th>258</th>\n",
       "      <td>CONJ PLAYSET/MENINOS</td>\n",
       "      <td>6.208</td>\n",
       "    </tr>\n",
       "    <tr>\n",
       "      <th>465</th>\n",
       "      <td>RÁDIOS AUTO 2</td>\n",
       "      <td>5.94</td>\n",
       "    </tr>\n",
       "    <tr>\n",
       "      <th>793</th>\n",
       "      <td>MEIA DE COMPRESSÃO</td>\n",
       "      <td>0.0</td>\n",
       "    </tr>\n",
       "  </tbody>\n",
       "</table>\n",
       "<p>857 rows × 2 columns</p>\n",
       "</div>"
      ],
      "text/plain": [
       "                 Produtos Valor_Vendas\n",
       "3     SPLIT 10001 À 18000    117295.68\n",
       "4     SPLIT 18001 À 30000      58812.0\n",
       "412  SPLIT INV18001À30000     58611.12\n",
       "14    TV LED DE 48\" À 54\"     56574.24\n",
       "2    SPLIT ACIMA DE 30000     42071.76\n",
       "..                    ...          ...\n",
       "788     HIDRATANTE FACIAL        8.692\n",
       "819      GEL ANTISSÉPTICO        8.348\n",
       "258  CONJ PLAYSET/MENINOS        6.208\n",
       "465         RÁDIOS AUTO 2         5.94\n",
       "793    MEIA DE COMPRESSÃO          0.0\n",
       "\n",
       "[857 rows x 2 columns]"
      ]
     },
     "execution_count": 42,
     "metadata": {},
     "output_type": "execute_result"
    }
   ],
   "source": [
    "lista_dataframes['Loja Manicoré']"
   ]
  },
  {
   "cell_type": "markdown",
   "id": "c6cf01cc",
   "metadata": {},
   "source": [
    "### Total de Vendas da Loja Lábrea"
   ]
  },
  {
   "cell_type": "code",
   "execution_count": 43,
   "id": "ef76ff3b",
   "metadata": {},
   "outputs": [
    {
     "data": {
      "text/html": [
       "<div>\n",
       "<style scoped>\n",
       "    .dataframe tbody tr th:only-of-type {\n",
       "        vertical-align: middle;\n",
       "    }\n",
       "\n",
       "    .dataframe tbody tr th {\n",
       "        vertical-align: top;\n",
       "    }\n",
       "\n",
       "    .dataframe thead th {\n",
       "        text-align: right;\n",
       "    }\n",
       "</style>\n",
       "<table border=\"1\" class=\"dataframe\">\n",
       "  <thead>\n",
       "    <tr style=\"text-align: right;\">\n",
       "      <th></th>\n",
       "      <th>Produtos</th>\n",
       "      <th>Valor_Vendas</th>\n",
       "    </tr>\n",
       "  </thead>\n",
       "  <tbody>\n",
       "    <tr>\n",
       "      <th>3</th>\n",
       "      <td>SPLIT 10001 À 18000</td>\n",
       "      <td>62978.4</td>\n",
       "    </tr>\n",
       "    <tr>\n",
       "      <th>4</th>\n",
       "      <td>SPLIT 18001 À 30000</td>\n",
       "      <td>60448.56</td>\n",
       "    </tr>\n",
       "    <tr>\n",
       "      <th>478</th>\n",
       "      <td>TV LED ACIMA DE 65\"</td>\n",
       "      <td>24965.52</td>\n",
       "    </tr>\n",
       "    <tr>\n",
       "      <th>64</th>\n",
       "      <td>SPLIT ATÉ 8500 BTUS</td>\n",
       "      <td>21507.12</td>\n",
       "    </tr>\n",
       "    <tr>\n",
       "      <th>471</th>\n",
       "      <td>TV 4K ACIMA DE 69\"</td>\n",
       "      <td>16160.88</td>\n",
       "    </tr>\n",
       "    <tr>\n",
       "      <th>...</th>\n",
       "      <td>...</td>\n",
       "      <td>...</td>\n",
       "    </tr>\n",
       "    <tr>\n",
       "      <th>546</th>\n",
       "      <td>FIO E FITA DENTAL</td>\n",
       "      <td>2.792</td>\n",
       "    </tr>\n",
       "    <tr>\n",
       "      <th>110</th>\n",
       "      <td>LIXADEIRA</td>\n",
       "      <td>2.356</td>\n",
       "    </tr>\n",
       "    <tr>\n",
       "      <th>780</th>\n",
       "      <td>CURATIVO</td>\n",
       "      <td>1.796</td>\n",
       "    </tr>\n",
       "    <tr>\n",
       "      <th>300</th>\n",
       "      <td>NOTEBOOK</td>\n",
       "      <td>0.792</td>\n",
       "    </tr>\n",
       "    <tr>\n",
       "      <th>113</th>\n",
       "      <td>MARTELETE</td>\n",
       "      <td>0.0</td>\n",
       "    </tr>\n",
       "  </tbody>\n",
       "</table>\n",
       "<p>857 rows × 2 columns</p>\n",
       "</div>"
      ],
      "text/plain": [
       "                Produtos Valor_Vendas\n",
       "3    SPLIT 10001 À 18000      62978.4\n",
       "4    SPLIT 18001 À 30000     60448.56\n",
       "478  TV LED ACIMA DE 65\"     24965.52\n",
       "64   SPLIT ATÉ 8500 BTUS     21507.12\n",
       "471   TV 4K ACIMA DE 69\"     16160.88\n",
       "..                   ...          ...\n",
       "546    FIO E FITA DENTAL        2.792\n",
       "110            LIXADEIRA        2.356\n",
       "780             CURATIVO        1.796\n",
       "300             NOTEBOOK        0.792\n",
       "113            MARTELETE          0.0\n",
       "\n",
       "[857 rows x 2 columns]"
      ]
     },
     "execution_count": 43,
     "metadata": {},
     "output_type": "execute_result"
    }
   ],
   "source": [
    "lista_dataframes['Loja Lábrea']"
   ]
  },
  {
   "cell_type": "markdown",
   "id": "8cac09e6",
   "metadata": {},
   "source": [
    "### Total de Vendas da Loja Itacoatiara"
   ]
  },
  {
   "cell_type": "code",
   "execution_count": 44,
   "id": "a02429d0",
   "metadata": {},
   "outputs": [
    {
     "data": {
      "text/html": [
       "<div>\n",
       "<style scoped>\n",
       "    .dataframe tbody tr th:only-of-type {\n",
       "        vertical-align: middle;\n",
       "    }\n",
       "\n",
       "    .dataframe tbody tr th {\n",
       "        vertical-align: top;\n",
       "    }\n",
       "\n",
       "    .dataframe thead th {\n",
       "        text-align: right;\n",
       "    }\n",
       "</style>\n",
       "<table border=\"1\" class=\"dataframe\">\n",
       "  <thead>\n",
       "    <tr style=\"text-align: right;\">\n",
       "      <th></th>\n",
       "      <th>Produtos</th>\n",
       "      <th>Valor_Vendas</th>\n",
       "    </tr>\n",
       "  </thead>\n",
       "  <tbody>\n",
       "    <tr>\n",
       "      <th>500</th>\n",
       "      <td>TV OLED / QLED</td>\n",
       "      <td>45852.0</td>\n",
       "    </tr>\n",
       "    <tr>\n",
       "      <th>19</th>\n",
       "      <td>TV LED DE 21\" À 24\"</td>\n",
       "      <td>17841.84</td>\n",
       "    </tr>\n",
       "    <tr>\n",
       "      <th>514</th>\n",
       "      <td>AR COND SPLIT 2</td>\n",
       "      <td>17184.24</td>\n",
       "    </tr>\n",
       "    <tr>\n",
       "      <th>14</th>\n",
       "      <td>TV LED DE 48\" À 54\"</td>\n",
       "      <td>9811.92</td>\n",
       "    </tr>\n",
       "    <tr>\n",
       "      <th>18</th>\n",
       "      <td>TV 4K DE 60\" À 69\"</td>\n",
       "      <td>9003.12</td>\n",
       "    </tr>\n",
       "    <tr>\n",
       "      <th>...</th>\n",
       "      <td>...</td>\n",
       "      <td>...</td>\n",
       "    </tr>\n",
       "    <tr>\n",
       "      <th>162</th>\n",
       "      <td>BRINC E FAZ DE CONTA</td>\n",
       "      <td>0.0</td>\n",
       "    </tr>\n",
       "    <tr>\n",
       "      <th>166</th>\n",
       "      <td>CERCADO</td>\n",
       "      <td>0.0</td>\n",
       "    </tr>\n",
       "    <tr>\n",
       "      <th>554</th>\n",
       "      <td>LUBRIFICANTES</td>\n",
       "      <td>0.0</td>\n",
       "    </tr>\n",
       "    <tr>\n",
       "      <th>716</th>\n",
       "      <td>ANTIGLAUCOMATOSO REF</td>\n",
       "      <td>0.0</td>\n",
       "    </tr>\n",
       "    <tr>\n",
       "      <th>667</th>\n",
       "      <td>TALCO P/ PÉS</td>\n",
       "      <td>0.0</td>\n",
       "    </tr>\n",
       "  </tbody>\n",
       "</table>\n",
       "<p>857 rows × 2 columns</p>\n",
       "</div>"
      ],
      "text/plain": [
       "                 Produtos Valor_Vendas\n",
       "500        TV OLED / QLED      45852.0\n",
       "19    TV LED DE 21\" À 24\"     17841.84\n",
       "514       AR COND SPLIT 2     17184.24\n",
       "14    TV LED DE 48\" À 54\"      9811.92\n",
       "18     TV 4K DE 60\" À 69\"      9003.12\n",
       "..                    ...          ...\n",
       "162  BRINC E FAZ DE CONTA          0.0\n",
       "166               CERCADO          0.0\n",
       "554         LUBRIFICANTES          0.0\n",
       "716  ANTIGLAUCOMATOSO REF          0.0\n",
       "667          TALCO P/ PÉS          0.0\n",
       "\n",
       "[857 rows x 2 columns]"
      ]
     },
     "execution_count": 44,
     "metadata": {},
     "output_type": "execute_result"
    }
   ],
   "source": [
    "lista_dataframes['Loja Itacoatiara']"
   ]
  },
  {
   "cell_type": "markdown",
   "id": "8cb12f67",
   "metadata": {},
   "source": [
    "### Total de Vendas da Loja Manacapuru"
   ]
  },
  {
   "cell_type": "code",
   "execution_count": 45,
   "id": "11024464",
   "metadata": {},
   "outputs": [
    {
     "data": {
      "text/html": [
       "<div>\n",
       "<style scoped>\n",
       "    .dataframe tbody tr th:only-of-type {\n",
       "        vertical-align: middle;\n",
       "    }\n",
       "\n",
       "    .dataframe tbody tr th {\n",
       "        vertical-align: top;\n",
       "    }\n",
       "\n",
       "    .dataframe thead th {\n",
       "        text-align: right;\n",
       "    }\n",
       "</style>\n",
       "<table border=\"1\" class=\"dataframe\">\n",
       "  <thead>\n",
       "    <tr style=\"text-align: right;\">\n",
       "      <th></th>\n",
       "      <th>Produtos</th>\n",
       "      <th>Valor_Vendas</th>\n",
       "    </tr>\n",
       "  </thead>\n",
       "  <tbody>\n",
       "    <tr>\n",
       "      <th>2</th>\n",
       "      <td>SPLIT ACIMA DE 30000</td>\n",
       "      <td>26137.68</td>\n",
       "    </tr>\n",
       "    <tr>\n",
       "      <th>19</th>\n",
       "      <td>TV LED DE 21\" À 24\"</td>\n",
       "      <td>9174.72</td>\n",
       "    </tr>\n",
       "    <tr>\n",
       "      <th>284</th>\n",
       "      <td>TV LED DE 55\" À 59\"</td>\n",
       "      <td>7087.44</td>\n",
       "    </tr>\n",
       "    <tr>\n",
       "      <th>471</th>\n",
       "      <td>TV 4K ACIMA DE 69\"</td>\n",
       "      <td>6273.36</td>\n",
       "    </tr>\n",
       "    <tr>\n",
       "      <th>412</th>\n",
       "      <td>SPLIT INV18001À30000</td>\n",
       "      <td>5434.32</td>\n",
       "    </tr>\n",
       "    <tr>\n",
       "      <th>...</th>\n",
       "      <td>...</td>\n",
       "      <td>...</td>\n",
       "    </tr>\n",
       "    <tr>\n",
       "      <th>695</th>\n",
       "      <td>ANTIASMÁTICO REF</td>\n",
       "      <td>0.0</td>\n",
       "    </tr>\n",
       "    <tr>\n",
       "      <th>833</th>\n",
       "      <td>SORVETE E PICOLÉ</td>\n",
       "      <td>0.0</td>\n",
       "    </tr>\n",
       "    <tr>\n",
       "      <th>834</th>\n",
       "      <td>TÔNICO ADSTRINGENTE</td>\n",
       "      <td>0.0</td>\n",
       "    </tr>\n",
       "    <tr>\n",
       "      <th>835</th>\n",
       "      <td>ACESS DE MAQUIAGEM</td>\n",
       "      <td>0.0</td>\n",
       "    </tr>\n",
       "    <tr>\n",
       "      <th>222</th>\n",
       "      <td>ACESS DE MEDICINA</td>\n",
       "      <td>0.0</td>\n",
       "    </tr>\n",
       "  </tbody>\n",
       "</table>\n",
       "<p>857 rows × 2 columns</p>\n",
       "</div>"
      ],
      "text/plain": [
       "                 Produtos Valor_Vendas\n",
       "2    SPLIT ACIMA DE 30000     26137.68\n",
       "19    TV LED DE 21\" À 24\"      9174.72\n",
       "284   TV LED DE 55\" À 59\"      7087.44\n",
       "471    TV 4K ACIMA DE 69\"      6273.36\n",
       "412  SPLIT INV18001À30000      5434.32\n",
       "..                    ...          ...\n",
       "695      ANTIASMÁTICO REF          0.0\n",
       "833      SORVETE E PICOLÉ          0.0\n",
       "834   TÔNICO ADSTRINGENTE          0.0\n",
       "835    ACESS DE MAQUIAGEM          0.0\n",
       "222     ACESS DE MEDICINA          0.0\n",
       "\n",
       "[857 rows x 2 columns]"
      ]
     },
     "execution_count": 45,
     "metadata": {},
     "output_type": "execute_result"
    }
   ],
   "source": [
    "lista_dataframes['Loja Manacapuru']"
   ]
  },
  {
   "cell_type": "markdown",
   "id": "bb1636ad",
   "metadata": {},
   "source": [
    "### O total de vendas em cada filial e o montante em vendas"
   ]
  },
  {
   "cell_type": "code",
   "execution_count": 46,
   "id": "0bdb3b77",
   "metadata": {
    "scrolled": true
   },
   "outputs": [
    {
     "data": {
      "text/html": [
       "<div>\n",
       "<style scoped>\n",
       "    .dataframe tbody tr th:only-of-type {\n",
       "        vertical-align: middle;\n",
       "    }\n",
       "\n",
       "    .dataframe tbody tr th {\n",
       "        vertical-align: top;\n",
       "    }\n",
       "\n",
       "    .dataframe thead th {\n",
       "        text-align: right;\n",
       "    }\n",
       "</style>\n",
       "<table border=\"1\" class=\"dataframe\">\n",
       "  <thead>\n",
       "    <tr style=\"text-align: right;\">\n",
       "      <th></th>\n",
       "      <th>Unidades</th>\n",
       "      <th>Total_Vendas</th>\n",
       "      <th>Soma_Vendas</th>\n",
       "    </tr>\n",
       "  </thead>\n",
       "  <tbody>\n",
       "    <tr>\n",
       "      <th>0</th>\n",
       "      <td>Loja Autazes</td>\n",
       "      <td>1793</td>\n",
       "      <td>156479.604</td>\n",
       "    </tr>\n",
       "    <tr>\n",
       "      <th>1</th>\n",
       "      <td>Loja Manicoré</td>\n",
       "      <td>1214</td>\n",
       "      <td>234666.368</td>\n",
       "    </tr>\n",
       "    <tr>\n",
       "      <th>2</th>\n",
       "      <td>Loja Lábrea</td>\n",
       "      <td>4072</td>\n",
       "      <td>446117.764</td>\n",
       "    </tr>\n",
       "    <tr>\n",
       "      <th>3</th>\n",
       "      <td>Loja Itacoatiara</td>\n",
       "      <td>4085</td>\n",
       "      <td>794482.76</td>\n",
       "    </tr>\n",
       "    <tr>\n",
       "      <th>4</th>\n",
       "      <td>Loja Manacapuru</td>\n",
       "      <td>2713</td>\n",
       "      <td>200317.632</td>\n",
       "    </tr>\n",
       "  </tbody>\n",
       "</table>\n",
       "</div>"
      ],
      "text/plain": [
       "           Unidades Total_Vendas Soma_Vendas\n",
       "0      Loja Autazes         1793  156479.604\n",
       "1     Loja Manicoré         1214  234666.368\n",
       "2       Loja Lábrea         4072  446117.764\n",
       "3  Loja Itacoatiara         4085   794482.76\n",
       "4   Loja Manacapuru         2713  200317.632"
      ]
     },
     "execution_count": 46,
     "metadata": {},
     "output_type": "execute_result"
    }
   ],
   "source": [
    "qtde_vendas = np.array([])\n",
    "soma_vendas = np.array([])\n",
    "\n",
    "for loja in filiais:\n",
    "    condicao = df1.filial == loja\n",
    "    vendas = df1[condicao].valor_compra\n",
    "    \n",
    "    qtde_vendas = np.append(vendas.count(), qtde_vendas)\n",
    "    soma_vendas = np.append(vendas.sum(), soma_vendas)\n",
    "    \n",
    "dataframe7 = pd.DataFrame([filiais, qtde_vendas.astype(int), soma_vendas], index=[\"Unidades\", \"Total_Vendas\", \"Soma_Vendas\"]).T\n",
    "dataframe7"
   ]
  },
  {
   "cell_type": "markdown",
   "id": "1c7e20f3",
   "metadata": {},
   "source": [
    "###  A filial com mais vendas"
   ]
  },
  {
   "cell_type": "code",
   "execution_count": 47,
   "id": "77b6b745",
   "metadata": {},
   "outputs": [
    {
     "data": {
      "text/html": [
       "<div>\n",
       "<style scoped>\n",
       "    .dataframe tbody tr th:only-of-type {\n",
       "        vertical-align: middle;\n",
       "    }\n",
       "\n",
       "    .dataframe tbody tr th {\n",
       "        vertical-align: top;\n",
       "    }\n",
       "\n",
       "    .dataframe thead th {\n",
       "        text-align: right;\n",
       "    }\n",
       "</style>\n",
       "<table border=\"1\" class=\"dataframe\">\n",
       "  <thead>\n",
       "    <tr style=\"text-align: right;\">\n",
       "      <th></th>\n",
       "      <th>Unidades</th>\n",
       "      <th>Total_Vendas</th>\n",
       "      <th>Soma_Vendas</th>\n",
       "    </tr>\n",
       "  </thead>\n",
       "  <tbody>\n",
       "    <tr>\n",
       "      <th>3</th>\n",
       "      <td>Loja Itacoatiara</td>\n",
       "      <td>4085</td>\n",
       "      <td>794482.76</td>\n",
       "    </tr>\n",
       "  </tbody>\n",
       "</table>\n",
       "</div>"
      ],
      "text/plain": [
       "           Unidades Total_Vendas Soma_Vendas\n",
       "3  Loja Itacoatiara         4085   794482.76"
      ]
     },
     "execution_count": 47,
     "metadata": {},
     "output_type": "execute_result"
    }
   ],
   "source": [
    "dataframe7.query(f\"Total_Vendas == {dataframe7.Total_Vendas.max()}\")"
   ]
  },
  {
   "cell_type": "markdown",
   "id": "1a1b6340",
   "metadata": {},
   "source": [
    "###  A filial com menos vendas"
   ]
  },
  {
   "cell_type": "code",
   "execution_count": 48,
   "id": "5640d9d6",
   "metadata": {
    "scrolled": true
   },
   "outputs": [
    {
     "data": {
      "text/html": [
       "<div>\n",
       "<style scoped>\n",
       "    .dataframe tbody tr th:only-of-type {\n",
       "        vertical-align: middle;\n",
       "    }\n",
       "\n",
       "    .dataframe tbody tr th {\n",
       "        vertical-align: top;\n",
       "    }\n",
       "\n",
       "    .dataframe thead th {\n",
       "        text-align: right;\n",
       "    }\n",
       "</style>\n",
       "<table border=\"1\" class=\"dataframe\">\n",
       "  <thead>\n",
       "    <tr style=\"text-align: right;\">\n",
       "      <th></th>\n",
       "      <th>Unidades</th>\n",
       "      <th>Total_Vendas</th>\n",
       "      <th>Soma_Vendas</th>\n",
       "    </tr>\n",
       "  </thead>\n",
       "  <tbody>\n",
       "    <tr>\n",
       "      <th>1</th>\n",
       "      <td>Loja Manicoré</td>\n",
       "      <td>1214</td>\n",
       "      <td>234666.368</td>\n",
       "    </tr>\n",
       "  </tbody>\n",
       "</table>\n",
       "</div>"
      ],
      "text/plain": [
       "        Unidades Total_Vendas Soma_Vendas\n",
       "1  Loja Manicoré         1214  234666.368"
      ]
     },
     "execution_count": 48,
     "metadata": {},
     "output_type": "execute_result"
    }
   ],
   "source": [
    "dataframe7.query(f\"Total_Vendas == {dataframe7.Total_Vendas.min()}\")"
   ]
  },
  {
   "cell_type": "markdown",
   "id": "87389d56",
   "metadata": {},
   "source": [
    "###  A filial que mais faturou em vendas"
   ]
  },
  {
   "cell_type": "code",
   "execution_count": 49,
   "id": "db83d2b8",
   "metadata": {},
   "outputs": [
    {
     "data": {
      "text/html": [
       "<div>\n",
       "<style scoped>\n",
       "    .dataframe tbody tr th:only-of-type {\n",
       "        vertical-align: middle;\n",
       "    }\n",
       "\n",
       "    .dataframe tbody tr th {\n",
       "        vertical-align: top;\n",
       "    }\n",
       "\n",
       "    .dataframe thead th {\n",
       "        text-align: right;\n",
       "    }\n",
       "</style>\n",
       "<table border=\"1\" class=\"dataframe\">\n",
       "  <thead>\n",
       "    <tr style=\"text-align: right;\">\n",
       "      <th></th>\n",
       "      <th>Unidades</th>\n",
       "      <th>Total_Vendas</th>\n",
       "      <th>Soma_Vendas</th>\n",
       "    </tr>\n",
       "  </thead>\n",
       "  <tbody>\n",
       "    <tr>\n",
       "      <th>3</th>\n",
       "      <td>Loja Itacoatiara</td>\n",
       "      <td>4085</td>\n",
       "      <td>794482.76</td>\n",
       "    </tr>\n",
       "  </tbody>\n",
       "</table>\n",
       "</div>"
      ],
      "text/plain": [
       "           Unidades Total_Vendas Soma_Vendas\n",
       "3  Loja Itacoatiara         4085   794482.76"
      ]
     },
     "execution_count": 49,
     "metadata": {},
     "output_type": "execute_result"
    }
   ],
   "source": [
    "dataframe7.query(f\"Soma_Vendas == {dataframe7.Soma_Vendas.max()}\")"
   ]
  },
  {
   "cell_type": "markdown",
   "id": "46071a6a",
   "metadata": {},
   "source": [
    "###  A filial que menos faturou em vendas"
   ]
  },
  {
   "cell_type": "code",
   "execution_count": 50,
   "id": "86db67bf",
   "metadata": {},
   "outputs": [
    {
     "data": {
      "text/html": [
       "<div>\n",
       "<style scoped>\n",
       "    .dataframe tbody tr th:only-of-type {\n",
       "        vertical-align: middle;\n",
       "    }\n",
       "\n",
       "    .dataframe tbody tr th {\n",
       "        vertical-align: top;\n",
       "    }\n",
       "\n",
       "    .dataframe thead th {\n",
       "        text-align: right;\n",
       "    }\n",
       "</style>\n",
       "<table border=\"1\" class=\"dataframe\">\n",
       "  <thead>\n",
       "    <tr style=\"text-align: right;\">\n",
       "      <th></th>\n",
       "      <th>Unidades</th>\n",
       "      <th>Total_Vendas</th>\n",
       "      <th>Soma_Vendas</th>\n",
       "    </tr>\n",
       "  </thead>\n",
       "  <tbody>\n",
       "    <tr>\n",
       "      <th>0</th>\n",
       "      <td>Loja Autazes</td>\n",
       "      <td>1793</td>\n",
       "      <td>156479.604</td>\n",
       "    </tr>\n",
       "  </tbody>\n",
       "</table>\n",
       "</div>"
      ],
      "text/plain": [
       "       Unidades Total_Vendas Soma_Vendas\n",
       "0  Loja Autazes         1793  156479.604"
      ]
     },
     "execution_count": 50,
     "metadata": {},
     "output_type": "execute_result"
    }
   ],
   "source": [
    "dataframe7.query(f\"Soma_Vendas == {dataframe7.Soma_Vendas.min()}\")"
   ]
  },
  {
   "cell_type": "markdown",
   "id": "3f79b079",
   "metadata": {},
   "source": [
    "###  O total de devoluções em cada filial"
   ]
  },
  {
   "cell_type": "code",
   "execution_count": 51,
   "id": "d5310419",
   "metadata": {},
   "outputs": [],
   "source": [
    "devolucoes = np.array([])\n",
    "\n",
    "for loja in filiais:\n",
    "    condicao1 = df1.produto_devolvido == \"Sim\"\n",
    "    condicao2 = df1.filial == loja\n",
    "    soma = df1[condicao1 & condicao2].produto_devolvido.count()\n",
    "    devolucoes = np.append(devolucoes, soma)\n"
   ]
  },
  {
   "cell_type": "code",
   "execution_count": 52,
   "id": "87735dbe",
   "metadata": {},
   "outputs": [],
   "source": [
    "unidades = pd.DataFrame.from_records(filiais.reshape(5,1))\n",
    "devolvidos = pd.DataFrame.from_records(devolucoes.reshape(5,1))"
   ]
  },
  {
   "cell_type": "code",
   "execution_count": 53,
   "id": "1865f58b",
   "metadata": {},
   "outputs": [
    {
     "data": {
      "text/html": [
       "<div>\n",
       "<style scoped>\n",
       "    .dataframe tbody tr th:only-of-type {\n",
       "        vertical-align: middle;\n",
       "    }\n",
       "\n",
       "    .dataframe tbody tr th {\n",
       "        vertical-align: top;\n",
       "    }\n",
       "\n",
       "    .dataframe thead th {\n",
       "        text-align: right;\n",
       "    }\n",
       "</style>\n",
       "<table border=\"1\" class=\"dataframe\">\n",
       "  <thead>\n",
       "    <tr style=\"text-align: right;\">\n",
       "      <th></th>\n",
       "      <th>Unidades</th>\n",
       "      <th>Produtos_Devolvidos</th>\n",
       "    </tr>\n",
       "  </thead>\n",
       "  <tbody>\n",
       "    <tr>\n",
       "      <th>0</th>\n",
       "      <td>Loja Autazes</td>\n",
       "      <td>1345.0</td>\n",
       "    </tr>\n",
       "    <tr>\n",
       "      <th>1</th>\n",
       "      <td>Loja Manicoré</td>\n",
       "      <td>2008.0</td>\n",
       "    </tr>\n",
       "    <tr>\n",
       "      <th>2</th>\n",
       "      <td>Loja Lábrea</td>\n",
       "      <td>2025.0</td>\n",
       "    </tr>\n",
       "    <tr>\n",
       "      <th>3</th>\n",
       "      <td>Loja Itacoatiara</td>\n",
       "      <td>636.0</td>\n",
       "    </tr>\n",
       "    <tr>\n",
       "      <th>4</th>\n",
       "      <td>Loja Manacapuru</td>\n",
       "      <td>901.0</td>\n",
       "    </tr>\n",
       "  </tbody>\n",
       "</table>\n",
       "</div>"
      ],
      "text/plain": [
       "           Unidades  Produtos_Devolvidos\n",
       "0      Loja Autazes               1345.0\n",
       "1     Loja Manicoré               2008.0\n",
       "2       Loja Lábrea               2025.0\n",
       "3  Loja Itacoatiara                636.0\n",
       "4   Loja Manacapuru                901.0"
      ]
     },
     "execution_count": 53,
     "metadata": {},
     "output_type": "execute_result"
    }
   ],
   "source": [
    "dataframe8 = pd.concat([unidades, devolvidos], axis=1)\n",
    "dataframe8.columns = [\"Unidades\", \"Produtos_Devolvidos\"]\n",
    "dataframe8"
   ]
  },
  {
   "cell_type": "markdown",
   "id": "209ceba7",
   "metadata": {},
   "source": [
    "### A unidade que teve muitas devoluções de produtos"
   ]
  },
  {
   "cell_type": "code",
   "execution_count": 54,
   "id": "90b57ebd",
   "metadata": {},
   "outputs": [
    {
     "data": {
      "text/html": [
       "<div>\n",
       "<style scoped>\n",
       "    .dataframe tbody tr th:only-of-type {\n",
       "        vertical-align: middle;\n",
       "    }\n",
       "\n",
       "    .dataframe tbody tr th {\n",
       "        vertical-align: top;\n",
       "    }\n",
       "\n",
       "    .dataframe thead th {\n",
       "        text-align: right;\n",
       "    }\n",
       "</style>\n",
       "<table border=\"1\" class=\"dataframe\">\n",
       "  <thead>\n",
       "    <tr style=\"text-align: right;\">\n",
       "      <th></th>\n",
       "      <th>Unidades</th>\n",
       "      <th>Produtos_Devolvidos</th>\n",
       "    </tr>\n",
       "  </thead>\n",
       "  <tbody>\n",
       "    <tr>\n",
       "      <th>2</th>\n",
       "      <td>Loja Lábrea</td>\n",
       "      <td>2025.0</td>\n",
       "    </tr>\n",
       "  </tbody>\n",
       "</table>\n",
       "</div>"
      ],
      "text/plain": [
       "      Unidades  Produtos_Devolvidos\n",
       "2  Loja Lábrea               2025.0"
      ]
     },
     "execution_count": 54,
     "metadata": {},
     "output_type": "execute_result"
    }
   ],
   "source": [
    "dataframe8[dataframe8.Produtos_Devolvidos ==  dataframe8.Produtos_Devolvidos.max()]"
   ]
  },
  {
   "cell_type": "markdown",
   "id": "677c3c67",
   "metadata": {},
   "source": [
    "### A unidade que teve poucas devoluções de produtos"
   ]
  },
  {
   "cell_type": "code",
   "execution_count": 55,
   "id": "5d71e3ee",
   "metadata": {},
   "outputs": [
    {
     "data": {
      "text/html": [
       "<div>\n",
       "<style scoped>\n",
       "    .dataframe tbody tr th:only-of-type {\n",
       "        vertical-align: middle;\n",
       "    }\n",
       "\n",
       "    .dataframe tbody tr th {\n",
       "        vertical-align: top;\n",
       "    }\n",
       "\n",
       "    .dataframe thead th {\n",
       "        text-align: right;\n",
       "    }\n",
       "</style>\n",
       "<table border=\"1\" class=\"dataframe\">\n",
       "  <thead>\n",
       "    <tr style=\"text-align: right;\">\n",
       "      <th></th>\n",
       "      <th>Unidades</th>\n",
       "      <th>Produtos_Devolvidos</th>\n",
       "    </tr>\n",
       "  </thead>\n",
       "  <tbody>\n",
       "    <tr>\n",
       "      <th>3</th>\n",
       "      <td>Loja Itacoatiara</td>\n",
       "      <td>636.0</td>\n",
       "    </tr>\n",
       "  </tbody>\n",
       "</table>\n",
       "</div>"
      ],
      "text/plain": [
       "           Unidades  Produtos_Devolvidos\n",
       "3  Loja Itacoatiara                636.0"
      ]
     },
     "execution_count": 55,
     "metadata": {},
     "output_type": "execute_result"
    }
   ],
   "source": [
    "dataframe8[dataframe8.Produtos_Devolvidos ==  dataframe8.Produtos_Devolvidos.min()]"
   ]
  },
  {
   "cell_type": "markdown",
   "id": "d6ca0731",
   "metadata": {},
   "source": [
    "### O total de vendas sem devoluções em cada filial"
   ]
  },
  {
   "cell_type": "code",
   "execution_count": 56,
   "id": "be85af6c",
   "metadata": {},
   "outputs": [],
   "source": [
    "devolucoes = np.array([])\n",
    "\n",
    "for loja in filiais:\n",
    "    condicao1 = df1.produto_devolvido == \"Não\"\n",
    "    condicao2 = df1.filial == loja\n",
    "    condicao3 = df1.motivo_devolucao == \"Sem devolução\"\n",
    "    soma = df1[condicao1 & condicao2 & condicao3].produto_devolvido.count()\n",
    "    devolucoes = np.append(devolucoes, soma)"
   ]
  },
  {
   "cell_type": "code",
   "execution_count": 57,
   "id": "bb847a29",
   "metadata": {
    "scrolled": true
   },
   "outputs": [
    {
     "data": {
      "text/html": [
       "<div>\n",
       "<style scoped>\n",
       "    .dataframe tbody tr th:only-of-type {\n",
       "        vertical-align: middle;\n",
       "    }\n",
       "\n",
       "    .dataframe tbody tr th {\n",
       "        vertical-align: top;\n",
       "    }\n",
       "\n",
       "    .dataframe thead th {\n",
       "        text-align: right;\n",
       "    }\n",
       "</style>\n",
       "<table border=\"1\" class=\"dataframe\">\n",
       "  <thead>\n",
       "    <tr style=\"text-align: right;\">\n",
       "      <th></th>\n",
       "      <th>Unidades</th>\n",
       "      <th>Vendas_Sem_Produtos_Devolvidos</th>\n",
       "    </tr>\n",
       "  </thead>\n",
       "  <tbody>\n",
       "    <tr>\n",
       "      <th>0</th>\n",
       "      <td>Loja Autazes</td>\n",
       "      <td>1368.0</td>\n",
       "    </tr>\n",
       "    <tr>\n",
       "      <th>1</th>\n",
       "      <td>Loja Manicoré</td>\n",
       "      <td>2077.0</td>\n",
       "    </tr>\n",
       "    <tr>\n",
       "      <th>2</th>\n",
       "      <td>Loja Lábrea</td>\n",
       "      <td>2047.0</td>\n",
       "    </tr>\n",
       "    <tr>\n",
       "      <th>3</th>\n",
       "      <td>Loja Itacoatiara</td>\n",
       "      <td>578.0</td>\n",
       "    </tr>\n",
       "    <tr>\n",
       "      <th>4</th>\n",
       "      <td>Loja Manacapuru</td>\n",
       "      <td>892.0</td>\n",
       "    </tr>\n",
       "  </tbody>\n",
       "</table>\n",
       "</div>"
      ],
      "text/plain": [
       "           Unidades Vendas_Sem_Produtos_Devolvidos\n",
       "0      Loja Autazes                         1368.0\n",
       "1     Loja Manicoré                         2077.0\n",
       "2       Loja Lábrea                         2047.0\n",
       "3  Loja Itacoatiara                          578.0\n",
       "4   Loja Manacapuru                          892.0"
      ]
     },
     "execution_count": 57,
     "metadata": {},
     "output_type": "execute_result"
    }
   ],
   "source": [
    "dataframe9 = pd.DataFrame([filiais, devolucoes], index=[\"Unidades\", \"Vendas_Sem_Produtos_Devolvidos\"]).T\n",
    "dataframe9"
   ]
  },
  {
   "cell_type": "markdown",
   "id": "bc8594cd",
   "metadata": {},
   "source": [
    "### A unidade as maiores vendas sem devoluções de produtos"
   ]
  },
  {
   "cell_type": "code",
   "execution_count": 58,
   "id": "086888c5",
   "metadata": {},
   "outputs": [
    {
     "data": {
      "text/html": [
       "<div>\n",
       "<style scoped>\n",
       "    .dataframe tbody tr th:only-of-type {\n",
       "        vertical-align: middle;\n",
       "    }\n",
       "\n",
       "    .dataframe tbody tr th {\n",
       "        vertical-align: top;\n",
       "    }\n",
       "\n",
       "    .dataframe thead th {\n",
       "        text-align: right;\n",
       "    }\n",
       "</style>\n",
       "<table border=\"1\" class=\"dataframe\">\n",
       "  <thead>\n",
       "    <tr style=\"text-align: right;\">\n",
       "      <th></th>\n",
       "      <th>Unidades</th>\n",
       "      <th>Vendas_Sem_Produtos_Devolvidos</th>\n",
       "    </tr>\n",
       "  </thead>\n",
       "  <tbody>\n",
       "    <tr>\n",
       "      <th>1</th>\n",
       "      <td>Loja Manicoré</td>\n",
       "      <td>2077.0</td>\n",
       "    </tr>\n",
       "  </tbody>\n",
       "</table>\n",
       "</div>"
      ],
      "text/plain": [
       "        Unidades Vendas_Sem_Produtos_Devolvidos\n",
       "1  Loja Manicoré                         2077.0"
      ]
     },
     "execution_count": 58,
     "metadata": {},
     "output_type": "execute_result"
    }
   ],
   "source": [
    "dataframe9.query(f\"Vendas_Sem_Produtos_Devolvidos == {dataframe9.Vendas_Sem_Produtos_Devolvidos.max()}\")"
   ]
  },
  {
   "cell_type": "markdown",
   "id": "bcfb2e65",
   "metadata": {},
   "source": [
    "### A unidade as menores vendas sem devoluções de produtos"
   ]
  },
  {
   "cell_type": "code",
   "execution_count": 59,
   "id": "39a5cfcd",
   "metadata": {},
   "outputs": [
    {
     "data": {
      "text/html": [
       "<div>\n",
       "<style scoped>\n",
       "    .dataframe tbody tr th:only-of-type {\n",
       "        vertical-align: middle;\n",
       "    }\n",
       "\n",
       "    .dataframe tbody tr th {\n",
       "        vertical-align: top;\n",
       "    }\n",
       "\n",
       "    .dataframe thead th {\n",
       "        text-align: right;\n",
       "    }\n",
       "</style>\n",
       "<table border=\"1\" class=\"dataframe\">\n",
       "  <thead>\n",
       "    <tr style=\"text-align: right;\">\n",
       "      <th></th>\n",
       "      <th>Unidades</th>\n",
       "      <th>Vendas_Sem_Produtos_Devolvidos</th>\n",
       "    </tr>\n",
       "  </thead>\n",
       "  <tbody>\n",
       "    <tr>\n",
       "      <th>3</th>\n",
       "      <td>Loja Itacoatiara</td>\n",
       "      <td>578.0</td>\n",
       "    </tr>\n",
       "  </tbody>\n",
       "</table>\n",
       "</div>"
      ],
      "text/plain": [
       "           Unidades Vendas_Sem_Produtos_Devolvidos\n",
       "3  Loja Itacoatiara                          578.0"
      ]
     },
     "execution_count": 59,
     "metadata": {},
     "output_type": "execute_result"
    }
   ],
   "source": [
    "dataframe9.query(f\"Vendas_Sem_Produtos_Devolvidos == {dataframe9.Vendas_Sem_Produtos_Devolvidos.min()}\")"
   ]
  },
  {
   "cell_type": "markdown",
   "id": "ea479479",
   "metadata": {},
   "source": [
    "### Quantidade do maior motivo de devolução de produtos em cada filial"
   ]
  },
  {
   "cell_type": "code",
   "execution_count": 60,
   "id": "1cfe796a",
   "metadata": {},
   "outputs": [
    {
     "data": {
      "text/html": [
       "<div>\n",
       "<style scoped>\n",
       "    .dataframe tbody tr th:only-of-type {\n",
       "        vertical-align: middle;\n",
       "    }\n",
       "\n",
       "    .dataframe tbody tr th {\n",
       "        vertical-align: top;\n",
       "    }\n",
       "\n",
       "    .dataframe thead th {\n",
       "        text-align: right;\n",
       "    }\n",
       "</style>\n",
       "<table border=\"1\" class=\"dataframe\">\n",
       "  <thead>\n",
       "    <tr style=\"text-align: right;\">\n",
       "      <th></th>\n",
       "      <th>Unidades</th>\n",
       "      <th>Principais_Motivos</th>\n",
       "      <th>Quantidade</th>\n",
       "    </tr>\n",
       "  </thead>\n",
       "  <tbody>\n",
       "    <tr>\n",
       "      <th>0</th>\n",
       "      <td>Loja Autazes</td>\n",
       "      <td>Defeito do produto</td>\n",
       "      <td>289</td>\n",
       "    </tr>\n",
       "    <tr>\n",
       "      <th>1</th>\n",
       "      <td>Loja Manicoré</td>\n",
       "      <td>Defeito do produto</td>\n",
       "      <td>421</td>\n",
       "    </tr>\n",
       "    <tr>\n",
       "      <th>2</th>\n",
       "      <td>Loja Lábrea</td>\n",
       "      <td>Antecipação de troca</td>\n",
       "      <td>439</td>\n",
       "    </tr>\n",
       "    <tr>\n",
       "      <th>3</th>\n",
       "      <td>Loja Itacoatiara</td>\n",
       "      <td>Insatisfação com o atendimento</td>\n",
       "      <td>133</td>\n",
       "    </tr>\n",
       "    <tr>\n",
       "      <th>4</th>\n",
       "      <td>Loja Manacapuru</td>\n",
       "      <td>Defeito do produto</td>\n",
       "      <td>207</td>\n",
       "    </tr>\n",
       "  </tbody>\n",
       "</table>\n",
       "</div>"
      ],
      "text/plain": [
       "           Unidades              Principais_Motivos Quantidade\n",
       "0      Loja Autazes              Defeito do produto        289\n",
       "1     Loja Manicoré              Defeito do produto        421\n",
       "2       Loja Lábrea            Antecipação de troca        439\n",
       "3  Loja Itacoatiara  Insatisfação com o atendimento        133\n",
       "4   Loja Manacapuru              Defeito do produto        207"
      ]
     },
     "execution_count": 60,
     "metadata": {},
     "output_type": "execute_result"
    }
   ],
   "source": [
    "quantidade = np.array([])\n",
    "motivo_devolucao = np.array([])\n",
    "\n",
    "for loja in filiais:\n",
    "    condicao1 = df1.filial == loja\n",
    "    condicao2 = df1.motivo_devolucao != \"Sem devolução\"\n",
    "    soma = df1[condicao1 & condicao2].motivo_devolucao.value_counts() \n",
    "    \n",
    "    quantidade = np.append(quantidade, soma.values[0])\n",
    "    motivo_devolucao = np.append(motivo_devolucao, soma.index[0])\n",
    "    \n",
    "dataframe10 = pd.DataFrame([filiais, motivo_devolucao, quantidade.astype(int)], index=[\"Unidades\", \"Principais_Motivos\", \"Quantidade\"]).T\n",
    "dataframe10"
   ]
  },
  {
   "cell_type": "markdown",
   "id": "05ec757c",
   "metadata": {},
   "source": [
    "### A unidade que teve a maior quantidade de devoluções de produtos e o principal motivo de devolução"
   ]
  },
  {
   "cell_type": "code",
   "execution_count": 61,
   "id": "f2e65b19",
   "metadata": {},
   "outputs": [
    {
     "data": {
      "text/html": [
       "<div>\n",
       "<style scoped>\n",
       "    .dataframe tbody tr th:only-of-type {\n",
       "        vertical-align: middle;\n",
       "    }\n",
       "\n",
       "    .dataframe tbody tr th {\n",
       "        vertical-align: top;\n",
       "    }\n",
       "\n",
       "    .dataframe thead th {\n",
       "        text-align: right;\n",
       "    }\n",
       "</style>\n",
       "<table border=\"1\" class=\"dataframe\">\n",
       "  <thead>\n",
       "    <tr style=\"text-align: right;\">\n",
       "      <th></th>\n",
       "      <th>Unidades</th>\n",
       "      <th>Principais_Motivos</th>\n",
       "      <th>Quantidade</th>\n",
       "    </tr>\n",
       "  </thead>\n",
       "  <tbody>\n",
       "    <tr>\n",
       "      <th>2</th>\n",
       "      <td>Loja Lábrea</td>\n",
       "      <td>Antecipação de troca</td>\n",
       "      <td>439</td>\n",
       "    </tr>\n",
       "  </tbody>\n",
       "</table>\n",
       "</div>"
      ],
      "text/plain": [
       "      Unidades    Principais_Motivos Quantidade\n",
       "2  Loja Lábrea  Antecipação de troca        439"
      ]
     },
     "execution_count": 61,
     "metadata": {},
     "output_type": "execute_result"
    }
   ],
   "source": [
    "maior = dataframe10.Quantidade.max()\n",
    "dataframe10[dataframe10.Quantidade == maior]"
   ]
  },
  {
   "cell_type": "markdown",
   "id": "763915ed",
   "metadata": {},
   "source": [
    "### A unidade que teve a menor quantidade de devoluções de produtos e o principal motivo de devolução"
   ]
  },
  {
   "cell_type": "code",
   "execution_count": 62,
   "id": "f7259576",
   "metadata": {
    "scrolled": true
   },
   "outputs": [
    {
     "data": {
      "text/html": [
       "<div>\n",
       "<style scoped>\n",
       "    .dataframe tbody tr th:only-of-type {\n",
       "        vertical-align: middle;\n",
       "    }\n",
       "\n",
       "    .dataframe tbody tr th {\n",
       "        vertical-align: top;\n",
       "    }\n",
       "\n",
       "    .dataframe thead th {\n",
       "        text-align: right;\n",
       "    }\n",
       "</style>\n",
       "<table border=\"1\" class=\"dataframe\">\n",
       "  <thead>\n",
       "    <tr style=\"text-align: right;\">\n",
       "      <th></th>\n",
       "      <th>Unidades</th>\n",
       "      <th>Principais_Motivos</th>\n",
       "      <th>Quantidade</th>\n",
       "    </tr>\n",
       "  </thead>\n",
       "  <tbody>\n",
       "    <tr>\n",
       "      <th>3</th>\n",
       "      <td>Loja Itacoatiara</td>\n",
       "      <td>Insatisfação com o atendimento</td>\n",
       "      <td>133</td>\n",
       "    </tr>\n",
       "  </tbody>\n",
       "</table>\n",
       "</div>"
      ],
      "text/plain": [
       "           Unidades              Principais_Motivos Quantidade\n",
       "3  Loja Itacoatiara  Insatisfação com o atendimento        133"
      ]
     },
     "execution_count": 62,
     "metadata": {},
     "output_type": "execute_result"
    }
   ],
   "source": [
    "menor = dataframe10.Quantidade.min()\n",
    "dataframe10[dataframe10.Quantidade == menor]"
   ]
  },
  {
   "cell_type": "markdown",
   "id": "f7781c59",
   "metadata": {},
   "source": [
    "## Dataframes gerados"
   ]
  },
  {
   "cell_type": "code",
   "execution_count": 63,
   "id": "78bff2bc",
   "metadata": {},
   "outputs": [
    {
     "data": {
      "text/html": [
       "<div>\n",
       "<style scoped>\n",
       "    .dataframe tbody tr th:only-of-type {\n",
       "        vertical-align: middle;\n",
       "    }\n",
       "\n",
       "    .dataframe tbody tr th {\n",
       "        vertical-align: top;\n",
       "    }\n",
       "\n",
       "    .dataframe thead th {\n",
       "        text-align: right;\n",
       "    }\n",
       "</style>\n",
       "<table border=\"1\" class=\"dataframe\">\n",
       "  <thead>\n",
       "    <tr style=\"text-align: right;\">\n",
       "      <th></th>\n",
       "      <th>Cliente</th>\n",
       "      <th>Qtde_Compras</th>\n",
       "      <th>Soma_Compras</th>\n",
       "    </tr>\n",
       "  </thead>\n",
       "  <tbody>\n",
       "    <tr>\n",
       "      <th>0</th>\n",
       "      <td>295.0</td>\n",
       "      <td>22.0</td>\n",
       "      <td>4853.068</td>\n",
       "    </tr>\n",
       "    <tr>\n",
       "      <th>1</th>\n",
       "      <td>331.0</td>\n",
       "      <td>21.0</td>\n",
       "      <td>11262.288</td>\n",
       "    </tr>\n",
       "    <tr>\n",
       "      <th>2</th>\n",
       "      <td>370.0</td>\n",
       "      <td>21.0</td>\n",
       "      <td>24481.072</td>\n",
       "    </tr>\n",
       "    <tr>\n",
       "      <th>3</th>\n",
       "      <td>460.0</td>\n",
       "      <td>21.0</td>\n",
       "      <td>18042.312</td>\n",
       "    </tr>\n",
       "    <tr>\n",
       "      <th>4</th>\n",
       "      <td>538.0</td>\n",
       "      <td>21.0</td>\n",
       "      <td>9149.336</td>\n",
       "    </tr>\n",
       "  </tbody>\n",
       "</table>\n",
       "</div>"
      ],
      "text/plain": [
       "   Cliente  Qtde_Compras  Soma_Compras\n",
       "0    295.0          22.0      4853.068\n",
       "1    331.0          21.0     11262.288\n",
       "2    370.0          21.0     24481.072\n",
       "3    460.0          21.0     18042.312\n",
       "4    538.0          21.0      9149.336"
      ]
     },
     "execution_count": 63,
     "metadata": {},
     "output_type": "execute_result"
    }
   ],
   "source": [
    "dataframe1.to_excel(\"../Datasets/Analises/Quantidade de compras e a soma das compras de cada cliente.xlsx\", index=False)\n",
    "dataframe1.head()"
   ]
  },
  {
   "cell_type": "code",
   "execution_count": 64,
   "id": "ab107076",
   "metadata": {},
   "outputs": [
    {
     "data": {
      "text/html": [
       "<div>\n",
       "<style scoped>\n",
       "    .dataframe tbody tr th:only-of-type {\n",
       "        vertical-align: middle;\n",
       "    }\n",
       "\n",
       "    .dataframe tbody tr th {\n",
       "        vertical-align: top;\n",
       "    }\n",
       "\n",
       "    .dataframe thead th {\n",
       "        text-align: right;\n",
       "    }\n",
       "</style>\n",
       "<table border=\"1\" class=\"dataframe\">\n",
       "  <thead>\n",
       "    <tr style=\"text-align: right;\">\n",
       "      <th></th>\n",
       "      <th>Motivos</th>\n",
       "      <th>Total</th>\n",
       "    </tr>\n",
       "  </thead>\n",
       "  <tbody>\n",
       "    <tr>\n",
       "      <th>0</th>\n",
       "      <td>Sem devolução</td>\n",
       "      <td>6962</td>\n",
       "    </tr>\n",
       "    <tr>\n",
       "      <th>5</th>\n",
       "      <td>Defeito do produto</td>\n",
       "      <td>1439</td>\n",
       "    </tr>\n",
       "    <tr>\n",
       "      <th>2</th>\n",
       "      <td>Insatisfação com o produto</td>\n",
       "      <td>1385</td>\n",
       "    </tr>\n",
       "    <tr>\n",
       "      <th>3</th>\n",
       "      <td>Problema na Entrega</td>\n",
       "      <td>1369</td>\n",
       "    </tr>\n",
       "    <tr>\n",
       "      <th>1</th>\n",
       "      <td>Antecipação de troca</td>\n",
       "      <td>1368</td>\n",
       "    </tr>\n",
       "  </tbody>\n",
       "</table>\n",
       "</div>"
      ],
      "text/plain": [
       "                      Motivos Total\n",
       "0               Sem devolução  6962\n",
       "5          Defeito do produto  1439\n",
       "2  Insatisfação com o produto  1385\n",
       "3         Problema na Entrega  1369\n",
       "1        Antecipação de troca  1368"
      ]
     },
     "execution_count": 64,
     "metadata": {},
     "output_type": "execute_result"
    }
   ],
   "source": [
    "dataframe2 = dataframe2.sort_values(by=[\"Total\"], ascending=False)\n",
    "dataframe2.to_excel(\"../Datasets/Analises/O total de cada motivo de devolução.xlsx\", index=False)\n",
    "dataframe2.head()"
   ]
  },
  {
   "cell_type": "code",
   "execution_count": 65,
   "id": "c6b045cf",
   "metadata": {},
   "outputs": [
    {
     "data": {
      "text/html": [
       "<div>\n",
       "<style scoped>\n",
       "    .dataframe tbody tr th:only-of-type {\n",
       "        vertical-align: middle;\n",
       "    }\n",
       "\n",
       "    .dataframe tbody tr th {\n",
       "        vertical-align: top;\n",
       "    }\n",
       "\n",
       "    .dataframe thead th {\n",
       "        text-align: right;\n",
       "    }\n",
       "</style>\n",
       "<table border=\"1\" class=\"dataframe\">\n",
       "  <thead>\n",
       "    <tr style=\"text-align: right;\">\n",
       "      <th></th>\n",
       "      <th>Produtos</th>\n",
       "      <th>Vendidos</th>\n",
       "    </tr>\n",
       "  </thead>\n",
       "  <tbody>\n",
       "    <tr>\n",
       "      <th>0</th>\n",
       "      <td>SPLIT 18001 À 30000</td>\n",
       "      <td>103</td>\n",
       "    </tr>\n",
       "    <tr>\n",
       "      <th>1</th>\n",
       "      <td>SPLIT 10001 À 18000</td>\n",
       "      <td>103</td>\n",
       "    </tr>\n",
       "    <tr>\n",
       "      <th>2</th>\n",
       "      <td>GRILL</td>\n",
       "      <td>25</td>\n",
       "    </tr>\n",
       "    <tr>\n",
       "      <th>3</th>\n",
       "      <td>FERRO SECO</td>\n",
       "      <td>25</td>\n",
       "    </tr>\n",
       "    <tr>\n",
       "      <th>4</th>\n",
       "      <td>JANELA 8501 À 10000</td>\n",
       "      <td>25</td>\n",
       "    </tr>\n",
       "  </tbody>\n",
       "</table>\n",
       "</div>"
      ],
      "text/plain": [
       "              Produtos Vendidos\n",
       "0  SPLIT 18001 À 30000      103\n",
       "1  SPLIT 10001 À 18000      103\n",
       "2                GRILL       25\n",
       "3           FERRO SECO       25\n",
       "4  JANELA 8501 À 10000       25"
      ]
     },
     "execution_count": 65,
     "metadata": {},
     "output_type": "execute_result"
    }
   ],
   "source": [
    "dataframe3.to_excel(\"../Datasets/Analises/Os produtos mais vendidos.xlsx\", index=False)\n",
    "dataframe3.head()"
   ]
  },
  {
   "cell_type": "code",
   "execution_count": 66,
   "id": "a586a42b",
   "metadata": {},
   "outputs": [
    {
     "data": {
      "text/html": [
       "<div>\n",
       "<style scoped>\n",
       "    .dataframe tbody tr th:only-of-type {\n",
       "        vertical-align: middle;\n",
       "    }\n",
       "\n",
       "    .dataframe tbody tr th {\n",
       "        vertical-align: top;\n",
       "    }\n",
       "\n",
       "    .dataframe thead th {\n",
       "        text-align: right;\n",
       "    }\n",
       "</style>\n",
       "<table border=\"1\" class=\"dataframe\">\n",
       "  <thead>\n",
       "    <tr style=\"text-align: right;\">\n",
       "      <th></th>\n",
       "      <th>Produtos</th>\n",
       "      <th>Devolvidos</th>\n",
       "    </tr>\n",
       "  </thead>\n",
       "  <tbody>\n",
       "    <tr>\n",
       "      <th>0</th>\n",
       "      <td>SPLIT 10001 À 18000</td>\n",
       "      <td>57</td>\n",
       "    </tr>\n",
       "    <tr>\n",
       "      <th>1</th>\n",
       "      <td>SPLIT 18001 À 30000</td>\n",
       "      <td>55</td>\n",
       "    </tr>\n",
       "    <tr>\n",
       "      <th>2</th>\n",
       "      <td>TV LED DE 48\" À 54\"</td>\n",
       "      <td>19</td>\n",
       "    </tr>\n",
       "    <tr>\n",
       "      <th>3</th>\n",
       "      <td>TANQUINHO/SEMI-AUTOM</td>\n",
       "      <td>16</td>\n",
       "    </tr>\n",
       "    <tr>\n",
       "      <th>4</th>\n",
       "      <td>TV LED DE 32\"</td>\n",
       "      <td>16</td>\n",
       "    </tr>\n",
       "  </tbody>\n",
       "</table>\n",
       "</div>"
      ],
      "text/plain": [
       "               Produtos Devolvidos\n",
       "0   SPLIT 10001 À 18000         57\n",
       "1   SPLIT 18001 À 30000         55\n",
       "2   TV LED DE 48\" À 54\"         19\n",
       "3  TANQUINHO/SEMI-AUTOM         16\n",
       "4         TV LED DE 32\"         16"
      ]
     },
     "execution_count": 66,
     "metadata": {},
     "output_type": "execute_result"
    }
   ],
   "source": [
    "dataframe4.to_excel(\"../Datasets/Analises/O total de devoluções de cada produto.xlsx\", index=False)\n",
    "dataframe4.head()"
   ]
  },
  {
   "cell_type": "code",
   "execution_count": 67,
   "id": "d97cbd54",
   "metadata": {},
   "outputs": [
    {
     "data": {
      "text/html": [
       "<div>\n",
       "<style scoped>\n",
       "    .dataframe tbody tr th:only-of-type {\n",
       "        vertical-align: middle;\n",
       "    }\n",
       "\n",
       "    .dataframe tbody tr th {\n",
       "        vertical-align: top;\n",
       "    }\n",
       "\n",
       "    .dataframe thead th {\n",
       "        text-align: right;\n",
       "    }\n",
       "</style>\n",
       "<table border=\"1\" class=\"dataframe\">\n",
       "  <thead>\n",
       "    <tr style=\"text-align: right;\">\n",
       "      <th></th>\n",
       "      <th>Produtos</th>\n",
       "      <th>Imposto</th>\n",
       "    </tr>\n",
       "  </thead>\n",
       "  <tbody>\n",
       "    <tr>\n",
       "      <th>3</th>\n",
       "      <td>SPLIT 10001 À 18000</td>\n",
       "      <td>9478.9764</td>\n",
       "    </tr>\n",
       "    <tr>\n",
       "      <th>4</th>\n",
       "      <td>SPLIT 18001 À 30000</td>\n",
       "      <td>7004.4372</td>\n",
       "    </tr>\n",
       "    <tr>\n",
       "      <th>2</th>\n",
       "      <td>SPLIT ACIMA DE 30000</td>\n",
       "      <td>3900.1932</td>\n",
       "    </tr>\n",
       "    <tr>\n",
       "      <th>14</th>\n",
       "      <td>TV LED DE 48\" À 54\"</td>\n",
       "      <td>3750.9372</td>\n",
       "    </tr>\n",
       "    <tr>\n",
       "      <th>412</th>\n",
       "      <td>SPLIT INV18001À30000</td>\n",
       "      <td>3211.3476</td>\n",
       "    </tr>\n",
       "  </tbody>\n",
       "</table>\n",
       "</div>"
      ],
      "text/plain": [
       "                 Produtos    Imposto\n",
       "3     SPLIT 10001 À 18000  9478.9764\n",
       "4     SPLIT 18001 À 30000  7004.4372\n",
       "2    SPLIT ACIMA DE 30000  3900.1932\n",
       "14    TV LED DE 48\" À 54\"  3750.9372\n",
       "412  SPLIT INV18001À30000  3211.3476"
      ]
     },
     "execution_count": 67,
     "metadata": {},
     "output_type": "execute_result"
    }
   ],
   "source": [
    "dataframe5.to_excel(\"../Datasets/Analises/O total de imposto de cada produto.xlsx\", index=False)\n",
    "dataframe5.head()"
   ]
  },
  {
   "cell_type": "code",
   "execution_count": 68,
   "id": "e4a52741",
   "metadata": {},
   "outputs": [
    {
     "name": "stdout",
     "output_type": "stream",
     "text": [
      "*************** Loja Autazes ***************\n",
      "               Produtos Valor_Vendas\n",
      "4   SPLIT 18001 À 30000     26467.92\n",
      "3   SPLIT 10001 À 18000     24860.88\n",
      "0    SPLIT 8501 À 10000     10045.68\n",
      "17        TV 4K ATÉ 59\"      9579.36\n",
      "12        TV LED DE 32\"       9091.2\n",
      "*************** Loja Manicoré ***************\n",
      "                 Produtos Valor_Vendas\n",
      "3     SPLIT 10001 À 18000    117295.68\n",
      "4     SPLIT 18001 À 30000      58812.0\n",
      "412  SPLIT INV18001À30000     58611.12\n",
      "14    TV LED DE 48\" À 54\"     56574.24\n",
      "2    SPLIT ACIMA DE 30000     42071.76\n",
      "*************** Loja Lábrea ***************\n",
      "                Produtos Valor_Vendas\n",
      "3    SPLIT 10001 À 18000      62978.4\n",
      "4    SPLIT 18001 À 30000     60448.56\n",
      "478  TV LED ACIMA DE 65\"     24965.52\n",
      "64   SPLIT ATÉ 8500 BTUS     21507.12\n",
      "471   TV 4K ACIMA DE 69\"     16160.88\n",
      "*************** Loja Itacoatiara ***************\n",
      "                Produtos Valor_Vendas\n",
      "500       TV OLED / QLED      45852.0\n",
      "19   TV LED DE 21\" À 24\"     17841.84\n",
      "514      AR COND SPLIT 2     17184.24\n",
      "14   TV LED DE 48\" À 54\"      9811.92\n",
      "18    TV 4K DE 60\" À 69\"      9003.12\n",
      "*************** Loja Manacapuru ***************\n",
      "                 Produtos Valor_Vendas\n",
      "2    SPLIT ACIMA DE 30000     26137.68\n",
      "19    TV LED DE 21\" À 24\"      9174.72\n",
      "284   TV LED DE 55\" À 59\"      7087.44\n",
      "471    TV 4K ACIMA DE 69\"      6273.36\n",
      "412  SPLIT INV18001À30000      5434.32\n"
     ]
    }
   ],
   "source": [
    "for unidade, data in lista_dataframes.items():\n",
    "    print(\"***************\",unidade,\"***************\")\n",
    "    data = data.sort_values(by=[\"Valor_Vendas\"], ascending=False)\n",
    "    data.to_excel(f\"../Datasets/Analises/{unidade} - O total do valor de vendas de cada produto em cada filial.xlsx\", index=False)\n",
    "    print(data.head())"
   ]
  },
  {
   "cell_type": "code",
   "execution_count": 69,
   "id": "af82f5b8",
   "metadata": {},
   "outputs": [
    {
     "data": {
      "text/html": [
       "<div>\n",
       "<style scoped>\n",
       "    .dataframe tbody tr th:only-of-type {\n",
       "        vertical-align: middle;\n",
       "    }\n",
       "\n",
       "    .dataframe tbody tr th {\n",
       "        vertical-align: top;\n",
       "    }\n",
       "\n",
       "    .dataframe thead th {\n",
       "        text-align: right;\n",
       "    }\n",
       "</style>\n",
       "<table border=\"1\" class=\"dataframe\">\n",
       "  <thead>\n",
       "    <tr style=\"text-align: right;\">\n",
       "      <th></th>\n",
       "      <th>Unidades</th>\n",
       "      <th>Total_Vendas</th>\n",
       "      <th>Soma_Vendas</th>\n",
       "    </tr>\n",
       "  </thead>\n",
       "  <tbody>\n",
       "    <tr>\n",
       "      <th>0</th>\n",
       "      <td>Loja Autazes</td>\n",
       "      <td>1793</td>\n",
       "      <td>156479.604</td>\n",
       "    </tr>\n",
       "    <tr>\n",
       "      <th>1</th>\n",
       "      <td>Loja Manicoré</td>\n",
       "      <td>1214</td>\n",
       "      <td>234666.368</td>\n",
       "    </tr>\n",
       "    <tr>\n",
       "      <th>2</th>\n",
       "      <td>Loja Lábrea</td>\n",
       "      <td>4072</td>\n",
       "      <td>446117.764</td>\n",
       "    </tr>\n",
       "    <tr>\n",
       "      <th>3</th>\n",
       "      <td>Loja Itacoatiara</td>\n",
       "      <td>4085</td>\n",
       "      <td>794482.76</td>\n",
       "    </tr>\n",
       "    <tr>\n",
       "      <th>4</th>\n",
       "      <td>Loja Manacapuru</td>\n",
       "      <td>2713</td>\n",
       "      <td>200317.632</td>\n",
       "    </tr>\n",
       "  </tbody>\n",
       "</table>\n",
       "</div>"
      ],
      "text/plain": [
       "           Unidades Total_Vendas Soma_Vendas\n",
       "0      Loja Autazes         1793  156479.604\n",
       "1     Loja Manicoré         1214  234666.368\n",
       "2       Loja Lábrea         4072  446117.764\n",
       "3  Loja Itacoatiara         4085   794482.76\n",
       "4   Loja Manacapuru         2713  200317.632"
      ]
     },
     "execution_count": 69,
     "metadata": {},
     "output_type": "execute_result"
    }
   ],
   "source": [
    "dataframe7.to_excel(\"../Datasets/Analises/O total de vendas em cada filial e o montante em vendas.xlsx\", index=False)\n",
    "dataframe7.head()"
   ]
  },
  {
   "cell_type": "code",
   "execution_count": 70,
   "id": "768f5a78",
   "metadata": {},
   "outputs": [
    {
     "data": {
      "text/html": [
       "<div>\n",
       "<style scoped>\n",
       "    .dataframe tbody tr th:only-of-type {\n",
       "        vertical-align: middle;\n",
       "    }\n",
       "\n",
       "    .dataframe tbody tr th {\n",
       "        vertical-align: top;\n",
       "    }\n",
       "\n",
       "    .dataframe thead th {\n",
       "        text-align: right;\n",
       "    }\n",
       "</style>\n",
       "<table border=\"1\" class=\"dataframe\">\n",
       "  <thead>\n",
       "    <tr style=\"text-align: right;\">\n",
       "      <th></th>\n",
       "      <th>Unidades</th>\n",
       "      <th>Produtos_Devolvidos</th>\n",
       "    </tr>\n",
       "  </thead>\n",
       "  <tbody>\n",
       "    <tr>\n",
       "      <th>2</th>\n",
       "      <td>Loja Lábrea</td>\n",
       "      <td>2025.0</td>\n",
       "    </tr>\n",
       "    <tr>\n",
       "      <th>1</th>\n",
       "      <td>Loja Manicoré</td>\n",
       "      <td>2008.0</td>\n",
       "    </tr>\n",
       "    <tr>\n",
       "      <th>0</th>\n",
       "      <td>Loja Autazes</td>\n",
       "      <td>1345.0</td>\n",
       "    </tr>\n",
       "    <tr>\n",
       "      <th>4</th>\n",
       "      <td>Loja Manacapuru</td>\n",
       "      <td>901.0</td>\n",
       "    </tr>\n",
       "    <tr>\n",
       "      <th>3</th>\n",
       "      <td>Loja Itacoatiara</td>\n",
       "      <td>636.0</td>\n",
       "    </tr>\n",
       "  </tbody>\n",
       "</table>\n",
       "</div>"
      ],
      "text/plain": [
       "           Unidades  Produtos_Devolvidos\n",
       "2       Loja Lábrea               2025.0\n",
       "1     Loja Manicoré               2008.0\n",
       "0      Loja Autazes               1345.0\n",
       "4   Loja Manacapuru                901.0\n",
       "3  Loja Itacoatiara                636.0"
      ]
     },
     "execution_count": 70,
     "metadata": {},
     "output_type": "execute_result"
    }
   ],
   "source": [
    "dataframe8 = dataframe8.sort_values(by=[\"Produtos_Devolvidos\"], ascending=False)\n",
    "dataframe8.to_excel(\"../Datasets/Analises/O total de devoluções em cada filial.xlsx\", index=False)\n",
    "dataframe8.head()"
   ]
  },
  {
   "cell_type": "code",
   "execution_count": 71,
   "id": "85fa60fc",
   "metadata": {},
   "outputs": [
    {
     "data": {
      "text/html": [
       "<div>\n",
       "<style scoped>\n",
       "    .dataframe tbody tr th:only-of-type {\n",
       "        vertical-align: middle;\n",
       "    }\n",
       "\n",
       "    .dataframe tbody tr th {\n",
       "        vertical-align: top;\n",
       "    }\n",
       "\n",
       "    .dataframe thead th {\n",
       "        text-align: right;\n",
       "    }\n",
       "</style>\n",
       "<table border=\"1\" class=\"dataframe\">\n",
       "  <thead>\n",
       "    <tr style=\"text-align: right;\">\n",
       "      <th></th>\n",
       "      <th>Unidades</th>\n",
       "      <th>Vendas_Sem_Produtos_Devolvidos</th>\n",
       "    </tr>\n",
       "  </thead>\n",
       "  <tbody>\n",
       "    <tr>\n",
       "      <th>1</th>\n",
       "      <td>Loja Manicoré</td>\n",
       "      <td>2077.0</td>\n",
       "    </tr>\n",
       "    <tr>\n",
       "      <th>2</th>\n",
       "      <td>Loja Lábrea</td>\n",
       "      <td>2047.0</td>\n",
       "    </tr>\n",
       "    <tr>\n",
       "      <th>0</th>\n",
       "      <td>Loja Autazes</td>\n",
       "      <td>1368.0</td>\n",
       "    </tr>\n",
       "    <tr>\n",
       "      <th>4</th>\n",
       "      <td>Loja Manacapuru</td>\n",
       "      <td>892.0</td>\n",
       "    </tr>\n",
       "    <tr>\n",
       "      <th>3</th>\n",
       "      <td>Loja Itacoatiara</td>\n",
       "      <td>578.0</td>\n",
       "    </tr>\n",
       "  </tbody>\n",
       "</table>\n",
       "</div>"
      ],
      "text/plain": [
       "           Unidades Vendas_Sem_Produtos_Devolvidos\n",
       "1     Loja Manicoré                         2077.0\n",
       "2       Loja Lábrea                         2047.0\n",
       "0      Loja Autazes                         1368.0\n",
       "4   Loja Manacapuru                          892.0\n",
       "3  Loja Itacoatiara                          578.0"
      ]
     },
     "execution_count": 71,
     "metadata": {},
     "output_type": "execute_result"
    }
   ],
   "source": [
    "dataframe9 = dataframe9.sort_values(by=[\"Vendas_Sem_Produtos_Devolvidos\"], ascending=False)\n",
    "dataframe9.to_excel(\"../Datasets/Analises/O total de vendas sem devoluções em cada filial.xlsx\", index=False)\n",
    "dataframe9.head()"
   ]
  },
  {
   "cell_type": "code",
   "execution_count": 72,
   "id": "1f50dcb2",
   "metadata": {
    "scrolled": true
   },
   "outputs": [
    {
     "data": {
      "text/html": [
       "<div>\n",
       "<style scoped>\n",
       "    .dataframe tbody tr th:only-of-type {\n",
       "        vertical-align: middle;\n",
       "    }\n",
       "\n",
       "    .dataframe tbody tr th {\n",
       "        vertical-align: top;\n",
       "    }\n",
       "\n",
       "    .dataframe thead th {\n",
       "        text-align: right;\n",
       "    }\n",
       "</style>\n",
       "<table border=\"1\" class=\"dataframe\">\n",
       "  <thead>\n",
       "    <tr style=\"text-align: right;\">\n",
       "      <th></th>\n",
       "      <th>Unidades</th>\n",
       "      <th>Principais_Motivos</th>\n",
       "      <th>Quantidade</th>\n",
       "    </tr>\n",
       "  </thead>\n",
       "  <tbody>\n",
       "    <tr>\n",
       "      <th>2</th>\n",
       "      <td>Loja Lábrea</td>\n",
       "      <td>Antecipação de troca</td>\n",
       "      <td>439</td>\n",
       "    </tr>\n",
       "    <tr>\n",
       "      <th>1</th>\n",
       "      <td>Loja Manicoré</td>\n",
       "      <td>Defeito do produto</td>\n",
       "      <td>421</td>\n",
       "    </tr>\n",
       "    <tr>\n",
       "      <th>0</th>\n",
       "      <td>Loja Autazes</td>\n",
       "      <td>Defeito do produto</td>\n",
       "      <td>289</td>\n",
       "    </tr>\n",
       "    <tr>\n",
       "      <th>4</th>\n",
       "      <td>Loja Manacapuru</td>\n",
       "      <td>Defeito do produto</td>\n",
       "      <td>207</td>\n",
       "    </tr>\n",
       "    <tr>\n",
       "      <th>3</th>\n",
       "      <td>Loja Itacoatiara</td>\n",
       "      <td>Insatisfação com o atendimento</td>\n",
       "      <td>133</td>\n",
       "    </tr>\n",
       "  </tbody>\n",
       "</table>\n",
       "</div>"
      ],
      "text/plain": [
       "           Unidades              Principais_Motivos Quantidade\n",
       "2       Loja Lábrea            Antecipação de troca        439\n",
       "1     Loja Manicoré              Defeito do produto        421\n",
       "0      Loja Autazes              Defeito do produto        289\n",
       "4   Loja Manacapuru              Defeito do produto        207\n",
       "3  Loja Itacoatiara  Insatisfação com o atendimento        133"
      ]
     },
     "execution_count": 72,
     "metadata": {},
     "output_type": "execute_result"
    }
   ],
   "source": [
    "dataframe10 = dataframe10.sort_values(by=[\"Quantidade\"], ascending=False)\n",
    "dataframe10.to_excel(\"../Datasets/Analises/Quantidade do maior motivo de devolução de produtos em cada filial.xlsx\", index=False)\n",
    "dataframe10.head()"
   ]
  }
 ],
 "metadata": {
  "kernelspec": {
   "display_name": "Python 3",
   "language": "python",
   "name": "python3"
  },
  "language_info": {
   "codemirror_mode": {
    "name": "ipython",
    "version": 3
   },
   "file_extension": ".py",
   "mimetype": "text/x-python",
   "name": "python",
   "nbconvert_exporter": "python",
   "pygments_lexer": "ipython3",
   "version": "3.8.8"
  }
 },
 "nbformat": 4,
 "nbformat_minor": 5
}
