{
 "cells": [
  {
   "cell_type": "markdown",
   "id": "a33e3f15",
   "metadata": {},
   "source": [
    "# Limpeza dos Dados"
   ]
  },
  {
   "cell_type": "markdown",
   "id": "a29b271a",
   "metadata": {},
   "source": [
    "### Bibliotecas"
   ]
  },
  {
   "cell_type": "code",
   "execution_count": 1,
   "id": "7743c2c7",
   "metadata": {},
   "outputs": [],
   "source": [
    "import re\n",
    "import pandas as pd"
   ]
  },
  {
   "cell_type": "markdown",
   "id": "68212333",
   "metadata": {},
   "source": [
    "### Localizando a base de dados no diretório"
   ]
  },
  {
   "cell_type": "code",
   "execution_count": 2,
   "id": "2ec05f6b",
   "metadata": {
    "scrolled": true
   },
   "outputs": [
    {
     "name": "stdout",
     "output_type": "stream",
     "text": [
      " O volume na unidade C ‚ Windows\n",
      " O N£mero de S‚rie do Volume ‚ 8ED9-8750\n",
      "\n",
      " Pasta de c:\\Github\\Desafio Bemol\\Datasets\n",
      "\n",
      "27/08/2021  17:24         2.230.148 Desafio - Time de Projetos e Dados.xlsx\n",
      "               1 arquivo(s)      2.230.148 bytes\n",
      "               0 pasta(s)   62.989.647.872 bytes dispon¡veis\n"
     ]
    }
   ],
   "source": [
    "ls \"../Datasets/*.xlsx\""
   ]
  },
  {
   "cell_type": "markdown",
   "id": "8c7b9195",
   "metadata": {},
   "source": [
    "### Realizando a leitura das bases de dados"
   ]
  },
  {
   "cell_type": "code",
   "execution_count": 3,
   "id": "cdfa30aa",
   "metadata": {},
   "outputs": [],
   "source": [
    "planilhas = pd.read_excel(\"../Datasets/Desafio - Time de Projetos e Dados.xlsx\", sheet_name=[1,2])"
   ]
  },
  {
   "cell_type": "markdown",
   "id": "8d0140b9",
   "metadata": {},
   "source": [
    "### Separando as bases de dados"
   ]
  },
  {
   "cell_type": "code",
   "execution_count": 4,
   "id": "b0f220f7",
   "metadata": {},
   "outputs": [],
   "source": [
    "df1 = planilhas[1]\n",
    "df2 = planilhas[2]"
   ]
  },
  {
   "cell_type": "markdown",
   "id": "26a0ec3d",
   "metadata": {},
   "source": [
    "### Informações das bases de dados"
   ]
  },
  {
   "cell_type": "code",
   "execution_count": 5,
   "id": "0b60e611",
   "metadata": {
    "scrolled": false
   },
   "outputs": [
    {
     "name": "stdout",
     "output_type": "stream",
     "text": [
      "<class 'pandas.core.frame.DataFrame'>\n",
      "RangeIndex: 13877 entries, 0 to 13876\n",
      "Data columns (total 27 columns):\n",
      " #   Column              Non-Null Count  Dtype  \n",
      "---  ------              --------------  -----  \n",
      " 0   num_compra          13877 non-null  int64  \n",
      " 1   usuario             13877 non-null  int64  \n",
      " 2   nome                13877 non-null  object \n",
      " 3   Tipo de Mercadoria  13877 non-null  object \n",
      " 4   Filial              13877 non-null  object \n",
      " 5   data_compra         13877 non-null  object \n",
      " 6   valor_compra        13877 non-null  float64\n",
      " 7   Imposto             13877 non-null  float64\n",
      " 8   CPF NA NOTA?        13877 non-null  object \n",
      " 9   Produto Devolvido   13877 non-null  object \n",
      " 10  Motivo Devolução    6915 non-null   object \n",
      " 11  Unnamed: 11         0 non-null      float64\n",
      " 12  Unnamed: 12         0 non-null      float64\n",
      " 13  Unnamed: 13         0 non-null      float64\n",
      " 14  Unnamed: 14         0 non-null      float64\n",
      " 15  Unnamed: 15         0 non-null      float64\n",
      " 16  Unnamed: 16         0 non-null      float64\n",
      " 17  Unnamed: 17         0 non-null      float64\n",
      " 18  Unnamed: 18         0 non-null      float64\n",
      " 19  Unnamed: 19         0 non-null      float64\n",
      " 20  Unnamed: 20         0 non-null      float64\n",
      " 21  Unnamed: 21         0 non-null      float64\n",
      " 22  Unnamed: 22         0 non-null      float64\n",
      " 23  Unnamed: 23         0 non-null      float64\n",
      " 24  Unnamed: 24         0 non-null      float64\n",
      " 25  Unnamed: 25         0 non-null      float64\n",
      " 26  Unnamed: 26         0 non-null      float64\n",
      "dtypes: float64(18), int64(2), object(7)\n",
      "memory usage: 2.9+ MB\n"
     ]
    }
   ],
   "source": [
    "df1.info()"
   ]
  },
  {
   "cell_type": "code",
   "execution_count": 6,
   "id": "92fdead2",
   "metadata": {
    "scrolled": false
   },
   "outputs": [
    {
     "name": "stdout",
     "output_type": "stream",
     "text": [
      "<class 'pandas.core.frame.DataFrame'>\n",
      "RangeIndex: 899 entries, 0 to 898\n",
      "Data columns (total 23 columns):\n",
      " #   Column                                        Non-Null Count  Dtype         \n",
      "---  ------                                        --------------  -----         \n",
      " 0   cod_Loja                                      899 non-null    int64         \n",
      " 1   data_compra                                   899 non-null    datetime64[ns]\n",
      " 2   inicio                                        899 non-null    datetime64[ns]\n",
      " 3   termino                                       899 non-null    datetime64[ns]\n",
      " 4   Loja                                          899 non-null    object        \n",
      " 5   cod_Produto                                   899 non-null    int64         \n",
      " 6   produto                                       899 non-null    object        \n",
      " 7   EAN                                           899 non-null    int64         \n",
      " 8   Valor Unitário Sem Imposto                    899 non-null    int64         \n",
      " 9   quantidade                                    899 non-null    int64         \n",
      " 10  valor_total                                   899 non-null    float64       \n",
      " 11  Impostos                                      899 non-null    float64       \n",
      " 12  Dinheiro de Volta (Aplicado direto no total)  899 non-null    float64       \n",
      " 13  Unnamed: 13                                   0 non-null      float64       \n",
      " 14  Unnamed: 14                                   0 non-null      float64       \n",
      " 15  Unnamed: 15                                   0 non-null      float64       \n",
      " 16  Unnamed: 16                                   0 non-null      float64       \n",
      " 17  Unnamed: 17                                   0 non-null      float64       \n",
      " 18  Unnamed: 18                                   0 non-null      float64       \n",
      " 19  Unnamed: 19                                   0 non-null      float64       \n",
      " 20  Unnamed: 20                                   0 non-null      float64       \n",
      " 21  Unnamed: 21                                   0 non-null      float64       \n",
      " 22  Unnamed: 22                                   0 non-null      float64       \n",
      "dtypes: datetime64[ns](3), float64(13), int64(5), object(2)\n",
      "memory usage: 161.7+ KB\n"
     ]
    }
   ],
   "source": [
    "df2.info()"
   ]
  },
  {
   "cell_type": "markdown",
   "id": "65a5ed85",
   "metadata": {},
   "source": [
    "### Removendo colunas irrelevantes"
   ]
  },
  {
   "cell_type": "code",
   "execution_count": 7,
   "id": "d3e73dba",
   "metadata": {},
   "outputs": [],
   "source": [
    "df1.drop(columns=df1.columns[11:27], inplace=True)"
   ]
  },
  {
   "cell_type": "code",
   "execution_count": 8,
   "id": "ca0a133f",
   "metadata": {
    "scrolled": true
   },
   "outputs": [],
   "source": [
    "df2.drop(columns=df2.columns[13:23], inplace=True)"
   ]
  },
  {
   "cell_type": "code",
   "execution_count": 9,
   "id": "5e372f8c",
   "metadata": {},
   "outputs": [
    {
     "data": {
      "text/plain": [
       "num_compra               0\n",
       "usuario                  0\n",
       "nome                     0\n",
       "Tipo de Mercadoria       0\n",
       "Filial                   0\n",
       "data_compra              0\n",
       "valor_compra             0\n",
       "Imposto                  0\n",
       "CPF NA NOTA?             0\n",
       "Produto Devolvido        0\n",
       "Motivo Devolução      6962\n",
       "dtype: int64"
      ]
     },
     "execution_count": 9,
     "metadata": {},
     "output_type": "execute_result"
    }
   ],
   "source": [
    "df1.isnull().sum()"
   ]
  },
  {
   "cell_type": "code",
   "execution_count": 10,
   "id": "93cab1f6",
   "metadata": {},
   "outputs": [
    {
     "data": {
      "text/plain": [
       "cod_Loja                                        0\n",
       "data_compra                                     0\n",
       "inicio                                          0\n",
       "termino                                         0\n",
       "Loja                                            0\n",
       "cod_Produto                                     0\n",
       "produto                                         0\n",
       "EAN                                             0\n",
       "Valor Unitário Sem Imposto                      0\n",
       "quantidade                                      0\n",
       "valor_total                                     0\n",
       "Impostos                                        0\n",
       "Dinheiro de Volta (Aplicado direto no total)    0\n",
       "dtype: int64"
      ]
     },
     "execution_count": 10,
     "metadata": {},
     "output_type": "execute_result"
    }
   ],
   "source": [
    "df2.isnull().sum()"
   ]
  },
  {
   "cell_type": "markdown",
   "id": "bbb79059",
   "metadata": {},
   "source": [
    "### Tratando valores ausentes de motivos de devolução"
   ]
  },
  {
   "cell_type": "code",
   "execution_count": 11,
   "id": "dd31d580",
   "metadata": {
    "scrolled": true
   },
   "outputs": [],
   "source": [
    "df1.fillna(\"Sem devolução\", inplace=True)"
   ]
  },
  {
   "cell_type": "markdown",
   "id": "b974d19f",
   "metadata": {},
   "source": [
    "### Analisando redundâncias"
   ]
  },
  {
   "cell_type": "code",
   "execution_count": 12,
   "id": "102218f7",
   "metadata": {},
   "outputs": [
    {
     "data": {
      "text/plain": [
       "0"
      ]
     },
     "execution_count": 12,
     "metadata": {},
     "output_type": "execute_result"
    }
   ],
   "source": [
    "df1.duplicated().sum()"
   ]
  },
  {
   "cell_type": "code",
   "execution_count": 13,
   "id": "64300c99",
   "metadata": {},
   "outputs": [
    {
     "data": {
      "text/plain": [
       "3"
      ]
     },
     "execution_count": 13,
     "metadata": {},
     "output_type": "execute_result"
    }
   ],
   "source": [
    "df2.duplicated().sum()"
   ]
  },
  {
   "cell_type": "code",
   "execution_count": 14,
   "id": "199a5407",
   "metadata": {},
   "outputs": [
    {
     "data": {
      "text/html": [
       "<div>\n",
       "<style scoped>\n",
       "    .dataframe tbody tr th:only-of-type {\n",
       "        vertical-align: middle;\n",
       "    }\n",
       "\n",
       "    .dataframe tbody tr th {\n",
       "        vertical-align: top;\n",
       "    }\n",
       "\n",
       "    .dataframe thead th {\n",
       "        text-align: right;\n",
       "    }\n",
       "</style>\n",
       "<table border=\"1\" class=\"dataframe\">\n",
       "  <thead>\n",
       "    <tr style=\"text-align: right;\">\n",
       "      <th></th>\n",
       "      <th>cod_Loja</th>\n",
       "      <th>data_compra</th>\n",
       "      <th>inicio</th>\n",
       "      <th>termino</th>\n",
       "      <th>Loja</th>\n",
       "      <th>cod_Produto</th>\n",
       "      <th>produto</th>\n",
       "      <th>EAN</th>\n",
       "      <th>Valor Unitário Sem Imposto</th>\n",
       "      <th>quantidade</th>\n",
       "      <th>valor_total</th>\n",
       "      <th>Impostos</th>\n",
       "      <th>Dinheiro de Volta (Aplicado direto no total)</th>\n",
       "    </tr>\n",
       "  </thead>\n",
       "  <tbody>\n",
       "    <tr>\n",
       "      <th>76</th>\n",
       "      <td>410</td>\n",
       "      <td>2019-07-06 13:39:45</td>\n",
       "      <td>2019-07-05</td>\n",
       "      <td>2019-07-20</td>\n",
       "      <td>Unidade Manaus 1</td>\n",
       "      <td>49618556000135</td>\n",
       "      <td>Smart Pro</td>\n",
       "      <td>190199383180</td>\n",
       "      <td>3000</td>\n",
       "      <td>1</td>\n",
       "      <td>3331.29</td>\n",
       "      <td>376.29</td>\n",
       "      <td>45.0</td>\n",
       "    </tr>\n",
       "    <tr>\n",
       "      <th>843</th>\n",
       "      <td>430</td>\n",
       "      <td>2019-07-02 09:15:12</td>\n",
       "      <td>2019-07-05</td>\n",
       "      <td>2019-07-20</td>\n",
       "      <td>Unidade Manaus 3</td>\n",
       "      <td>49618556000216</td>\n",
       "      <td>Smart Pro</td>\n",
       "      <td>190199383180</td>\n",
       "      <td>3000</td>\n",
       "      <td>1</td>\n",
       "      <td>3331.29</td>\n",
       "      <td>376.29</td>\n",
       "      <td>45.0</td>\n",
       "    </tr>\n",
       "    <tr>\n",
       "      <th>858</th>\n",
       "      <td>430</td>\n",
       "      <td>2019-07-02 09:24:54</td>\n",
       "      <td>2019-07-05</td>\n",
       "      <td>2019-07-20</td>\n",
       "      <td>Unidade Manaus 3</td>\n",
       "      <td>49618556000216</td>\n",
       "      <td>Smart Pro</td>\n",
       "      <td>190199383180</td>\n",
       "      <td>3000</td>\n",
       "      <td>1</td>\n",
       "      <td>3331.29</td>\n",
       "      <td>376.29</td>\n",
       "      <td>45.0</td>\n",
       "    </tr>\n",
       "  </tbody>\n",
       "</table>\n",
       "</div>"
      ],
      "text/plain": [
       "     cod_Loja         data_compra     inicio    termino              Loja  \\\n",
       "76        410 2019-07-06 13:39:45 2019-07-05 2019-07-20  Unidade Manaus 1   \n",
       "843       430 2019-07-02 09:15:12 2019-07-05 2019-07-20  Unidade Manaus 3   \n",
       "858       430 2019-07-02 09:24:54 2019-07-05 2019-07-20  Unidade Manaus 3   \n",
       "\n",
       "        cod_Produto    produto           EAN  Valor Unitário Sem Imposto  \\\n",
       "76   49618556000135  Smart Pro  190199383180                        3000   \n",
       "843  49618556000216  Smart Pro  190199383180                        3000   \n",
       "858  49618556000216  Smart Pro  190199383180                        3000   \n",
       "\n",
       "     quantidade  valor_total  Impostos  \\\n",
       "76            1      3331.29    376.29   \n",
       "843           1      3331.29    376.29   \n",
       "858           1      3331.29    376.29   \n",
       "\n",
       "     Dinheiro de Volta (Aplicado direto no total)  \n",
       "76                                           45.0  \n",
       "843                                          45.0  \n",
       "858                                          45.0  "
      ]
     },
     "execution_count": 14,
     "metadata": {},
     "output_type": "execute_result"
    }
   ],
   "source": [
    "df2[df2.duplicated()]"
   ]
  },
  {
   "cell_type": "markdown",
   "id": "3a62fa13",
   "metadata": {},
   "source": [
    "### Analisando erros de nomenclatura das lojas"
   ]
  },
  {
   "cell_type": "code",
   "execution_count": 15,
   "id": "95316615",
   "metadata": {},
   "outputs": [
    {
     "data": {
      "text/plain": [
       "['Loja Autazes',\n",
       " 'Loja Manicor é ',\n",
       " 'Loj Lábrea ',\n",
       " 'Loja itacoati_ara',\n",
       " 'Loja manAcaPuru',\n",
       " 'Loja manAcaPuru ']"
      ]
     },
     "execution_count": 15,
     "metadata": {},
     "output_type": "execute_result"
    }
   ],
   "source": [
    "lojas = df1.Filial.unique()\n",
    "list(lojas)"
   ]
  },
  {
   "cell_type": "markdown",
   "id": "87232227",
   "metadata": {},
   "source": [
    "### Tratando as nomenclaturas das lojas"
   ]
  },
  {
   "cell_type": "code",
   "execution_count": 16,
   "id": "c5fe8cc2",
   "metadata": {},
   "outputs": [],
   "source": [
    "for i in range(len(lojas)):\n",
    "    lojas[i] = lojas[i].strip().replace(\"_\", \"\")\n",
    "    lojas[i] = lojas[i].split(\" \", 1)[1].replace(\" \", \"\")\n",
    "    lojas[i] = \"Loja \" + \"\".join(lojas[i]).title()\n",
    "df1.replace(df1.Filial.unique(), lojas, inplace=True)"
   ]
  },
  {
   "cell_type": "code",
   "execution_count": 17,
   "id": "bc764a18",
   "metadata": {},
   "outputs": [
    {
     "data": {
      "text/plain": [
       "['Loja Autazes',\n",
       " 'Loja Manicoré',\n",
       " 'Loja Lábrea',\n",
       " 'Loja Itacoatiara',\n",
       " 'Loja Manacapuru']"
      ]
     },
     "execution_count": 17,
     "metadata": {},
     "output_type": "execute_result"
    }
   ],
   "source": [
    "list(df1.Filial.unique())"
   ]
  },
  {
   "cell_type": "markdown",
   "id": "3b205f90",
   "metadata": {},
   "source": [
    "### Analisando erros de nomenclatura nas respostas de cpf na nota"
   ]
  },
  {
   "cell_type": "code",
   "execution_count": 18,
   "id": "d1cbf978",
   "metadata": {},
   "outputs": [
    {
     "data": {
      "text/plain": [
       "['Sim', 'Na~o']"
      ]
     },
     "execution_count": 18,
     "metadata": {},
     "output_type": "execute_result"
    }
   ],
   "source": [
    "list(df1[\"CPF NA NOTA?\"].unique())"
   ]
  },
  {
   "cell_type": "markdown",
   "id": "565318b6",
   "metadata": {},
   "source": [
    "### Tratanto o erro de nomenclatura"
   ]
  },
  {
   "cell_type": "code",
   "execution_count": 19,
   "id": "52a02844",
   "metadata": {},
   "outputs": [],
   "source": [
    "df1[\"CPF NA NOTA?\"].replace(to_replace='Na~o', value='Não', inplace=True)"
   ]
  },
  {
   "cell_type": "markdown",
   "id": "19414f44",
   "metadata": {},
   "source": [
    "### Analisando inconsistências de data da compra"
   ]
  },
  {
   "cell_type": "code",
   "execution_count": 20,
   "id": "817151b3",
   "metadata": {},
   "outputs": [
    {
     "data": {
      "text/plain": [
       "'21/01/2021 18:43:49'"
      ]
     },
     "execution_count": 20,
     "metadata": {},
     "output_type": "execute_result"
    }
   ],
   "source": [
    "df1[\"data_compra\"][13872]"
   ]
  },
  {
   "cell_type": "code",
   "execution_count": 21,
   "id": "9092695b",
   "metadata": {},
   "outputs": [
    {
     "data": {
      "text/plain": [
       "str"
      ]
     },
     "execution_count": 21,
     "metadata": {},
     "output_type": "execute_result"
    }
   ],
   "source": [
    "type(df1[\"data_compra\"][13872])"
   ]
  },
  {
   "cell_type": "markdown",
   "id": "ea018ca8",
   "metadata": {},
   "source": [
    "### Convertendo data da compra para datetime"
   ]
  },
  {
   "cell_type": "code",
   "execution_count": 22,
   "id": "d123207f",
   "metadata": {},
   "outputs": [],
   "source": [
    "df1[\"data_compra\"] = pd.to_datetime(df1[\"data_compra\"])"
   ]
  },
  {
   "cell_type": "code",
   "execution_count": 23,
   "id": "ce30150f",
   "metadata": {},
   "outputs": [
    {
     "data": {
      "text/plain": [
       "pandas._libs.tslibs.timestamps.Timestamp"
      ]
     },
     "execution_count": 23,
     "metadata": {},
     "output_type": "execute_result"
    }
   ],
   "source": [
    "type(df1[\"data_compra\"][13872])"
   ]
  },
  {
   "cell_type": "markdown",
   "id": "38f863fe",
   "metadata": {},
   "source": [
    "### Renomeando as colunas dos datasets"
   ]
  },
  {
   "cell_type": "markdown",
   "id": "9bb53936",
   "metadata": {},
   "source": [
    "- Dataset 1"
   ]
  },
  {
   "cell_type": "code",
   "execution_count": 24,
   "id": "22045cd7",
   "metadata": {},
   "outputs": [
    {
     "data": {
      "text/plain": [
       "['num_compra',\n",
       " 'usuario',\n",
       " 'nome',\n",
       " 'Tipo de Mercadoria',\n",
       " 'Filial',\n",
       " 'data_compra',\n",
       " 'valor_compra',\n",
       " 'Imposto',\n",
       " 'CPF NA NOTA?',\n",
       " 'Produto Devolvido',\n",
       " 'Motivo Devolução']"
      ]
     },
     "execution_count": 24,
     "metadata": {},
     "output_type": "execute_result"
    }
   ],
   "source": [
    "list(df1.columns)"
   ]
  },
  {
   "cell_type": "code",
   "execution_count": 25,
   "id": "83f5a3cb",
   "metadata": {},
   "outputs": [],
   "source": [
    "df1.rename(columns = {'usuario':'cliente', 'nome':'vendedor'}, inplace = True)"
   ]
  },
  {
   "cell_type": "code",
   "execution_count": 26,
   "id": "0e798252",
   "metadata": {
    "scrolled": true
   },
   "outputs": [],
   "source": [
    "df1.columns = [re.sub(\"\\s\", \"_\", coluna).replace(\"?\",\"\").lower() for coluna in df1.columns]"
   ]
  },
  {
   "cell_type": "code",
   "execution_count": 27,
   "id": "b3439a09",
   "metadata": {},
   "outputs": [],
   "source": [
    "df1.columns = df1.columns.astype(str).str.normalize('NFKD').str.encode('ascii', errors='ignore').str.decode('utf-8')"
   ]
  },
  {
   "cell_type": "code",
   "execution_count": 28,
   "id": "a814dc4b",
   "metadata": {},
   "outputs": [
    {
     "data": {
      "text/plain": [
       "['num_compra',\n",
       " 'cliente',\n",
       " 'vendedor',\n",
       " 'tipo_de_mercadoria',\n",
       " 'filial',\n",
       " 'data_compra',\n",
       " 'valor_compra',\n",
       " 'imposto',\n",
       " 'cpf_na_nota',\n",
       " 'produto_devolvido',\n",
       " 'motivo_devolucao']"
      ]
     },
     "execution_count": 28,
     "metadata": {},
     "output_type": "execute_result"
    }
   ],
   "source": [
    "list(df1.columns)"
   ]
  },
  {
   "cell_type": "markdown",
   "id": "91c345d4",
   "metadata": {},
   "source": [
    "- Dataset 2"
   ]
  },
  {
   "cell_type": "code",
   "execution_count": 29,
   "id": "94dc30c1",
   "metadata": {},
   "outputs": [
    {
     "data": {
      "text/plain": [
       "['cod_Loja',\n",
       " 'data_compra',\n",
       " 'inicio',\n",
       " 'termino',\n",
       " 'Loja',\n",
       " 'cod_Produto',\n",
       " 'produto',\n",
       " 'EAN',\n",
       " 'Valor Unitário Sem Imposto',\n",
       " 'quantidade',\n",
       " 'valor_total',\n",
       " 'Impostos',\n",
       " 'Dinheiro de Volta (Aplicado direto no total)']"
      ]
     },
     "execution_count": 29,
     "metadata": {},
     "output_type": "execute_result"
    }
   ],
   "source": [
    "list(df2.columns)"
   ]
  },
  {
   "cell_type": "code",
   "execution_count": 30,
   "id": "980154b1",
   "metadata": {},
   "outputs": [],
   "source": [
    "df2.rename(columns = {'Dinheiro de Volta (Aplicado direto no total)':'Dinheiro de Volta'}, inplace = True)"
   ]
  },
  {
   "cell_type": "code",
   "execution_count": 31,
   "id": "8c5e10d1",
   "metadata": {},
   "outputs": [],
   "source": [
    "df2.columns = [re.sub(\"\\s\", \"_\", coluna).lower() for coluna in df2.columns]"
   ]
  },
  {
   "cell_type": "code",
   "execution_count": 32,
   "id": "3b3febba",
   "metadata": {},
   "outputs": [],
   "source": [
    "df2.columns = df2.columns.astype(str).str.normalize('NFKD').str.encode('ascii', errors='ignore').str.decode('utf-8')"
   ]
  },
  {
   "cell_type": "code",
   "execution_count": 33,
   "id": "2005fdfb",
   "metadata": {},
   "outputs": [
    {
     "data": {
      "text/plain": [
       "['cod_loja',\n",
       " 'data_compra',\n",
       " 'inicio',\n",
       " 'termino',\n",
       " 'loja',\n",
       " 'cod_produto',\n",
       " 'produto',\n",
       " 'ean',\n",
       " 'valor_unitario_sem_imposto',\n",
       " 'quantidade',\n",
       " 'valor_total',\n",
       " 'impostos',\n",
       " 'dinheiro_de_volta']"
      ]
     },
     "execution_count": 33,
     "metadata": {},
     "output_type": "execute_result"
    }
   ],
   "source": [
    "list(df2.columns)"
   ]
  },
  {
   "cell_type": "markdown",
   "id": "4a899b66",
   "metadata": {},
   "source": [
    "### Salvando as bases de dados"
   ]
  },
  {
   "cell_type": "markdown",
   "id": "75ff775e",
   "metadata": {},
   "source": [
    "- Questao 1"
   ]
  },
  {
   "cell_type": "code",
   "execution_count": 34,
   "id": "13cda37f",
   "metadata": {},
   "outputs": [
    {
     "data": {
      "text/html": [
       "<div>\n",
       "<style scoped>\n",
       "    .dataframe tbody tr th:only-of-type {\n",
       "        vertical-align: middle;\n",
       "    }\n",
       "\n",
       "    .dataframe tbody tr th {\n",
       "        vertical-align: top;\n",
       "    }\n",
       "\n",
       "    .dataframe thead th {\n",
       "        text-align: right;\n",
       "    }\n",
       "</style>\n",
       "<table border=\"1\" class=\"dataframe\">\n",
       "  <thead>\n",
       "    <tr style=\"text-align: right;\">\n",
       "      <th></th>\n",
       "      <th>num_compra</th>\n",
       "      <th>cliente</th>\n",
       "      <th>vendedor</th>\n",
       "      <th>tipo_de_mercadoria</th>\n",
       "      <th>filial</th>\n",
       "      <th>data_compra</th>\n",
       "      <th>valor_compra</th>\n",
       "      <th>imposto</th>\n",
       "      <th>cpf_na_nota</th>\n",
       "      <th>produto_devolvido</th>\n",
       "      <th>motivo_devolucao</th>\n",
       "    </tr>\n",
       "  </thead>\n",
       "  <tbody>\n",
       "    <tr>\n",
       "      <th>8922</th>\n",
       "      <td>26164184</td>\n",
       "      <td>66685</td>\n",
       "      <td>MARINETE</td>\n",
       "      <td>CADEIRA DE BAR</td>\n",
       "      <td>Loja Autazes</td>\n",
       "      <td>2021-01-29 16:51:09</td>\n",
       "      <td>5.556</td>\n",
       "      <td>0.25002</td>\n",
       "      <td>Sim</td>\n",
       "      <td>Sim</td>\n",
       "      <td>Insatisfação com o produto</td>\n",
       "    </tr>\n",
       "  </tbody>\n",
       "</table>\n",
       "</div>"
      ],
      "text/plain": [
       "      num_compra  cliente  vendedor tipo_de_mercadoria        filial  \\\n",
       "8922    26164184    66685  MARINETE     CADEIRA DE BAR  Loja Autazes   \n",
       "\n",
       "             data_compra  valor_compra  imposto cpf_na_nota produto_devolvido  \\\n",
       "8922 2021-01-29 16:51:09         5.556  0.25002         Sim               Sim   \n",
       "\n",
       "                motivo_devolucao  \n",
       "8922  Insatisfação com o produto  "
      ]
     },
     "execution_count": 34,
     "metadata": {},
     "output_type": "execute_result"
    }
   ],
   "source": [
    "df1.sample()"
   ]
  },
  {
   "cell_type": "code",
   "execution_count": 35,
   "id": "0aec7c95",
   "metadata": {},
   "outputs": [],
   "source": [
    "df1.to_csv(\"../Datasets/dataset_questao1.csv\", encoding=\"utf-8\", index=False)"
   ]
  },
  {
   "cell_type": "markdown",
   "id": "cf3dbd5e",
   "metadata": {},
   "source": [
    "- Questao 2"
   ]
  },
  {
   "cell_type": "code",
   "execution_count": 36,
   "id": "025f6bb6",
   "metadata": {},
   "outputs": [
    {
     "data": {
      "text/html": [
       "<div>\n",
       "<style scoped>\n",
       "    .dataframe tbody tr th:only-of-type {\n",
       "        vertical-align: middle;\n",
       "    }\n",
       "\n",
       "    .dataframe tbody tr th {\n",
       "        vertical-align: top;\n",
       "    }\n",
       "\n",
       "    .dataframe thead th {\n",
       "        text-align: right;\n",
       "    }\n",
       "</style>\n",
       "<table border=\"1\" class=\"dataframe\">\n",
       "  <thead>\n",
       "    <tr style=\"text-align: right;\">\n",
       "      <th></th>\n",
       "      <th>cod_loja</th>\n",
       "      <th>data_compra</th>\n",
       "      <th>inicio</th>\n",
       "      <th>termino</th>\n",
       "      <th>loja</th>\n",
       "      <th>cod_produto</th>\n",
       "      <th>produto</th>\n",
       "      <th>ean</th>\n",
       "      <th>valor_unitario_sem_imposto</th>\n",
       "      <th>quantidade</th>\n",
       "      <th>valor_total</th>\n",
       "      <th>impostos</th>\n",
       "      <th>dinheiro_de_volta</th>\n",
       "    </tr>\n",
       "  </thead>\n",
       "  <tbody>\n",
       "    <tr>\n",
       "      <th>196</th>\n",
       "      <td>410</td>\n",
       "      <td>2019-07-08 12:09:50</td>\n",
       "      <td>2019-07-05</td>\n",
       "      <td>2019-07-20</td>\n",
       "      <td>Unidade Manaus 1</td>\n",
       "      <td>49618556000135</td>\n",
       "      <td>Smart Pro</td>\n",
       "      <td>190199383180</td>\n",
       "      <td>3000</td>\n",
       "      <td>1</td>\n",
       "      <td>3331.29</td>\n",
       "      <td>376.29</td>\n",
       "      <td>45.0</td>\n",
       "    </tr>\n",
       "  </tbody>\n",
       "</table>\n",
       "</div>"
      ],
      "text/plain": [
       "     cod_loja         data_compra     inicio    termino              loja  \\\n",
       "196       410 2019-07-08 12:09:50 2019-07-05 2019-07-20  Unidade Manaus 1   \n",
       "\n",
       "        cod_produto    produto           ean  valor_unitario_sem_imposto  \\\n",
       "196  49618556000135  Smart Pro  190199383180                        3000   \n",
       "\n",
       "     quantidade  valor_total  impostos  dinheiro_de_volta  \n",
       "196           1      3331.29    376.29               45.0  "
      ]
     },
     "execution_count": 36,
     "metadata": {},
     "output_type": "execute_result"
    }
   ],
   "source": [
    "df2.sample()"
   ]
  },
  {
   "cell_type": "code",
   "execution_count": 37,
   "id": "bb5ce4ac",
   "metadata": {},
   "outputs": [],
   "source": [
    "df2.to_csv(\"../Datasets/dataset_questao2.csv\", encoding=\"utf-8\", index=False)"
   ]
  }
 ],
 "metadata": {
  "kernelspec": {
   "display_name": "Python 3",
   "language": "python",
   "name": "python3"
  },
  "language_info": {
   "codemirror_mode": {
    "name": "ipython",
    "version": 3
   },
   "file_extension": ".py",
   "mimetype": "text/x-python",
   "name": "python",
   "nbconvert_exporter": "python",
   "pygments_lexer": "ipython3",
   "version": "3.8.8"
  }
 },
 "nbformat": 4,
 "nbformat_minor": 5
}
