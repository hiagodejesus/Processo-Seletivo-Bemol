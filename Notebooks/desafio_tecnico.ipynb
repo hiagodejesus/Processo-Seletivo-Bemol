{
 "cells": [
  {
   "cell_type": "markdown",
   "id": "a33e3f15",
   "metadata": {
    "id": "a33e3f15"
   },
   "source": [
    "# Desafio Técnico"
   ]
  },
  {
   "cell_type": "markdown",
   "id": "f8300d96",
   "metadata": {
    "id": "f8300d96"
   },
   "source": [
    "Crie relatórios com gráficos e tabelas (dataset de saída) que mostrem a unidade que mais vendeu, % de CPF na nota, % de imposto, % de devoluções (Questão 1), quanto o dinheiro de volta rendeu em desconto (Questão 2), venda por vendedor (Questão 1) e produto mais vendido."
   ]
  },
  {
   "cell_type": "markdown",
   "id": "a29b271a",
   "metadata": {
    "id": "a29b271a"
   },
   "source": [
    "### Bibliotecas"
   ]
  },
  {
   "cell_type": "code",
   "execution_count": 1,
   "id": "7743c2c7",
   "metadata": {
    "id": "7743c2c7"
   },
   "outputs": [],
   "source": [
    "import re\n",
    "import numpy as np\n",
    "import pandas as pd\n",
    "import seaborn as sns\n",
    "\n",
    "from datetime import datetime\n",
    "from matplotlib import pyplot as plt"
   ]
  },
  {
   "cell_type": "markdown",
   "id": "98744796",
   "metadata": {
    "id": "98744796"
   },
   "source": [
    "### Localizando as bases de dados"
   ]
  },
  {
   "cell_type": "code",
   "execution_count": 2,
   "id": "2ec05f6b",
   "metadata": {
    "colab": {
     "base_uri": "https://localhost:8080/"
    },
    "executionInfo": {
     "elapsed": 14,
     "status": "ok",
     "timestamp": 1630335654507,
     "user": {
      "displayName": "Hiago Oliveira de Jesus",
      "photoUrl": "https://lh3.googleusercontent.com/a-/AOh14GjE8zRojKMt6ESrCGK-2de-rxF3vvqaV_vXU2Jmsw=s64",
      "userId": "04828748390226314927"
     },
     "user_tz": 240
    },
    "id": "2ec05f6b",
    "outputId": "cd21c2aa-d85f-4ca9-82d9-29d0f9fa8074",
    "scrolled": true
   },
   "outputs": [
    {
     "name": "stdout",
     "output_type": "stream",
     "text": [
      " O volume na unidade C ‚ Windows\n",
      " O N£mero de S‚rie do Volume ‚ 8ED9-8750\n",
      "\n",
      " Pasta de C:\\Github\\Desafio Bemol\\Datasets\n",
      "\n",
      "29/08/2021  16:16         1.848.369 dataset_questao1.csv\n",
      "29/08/2021  16:16           136.819 dataset_questao2.csv\n",
      "               2 arquivo(s)      1.985.188 bytes\n",
      "               0 pasta(s)   61.643.390.976 bytes dispon¡veis\n"
     ]
    }
   ],
   "source": [
    "ls \"../Datasets/*.csv\""
   ]
  },
  {
   "cell_type": "markdown",
   "id": "22ab71a3",
   "metadata": {
    "id": "22ab71a3"
   },
   "source": [
    "### Leitura das bases de dados"
   ]
  },
  {
   "cell_type": "code",
   "execution_count": 3,
   "id": "9912493e",
   "metadata": {
    "id": "9912493e"
   },
   "outputs": [],
   "source": [
    "df1 = pd.read_csv(\"../Datasets/dataset_questao1.csv\") \n",
    "df2 = pd.read_csv(\"../Datasets/dataset_questao2.csv\") "
   ]
  },
  {
   "cell_type": "markdown",
   "id": "45fc37ee",
   "metadata": {
    "id": "45fc37ee"
   },
   "source": [
    "* Funções de formatação"
   ]
  },
  {
   "cell_type": "code",
   "execution_count": 4,
   "id": "7e11b6d1",
   "metadata": {
    "id": "7e11b6d1"
   },
   "outputs": [],
   "source": [
    "moeda = lambda numero : '{:,.2f}'.format(numero).replace(\".\",\"*\").replace(\",\",\".\").replace(\"*\",\",\") \n",
    "casas = lambda numero : '{:,}'.format(numero).replace(\",\",\".\") "
   ]
  },
  {
   "cell_type": "markdown",
   "id": "7a0bd969",
   "metadata": {
    "id": "7a0bd969"
   },
   "source": [
    "# Iniciando o relatório"
   ]
  },
  {
   "cell_type": "markdown",
   "id": "ce3dc17f",
   "metadata": {
    "id": "ce3dc17f"
   },
   "source": [
    "## Dataset Questão 1"
   ]
  },
  {
   "cell_type": "code",
   "execution_count": 5,
   "id": "0dc0ee8c",
   "metadata": {
    "colab": {
     "base_uri": "https://localhost:8080/",
     "height": 117
    },
    "executionInfo": {
     "elapsed": 410,
     "status": "ok",
     "timestamp": 1630335662659,
     "user": {
      "displayName": "Hiago Oliveira de Jesus",
      "photoUrl": "https://lh3.googleusercontent.com/a-/AOh14GjE8zRojKMt6ESrCGK-2de-rxF3vvqaV_vXU2Jmsw=s64",
      "userId": "04828748390226314927"
     },
     "user_tz": 240
    },
    "id": "0dc0ee8c",
    "outputId": "98ee94dd-902d-4425-d156-9ab634adf814"
   },
   "outputs": [
    {
     "data": {
      "text/html": [
       "<div>\n",
       "<style scoped>\n",
       "    .dataframe tbody tr th:only-of-type {\n",
       "        vertical-align: middle;\n",
       "    }\n",
       "\n",
       "    .dataframe tbody tr th {\n",
       "        vertical-align: top;\n",
       "    }\n",
       "\n",
       "    .dataframe thead th {\n",
       "        text-align: right;\n",
       "    }\n",
       "</style>\n",
       "<table border=\"1\" class=\"dataframe\">\n",
       "  <thead>\n",
       "    <tr style=\"text-align: right;\">\n",
       "      <th></th>\n",
       "      <th>num_compra</th>\n",
       "      <th>cliente</th>\n",
       "      <th>vendedor</th>\n",
       "      <th>tipo_de_mercadoria</th>\n",
       "      <th>filial</th>\n",
       "      <th>data_compra</th>\n",
       "      <th>valor_compra</th>\n",
       "      <th>imposto</th>\n",
       "      <th>cpf_na_nota</th>\n",
       "      <th>produto_devolvido</th>\n",
       "      <th>motivo_devolucao</th>\n",
       "    </tr>\n",
       "  </thead>\n",
       "  <tbody>\n",
       "    <tr>\n",
       "      <th>6561</th>\n",
       "      <td>25275954</td>\n",
       "      <td>3560</td>\n",
       "      <td>LUIZ</td>\n",
       "      <td>ACESSÓRIO P/ TABLET</td>\n",
       "      <td>Loja Lábrea</td>\n",
       "      <td>2021-01-13 12:39:19.000</td>\n",
       "      <td>11.96</td>\n",
       "      <td>0.5382</td>\n",
       "      <td>Sim</td>\n",
       "      <td>Sim</td>\n",
       "      <td>Insatisfação com o atendimento</td>\n",
       "    </tr>\n",
       "  </tbody>\n",
       "</table>\n",
       "</div>"
      ],
      "text/plain": [
       "      num_compra  cliente vendedor   tipo_de_mercadoria       filial  \\\n",
       "6561    25275954     3560     LUIZ  ACESSÓRIO P/ TABLET  Loja Lábrea   \n",
       "\n",
       "                  data_compra  valor_compra  imposto cpf_na_nota  \\\n",
       "6561  2021-01-13 12:39:19.000         11.96   0.5382         Sim   \n",
       "\n",
       "     produto_devolvido                motivo_devolucao  \n",
       "6561               Sim  Insatisfação com o atendimento  "
      ]
     },
     "execution_count": 5,
     "metadata": {},
     "output_type": "execute_result"
    }
   ],
   "source": [
    "df1.sample()"
   ]
  },
  {
   "cell_type": "markdown",
   "id": "20dbe618",
   "metadata": {
    "id": "20dbe618"
   },
   "source": [
    "### 1. Crie relatórios com gráficos e tabelas (dataset de saída) que mostrem a unidade que mais vendeu"
   ]
  },
  {
   "cell_type": "code",
   "execution_count": 6,
   "id": "a8cb9d17",
   "metadata": {
    "id": "a8cb9d17"
   },
   "outputs": [],
   "source": [
    "unidades = df1.filial.unique()\n",
    "vendas = np.array([])\n",
    "\n",
    "for loja in unidades:\n",
    "    soma = df1[df1.filial == loja].valor_compra.sum()\n",
    "    vendas = np.append(vendas, soma) "
   ]
  },
  {
   "cell_type": "code",
   "execution_count": 7,
   "id": "498d68ee",
   "metadata": {
    "id": "498d68ee"
   },
   "outputs": [],
   "source": [
    "unidades = pd.DataFrame.from_records(unidades.reshape((5,1)))\n",
    "vendas =  pd.DataFrame.from_records(vendas.reshape((5,1)))"
   ]
  },
  {
   "cell_type": "code",
   "execution_count": 8,
   "id": "e1c0bd0b",
   "metadata": {
    "id": "e1c0bd0b",
    "scrolled": true
   },
   "outputs": [],
   "source": [
    "df = pd.concat([unidades, vendas], axis=1)\n",
    "df.columns = [\"Unidades\", \"Vendas\"]\n",
    "tabela1 = df.sort_values(by=[\"Vendas\"], ascending=False)\n",
    "tabela1.to_excel(\"../Datasets/Desafio/1_unidades_com_mais_vendas.xlsx\", index=False)"
   ]
  },
  {
   "cell_type": "markdown",
   "id": "87229296",
   "metadata": {
    "id": "87229296"
   },
   "source": [
    "### 1.1 Tabela da unidade que mais vendeu"
   ]
  },
  {
   "cell_type": "code",
   "execution_count": 9,
   "id": "f4d9bbad",
   "metadata": {
    "colab": {
     "base_uri": "https://localhost:8080/",
     "height": 80
    },
    "executionInfo": {
     "elapsed": 28,
     "status": "ok",
     "timestamp": 1630335663262,
     "user": {
      "displayName": "Hiago Oliveira de Jesus",
      "photoUrl": "https://lh3.googleusercontent.com/a-/AOh14GjE8zRojKMt6ESrCGK-2de-rxF3vvqaV_vXU2Jmsw=s64",
      "userId": "04828748390226314927"
     },
     "user_tz": 240
    },
    "id": "f4d9bbad",
    "outputId": "7533d854-4e5f-43ef-daec-368872c6491a"
   },
   "outputs": [
    {
     "data": {
      "text/html": [
       "<div>\n",
       "<style scoped>\n",
       "    .dataframe tbody tr th:only-of-type {\n",
       "        vertical-align: middle;\n",
       "    }\n",
       "\n",
       "    .dataframe tbody tr th {\n",
       "        vertical-align: top;\n",
       "    }\n",
       "\n",
       "    .dataframe thead th {\n",
       "        text-align: right;\n",
       "    }\n",
       "</style>\n",
       "<table border=\"1\" class=\"dataframe\">\n",
       "  <thead>\n",
       "    <tr style=\"text-align: right;\">\n",
       "      <th></th>\n",
       "      <th>Unidades</th>\n",
       "      <th>Vendas</th>\n",
       "    </tr>\n",
       "  </thead>\n",
       "  <tbody>\n",
       "    <tr>\n",
       "      <th>1</th>\n",
       "      <td>Loja Manicoré</td>\n",
       "      <td>794482.76</td>\n",
       "    </tr>\n",
       "  </tbody>\n",
       "</table>\n",
       "</div>"
      ],
      "text/plain": [
       "        Unidades     Vendas\n",
       "1  Loja Manicoré  794482.76"
      ]
     },
     "execution_count": 9,
     "metadata": {},
     "output_type": "execute_result"
    }
   ],
   "source": [
    "tabela1.iloc[:1,:]"
   ]
  },
  {
   "cell_type": "markdown",
   "id": "e1709536",
   "metadata": {
    "id": "e1709536"
   },
   "source": [
    "### 1.2 Gráfico de barras horizontais das vendas das unidades"
   ]
  },
  {
   "cell_type": "code",
   "execution_count": 10,
   "id": "1ac1c6fa",
   "metadata": {
    "colab": {
     "base_uri": "https://localhost:8080/",
     "height": 472
    },
    "executionInfo": {
     "elapsed": 597,
     "status": "ok",
     "timestamp": 1630335663837,
     "user": {
      "displayName": "Hiago Oliveira de Jesus",
      "photoUrl": "https://lh3.googleusercontent.com/a-/AOh14GjE8zRojKMt6ESrCGK-2de-rxF3vvqaV_vXU2Jmsw=s64",
      "userId": "04828748390226314927"
     },
     "user_tz": 240
    },
    "id": "1ac1c6fa",
    "outputId": "3970cc0c-3955-4aa3-de21-6038c311ab5f"
   },
   "outputs": [
    {
     "data": {
      "image/png": "[encoded data removed]",
      "text/plain": [
       "<Figure size 432x288 with 1 Axes>"
      ]
     },
     "metadata": {
      "needs_background": "light"
     },
     "output_type": "display_data"
    }
   ],
   "source": [
    "ax = sns.barplot(x = \"Vendas\", y = \"Unidades\", data = tabela1)\n",
    "\n",
    "plt.title('Vendas por Unidade')\n",
    "plt.ylabel('Unidades')\n",
    "plt.xlabel('Total de vendas')\n",
    " \n",
    "totais = [i.get_width() for i in ax.patches]\n",
    "\n",
    "limite = tabela1[\"Vendas\"].min() - 10000\n",
    "    \n",
    "for i, j in zip(ax.patches, totais):\n",
    "    ax.text(i.get_width() - limite, i.get_y()+.45, str(moeda(j)), fontsize=10, color='white')\n",
    "\n",
    "plt.savefig(\"../Imagens/Desafio/1_unidades_com_mais_vendas.png\", bbox_inches='tight', dpi=100)\n",
    "plt.show()"
   ]
  },
  {
   "cell_type": "markdown",
   "id": "e553a882",
   "metadata": {
    "id": "e553a882"
   },
   "source": [
    "### 2. Porcentagem de CPF na nota"
   ]
  },
  {
   "cell_type": "code",
   "execution_count": 11,
   "id": "3f9cd364",
   "metadata": {
    "id": "3f9cd364"
   },
   "outputs": [],
   "source": [
    "total = df1.cpf_na_nota.count()\n",
    "\n",
    "porcentagens = {\"Sim\": None, \"Não\": None}\n",
    "\n",
    "for criterio in [\"Sim\", \"Não\"]:\n",
    "    condicao = df1.cpf_na_nota == criterio\n",
    "    soma = df1[condicao].cpf_na_nota.count()\n",
    "    \n",
    "    porcentagens[criterio] = ((soma * 100) / total)\n",
    "\n",
    "tabela2 = pd.DataFrame.from_records([porcentagens], index=[\"Porcentagem\"]).T"
   ]
  },
  {
   "cell_type": "markdown",
   "id": "ab6de6e7",
   "metadata": {
    "id": "ab6de6e7"
   },
   "source": [
    "### 2.1 Tabela da porcentagem de CPF na nota"
   ]
  },
  {
   "cell_type": "code",
   "execution_count": 12,
   "id": "d17fb529",
   "metadata": {
    "colab": {
     "base_uri": "https://localhost:8080/",
     "height": 111
    },
    "executionInfo": {
     "elapsed": 18,
     "status": "ok",
     "timestamp": 1630335663840,
     "user": {
      "displayName": "Hiago Oliveira de Jesus",
      "photoUrl": "https://lh3.googleusercontent.com/a-/AOh14GjE8zRojKMt6ESrCGK-2de-rxF3vvqaV_vXU2Jmsw=s64",
      "userId": "04828748390226314927"
     },
     "user_tz": 240
    },
    "id": "d17fb529",
    "outputId": "ffa6c34f-65a4-477c-bfea-26a7137d7250",
    "scrolled": true
   },
   "outputs": [
    {
     "data": {
      "text/html": [
       "<div>\n",
       "<style scoped>\n",
       "    .dataframe tbody tr th:only-of-type {\n",
       "        vertical-align: middle;\n",
       "    }\n",
       "\n",
       "    .dataframe tbody tr th {\n",
       "        vertical-align: top;\n",
       "    }\n",
       "\n",
       "    .dataframe thead th {\n",
       "        text-align: right;\n",
       "    }\n",
       "</style>\n",
       "<table border=\"1\" class=\"dataframe\">\n",
       "  <thead>\n",
       "    <tr style=\"text-align: right;\">\n",
       "      <th></th>\n",
       "      <th>Porcentagem</th>\n",
       "    </tr>\n",
       "  </thead>\n",
       "  <tbody>\n",
       "    <tr>\n",
       "      <th>Sim</th>\n",
       "      <td>85.811054</td>\n",
       "    </tr>\n",
       "    <tr>\n",
       "      <th>Não</th>\n",
       "      <td>14.188946</td>\n",
       "    </tr>\n",
       "  </tbody>\n",
       "</table>\n",
       "</div>"
      ],
      "text/plain": [
       "     Porcentagem\n",
       "Sim    85.811054\n",
       "Não    14.188946"
      ]
     },
     "execution_count": 12,
     "metadata": {},
     "output_type": "execute_result"
    }
   ],
   "source": [
    "tabela2.to_excel(\"../Datasets/Desafio/2_porcentagem_cpf_na_nota.xlsx\")\n",
    "tabela2"
   ]
  },
  {
   "cell_type": "markdown",
   "id": "99af1def",
   "metadata": {
    "id": "99af1def"
   },
   "source": [
    "### 2.2 Gráfico da porcentagem de CPF na nota"
   ]
  },
  {
   "cell_type": "code",
   "execution_count": 13,
   "id": "6b0fa1a8",
   "metadata": {
    "colab": {
     "base_uri": "https://localhost:8080/",
     "height": 428
    },
    "executionInfo": {
     "elapsed": 16,
     "status": "ok",
     "timestamp": 1630335663841,
     "user": {
      "displayName": "Hiago Oliveira de Jesus",
      "photoUrl": "https://lh3.googleusercontent.com/a-/AOh14GjE8zRojKMt6ESrCGK-2de-rxF3vvqaV_vXU2Jmsw=s64",
      "userId": "04828748390226314927"
     },
     "user_tz": 240
    },
    "id": "6b0fa1a8",
    "outputId": "7b8e4ade-7863-4838-dbd6-7e0fd0630b5c"
   },
   "outputs": [
    {
     "data": {
      "image/png": "[encoded data removed]",
      "text/plain": [
       "<Figure size 432x288 with 1 Axes>"
      ]
     },
     "metadata": {},
     "output_type": "display_data"
    }
   ],
   "source": [
    "sizes = [tabela2.values[0][0], tabela2.values[1][0]]\n",
    "\n",
    "plt.pie(sizes, labels=[\"Sim\", \"Não\"], autopct='%1.2f%%', shadow=False, startangle=90, colors=['lightskyblue', 'gold'])\n",
    "\n",
    "plt.title(\"% CPF NA NOTA\")\n",
    "plt.savefig(\"../Imagens/Desafio/2_porcentagem_cpf_na_nota.png\", bbox_inches='tight', dpi=100)\n",
    "plt.show()"
   ]
  },
  {
   "cell_type": "markdown",
   "id": "1d6a07c5",
   "metadata": {
    "id": "1d6a07c5"
   },
   "source": [
    "### 2.3 Gráficos de porcentagem de CPF na nota por unidade"
   ]
  },
  {
   "cell_type": "code",
   "execution_count": 14,
   "id": "7d683907",
   "metadata": {
    "colab": {
     "base_uri": "https://localhost:8080/",
     "height": 1000
    },
    "executionInfo": {
     "elapsed": 1038,
     "status": "ok",
     "timestamp": 1630335664864,
     "user": {
      "displayName": "Hiago Oliveira de Jesus",
      "photoUrl": "https://lh3.googleusercontent.com/a-/AOh14GjE8zRojKMt6ESrCGK-2de-rxF3vvqaV_vXU2Jmsw=s64",
      "userId": "04828748390226314927"
     },
     "user_tz": 240
    },
    "id": "7d683907",
    "outputId": "4c97b680-fb17-4425-c691-887751d5db11"
   },
   "outputs": [
    {
     "data": {
      "image/png": "[encoded data removed]",
      "text/plain": [
       "<Figure size 432x288 with 1 Axes>"
      ]
     },
     "metadata": {},
     "output_type": "display_data"
    },
    {
     "data": {
      "image/png": "[encoded data removed]",
      "text/plain": [
       "<Figure size 432x288 with 1 Axes>"
      ]
     },
     "metadata": {},
     "output_type": "display_data"
    },
    {
     "data": {
      "image/png": "[encoded data removed]",
      "text/plain": [
       "<Figure size 432x288 with 1 Axes>"
      ]
     },
     "metadata": {},
     "output_type": "display_data"
    },
    {
     "data": {
      "image/png": "[encoded data removed]",
      "text/plain": [
       "<Figure size 432x288 with 1 Axes>"
      ]
     },
     "metadata": {},
     "output_type": "display_data"
    },
    {
     "data": {
      "image/png": "[encoded data removed]",
      "text/plain": [
       "<Figure size 432x288 with 1 Axes>"
      ]
     },
     "metadata": {},
     "output_type": "display_data"
    }
   ],
   "source": [
    "porcentagens_cpf_sim = np.array([])\n",
    "porcentagens_cpf_nao = np.array([])\n",
    "\n",
    "filiais = df1.filial.unique()\n",
    "\n",
    "sim = df1.cpf_na_nota == \"Sim\"\n",
    "nao = df1.cpf_na_nota == \"Não\"\n",
    "\n",
    "for loja in filiais:\n",
    "\n",
    "    condicao = df1.filial == loja\n",
    "\n",
    "    qtde_sim = df1[condicao & sim].cpf_na_nota.count()\n",
    "    qtde_nao = df1[condicao & nao].cpf_na_nota.count()\n",
    "    qtde_cpf_nota = (qtde_sim + qtde_nao)\n",
    "    \n",
    "    porcentagem_sim = ((qtde_sim * 100) / qtde_cpf_nota)\n",
    "    porcentagem_nao = ((qtde_nao * 100) / qtde_cpf_nota)\n",
    "    \n",
    "    porcentagens_cpf_sim = np.append(porcentagens_cpf_sim, porcentagem_sim)\n",
    "    porcentagens_cpf_nao = np.append(porcentagens_cpf_nao, porcentagem_nao)\n",
    "    \n",
    "    labels = [\"Sim\", \"Não\"]\n",
    "    sizes = [porcentagem_sim, porcentagem_nao]\n",
    "\n",
    "    fig1, ax1 = plt.subplots()\n",
    "\n",
    "    ax1.pie(sizes, labels=labels, autopct='%1.2f%%', shadow=False, startangle=90)\n",
    "\n",
    "    plt.title(loja+\" - % CPF NA NOTA\")\n",
    "    plt.savefig(f\"../Imagens/Desafio/2.1_{loja}_porcentagem_cpf_na_nota.png\", bbox_inches='tight', dpi=100)\n",
    "    plt.show()\n",
    "\n",
    "tabela3 = pd.DataFrame([filiais, porcentagens_cpf_sim, porcentagens_cpf_nao], index=[\"Unidades\", \"CPF_SIM\", \"CPF_NÃO\"]).T"
   ]
  },
  {
   "cell_type": "markdown",
   "id": "e50750d7",
   "metadata": {
    "id": "e50750d7"
   },
   "source": [
    "### 2.4 Tabela de porcentagem de CPF na nota por unidade"
   ]
  },
  {
   "cell_type": "code",
   "execution_count": 15,
   "id": "1386c4ba",
   "metadata": {
    "colab": {
     "base_uri": "https://localhost:8080/",
     "height": 204
    },
    "executionInfo": {
     "elapsed": 28,
     "status": "ok",
     "timestamp": 1630335664866,
     "user": {
      "displayName": "Hiago Oliveira de Jesus",
      "photoUrl": "https://lh3.googleusercontent.com/a-/AOh14GjE8zRojKMt6ESrCGK-2de-rxF3vvqaV_vXU2Jmsw=s64",
      "userId": "04828748390226314927"
     },
     "user_tz": 240
    },
    "id": "1386c4ba",
    "outputId": "1cee82e2-adaf-4630-8998-0b6ffb8823cc"
   },
   "outputs": [
    {
     "data": {
      "text/html": [
       "<div>\n",
       "<style scoped>\n",
       "    .dataframe tbody tr th:only-of-type {\n",
       "        vertical-align: middle;\n",
       "    }\n",
       "\n",
       "    .dataframe tbody tr th {\n",
       "        vertical-align: top;\n",
       "    }\n",
       "\n",
       "    .dataframe thead th {\n",
       "        text-align: right;\n",
       "    }\n",
       "</style>\n",
       "<table border=\"1\" class=\"dataframe\">\n",
       "  <thead>\n",
       "    <tr style=\"text-align: right;\">\n",
       "      <th></th>\n",
       "      <th>Unidades</th>\n",
       "      <th>CPF_SIM</th>\n",
       "      <th>CPF_NÃO</th>\n",
       "    </tr>\n",
       "  </thead>\n",
       "  <tbody>\n",
       "    <tr>\n",
       "      <th>0</th>\n",
       "      <td>Loja Autazes</td>\n",
       "      <td>92.37007</td>\n",
       "      <td>7.62993</td>\n",
       "    </tr>\n",
       "    <tr>\n",
       "      <th>1</th>\n",
       "      <td>Loja Manicoré</td>\n",
       "      <td>82.668299</td>\n",
       "      <td>17.331701</td>\n",
       "    </tr>\n",
       "    <tr>\n",
       "      <th>2</th>\n",
       "      <td>Loja Lábrea</td>\n",
       "      <td>88.82613</td>\n",
       "      <td>11.17387</td>\n",
       "    </tr>\n",
       "    <tr>\n",
       "      <th>3</th>\n",
       "      <td>Loja Itacoatiara</td>\n",
       "      <td>95.38715</td>\n",
       "      <td>4.61285</td>\n",
       "    </tr>\n",
       "    <tr>\n",
       "      <th>4</th>\n",
       "      <td>Loja Manacapuru</td>\n",
       "      <td>69.715561</td>\n",
       "      <td>30.284439</td>\n",
       "    </tr>\n",
       "  </tbody>\n",
       "</table>\n",
       "</div>"
      ],
      "text/plain": [
       "           Unidades    CPF_SIM    CPF_NÃO\n",
       "0      Loja Autazes   92.37007    7.62993\n",
       "1     Loja Manicoré  82.668299  17.331701\n",
       "2       Loja Lábrea   88.82613   11.17387\n",
       "3  Loja Itacoatiara   95.38715    4.61285\n",
       "4   Loja Manacapuru  69.715561  30.284439"
      ]
     },
     "execution_count": 15,
     "metadata": {},
     "output_type": "execute_result"
    }
   ],
   "source": [
    "tabela3.to_excel(\"../Datasets/Desafio/2.1_porcentagem_cpf_na_nota_por_unidade.xlsx\", index=False)\n",
    "tabela3"
   ]
  },
  {
   "cell_type": "markdown",
   "id": "dee9097e",
   "metadata": {
    "id": "dee9097e"
   },
   "source": [
    "### 3. Porcentagem de imposto"
   ]
  },
  {
   "cell_type": "code",
   "execution_count": 16,
   "id": "b60ca0fa",
   "metadata": {
    "id": "b60ca0fa"
   },
   "outputs": [],
   "source": [
    "total_imposto = df1.imposto.sum()\n",
    "porcentagem = np.array([])\n",
    "\n",
    "for loja in filiais:\n",
    "    condicao = df1.filial == loja\n",
    "    imposto_loja = df1[condicao].imposto.sum()\n",
    "    porcentagem_imposto = ((imposto_loja * 100) / total_imposto)\n",
    "    \n",
    "    porcentagem = np.append(porcentagem, porcentagem_imposto)\n",
    "\n",
    "tabela4 = pd.DataFrame([filiais, porcentagem], index=[\"Unidades\", \"Porcentagem_Imposto\"]).T\n",
    "tabela4 = tabela4.sort_values(by=[\"Porcentagem_Imposto\"], ascending=False)"
   ]
  },
  {
   "cell_type": "markdown",
   "id": "96c5f506",
   "metadata": {
    "id": "96c5f506"
   },
   "source": [
    "### 3.1 Tabela de porcentagem de imposto por unidade"
   ]
  },
  {
   "cell_type": "code",
   "execution_count": 17,
   "id": "8a51c7cc",
   "metadata": {
    "colab": {
     "base_uri": "https://localhost:8080/",
     "height": 204
    },
    "executionInfo": {
     "elapsed": 23,
     "status": "ok",
     "timestamp": 1630335664869,
     "user": {
      "displayName": "Hiago Oliveira de Jesus",
      "photoUrl": "https://lh3.googleusercontent.com/a-/AOh14GjE8zRojKMt6ESrCGK-2de-rxF3vvqaV_vXU2Jmsw=s64",
      "userId": "04828748390226314927"
     },
     "user_tz": 240
    },
    "id": "8a51c7cc",
    "outputId": "18050f7a-2fa3-48bf-f88d-9ab3bf705e35"
   },
   "outputs": [
    {
     "data": {
      "text/html": [
       "<div>\n",
       "<style scoped>\n",
       "    .dataframe tbody tr th:only-of-type {\n",
       "        vertical-align: middle;\n",
       "    }\n",
       "\n",
       "    .dataframe tbody tr th {\n",
       "        vertical-align: top;\n",
       "    }\n",
       "\n",
       "    .dataframe thead th {\n",
       "        text-align: right;\n",
       "    }\n",
       "</style>\n",
       "<table border=\"1\" class=\"dataframe\">\n",
       "  <thead>\n",
       "    <tr style=\"text-align: right;\">\n",
       "      <th></th>\n",
       "      <th>Unidades</th>\n",
       "      <th>Porcentagem_Imposto</th>\n",
       "    </tr>\n",
       "  </thead>\n",
       "  <tbody>\n",
       "    <tr>\n",
       "      <th>1</th>\n",
       "      <td>Loja Manicoré</td>\n",
       "      <td>43.365445</td>\n",
       "    </tr>\n",
       "    <tr>\n",
       "      <th>2</th>\n",
       "      <td>Loja Lábrea</td>\n",
       "      <td>24.350554</td>\n",
       "    </tr>\n",
       "    <tr>\n",
       "      <th>3</th>\n",
       "      <td>Loja Itacoatiara</td>\n",
       "      <td>12.808851</td>\n",
       "    </tr>\n",
       "    <tr>\n",
       "      <th>0</th>\n",
       "      <td>Loja Autazes</td>\n",
       "      <td>10.933986</td>\n",
       "    </tr>\n",
       "    <tr>\n",
       "      <th>4</th>\n",
       "      <td>Loja Manacapuru</td>\n",
       "      <td>8.541164</td>\n",
       "    </tr>\n",
       "  </tbody>\n",
       "</table>\n",
       "</div>"
      ],
      "text/plain": [
       "           Unidades Porcentagem_Imposto\n",
       "1     Loja Manicoré           43.365445\n",
       "2       Loja Lábrea           24.350554\n",
       "3  Loja Itacoatiara           12.808851\n",
       "0      Loja Autazes           10.933986\n",
       "4   Loja Manacapuru            8.541164"
      ]
     },
     "execution_count": 17,
     "metadata": {},
     "output_type": "execute_result"
    }
   ],
   "source": [
    "tabela4.to_excel(\"../Datasets/Desafio/3_porcentagem_de_imposto.xlsx\", index=False)\n",
    "tabela4"
   ]
  },
  {
   "cell_type": "markdown",
   "id": "c3b04c2e",
   "metadata": {
    "id": "c3b04c2e"
   },
   "source": [
    "### 3.3 Gráfico de porcentagem de imposto por unidade"
   ]
  },
  {
   "cell_type": "code",
   "execution_count": 18,
   "id": "a43ceb7d",
   "metadata": {
    "colab": {
     "base_uri": "https://localhost:8080/",
     "height": 472
    },
    "executionInfo": {
     "elapsed": 620,
     "status": "ok",
     "timestamp": 1630335665469,
     "user": {
      "displayName": "Hiago Oliveira de Jesus",
      "photoUrl": "https://lh3.googleusercontent.com/a-/AOh14GjE8zRojKMt6ESrCGK-2de-rxF3vvqaV_vXU2Jmsw=s64",
      "userId": "04828748390226314927"
     },
     "user_tz": 240
    },
    "id": "a43ceb7d",
    "outputId": "a29df033-e6f7-4aee-b7e6-f70780e012b3"
   },
   "outputs": [
    {
     "data": {
      "image/png": "[encoded data removed]",
      "text/plain": [
       "<Figure size 432x288 with 1 Axes>"
      ]
     },
     "metadata": {
      "needs_background": "light"
     },
     "output_type": "display_data"
    }
   ],
   "source": [
    "ax = sns.barplot(x = \"Porcentagem_Imposto\", y = \"Unidades\", data = tabela4)\n",
    "\n",
    "plt.title('Porcentagem de imposto por unidade')\n",
    "plt.ylabel('Unidades')\n",
    "plt.xlabel('% de imposto')\n",
    " \n",
    "totais = [i.get_width() for i in ax.patches]\n",
    "\n",
    "for i, j in zip(ax.patches, totais):\n",
    "    ax.text(i.get_width() - 7, i.get_y()+.45, str(round(j,2))+\"%\", fontsize=12, color='white')\n",
    "\n",
    "plt.savefig(\"../Imagens/Desafio/3_porcentagem_imposto.png\", bbox_inches='tight', dpi=100)\n",
    "plt.show()"
   ]
  },
  {
   "cell_type": "markdown",
   "id": "f05ac5ec",
   "metadata": {
    "id": "f05ac5ec"
   },
   "source": [
    "### 4. Porcentagem de devoluções"
   ]
  },
  {
   "cell_type": "code",
   "execution_count": 19,
   "id": "9cb309cf",
   "metadata": {
    "id": "9cb309cf"
   },
   "outputs": [],
   "source": [
    "porcentagem_sim = np.array([])\n",
    "porcentagem_nao = np.array([])\n",
    "\n",
    "for loja in filiais:\n",
    "    condicao= df1.filial == loja\n",
    "    \n",
    "    devolucoes = df1[condicao].produto_devolvido.value_counts()\n",
    "    total = devolucoes.values.sum()\n",
    "    \n",
    "    nao = ((devolucoes.values[0] * 100) / total)\n",
    "    sim = ((devolucoes.values[1] * 100) / total)\n",
    "    \n",
    "    porcentagem_nao = np.append(porcentagem_nao, nao)\n",
    "    porcentagem_sim = np.append(porcentagem_sim, sim)\n",
    "\n",
    "tabela5 = pd.DataFrame([filiais, porcentagem_sim, porcentagem_nao], index=[\"Unidades\", \"SIM\", \"NÃO\"]).T"
   ]
  },
  {
   "cell_type": "markdown",
   "id": "1819aa31",
   "metadata": {
    "id": "1819aa31"
   },
   "source": [
    "### 4.1 Tabela de porcentagem de devoluções por unidade"
   ]
  },
  {
   "cell_type": "code",
   "execution_count": 20,
   "id": "7c7f216b",
   "metadata": {
    "colab": {
     "base_uri": "https://localhost:8080/",
     "height": 204
    },
    "executionInfo": {
     "elapsed": 20,
     "status": "ok",
     "timestamp": 1630335665472,
     "user": {
      "displayName": "Hiago Oliveira de Jesus",
      "photoUrl": "https://lh3.googleusercontent.com/a-/AOh14GjE8zRojKMt6ESrCGK-2de-rxF3vvqaV_vXU2Jmsw=s64",
      "userId": "04828748390226314927"
     },
     "user_tz": 240
    },
    "id": "7c7f216b",
    "outputId": "2a74f911-b7ed-4e40-c9d9-b03bcf2b51d7"
   },
   "outputs": [
    {
     "data": {
      "text/html": [
       "<div>\n",
       "<style scoped>\n",
       "    .dataframe tbody tr th:only-of-type {\n",
       "        vertical-align: middle;\n",
       "    }\n",
       "\n",
       "    .dataframe tbody tr th {\n",
       "        vertical-align: top;\n",
       "    }\n",
       "\n",
       "    .dataframe thead th {\n",
       "        text-align: right;\n",
       "    }\n",
       "</style>\n",
       "<table border=\"1\" class=\"dataframe\">\n",
       "  <thead>\n",
       "    <tr style=\"text-align: right;\">\n",
       "      <th></th>\n",
       "      <th>Unidades</th>\n",
       "      <th>SIM</th>\n",
       "      <th>NÃO</th>\n",
       "    </tr>\n",
       "  </thead>\n",
       "  <tbody>\n",
       "    <tr>\n",
       "      <th>0</th>\n",
       "      <td>Loja Autazes</td>\n",
       "      <td>49.576115</td>\n",
       "      <td>50.423885</td>\n",
       "    </tr>\n",
       "    <tr>\n",
       "      <th>1</th>\n",
       "      <td>Loja Manicoré</td>\n",
       "      <td>49.155447</td>\n",
       "      <td>50.844553</td>\n",
       "    </tr>\n",
       "    <tr>\n",
       "      <th>2</th>\n",
       "      <td>Loja Lábrea</td>\n",
       "      <td>49.729862</td>\n",
       "      <td>50.270138</td>\n",
       "    </tr>\n",
       "    <tr>\n",
       "      <th>3</th>\n",
       "      <td>Loja Itacoatiara</td>\n",
       "      <td>47.611203</td>\n",
       "      <td>52.388797</td>\n",
       "    </tr>\n",
       "    <tr>\n",
       "      <th>4</th>\n",
       "      <td>Loja Manacapuru</td>\n",
       "      <td>49.749024</td>\n",
       "      <td>50.250976</td>\n",
       "    </tr>\n",
       "  </tbody>\n",
       "</table>\n",
       "</div>"
      ],
      "text/plain": [
       "           Unidades        SIM        NÃO\n",
       "0      Loja Autazes  49.576115  50.423885\n",
       "1     Loja Manicoré  49.155447  50.844553\n",
       "2       Loja Lábrea  49.729862  50.270138\n",
       "3  Loja Itacoatiara  47.611203  52.388797\n",
       "4   Loja Manacapuru  49.749024  50.250976"
      ]
     },
     "execution_count": 20,
     "metadata": {},
     "output_type": "execute_result"
    }
   ],
   "source": [
    "tabela5.to_excel(\"../Datasets/Desafio/4_porcentagem_devolucoes.xlsx\")\n",
    "tabela5"
   ]
  },
  {
   "cell_type": "markdown",
   "id": "236e6a95",
   "metadata": {
    "id": "236e6a95"
   },
   "source": [
    "### 4.2 Gráfico de porcentagem de devoluções por unidade"
   ]
  },
  {
   "cell_type": "code",
   "execution_count": 21,
   "id": "a400319b",
   "metadata": {
    "colab": {
     "base_uri": "https://localhost:8080/",
     "height": 552
    },
    "executionInfo": {
     "elapsed": 867,
     "status": "ok",
     "timestamp": 1630335666322,
     "user": {
      "displayName": "Hiago Oliveira de Jesus",
      "photoUrl": "https://lh3.googleusercontent.com/a-/AOh14GjE8zRojKMt6ESrCGK-2de-rxF3vvqaV_vXU2Jmsw=s64",
      "userId": "04828748390226314927"
     },
     "user_tz": 240
    },
    "id": "a400319b",
    "outputId": "8c6fa074-98a3-4b3d-b98d-5f9b63d82e6b"
   },
   "outputs": [
    {
     "data": {
      "image/png": "[encoded data removed]",
      "text/plain": [
       "<Figure size 432x288 with 1 Axes>"
      ]
     },
     "metadata": {
      "needs_background": "light"
     },
     "output_type": "display_data"
    }
   ],
   "source": [
    "ax = tabela5.plot(x=\"Unidades\", y=[\"SIM\", \"NÃO\"], kind=\"bar\")\n",
    "\n",
    "plt.title('Porcentagem de devoluções por unidade')\n",
    "plt.xlabel('Unidades')\n",
    "plt.ylabel('% de devoluções')\n",
    "\n",
    "x_offset = -0.15\n",
    "y_offset = +0.5\n",
    "\n",
    "for p in ax.patches:\n",
    "    b = p.get_bbox()\n",
    "    val = \"{:.1f}\".format(abs(b.y1 + b.y0))        \n",
    "    ax.annotate(val, ((b.x0 + b.x1)/2 + x_offset, b.y1 + y_offset), fontsize=8)\n",
    "\n",
    "plt.legend(loc =\"center left\")\n",
    "plt.xticks(rotation=45)\n",
    "plt.savefig(\"../Imagens/Desafio/4_porcentagem_devolucoes.png\", bbox_inches='tight', dpi=100)\n",
    "plt.show()"
   ]
  },
  {
   "cell_type": "markdown",
   "id": "95bf993c",
   "metadata": {
    "id": "95bf993c"
   },
   "source": [
    "### 6. Venda por vendedor e produto mais vendido"
   ]
  },
  {
   "cell_type": "code",
   "execution_count": 22,
   "id": "s8ndAMCG9Mgz",
   "metadata": {
    "id": "s8ndAMCG9Mgz"
   },
   "outputs": [],
   "source": [
    "vendedores = df1.vendedor.unique()\n",
    "produtos = df1.tipo_de_mercadoria.unique()\n",
    "\n",
    "dados = {\"Filial\":[], \"Vendedor\": [], \"Produto\": [], \"Vendas\": []}\n",
    "contagem = df1[[\"filial\",\"vendedor\",\"tipo_de_mercadoria\"]].value_counts()\n",
    "\n",
    "for i in range(contagem.__len__()):\n",
    "    vendas = contagem.values[i]\n",
    "\n",
    "    if vendas:\n",
    "        dados[\"Filial\"].append(contagem.index[i][0]) # filial\n",
    "        dados[\"Vendedor\"].append(contagem.index[i][1]) #vendedor\n",
    "        dados[\"Produto\"].append(contagem.index[i][2]) #produto\n",
    "        dados[\"Vendas\"].append(vendas) #quantidade de vendas\n",
    "\n",
    "tabela6 = pd.DataFrame(dados)"
   ]
  },
  {
   "cell_type": "markdown",
   "id": "bYCNp5IPGWJF",
   "metadata": {
    "id": "bYCNp5IPGWJF"
   },
   "source": [
    "### 6.1 Tabela de produtos vendidos por vendedor nas filiais e a quantidade de produtos"
   ]
  },
  {
   "cell_type": "code",
   "execution_count": 23,
   "id": "NlKjPFgTBByL",
   "metadata": {
    "colab": {
     "base_uri": "https://localhost:8080/",
     "height": 419
    },
    "executionInfo": {
     "elapsed": 1172,
     "status": "ok",
     "timestamp": 1630335668124,
     "user": {
      "displayName": "Hiago Oliveira de Jesus",
      "photoUrl": "https://lh3.googleusercontent.com/a-/AOh14GjE8zRojKMt6ESrCGK-2de-rxF3vvqaV_vXU2Jmsw=s64",
      "userId": "04828748390226314927"
     },
     "user_tz": 240
    },
    "id": "NlKjPFgTBByL",
    "outputId": "0c12004c-9e18-4c92-9847-c7bb4c1d9042"
   },
   "outputs": [
    {
     "data": {
      "text/html": [
       "<div>\n",
       "<style scoped>\n",
       "    .dataframe tbody tr th:only-of-type {\n",
       "        vertical-align: middle;\n",
       "    }\n",
       "\n",
       "    .dataframe tbody tr th {\n",
       "        vertical-align: top;\n",
       "    }\n",
       "\n",
       "    .dataframe thead th {\n",
       "        text-align: right;\n",
       "    }\n",
       "</style>\n",
       "<table border=\"1\" class=\"dataframe\">\n",
       "  <thead>\n",
       "    <tr style=\"text-align: right;\">\n",
       "      <th></th>\n",
       "      <th>Filial</th>\n",
       "      <th>Vendedor</th>\n",
       "      <th>Produto</th>\n",
       "      <th>Vendas</th>\n",
       "    </tr>\n",
       "  </thead>\n",
       "  <tbody>\n",
       "    <tr>\n",
       "      <th>0</th>\n",
       "      <td>Loja Manicoré</td>\n",
       "      <td>AUTO</td>\n",
       "      <td>SPLIT 10001 À 18000</td>\n",
       "      <td>4</td>\n",
       "    </tr>\n",
       "    <tr>\n",
       "      <th>1</th>\n",
       "      <td>Loja Lábrea</td>\n",
       "      <td>AUTO</td>\n",
       "      <td>CHURRASQUEIRA A GÁS</td>\n",
       "      <td>3</td>\n",
       "    </tr>\n",
       "    <tr>\n",
       "      <th>2</th>\n",
       "      <td>Loja Autazes</td>\n",
       "      <td>MARIA</td>\n",
       "      <td>PROTET SOLAR FACIAL</td>\n",
       "      <td>2</td>\n",
       "    </tr>\n",
       "    <tr>\n",
       "      <th>3</th>\n",
       "      <td>Loja Manacapuru</td>\n",
       "      <td>MARIA</td>\n",
       "      <td>CONJ PLAYSET/MENINAS</td>\n",
       "      <td>2</td>\n",
       "    </tr>\n",
       "    <tr>\n",
       "      <th>4</th>\n",
       "      <td>Loja Manicoré</td>\n",
       "      <td>AUTO</td>\n",
       "      <td>ANESTÉSICO LOCAL REF</td>\n",
       "      <td>2</td>\n",
       "    </tr>\n",
       "    <tr>\n",
       "      <th>...</th>\n",
       "      <td>...</td>\n",
       "      <td>...</td>\n",
       "      <td>...</td>\n",
       "      <td>...</td>\n",
       "    </tr>\n",
       "    <tr>\n",
       "      <th>13814</th>\n",
       "      <td>Loja Lábrea</td>\n",
       "      <td>CLAUDIO</td>\n",
       "      <td>COMPUTADORES 1</td>\n",
       "      <td>1</td>\n",
       "    </tr>\n",
       "    <tr>\n",
       "      <th>13815</th>\n",
       "      <td>Loja Lábrea</td>\n",
       "      <td>CLAUDIO</td>\n",
       "      <td>IMPRESSORA/SCANNER 1</td>\n",
       "      <td>1</td>\n",
       "    </tr>\n",
       "    <tr>\n",
       "      <th>13816</th>\n",
       "      <td>Loja Lábrea</td>\n",
       "      <td>CLAUDIO</td>\n",
       "      <td>PORTA-RETRATO</td>\n",
       "      <td>1</td>\n",
       "    </tr>\n",
       "    <tr>\n",
       "      <th>13817</th>\n",
       "      <td>Loja Lábrea</td>\n",
       "      <td>CLAUDIO</td>\n",
       "      <td>SMARTPHONE PRÉ-PAGO</td>\n",
       "      <td>1</td>\n",
       "    </tr>\n",
       "    <tr>\n",
       "      <th>13818</th>\n",
       "      <td>Loja Manicoré</td>\n",
       "      <td>ZENILSON</td>\n",
       "      <td>PORTÁTIL ELETRO 2</td>\n",
       "      <td>1</td>\n",
       "    </tr>\n",
       "  </tbody>\n",
       "</table>\n",
       "<p>13819 rows × 4 columns</p>\n",
       "</div>"
      ],
      "text/plain": [
       "                Filial  Vendedor               Produto  Vendas\n",
       "0        Loja Manicoré      AUTO   SPLIT 10001 À 18000       4\n",
       "1          Loja Lábrea      AUTO   CHURRASQUEIRA A GÁS       3\n",
       "2         Loja Autazes     MARIA   PROTET SOLAR FACIAL       2\n",
       "3      Loja Manacapuru     MARIA  CONJ PLAYSET/MENINAS       2\n",
       "4        Loja Manicoré      AUTO  ANESTÉSICO LOCAL REF       2\n",
       "...                ...       ...                   ...     ...\n",
       "13814      Loja Lábrea   CLAUDIO        COMPUTADORES 1       1\n",
       "13815      Loja Lábrea   CLAUDIO  IMPRESSORA/SCANNER 1       1\n",
       "13816      Loja Lábrea   CLAUDIO         PORTA-RETRATO       1\n",
       "13817      Loja Lábrea   CLAUDIO   SMARTPHONE PRÉ-PAGO       1\n",
       "13818    Loja Manicoré  ZENILSON     PORTÁTIL ELETRO 2       1\n",
       "\n",
       "[13819 rows x 4 columns]"
      ]
     },
     "execution_count": 23,
     "metadata": {},
     "output_type": "execute_result"
    }
   ],
   "source": [
    "tabela6.to_excel(\"../Datasets/Desafio/6.1_produtos_vendidos_por_vendedor_nas_filiais_e_a_qtde_de_produtos.xlsx\", index=False)\n",
    "tabela6"
   ]
  },
  {
   "cell_type": "markdown",
   "id": "_6n5r2GZJmQ3",
   "metadata": {
    "id": "_6n5r2GZJmQ3"
   },
   "source": [
    "### 6.2 Tabela de produtos mais vendido por vendedor e a quantidade de vendas"
   ]
  },
  {
   "cell_type": "code",
   "execution_count": 24,
   "id": "Z3f-zr2VEsSF",
   "metadata": {
    "id": "Z3f-zr2VEsSF"
   },
   "outputs": [],
   "source": [
    "tabela7 = pd.DataFrame()\n",
    "\n",
    "for vendedor in vendedores:\n",
    "    condicao1 = tabela6.Vendedor == vendedor \n",
    "    \n",
    "    total_vendas = tabela6[condicao1].Vendas.sum()\n",
    "    maior_venda = tabela6[condicao1].Vendas.max()\n",
    "\n",
    "    condicao2 = tabela6.Vendas == maior_venda\n",
    "    tabela7 = pd.concat([tabela7, tabela6[condicao1 & condicao2]])"
   ]
  },
  {
   "cell_type": "code",
   "execution_count": 25,
   "id": "Kxznaab_J5ce",
   "metadata": {
    "colab": {
     "base_uri": "https://localhost:8080/",
     "height": 419
    },
    "executionInfo": {
     "elapsed": 1393,
     "status": "ok",
     "timestamp": 1630335671356,
     "user": {
      "displayName": "Hiago Oliveira de Jesus",
      "photoUrl": "https://lh3.googleusercontent.com/a-/AOh14GjE8zRojKMt6ESrCGK-2de-rxF3vvqaV_vXU2Jmsw=s64",
      "userId": "04828748390226314927"
     },
     "user_tz": 240
    },
    "id": "Kxznaab_J5ce",
    "outputId": "f20d5018-8856-487b-9cc3-f17fc01bd47c"
   },
   "outputs": [
    {
     "data": {
      "text/html": [
       "<div>\n",
       "<style scoped>\n",
       "    .dataframe tbody tr th:only-of-type {\n",
       "        vertical-align: middle;\n",
       "    }\n",
       "\n",
       "    .dataframe tbody tr th {\n",
       "        vertical-align: top;\n",
       "    }\n",
       "\n",
       "    .dataframe thead th {\n",
       "        text-align: right;\n",
       "    }\n",
       "</style>\n",
       "<table border=\"1\" class=\"dataframe\">\n",
       "  <thead>\n",
       "    <tr style=\"text-align: right;\">\n",
       "      <th></th>\n",
       "      <th>Filial</th>\n",
       "      <th>Vendedor</th>\n",
       "      <th>Produto</th>\n",
       "      <th>Vendas</th>\n",
       "    </tr>\n",
       "  </thead>\n",
       "  <tbody>\n",
       "    <tr>\n",
       "      <th>13</th>\n",
       "      <td>Loja Manicoré</td>\n",
       "      <td>ANDERSON</td>\n",
       "      <td>TESTES DE GRAVIDEZ</td>\n",
       "      <td>2</td>\n",
       "    </tr>\n",
       "    <tr>\n",
       "      <th>16</th>\n",
       "      <td>Loja Manicoré</td>\n",
       "      <td>ANDERSON</td>\n",
       "      <td>SPLIT 10001 À 18000</td>\n",
       "      <td>2</td>\n",
       "    </tr>\n",
       "    <tr>\n",
       "      <th>275</th>\n",
       "      <td>Loja Manacapuru</td>\n",
       "      <td>RAIMUNDO</td>\n",
       "      <td>ASPIRADOR NASAL</td>\n",
       "      <td>1</td>\n",
       "    </tr>\n",
       "    <tr>\n",
       "      <th>276</th>\n",
       "      <td>Loja Manacapuru</td>\n",
       "      <td>RAIMUNDO</td>\n",
       "      <td>CAIXA DE SOM INFORM</td>\n",
       "      <td>1</td>\n",
       "    </tr>\n",
       "    <tr>\n",
       "      <th>277</th>\n",
       "      <td>Loja Manacapuru</td>\n",
       "      <td>RAIMUNDO</td>\n",
       "      <td>SPLIT ATÉ 8500 BTUS</td>\n",
       "      <td>1</td>\n",
       "    </tr>\n",
       "    <tr>\n",
       "      <th>...</th>\n",
       "      <td>...</td>\n",
       "      <td>...</td>\n",
       "      <td>...</td>\n",
       "      <td>...</td>\n",
       "    </tr>\n",
       "    <tr>\n",
       "      <th>7629</th>\n",
       "      <td>Loja Autazes</td>\n",
       "      <td>REGINA</td>\n",
       "      <td>ANTICONCEPCIONAL GEN</td>\n",
       "      <td>1</td>\n",
       "    </tr>\n",
       "    <tr>\n",
       "      <th>7630</th>\n",
       "      <td>Loja Autazes</td>\n",
       "      <td>REGINA</td>\n",
       "      <td>CALMANTE REF</td>\n",
       "      <td>1</td>\n",
       "    </tr>\n",
       "    <tr>\n",
       "      <th>7631</th>\n",
       "      <td>Loja Autazes</td>\n",
       "      <td>REGINA</td>\n",
       "      <td>COLÔNIA MASCULINA</td>\n",
       "      <td>1</td>\n",
       "    </tr>\n",
       "    <tr>\n",
       "      <th>7632</th>\n",
       "      <td>Loja Autazes</td>\n",
       "      <td>REGINA</td>\n",
       "      <td>PENTES, ESCO E ACESS</td>\n",
       "      <td>1</td>\n",
       "    </tr>\n",
       "    <tr>\n",
       "      <th>12743</th>\n",
       "      <td>Loja Itacoatiara</td>\n",
       "      <td>REGINA</td>\n",
       "      <td>ACESS DE MAQUIAGEM</td>\n",
       "      <td>1</td>\n",
       "    </tr>\n",
       "  </tbody>\n",
       "</table>\n",
       "<p>11857 rows × 4 columns</p>\n",
       "</div>"
      ],
      "text/plain": [
       "                 Filial  Vendedor               Produto  Vendas\n",
       "13        Loja Manicoré  ANDERSON    TESTES DE GRAVIDEZ       2\n",
       "16        Loja Manicoré  ANDERSON   SPLIT 10001 À 18000       2\n",
       "275     Loja Manacapuru  RAIMUNDO       ASPIRADOR NASAL       1\n",
       "276     Loja Manacapuru  RAIMUNDO   CAIXA DE SOM INFORM       1\n",
       "277     Loja Manacapuru  RAIMUNDO   SPLIT ATÉ 8500 BTUS       1\n",
       "...                 ...       ...                   ...     ...\n",
       "7629       Loja Autazes    REGINA  ANTICONCEPCIONAL GEN       1\n",
       "7630       Loja Autazes    REGINA          CALMANTE REF       1\n",
       "7631       Loja Autazes    REGINA     COLÔNIA MASCULINA       1\n",
       "7632       Loja Autazes    REGINA  PENTES, ESCO E ACESS       1\n",
       "12743  Loja Itacoatiara    REGINA    ACESS DE MAQUIAGEM       1\n",
       "\n",
       "[11857 rows x 4 columns]"
      ]
     },
     "execution_count": 25,
     "metadata": {},
     "output_type": "execute_result"
    }
   ],
   "source": [
    "tabela7.to_excel(\"../Datasets/Desafio/6.2_produto_mais_vendido_por_vendedor_nas_filiais_e_a_qtde_vendas.xlsx\", index=False)\n",
    "tabela7"
   ]
  },
  {
   "cell_type": "markdown",
   "id": "15BmsVQ_H0Sw",
   "metadata": {
    "id": "15BmsVQ_H0Sw"
   },
   "source": [
    "### 6.3 Tabela do total de vendas por vendedor nas filiais"
   ]
  },
  {
   "cell_type": "code",
   "execution_count": 26,
   "id": "gnz2fBrVFuDv",
   "metadata": {
    "id": "gnz2fBrVFuDv"
   },
   "outputs": [],
   "source": [
    "dados = {\"Filial\":[], \"Vendedor\": [], \"Vendas\":[]}\n",
    "\n",
    "for loja in filiais:\n",
    "    condicao1 = tabela6.Filial == loja\n",
    "    vendedores = tabela6[condicao1][\"Vendedor\"].unique()\n",
    "\n",
    "    for vendedor in vendedores:\n",
    "        condicao2 = tabela6.Vendedor == vendedor\n",
    "    \n",
    "        total_vendas = tabela6[condicao1 & condicao2][\"Vendas\"].sum()\n",
    "        \n",
    "        dados[\"Filial\"].append(loja)\n",
    "        dados[\"Vendedor\"].append(vendedor)\n",
    "        dados[\"Vendas\"].append(total_vendas)\n",
    "\n",
    "tabela8 = pd.DataFrame(dados)"
   ]
  },
  {
   "cell_type": "code",
   "execution_count": 27,
   "id": "FUllROQrQ3eh",
   "metadata": {
    "colab": {
     "base_uri": "https://localhost:8080/",
     "height": 419
    },
    "executionInfo": {
     "elapsed": 72,
     "status": "ok",
     "timestamp": 1630335675308,
     "user": {
      "displayName": "Hiago Oliveira de Jesus",
      "photoUrl": "https://lh3.googleusercontent.com/a-/AOh14GjE8zRojKMt6ESrCGK-2de-rxF3vvqaV_vXU2Jmsw=s64",
      "userId": "04828748390226314927"
     },
     "user_tz": 240
    },
    "id": "FUllROQrQ3eh",
    "outputId": "ab2ff9f1-0fef-4086-b952-107108667adc"
   },
   "outputs": [
    {
     "data": {
      "text/html": [
       "<div>\n",
       "<style scoped>\n",
       "    .dataframe tbody tr th:only-of-type {\n",
       "        vertical-align: middle;\n",
       "    }\n",
       "\n",
       "    .dataframe tbody tr th {\n",
       "        vertical-align: top;\n",
       "    }\n",
       "\n",
       "    .dataframe thead th {\n",
       "        text-align: right;\n",
       "    }\n",
       "</style>\n",
       "<table border=\"1\" class=\"dataframe\">\n",
       "  <thead>\n",
       "    <tr style=\"text-align: right;\">\n",
       "      <th></th>\n",
       "      <th>Filial</th>\n",
       "      <th>Vendedor</th>\n",
       "      <th>Vendas</th>\n",
       "    </tr>\n",
       "  </thead>\n",
       "  <tbody>\n",
       "    <tr>\n",
       "      <th>0</th>\n",
       "      <td>Loja Autazes</td>\n",
       "      <td>MARIA</td>\n",
       "      <td>87</td>\n",
       "    </tr>\n",
       "    <tr>\n",
       "      <th>1</th>\n",
       "      <td>Loja Autazes</td>\n",
       "      <td>ANA</td>\n",
       "      <td>40</td>\n",
       "    </tr>\n",
       "    <tr>\n",
       "      <th>2</th>\n",
       "      <td>Loja Autazes</td>\n",
       "      <td>AUTO</td>\n",
       "      <td>72</td>\n",
       "    </tr>\n",
       "    <tr>\n",
       "      <th>3</th>\n",
       "      <td>Loja Autazes</td>\n",
       "      <td>6019999</td>\n",
       "      <td>4</td>\n",
       "    </tr>\n",
       "    <tr>\n",
       "      <th>4</th>\n",
       "      <td>Loja Autazes</td>\n",
       "      <td>ROZENIRA</td>\n",
       "      <td>3</td>\n",
       "    </tr>\n",
       "    <tr>\n",
       "      <th>...</th>\n",
       "      <td>...</td>\n",
       "      <td>...</td>\n",
       "      <td>...</td>\n",
       "    </tr>\n",
       "    <tr>\n",
       "      <th>2454</th>\n",
       "      <td>Loja Manacapuru</td>\n",
       "      <td>ALVES</td>\n",
       "      <td>3</td>\n",
       "    </tr>\n",
       "    <tr>\n",
       "      <th>2455</th>\n",
       "      <td>Loja Manacapuru</td>\n",
       "      <td>ANA</td>\n",
       "      <td>23</td>\n",
       "    </tr>\n",
       "    <tr>\n",
       "      <th>2456</th>\n",
       "      <td>Loja Manacapuru</td>\n",
       "      <td>ANDELA</td>\n",
       "      <td>4</td>\n",
       "    </tr>\n",
       "    <tr>\n",
       "      <th>2457</th>\n",
       "      <td>Loja Manacapuru</td>\n",
       "      <td>ANDERSON</td>\n",
       "      <td>8</td>\n",
       "    </tr>\n",
       "    <tr>\n",
       "      <th>2458</th>\n",
       "      <td>Loja Manacapuru</td>\n",
       "      <td>AMANDA</td>\n",
       "      <td>6</td>\n",
       "    </tr>\n",
       "  </tbody>\n",
       "</table>\n",
       "<p>2459 rows × 3 columns</p>\n",
       "</div>"
      ],
      "text/plain": [
       "               Filial  Vendedor  Vendas\n",
       "0        Loja Autazes     MARIA      87\n",
       "1        Loja Autazes       ANA      40\n",
       "2        Loja Autazes      AUTO      72\n",
       "3        Loja Autazes   6019999       4\n",
       "4        Loja Autazes  ROZENIRA       3\n",
       "...               ...       ...     ...\n",
       "2454  Loja Manacapuru     ALVES       3\n",
       "2455  Loja Manacapuru       ANA      23\n",
       "2456  Loja Manacapuru    ANDELA       4\n",
       "2457  Loja Manacapuru  ANDERSON       8\n",
       "2458  Loja Manacapuru    AMANDA       6\n",
       "\n",
       "[2459 rows x 3 columns]"
      ]
     },
     "execution_count": 27,
     "metadata": {},
     "output_type": "execute_result"
    }
   ],
   "source": [
    "tabela8.to_excel(\"../Datasets/Desafio/6.3_total_vendas_por_vendedor_nas_filiais.xlsx\", index=False)\n",
    "tabela8"
   ]
  },
  {
   "cell_type": "markdown",
   "id": "b2884360",
   "metadata": {
    "id": "b2884360"
   },
   "source": [
    "## Dataset Questão 2"
   ]
  },
  {
   "cell_type": "markdown",
   "id": "2de1ca10",
   "metadata": {
    "id": "2de1ca10"
   },
   "source": [
    "### 5. quanto o dinheiro de volta rendeu em desconto"
   ]
  },
  {
   "cell_type": "code",
   "execution_count": 28,
   "id": "Ia5ze8Z_UcuV",
   "metadata": {
    "colab": {
     "base_uri": "https://localhost:8080/",
     "height": 35
    },
    "executionInfo": {
     "elapsed": 298,
     "status": "ok",
     "timestamp": 1630335717942,
     "user": {
      "displayName": "Hiago Oliveira de Jesus",
      "photoUrl": "https://lh3.googleusercontent.com/a-/AOh14GjE8zRojKMt6ESrCGK-2de-rxF3vvqaV_vXU2Jmsw=s64",
      "userId": "04828748390226314927"
     },
     "user_tz": 240
    },
    "id": "Ia5ze8Z_UcuV",
    "outputId": "79655a57-4468-48ba-f8b7-58963fec394e"
   },
   "outputs": [
    {
     "data": {
      "text/plain": [
       "'83.838,75'"
      ]
     },
     "execution_count": 28,
     "metadata": {},
     "output_type": "execute_result"
    }
   ],
   "source": [
    "moeda(df2.quantidade.dot(df2.dinheiro_de_volta))"
   ]
  }
 ],
 "metadata": {
  "colab": {
   "collapsed_sections": [],
   "name": "desafio.ipynb",
   "provenance": []
  },
  "kernelspec": {
   "display_name": "Python 3",
   "language": "python",
   "name": "python3"
  },
  "language_info": {
   "codemirror_mode": {
    "name": "ipython",
    "version": 3
   },
   "file_extension": ".py",
   "mimetype": "text/x-python",
   "name": "python",
   "nbconvert_exporter": "python",
   "pygments_lexer": "ipython3",
   "version": "3.8.8"
  }
 },
 "nbformat": 4,
 "nbformat_minor": 5
}
