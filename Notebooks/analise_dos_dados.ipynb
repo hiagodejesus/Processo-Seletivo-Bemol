{
 "cells": [
  {
   "cell_type": "markdown",
   "id": "a33e3f15",
   "metadata": {
    "id": "a33e3f15"
   },
   "source": [
    "# Análise Exploratória "
   ]
  },
  {
   "cell_type": "markdown",
   "id": "a29b271a",
   "metadata": {
    "id": "a29b271a"
   },
   "source": [
    "### Bibliotecas"
   ]
  },
  {
   "cell_type": "code",
   "execution_count": 1,
   "id": "7743c2c7",
   "metadata": {
    "id": "7743c2c7"
   },
   "outputs": [],
   "source": [
    "import numpy as np\n",
    "import pandas as pd"
   ]
  },
  {
   "cell_type": "markdown",
   "id": "68212333",
   "metadata": {
    "id": "68212333"
   },
   "source": [
    "### Localizando as bases de dados no diretório"
   ]
  },
  {
   "cell_type": "code",
   "execution_count": 2,
   "id": "2ec05f6b",
   "metadata": {
    "id": "2ec05f6b",
    "outputId": "8157efaf-6f25-4093-c6aa-e1f81b1af1f9",
    "scrolled": true
   },
   "outputs": [
    {
     "name": "stdout",
     "output_type": "stream",
     "text": [
      " O volume na unidade C ‚ Windows\n",
      " O N£mero de S‚rie do Volume ‚ 8ED9-8750\n",
      "\n",
      " Pasta de C:\\Github\\Desafio Bemol\\Datasets\n",
      "\n",
      "29/08/2021  16:16         1.848.369 dataset_questao1.csv\n",
      "29/08/2021  16:16           136.819 dataset_questao2.csv\n",
      "               2 arquivo(s)      1.985.188 bytes\n",
      "               0 pasta(s)   61.642.424.320 bytes dispon¡veis\n"
     ]
    }
   ],
   "source": [
    "ls \"../Datasets/*.csv\""
   ]
  },
  {
   "cell_type": "markdown",
   "id": "8c7b9195",
   "metadata": {
    "id": "8c7b9195"
   },
   "source": [
    "### Realizando a leitura das bases de dados"
   ]
  },
  {
   "cell_type": "code",
   "execution_count": 3,
   "id": "2531d1a6",
   "metadata": {
    "id": "2531d1a6"
   },
   "outputs": [],
   "source": [
    "df1 = pd.read_csv(\"../Datasets/dataset_questao1.csv\")"
   ]
  },
  {
   "cell_type": "code",
   "execution_count": 4,
   "id": "b5af71d2",
   "metadata": {
    "id": "b5af71d2"
   },
   "outputs": [],
   "source": [
    "df2 = pd.read_csv(\"../Datasets/dataset_questao2.csv\")"
   ]
  },
  {
   "cell_type": "markdown",
   "id": "54e528c9",
   "metadata": {
    "id": "54e528c9"
   },
   "source": [
    "## Visão Geral - Dataset Questão 1"
   ]
  },
  {
   "cell_type": "code",
   "execution_count": 5,
   "id": "def2ef60",
   "metadata": {
    "id": "def2ef60",
    "outputId": "48e4020e-1207-4933-a04e-1d973847bc70"
   },
   "outputs": [
    {
     "data": {
      "text/html": [
       "<div>\n",
       "<style scoped>\n",
       "    .dataframe tbody tr th:only-of-type {\n",
       "        vertical-align: middle;\n",
       "    }\n",
       "\n",
       "    .dataframe tbody tr th {\n",
       "        vertical-align: top;\n",
       "    }\n",
       "\n",
       "    .dataframe thead th {\n",
       "        text-align: right;\n",
       "    }\n",
       "</style>\n",
       "<table border=\"1\" class=\"dataframe\">\n",
       "  <thead>\n",
       "    <tr style=\"text-align: right;\">\n",
       "      <th></th>\n",
       "      <th>num_compra</th>\n",
       "      <th>cliente</th>\n",
       "      <th>vendedor</th>\n",
       "      <th>tipo_de_mercadoria</th>\n",
       "      <th>filial</th>\n",
       "      <th>data_compra</th>\n",
       "      <th>valor_compra</th>\n",
       "      <th>imposto</th>\n",
       "      <th>cpf_na_nota</th>\n",
       "      <th>produto_devolvido</th>\n",
       "      <th>motivo_devolucao</th>\n",
       "    </tr>\n",
       "  </thead>\n",
       "  <tbody>\n",
       "    <tr>\n",
       "      <th>12686</th>\n",
       "      <td>21879469</td>\n",
       "      <td>123747</td>\n",
       "      <td>JOSENIRA</td>\n",
       "      <td>CHAPA/FRITADEIRA IND</td>\n",
       "      <td>Loja Itacoatiara</td>\n",
       "      <td>2020-01-17 17:51:35.000</td>\n",
       "      <td>45.692</td>\n",
       "      <td>2.05614</td>\n",
       "      <td>Não</td>\n",
       "      <td>Não</td>\n",
       "      <td>Sem devolução</td>\n",
       "    </tr>\n",
       "  </tbody>\n",
       "</table>\n",
       "</div>"
      ],
      "text/plain": [
       "       num_compra  cliente  vendedor    tipo_de_mercadoria            filial  \\\n",
       "12686    21879469   123747  JOSENIRA  CHAPA/FRITADEIRA IND  Loja Itacoatiara   \n",
       "\n",
       "                   data_compra  valor_compra  imposto cpf_na_nota  \\\n",
       "12686  2020-01-17 17:51:35.000        45.692  2.05614         Não   \n",
       "\n",
       "      produto_devolvido motivo_devolucao  \n",
       "12686               Não    Sem devolução  "
      ]
     },
     "execution_count": 5,
     "metadata": {},
     "output_type": "execute_result"
    }
   ],
   "source": [
    "df1.sample()"
   ]
  },
  {
   "cell_type": "code",
   "execution_count": 6,
   "id": "91f6f0fe",
   "metadata": {
    "id": "91f6f0fe",
    "outputId": "e69c3575-9a9c-4758-d7fa-84e297d05c79"
   },
   "outputs": [
    {
     "data": {
      "text/plain": [
       "num_compra              int64\n",
       "cliente                 int64\n",
       "vendedor               object\n",
       "tipo_de_mercadoria     object\n",
       "filial                 object\n",
       "data_compra            object\n",
       "valor_compra          float64\n",
       "imposto               float64\n",
       "cpf_na_nota            object\n",
       "produto_devolvido      object\n",
       "motivo_devolucao       object\n",
       "dtype: object"
      ]
     },
     "execution_count": 6,
     "metadata": {},
     "output_type": "execute_result"
    }
   ],
   "source": [
    "df1.dtypes"
   ]
  },
  {
   "cell_type": "code",
   "execution_count": 7,
   "id": "244363ca",
   "metadata": {
    "id": "244363ca",
    "outputId": "d6dcf062-0118-407f-c8a7-0dd70feaeb83"
   },
   "outputs": [
    {
     "data": {
      "text/plain": [
       "(13877, 11)"
      ]
     },
     "execution_count": 7,
     "metadata": {},
     "output_type": "execute_result"
    }
   ],
   "source": [
    "df1.shape"
   ]
  },
  {
   "cell_type": "code",
   "execution_count": 8,
   "id": "d09182fd",
   "metadata": {
    "id": "d09182fd",
    "outputId": "028abd85-cf29-43ce-b607-d406bdcf24e9"
   },
   "outputs": [
    {
     "data": {
      "text/html": [
       "<div>\n",
       "<style scoped>\n",
       "    .dataframe tbody tr th:only-of-type {\n",
       "        vertical-align: middle;\n",
       "    }\n",
       "\n",
       "    .dataframe tbody tr th {\n",
       "        vertical-align: top;\n",
       "    }\n",
       "\n",
       "    .dataframe thead th {\n",
       "        text-align: right;\n",
       "    }\n",
       "</style>\n",
       "<table border=\"1\" class=\"dataframe\">\n",
       "  <thead>\n",
       "    <tr style=\"text-align: right;\">\n",
       "      <th></th>\n",
       "      <th>num_compra</th>\n",
       "      <th>cliente</th>\n",
       "      <th>valor_compra</th>\n",
       "      <th>imposto</th>\n",
       "    </tr>\n",
       "  </thead>\n",
       "  <tbody>\n",
       "    <tr>\n",
       "      <th>count</th>\n",
       "      <td>1.387700e+04</td>\n",
       "      <td>13877.000000</td>\n",
       "      <td>13877.000000</td>\n",
       "      <td>13877.000000</td>\n",
       "    </tr>\n",
       "    <tr>\n",
       "      <th>mean</th>\n",
       "      <td>2.373366e+07</td>\n",
       "      <td>186941.049723</td>\n",
       "      <td>132.021628</td>\n",
       "      <td>5.940973</td>\n",
       "    </tr>\n",
       "    <tr>\n",
       "      <th>std</th>\n",
       "      <td>1.378146e+06</td>\n",
       "      <td>127108.741747</td>\n",
       "      <td>788.208066</td>\n",
       "      <td>35.469363</td>\n",
       "    </tr>\n",
       "    <tr>\n",
       "      <th>min</th>\n",
       "      <td>2.184217e+07</td>\n",
       "      <td>295.000000</td>\n",
       "      <td>0.304000</td>\n",
       "      <td>0.013680</td>\n",
       "    </tr>\n",
       "    <tr>\n",
       "      <th>25%</th>\n",
       "      <td>2.244832e+07</td>\n",
       "      <td>76698.000000</td>\n",
       "      <td>10.384000</td>\n",
       "      <td>0.467280</td>\n",
       "    </tr>\n",
       "    <tr>\n",
       "      <th>50%</th>\n",
       "      <td>2.367986e+07</td>\n",
       "      <td>182834.000000</td>\n",
       "      <td>23.996000</td>\n",
       "      <td>1.079820</td>\n",
       "    </tr>\n",
       "    <tr>\n",
       "      <th>75%</th>\n",
       "      <td>2.491794e+07</td>\n",
       "      <td>277666.000000</td>\n",
       "      <td>54.776000</td>\n",
       "      <td>2.464920</td>\n",
       "    </tr>\n",
       "    <tr>\n",
       "      <th>max</th>\n",
       "      <td>2.629532e+07</td>\n",
       "      <td>466595.000000</td>\n",
       "      <td>24845.040000</td>\n",
       "      <td>1118.026800</td>\n",
       "    </tr>\n",
       "  </tbody>\n",
       "</table>\n",
       "</div>"
      ],
      "text/plain": [
       "         num_compra        cliente  valor_compra       imposto\n",
       "count  1.387700e+04   13877.000000  13877.000000  13877.000000\n",
       "mean   2.373366e+07  186941.049723    132.021628      5.940973\n",
       "std    1.378146e+06  127108.741747    788.208066     35.469363\n",
       "min    2.184217e+07     295.000000      0.304000      0.013680\n",
       "25%    2.244832e+07   76698.000000     10.384000      0.467280\n",
       "50%    2.367986e+07  182834.000000     23.996000      1.079820\n",
       "75%    2.491794e+07  277666.000000     54.776000      2.464920\n",
       "max    2.629532e+07  466595.000000  24845.040000   1118.026800"
      ]
     },
     "execution_count": 8,
     "metadata": {},
     "output_type": "execute_result"
    }
   ],
   "source": [
    "df1.describe()"
   ]
  },
  {
   "cell_type": "markdown",
   "id": "41acbcfa",
   "metadata": {
    "id": "41acbcfa"
   },
   "source": [
    "## Visão Geral - Dataset Questão 2"
   ]
  },
  {
   "cell_type": "code",
   "execution_count": 9,
   "id": "9e8c004c",
   "metadata": {
    "id": "9e8c004c",
    "outputId": "eb49433e-f175-459d-f356-f7b3dee7475d"
   },
   "outputs": [
    {
     "data": {
      "text/html": [
       "<div>\n",
       "<style scoped>\n",
       "    .dataframe tbody tr th:only-of-type {\n",
       "        vertical-align: middle;\n",
       "    }\n",
       "\n",
       "    .dataframe tbody tr th {\n",
       "        vertical-align: top;\n",
       "    }\n",
       "\n",
       "    .dataframe thead th {\n",
       "        text-align: right;\n",
       "    }\n",
       "</style>\n",
       "<table border=\"1\" class=\"dataframe\">\n",
       "  <thead>\n",
       "    <tr style=\"text-align: right;\">\n",
       "      <th></th>\n",
       "      <th>cod_loja</th>\n",
       "      <th>data_compra</th>\n",
       "      <th>inicio</th>\n",
       "      <th>termino</th>\n",
       "      <th>loja</th>\n",
       "      <th>cod_produto</th>\n",
       "      <th>produto</th>\n",
       "      <th>ean</th>\n",
       "      <th>valor_unitario_sem_imposto</th>\n",
       "      <th>quantidade</th>\n",
       "      <th>valor_total</th>\n",
       "      <th>impostos</th>\n",
       "      <th>dinheiro_de_volta</th>\n",
       "    </tr>\n",
       "  </thead>\n",
       "  <tbody>\n",
       "    <tr>\n",
       "      <th>69</th>\n",
       "      <td>410</td>\n",
       "      <td>2019-07-06 12:56:11</td>\n",
       "      <td>2019-07-05 00:00:00</td>\n",
       "      <td>2019-07-20 00:00:00</td>\n",
       "      <td>Unidade Manaus 1</td>\n",
       "      <td>49618556000135</td>\n",
       "      <td>Smart Pro</td>\n",
       "      <td>190199383180</td>\n",
       "      <td>3000</td>\n",
       "      <td>2</td>\n",
       "      <td>6662.58</td>\n",
       "      <td>752.58</td>\n",
       "      <td>90.0</td>\n",
       "    </tr>\n",
       "  </tbody>\n",
       "</table>\n",
       "</div>"
      ],
      "text/plain": [
       "    cod_loja          data_compra               inicio              termino  \\\n",
       "69       410  2019-07-06 12:56:11  2019-07-05 00:00:00  2019-07-20 00:00:00   \n",
       "\n",
       "                loja     cod_produto    produto           ean  \\\n",
       "69  Unidade Manaus 1  49618556000135  Smart Pro  190199383180   \n",
       "\n",
       "    valor_unitario_sem_imposto  quantidade  valor_total  impostos  \\\n",
       "69                        3000           2      6662.58    752.58   \n",
       "\n",
       "    dinheiro_de_volta  \n",
       "69               90.0  "
      ]
     },
     "execution_count": 9,
     "metadata": {},
     "output_type": "execute_result"
    }
   ],
   "source": [
    "df2.sample()"
   ]
  },
  {
   "cell_type": "code",
   "execution_count": 10,
   "id": "874b33b4",
   "metadata": {
    "id": "874b33b4",
    "outputId": "6ae3fcbd-f740-485b-ba80-09cf3885e48a"
   },
   "outputs": [
    {
     "data": {
      "text/plain": [
       "cod_loja                        int64\n",
       "data_compra                    object\n",
       "inicio                         object\n",
       "termino                        object\n",
       "loja                           object\n",
       "cod_produto                     int64\n",
       "produto                        object\n",
       "ean                             int64\n",
       "valor_unitario_sem_imposto      int64\n",
       "quantidade                      int64\n",
       "valor_total                   float64\n",
       "impostos                      float64\n",
       "dinheiro_de_volta             float64\n",
       "dtype: object"
      ]
     },
     "execution_count": 10,
     "metadata": {},
     "output_type": "execute_result"
    }
   ],
   "source": [
    "df2.dtypes"
   ]
  },
  {
   "cell_type": "code",
   "execution_count": 11,
   "id": "5ebe7db2",
   "metadata": {
    "id": "5ebe7db2",
    "outputId": "21c4517b-ca25-4e7b-be1c-c6c58ae215ad"
   },
   "outputs": [
    {
     "data": {
      "text/plain": [
       "(899, 13)"
      ]
     },
     "execution_count": 11,
     "metadata": {},
     "output_type": "execute_result"
    }
   ],
   "source": [
    "df2.shape"
   ]
  },
  {
   "cell_type": "code",
   "execution_count": 12,
   "id": "c3d45c80",
   "metadata": {
    "id": "c3d45c80",
    "outputId": "e4143362-aa7f-421c-a736-3ae36b619668"
   },
   "outputs": [
    {
     "data": {
      "text/html": [
       "<div>\n",
       "<style scoped>\n",
       "    .dataframe tbody tr th:only-of-type {\n",
       "        vertical-align: middle;\n",
       "    }\n",
       "\n",
       "    .dataframe tbody tr th {\n",
       "        vertical-align: top;\n",
       "    }\n",
       "\n",
       "    .dataframe thead th {\n",
       "        text-align: right;\n",
       "    }\n",
       "</style>\n",
       "<table border=\"1\" class=\"dataframe\">\n",
       "  <thead>\n",
       "    <tr style=\"text-align: right;\">\n",
       "      <th></th>\n",
       "      <th>cod_loja</th>\n",
       "      <th>cod_produto</th>\n",
       "      <th>ean</th>\n",
       "      <th>valor_unitario_sem_imposto</th>\n",
       "      <th>quantidade</th>\n",
       "      <th>valor_total</th>\n",
       "      <th>impostos</th>\n",
       "      <th>dinheiro_de_volta</th>\n",
       "    </tr>\n",
       "  </thead>\n",
       "  <tbody>\n",
       "    <tr>\n",
       "      <th>count</th>\n",
       "      <td>899.000000</td>\n",
       "      <td>8.990000e+02</td>\n",
       "      <td>8.990000e+02</td>\n",
       "      <td>899.000000</td>\n",
       "      <td>899.000000</td>\n",
       "      <td>899.000000</td>\n",
       "      <td>899.000000</td>\n",
       "      <td>899.000000</td>\n",
       "    </tr>\n",
       "    <tr>\n",
       "      <th>mean</th>\n",
       "      <td>419.299221</td>\n",
       "      <td>4.961856e+13</td>\n",
       "      <td>3.700537e+11</td>\n",
       "      <td>2441.323693</td>\n",
       "      <td>1.416018</td>\n",
       "      <td>3668.803902</td>\n",
       "      <td>414.414302</td>\n",
       "      <td>49.559232</td>\n",
       "    </tr>\n",
       "    <tr>\n",
       "      <th>std</th>\n",
       "      <td>9.980968</td>\n",
       "      <td>4.042427e+01</td>\n",
       "      <td>2.627831e+11</td>\n",
       "      <td>816.275373</td>\n",
       "      <td>1.006886</td>\n",
       "      <td>2274.318673</td>\n",
       "      <td>256.898491</td>\n",
       "      <td>30.722135</td>\n",
       "    </tr>\n",
       "    <tr>\n",
       "      <th>min</th>\n",
       "      <td>410.000000</td>\n",
       "      <td>4.961856e+13</td>\n",
       "      <td>1.901994e+11</td>\n",
       "      <td>1250.000000</td>\n",
       "      <td>1.000000</td>\n",
       "      <td>1388.037500</td>\n",
       "      <td>156.787500</td>\n",
       "      <td>18.750000</td>\n",
       "    </tr>\n",
       "    <tr>\n",
       "      <th>25%</th>\n",
       "      <td>410.000000</td>\n",
       "      <td>4.961856e+13</td>\n",
       "      <td>1.901994e+11</td>\n",
       "      <td>1250.000000</td>\n",
       "      <td>1.000000</td>\n",
       "      <td>2776.075000</td>\n",
       "      <td>313.575000</td>\n",
       "      <td>37.500000</td>\n",
       "    </tr>\n",
       "    <tr>\n",
       "      <th>50%</th>\n",
       "      <td>410.000000</td>\n",
       "      <td>4.961856e+13</td>\n",
       "      <td>1.901994e+11</td>\n",
       "      <td>3000.000000</td>\n",
       "      <td>1.000000</td>\n",
       "      <td>3331.290000</td>\n",
       "      <td>376.290000</td>\n",
       "      <td>45.000000</td>\n",
       "    </tr>\n",
       "    <tr>\n",
       "      <th>75%</th>\n",
       "      <td>430.000000</td>\n",
       "      <td>4.961856e+13</td>\n",
       "      <td>7.535760e+11</td>\n",
       "      <td>3000.000000</td>\n",
       "      <td>2.000000</td>\n",
       "      <td>3331.290000</td>\n",
       "      <td>376.290000</td>\n",
       "      <td>45.000000</td>\n",
       "    </tr>\n",
       "    <tr>\n",
       "      <th>max</th>\n",
       "      <td>430.000000</td>\n",
       "      <td>4.961856e+13</td>\n",
       "      <td>7.535760e+11</td>\n",
       "      <td>3000.000000</td>\n",
       "      <td>18.000000</td>\n",
       "      <td>26650.320000</td>\n",
       "      <td>3010.320000</td>\n",
       "      <td>360.000000</td>\n",
       "    </tr>\n",
       "  </tbody>\n",
       "</table>\n",
       "</div>"
      ],
      "text/plain": [
       "         cod_loja   cod_produto           ean  valor_unitario_sem_imposto  \\\n",
       "count  899.000000  8.990000e+02  8.990000e+02                  899.000000   \n",
       "mean   419.299221  4.961856e+13  3.700537e+11                 2441.323693   \n",
       "std      9.980968  4.042427e+01  2.627831e+11                  816.275373   \n",
       "min    410.000000  4.961856e+13  1.901994e+11                 1250.000000   \n",
       "25%    410.000000  4.961856e+13  1.901994e+11                 1250.000000   \n",
       "50%    410.000000  4.961856e+13  1.901994e+11                 3000.000000   \n",
       "75%    430.000000  4.961856e+13  7.535760e+11                 3000.000000   \n",
       "max    430.000000  4.961856e+13  7.535760e+11                 3000.000000   \n",
       "\n",
       "       quantidade   valor_total     impostos  dinheiro_de_volta  \n",
       "count  899.000000    899.000000   899.000000         899.000000  \n",
       "mean     1.416018   3668.803902   414.414302          49.559232  \n",
       "std      1.006886   2274.318673   256.898491          30.722135  \n",
       "min      1.000000   1388.037500   156.787500          18.750000  \n",
       "25%      1.000000   2776.075000   313.575000          37.500000  \n",
       "50%      1.000000   3331.290000   376.290000          45.000000  \n",
       "75%      2.000000   3331.290000   376.290000          45.000000  \n",
       "max     18.000000  26650.320000  3010.320000         360.000000  "
      ]
     },
     "execution_count": 12,
     "metadata": {},
     "output_type": "execute_result"
    }
   ],
   "source": [
    "df2.describe()"
   ]
  },
  {
   "cell_type": "markdown",
   "id": "33e5745a",
   "metadata": {
    "id": "33e5745a"
   },
   "source": [
    "# Análises Dataset Questão 1"
   ]
  },
  {
   "cell_type": "markdown",
   "id": "55b7f518",
   "metadata": {
    "id": "55b7f518"
   },
   "source": [
    "- Funções auxiliares"
   ]
  },
  {
   "cell_type": "code",
   "execution_count": 13,
   "id": "08d77a3d",
   "metadata": {
    "id": "08d77a3d"
   },
   "outputs": [],
   "source": [
    "moeda = lambda numero : '{:,.2f}'.format(numero).replace(\".\",\"*\").replace(\",\",\".\").replace(\"*\",\",\")\n",
    "casas = lambda numero : '{:,}'.format(numero).replace(\",\",\".\")"
   ]
  },
  {
   "cell_type": "markdown",
   "id": "d6180ceb",
   "metadata": {
    "id": "d6180ceb"
   },
   "source": [
    "### Quantidade de clientes"
   ]
  },
  {
   "cell_type": "code",
   "execution_count": 14,
   "id": "b454611e",
   "metadata": {
    "id": "b454611e",
    "outputId": "588b0601-a8af-4529-e090-e0c8aaef47ce"
   },
   "outputs": [
    {
     "data": {
      "text/plain": [
       "730"
      ]
     },
     "execution_count": 14,
     "metadata": {},
     "output_type": "execute_result"
    }
   ],
   "source": [
    "clientes = df1.cliente.unique()\n",
    "clientes.__len__()"
   ]
  },
  {
   "cell_type": "markdown",
   "id": "d8072642",
   "metadata": {
    "id": "d8072642"
   },
   "source": [
    "### Quantidade de vendedores"
   ]
  },
  {
   "cell_type": "code",
   "execution_count": 15,
   "id": "dd27066c",
   "metadata": {
    "id": "dd27066c",
    "outputId": "5ec7597e-5a22-47de-ec9a-b6b27cf6f581"
   },
   "outputs": [
    {
     "data": {
      "text/plain": [
       "510"
      ]
     },
     "execution_count": 15,
     "metadata": {},
     "output_type": "execute_result"
    }
   ],
   "source": [
    "vendedores = df1.vendedor.unique()\n",
    "vendedores.__len__()"
   ]
  },
  {
   "cell_type": "markdown",
   "id": "db944b81",
   "metadata": {
    "id": "db944b81"
   },
   "source": [
    "### Quantidade de produtos"
   ]
  },
  {
   "cell_type": "code",
   "execution_count": 16,
   "id": "0208982e",
   "metadata": {
    "id": "0208982e",
    "outputId": "96a23020-793c-41c4-8614-3b759e315ff3"
   },
   "outputs": [
    {
     "data": {
      "text/plain": [
       "857"
      ]
     },
     "execution_count": 16,
     "metadata": {},
     "output_type": "execute_result"
    }
   ],
   "source": [
    "produtos = df1.tipo_de_mercadoria.unique()\n",
    "produtos.__len__()"
   ]
  },
  {
   "cell_type": "markdown",
   "id": "2c32c8a7",
   "metadata": {
    "id": "2c32c8a7"
   },
   "source": [
    "### Quantidade de filiais"
   ]
  },
  {
   "cell_type": "code",
   "execution_count": 17,
   "id": "9490d80e",
   "metadata": {
    "id": "9490d80e",
    "outputId": "1514b8b4-1f64-494b-beae-ea0b5710f2f4"
   },
   "outputs": [
    {
     "data": {
      "text/plain": [
       "5"
      ]
     },
     "execution_count": 17,
     "metadata": {},
     "output_type": "execute_result"
    }
   ],
   "source": [
    "filiais = df1.filial.unique()\n",
    "filiais.__len__()"
   ]
  },
  {
   "cell_type": "markdown",
   "id": "dc0eeadc",
   "metadata": {
    "id": "dc0eeadc"
   },
   "source": [
    "### Os nomes das lojas filiais"
   ]
  },
  {
   "cell_type": "code",
   "execution_count": 18,
   "id": "d895d6a1",
   "metadata": {
    "id": "d895d6a1",
    "outputId": "1ffd28bf-b8b7-45c1-883a-16fdbec6356b"
   },
   "outputs": [
    {
     "data": {
      "text/plain": [
       "['Loja Autazes',\n",
       " 'Loja Manicoré',\n",
       " 'Loja Lábrea',\n",
       " 'Loja Itacoatiara',\n",
       " 'Loja Manacapuru']"
      ]
     },
     "execution_count": 18,
     "metadata": {},
     "output_type": "execute_result"
    }
   ],
   "source": [
    "list(filiais)"
   ]
  },
  {
   "cell_type": "markdown",
   "id": "dfaafc4a",
   "metadata": {
    "id": "dfaafc4a"
   },
   "source": [
    "### Os motivos de devoluções"
   ]
  },
  {
   "cell_type": "code",
   "execution_count": 19,
   "id": "9a127cae",
   "metadata": {
    "id": "9a127cae",
    "outputId": "7763c648-5361-4331-c4cd-b87ba60ac9fb"
   },
   "outputs": [
    {
     "data": {
      "text/plain": [
       "['Sem devolução',\n",
       " 'Antecipação de troca',\n",
       " 'Insatisfação com o produto',\n",
       " 'Problema na Entrega',\n",
       " 'Insatisfação com o atendimento',\n",
       " 'Defeito do produto']"
      ]
     },
     "execution_count": 19,
     "metadata": {},
     "output_type": "execute_result"
    }
   ],
   "source": [
    "motivos = df1.motivo_devolucao.unique()\n",
    "list(motivos)"
   ]
  },
  {
   "cell_type": "markdown",
   "id": "0266f1ce",
   "metadata": {
    "id": "0266f1ce"
   },
   "source": [
    "### Quantidade de compras e a soma das compras de cada cliente"
   ]
  },
  {
   "cell_type": "code",
   "execution_count": 20,
   "id": "47d057f8",
   "metadata": {
    "id": "47d057f8"
   },
   "outputs": [],
   "source": [
    "quantidade = np.array([])\n",
    "soma = np.array([])\n",
    "\n",
    "for cliente in clientes:\n",
    "    condicao = df1.cliente == cliente\n",
    "    compras = df1[condicao].valor_compra\n",
    "    soma = np.append(soma, compras.sum())\n",
    "    quantidade = np.append(quantidade, compras.count())\n",
    "\n",
    "colunas = [\"Cliente\", \"Qtde_Compras\", \"Soma_Compras\"]\n",
    "dados = [clientes, quantidade, soma]\n",
    "\n",
    "dataframe1 = pd.DataFrame(dados, index=colunas).T"
   ]
  },
  {
   "cell_type": "code",
   "execution_count": 21,
   "id": "735c6613",
   "metadata": {
    "id": "735c6613",
    "outputId": "9ce141db-70c2-40a8-8278-e198f980d19b"
   },
   "outputs": [
    {
     "data": {
      "text/html": [
       "<div>\n",
       "<style scoped>\n",
       "    .dataframe tbody tr th:only-of-type {\n",
       "        vertical-align: middle;\n",
       "    }\n",
       "\n",
       "    .dataframe tbody tr th {\n",
       "        vertical-align: top;\n",
       "    }\n",
       "\n",
       "    .dataframe thead th {\n",
       "        text-align: right;\n",
       "    }\n",
       "</style>\n",
       "<table border=\"1\" class=\"dataframe\">\n",
       "  <thead>\n",
       "    <tr style=\"text-align: right;\">\n",
       "      <th></th>\n",
       "      <th>Cliente</th>\n",
       "      <th>Qtde_Compras</th>\n",
       "      <th>Soma_Compras</th>\n",
       "    </tr>\n",
       "  </thead>\n",
       "  <tbody>\n",
       "    <tr>\n",
       "      <th>0</th>\n",
       "      <td>295.0</td>\n",
       "      <td>22.0</td>\n",
       "      <td>4853.068</td>\n",
       "    </tr>\n",
       "    <tr>\n",
       "      <th>1</th>\n",
       "      <td>331.0</td>\n",
       "      <td>21.0</td>\n",
       "      <td>11262.288</td>\n",
       "    </tr>\n",
       "    <tr>\n",
       "      <th>2</th>\n",
       "      <td>370.0</td>\n",
       "      <td>21.0</td>\n",
       "      <td>24481.072</td>\n",
       "    </tr>\n",
       "    <tr>\n",
       "      <th>3</th>\n",
       "      <td>460.0</td>\n",
       "      <td>21.0</td>\n",
       "      <td>18042.312</td>\n",
       "    </tr>\n",
       "    <tr>\n",
       "      <th>4</th>\n",
       "      <td>538.0</td>\n",
       "      <td>21.0</td>\n",
       "      <td>9149.336</td>\n",
       "    </tr>\n",
       "    <tr>\n",
       "      <th>...</th>\n",
       "      <td>...</td>\n",
       "      <td>...</td>\n",
       "      <td>...</td>\n",
       "    </tr>\n",
       "    <tr>\n",
       "      <th>725</th>\n",
       "      <td>465263.0</td>\n",
       "      <td>17.0</td>\n",
       "      <td>5301.628</td>\n",
       "    </tr>\n",
       "    <tr>\n",
       "      <th>726</th>\n",
       "      <td>465620.0</td>\n",
       "      <td>17.0</td>\n",
       "      <td>3278.040</td>\n",
       "    </tr>\n",
       "    <tr>\n",
       "      <th>727</th>\n",
       "      <td>466079.0</td>\n",
       "      <td>17.0</td>\n",
       "      <td>1375.576</td>\n",
       "    </tr>\n",
       "    <tr>\n",
       "      <th>728</th>\n",
       "      <td>466205.0</td>\n",
       "      <td>17.0</td>\n",
       "      <td>1865.080</td>\n",
       "    </tr>\n",
       "    <tr>\n",
       "      <th>729</th>\n",
       "      <td>466595.0</td>\n",
       "      <td>17.0</td>\n",
       "      <td>566.956</td>\n",
       "    </tr>\n",
       "  </tbody>\n",
       "</table>\n",
       "<p>730 rows × 3 columns</p>\n",
       "</div>"
      ],
      "text/plain": [
       "      Cliente  Qtde_Compras  Soma_Compras\n",
       "0       295.0          22.0      4853.068\n",
       "1       331.0          21.0     11262.288\n",
       "2       370.0          21.0     24481.072\n",
       "3       460.0          21.0     18042.312\n",
       "4       538.0          21.0      9149.336\n",
       "..        ...           ...           ...\n",
       "725  465263.0          17.0      5301.628\n",
       "726  465620.0          17.0      3278.040\n",
       "727  466079.0          17.0      1375.576\n",
       "728  466205.0          17.0      1865.080\n",
       "729  466595.0          17.0       566.956\n",
       "\n",
       "[730 rows x 3 columns]"
      ]
     },
     "execution_count": 21,
     "metadata": {},
     "output_type": "execute_result"
    }
   ],
   "source": [
    "dataframe1"
   ]
  },
  {
   "cell_type": "markdown",
   "id": "03e08a62",
   "metadata": {
    "id": "03e08a62"
   },
   "source": [
    "### O cliente que mais realizou compras"
   ]
  },
  {
   "cell_type": "code",
   "execution_count": 22,
   "id": "42b8bfbd",
   "metadata": {
    "id": "42b8bfbd",
    "outputId": "16ebbcdb-fe6d-4cad-fb59-f3870b01559b"
   },
   "outputs": [
    {
     "data": {
      "text/html": [
       "<div>\n",
       "<style scoped>\n",
       "    .dataframe tbody tr th:only-of-type {\n",
       "        vertical-align: middle;\n",
       "    }\n",
       "\n",
       "    .dataframe tbody tr th {\n",
       "        vertical-align: top;\n",
       "    }\n",
       "\n",
       "    .dataframe thead th {\n",
       "        text-align: right;\n",
       "    }\n",
       "</style>\n",
       "<table border=\"1\" class=\"dataframe\">\n",
       "  <thead>\n",
       "    <tr style=\"text-align: right;\">\n",
       "      <th></th>\n",
       "      <th>Cliente</th>\n",
       "      <th>Qtde_Compras</th>\n",
       "      <th>Soma_Compras</th>\n",
       "    </tr>\n",
       "  </thead>\n",
       "  <tbody>\n",
       "    <tr>\n",
       "      <th>0</th>\n",
       "      <td>295.0</td>\n",
       "      <td>22.0</td>\n",
       "      <td>4853.068</td>\n",
       "    </tr>\n",
       "  </tbody>\n",
       "</table>\n",
       "</div>"
      ],
      "text/plain": [
       "   Cliente  Qtde_Compras  Soma_Compras\n",
       "0    295.0          22.0      4853.068"
      ]
     },
     "execution_count": 22,
     "metadata": {},
     "output_type": "execute_result"
    }
   ],
   "source": [
    "dataframe1.sort_values(by=[\"Qtde_Compras\"], ascending=False).head(1)"
   ]
  },
  {
   "cell_type": "markdown",
   "id": "9834c9d2",
   "metadata": {
    "id": "9834c9d2"
   },
   "source": [
    "### O cliente que mais gastou em compras"
   ]
  },
  {
   "cell_type": "code",
   "execution_count": 23,
   "id": "4ebb03f0",
   "metadata": {
    "id": "4ebb03f0",
    "outputId": "2814a462-3cad-42ff-b39a-ecc29ca34f2c",
    "scrolled": false
   },
   "outputs": [
    {
     "data": {
      "text/html": [
       "<div>\n",
       "<style scoped>\n",
       "    .dataframe tbody tr th:only-of-type {\n",
       "        vertical-align: middle;\n",
       "    }\n",
       "\n",
       "    .dataframe tbody tr th {\n",
       "        vertical-align: top;\n",
       "    }\n",
       "\n",
       "    .dataframe thead th {\n",
       "        text-align: right;\n",
       "    }\n",
       "</style>\n",
       "<table border=\"1\" class=\"dataframe\">\n",
       "  <thead>\n",
       "    <tr style=\"text-align: right;\">\n",
       "      <th></th>\n",
       "      <th>Cliente</th>\n",
       "      <th>Qtde_Compras</th>\n",
       "      <th>Soma_Compras</th>\n",
       "    </tr>\n",
       "  </thead>\n",
       "  <tbody>\n",
       "    <tr>\n",
       "      <th>511</th>\n",
       "      <td>266970.0</td>\n",
       "      <td>19.0</td>\n",
       "      <td>28550.036</td>\n",
       "    </tr>\n",
       "  </tbody>\n",
       "</table>\n",
       "</div>"
      ],
      "text/plain": [
       "      Cliente  Qtde_Compras  Soma_Compras\n",
       "511  266970.0          19.0     28550.036"
      ]
     },
     "execution_count": 23,
     "metadata": {},
     "output_type": "execute_result"
    }
   ],
   "source": [
    "dataframe1.sort_values(by=[\"Soma_Compras\"], ascending=False).head(1)"
   ]
  },
  {
   "cell_type": "markdown",
   "id": "65291f08",
   "metadata": {
    "id": "65291f08"
   },
   "source": [
    "### Total de compras realizadas"
   ]
  },
  {
   "cell_type": "code",
   "execution_count": 24,
   "id": "63709b33",
   "metadata": {
    "id": "63709b33",
    "outputId": "28e4b65c-ef17-4063-c45e-acac0f9e5e8c"
   },
   "outputs": [
    {
     "data": {
      "text/plain": [
       "'13.877'"
      ]
     },
     "execution_count": 24,
     "metadata": {},
     "output_type": "execute_result"
    }
   ],
   "source": [
    "casas(dataframe1.Qtde_Compras.sum().astype(int))"
   ]
  },
  {
   "cell_type": "markdown",
   "id": "1ced821f",
   "metadata": {
    "id": "1ced821f"
   },
   "source": [
    "### Faturamento"
   ]
  },
  {
   "cell_type": "code",
   "execution_count": 25,
   "id": "145b4da6",
   "metadata": {
    "id": "145b4da6",
    "outputId": "b9e5506a-4587-4c8f-d869-ca61b7b70111"
   },
   "outputs": [
    {
     "data": {
      "text/plain": [
       "'1.832.064,13'"
      ]
     },
     "execution_count": 25,
     "metadata": {},
     "output_type": "execute_result"
    }
   ],
   "source": [
    "moeda(dataframe1.Soma_Compras.sum())"
   ]
  },
  {
   "cell_type": "markdown",
   "id": "174c5219",
   "metadata": {
    "id": "174c5219"
   },
   "source": [
    "### Quantos clientes registraram CPF na nota"
   ]
  },
  {
   "cell_type": "code",
   "execution_count": 26,
   "id": "cf552648",
   "metadata": {
    "id": "cf552648",
    "outputId": "c20a8703-f0a8-4454-8169-df4eea282ec7"
   },
   "outputs": [
    {
     "data": {
      "text/plain": [
       "'11.908'"
      ]
     },
     "execution_count": 26,
     "metadata": {},
     "output_type": "execute_result"
    }
   ],
   "source": [
    "casas(df1.query(\"cpf_na_nota == 'Sim'\")[\"cpf_na_nota\"].count())"
   ]
  },
  {
   "cell_type": "markdown",
   "id": "18603307",
   "metadata": {
    "id": "18603307"
   },
   "source": [
    "### Quantos clientes não cadastraram CPF na nota"
   ]
  },
  {
   "cell_type": "code",
   "execution_count": 27,
   "id": "4b1ca309",
   "metadata": {
    "id": "4b1ca309",
    "outputId": "79512a6f-cb63-4bd1-9135-05f8099e51ee"
   },
   "outputs": [
    {
     "data": {
      "text/plain": [
       "'1.969'"
      ]
     },
     "execution_count": 27,
     "metadata": {},
     "output_type": "execute_result"
    }
   ],
   "source": [
    "casas(df1.query(\"cpf_na_nota == 'Não'\")[\"cpf_na_nota\"].count())"
   ]
  },
  {
   "cell_type": "markdown",
   "id": "b5816a99",
   "metadata": {
    "id": "b5816a99"
   },
   "source": [
    "### O total de cada motivo de devolução"
   ]
  },
  {
   "cell_type": "code",
   "execution_count": 28,
   "id": "4a1479d3",
   "metadata": {
    "id": "4a1479d3"
   },
   "outputs": [],
   "source": [
    "total_motivos = np.array([])\n",
    "\n",
    "for motivo in motivos:\n",
    "    total = df1.query(f\"motivo_devolucao == '{motivo}'\")[\"motivo_devolucao\"].count()\n",
    "    total_motivos = np.append(total_motivos, (motivo, total))"
   ]
  },
  {
   "cell_type": "code",
   "execution_count": 29,
   "id": "f782c30f",
   "metadata": {
    "id": "f782c30f",
    "outputId": "90b74441-5bbf-4127-99e2-afd5f29decfb",
    "scrolled": true
   },
   "outputs": [
    {
     "data": {
      "text/html": [
       "<div>\n",
       "<style scoped>\n",
       "    .dataframe tbody tr th:only-of-type {\n",
       "        vertical-align: middle;\n",
       "    }\n",
       "\n",
       "    .dataframe tbody tr th {\n",
       "        vertical-align: top;\n",
       "    }\n",
       "\n",
       "    .dataframe thead th {\n",
       "        text-align: right;\n",
       "    }\n",
       "</style>\n",
       "<table border=\"1\" class=\"dataframe\">\n",
       "  <thead>\n",
       "    <tr style=\"text-align: right;\">\n",
       "      <th></th>\n",
       "      <th>Motivos</th>\n",
       "      <th>Total</th>\n",
       "    </tr>\n",
       "  </thead>\n",
       "  <tbody>\n",
       "    <tr>\n",
       "      <th>0</th>\n",
       "      <td>Sem devolução</td>\n",
       "      <td>6962</td>\n",
       "    </tr>\n",
       "    <tr>\n",
       "      <th>1</th>\n",
       "      <td>Antecipação de troca</td>\n",
       "      <td>1368</td>\n",
       "    </tr>\n",
       "    <tr>\n",
       "      <th>2</th>\n",
       "      <td>Insatisfação com o produto</td>\n",
       "      <td>1385</td>\n",
       "    </tr>\n",
       "    <tr>\n",
       "      <th>3</th>\n",
       "      <td>Problema na Entrega</td>\n",
       "      <td>1369</td>\n",
       "    </tr>\n",
       "    <tr>\n",
       "      <th>4</th>\n",
       "      <td>Insatisfação com o atendimento</td>\n",
       "      <td>1354</td>\n",
       "    </tr>\n",
       "    <tr>\n",
       "      <th>5</th>\n",
       "      <td>Defeito do produto</td>\n",
       "      <td>1439</td>\n",
       "    </tr>\n",
       "  </tbody>\n",
       "</table>\n",
       "</div>"
      ],
      "text/plain": [
       "                          Motivos Total\n",
       "0                   Sem devolução  6962\n",
       "1            Antecipação de troca  1368\n",
       "2      Insatisfação com o produto  1385\n",
       "3             Problema na Entrega  1369\n",
       "4  Insatisfação com o atendimento  1354\n",
       "5              Defeito do produto  1439"
      ]
     },
     "execution_count": 29,
     "metadata": {},
     "output_type": "execute_result"
    }
   ],
   "source": [
    "total = total_motivos.reshape((6,2))\n",
    "dataframe2 = pd.DataFrame.from_records(total, columns=['Motivos', 'Total'])\n",
    "dataframe2"
   ]
  },
  {
   "cell_type": "markdown",
   "id": "c2f4469a",
   "metadata": {
    "id": "c2f4469a"
   },
   "source": [
    "###  O maior motivo de devolução de produtos"
   ]
  },
  {
   "cell_type": "code",
   "execution_count": 30,
   "id": "10866753",
   "metadata": {
    "id": "10866753",
    "outputId": "ad54b8c3-3a80-4aa7-f6eb-6dcc9174c01a"
   },
   "outputs": [
    {
     "data": {
      "text/html": [
       "<div>\n",
       "<style scoped>\n",
       "    .dataframe tbody tr th:only-of-type {\n",
       "        vertical-align: middle;\n",
       "    }\n",
       "\n",
       "    .dataframe tbody tr th {\n",
       "        vertical-align: top;\n",
       "    }\n",
       "\n",
       "    .dataframe thead th {\n",
       "        text-align: right;\n",
       "    }\n",
       "</style>\n",
       "<table border=\"1\" class=\"dataframe\">\n",
       "  <thead>\n",
       "    <tr style=\"text-align: right;\">\n",
       "      <th></th>\n",
       "      <th>Motivos</th>\n",
       "      <th>Total</th>\n",
       "    </tr>\n",
       "  </thead>\n",
       "  <tbody>\n",
       "    <tr>\n",
       "      <th>5</th>\n",
       "      <td>Defeito do produto</td>\n",
       "      <td>1439</td>\n",
       "    </tr>\n",
       "  </tbody>\n",
       "</table>\n",
       "</div>"
      ],
      "text/plain": [
       "              Motivos Total\n",
       "5  Defeito do produto  1439"
      ]
     },
     "execution_count": 30,
     "metadata": {},
     "output_type": "execute_result"
    }
   ],
   "source": [
    "data = dataframe2.sort_values(by=[\"Total\"], ascending=False)\n",
    "data.iloc[1:2,0:2]"
   ]
  },
  {
   "cell_type": "markdown",
   "id": "91a4dc06",
   "metadata": {
    "id": "91a4dc06"
   },
   "source": [
    "###  O menor motivo de devolução de produtos"
   ]
  },
  {
   "cell_type": "code",
   "execution_count": 31,
   "id": "458e19e9",
   "metadata": {
    "id": "458e19e9",
    "outputId": "9f8b2564-f936-4a73-fb96-4fd7d7dd8efe"
   },
   "outputs": [
    {
     "data": {
      "text/html": [
       "<div>\n",
       "<style scoped>\n",
       "    .dataframe tbody tr th:only-of-type {\n",
       "        vertical-align: middle;\n",
       "    }\n",
       "\n",
       "    .dataframe tbody tr th {\n",
       "        vertical-align: top;\n",
       "    }\n",
       "\n",
       "    .dataframe thead th {\n",
       "        text-align: right;\n",
       "    }\n",
       "</style>\n",
       "<table border=\"1\" class=\"dataframe\">\n",
       "  <thead>\n",
       "    <tr style=\"text-align: right;\">\n",
       "      <th></th>\n",
       "      <th>Motivos</th>\n",
       "      <th>Total</th>\n",
       "    </tr>\n",
       "  </thead>\n",
       "  <tbody>\n",
       "    <tr>\n",
       "      <th>4</th>\n",
       "      <td>Insatisfação com o atendimento</td>\n",
       "      <td>1354</td>\n",
       "    </tr>\n",
       "  </tbody>\n",
       "</table>\n",
       "</div>"
      ],
      "text/plain": [
       "                          Motivos Total\n",
       "4  Insatisfação com o atendimento  1354"
      ]
     },
     "execution_count": 31,
     "metadata": {},
     "output_type": "execute_result"
    }
   ],
   "source": [
    "data.iloc[-1:,0:2]"
   ]
  },
  {
   "cell_type": "markdown",
   "id": "3062d2ed",
   "metadata": {
    "id": "3062d2ed"
   },
   "source": [
    "###  Os produtos mais vendidos"
   ]
  },
  {
   "cell_type": "code",
   "execution_count": 32,
   "id": "04cf2a78",
   "metadata": {
    "id": "04cf2a78",
    "outputId": "a119b686-f19b-4fae-f0ee-bcbd3661b000",
    "scrolled": false
   },
   "outputs": [
    {
     "data": {
      "text/html": [
       "<div>\n",
       "<style scoped>\n",
       "    .dataframe tbody tr th:only-of-type {\n",
       "        vertical-align: middle;\n",
       "    }\n",
       "\n",
       "    .dataframe tbody tr th {\n",
       "        vertical-align: top;\n",
       "    }\n",
       "\n",
       "    .dataframe thead th {\n",
       "        text-align: right;\n",
       "    }\n",
       "</style>\n",
       "<table border=\"1\" class=\"dataframe\">\n",
       "  <thead>\n",
       "    <tr style=\"text-align: right;\">\n",
       "      <th></th>\n",
       "      <th>Produtos</th>\n",
       "      <th>Vendidos</th>\n",
       "    </tr>\n",
       "  </thead>\n",
       "  <tbody>\n",
       "    <tr>\n",
       "      <th>0</th>\n",
       "      <td>SPLIT 18001 À 30000</td>\n",
       "      <td>103</td>\n",
       "    </tr>\n",
       "    <tr>\n",
       "      <th>1</th>\n",
       "      <td>SPLIT 10001 À 18000</td>\n",
       "      <td>103</td>\n",
       "    </tr>\n",
       "    <tr>\n",
       "      <th>2</th>\n",
       "      <td>TV LED DE 48\" À 54\"</td>\n",
       "      <td>25</td>\n",
       "    </tr>\n",
       "    <tr>\n",
       "      <th>3</th>\n",
       "      <td>SMART MULTISIM LIVRE</td>\n",
       "      <td>25</td>\n",
       "    </tr>\n",
       "    <tr>\n",
       "      <th>4</th>\n",
       "      <td>TV LED DE 40\" À 43\"</td>\n",
       "      <td>25</td>\n",
       "    </tr>\n",
       "    <tr>\n",
       "      <th>...</th>\n",
       "      <td>...</td>\n",
       "      <td>...</td>\n",
       "    </tr>\n",
       "    <tr>\n",
       "      <th>852</th>\n",
       "      <td>ABSORVENTE P/SEIOS</td>\n",
       "      <td>11</td>\n",
       "    </tr>\n",
       "    <tr>\n",
       "      <th>853</th>\n",
       "      <td>GEL ANTISSÉPTICO</td>\n",
       "      <td>11</td>\n",
       "    </tr>\n",
       "    <tr>\n",
       "      <th>854</th>\n",
       "      <td>FORT D CABELOS E UNH</td>\n",
       "      <td>11</td>\n",
       "    </tr>\n",
       "    <tr>\n",
       "      <th>855</th>\n",
       "      <td>PROTETOR DE MAMILO</td>\n",
       "      <td>11</td>\n",
       "    </tr>\n",
       "    <tr>\n",
       "      <th>856</th>\n",
       "      <td>UMIDIFICADOR</td>\n",
       "      <td>11</td>\n",
       "    </tr>\n",
       "  </tbody>\n",
       "</table>\n",
       "<p>857 rows × 2 columns</p>\n",
       "</div>"
      ],
      "text/plain": [
       "                 Produtos Vendidos\n",
       "0     SPLIT 18001 À 30000      103\n",
       "1     SPLIT 10001 À 18000      103\n",
       "2     TV LED DE 48\" À 54\"       25\n",
       "3    SMART MULTISIM LIVRE       25\n",
       "4     TV LED DE 40\" À 43\"       25\n",
       "..                    ...      ...\n",
       "852    ABSORVENTE P/SEIOS       11\n",
       "853      GEL ANTISSÉPTICO       11\n",
       "854  FORT D CABELOS E UNH       11\n",
       "855    PROTETOR DE MAMILO       11\n",
       "856          UMIDIFICADOR       11\n",
       "\n",
       "[857 rows x 2 columns]"
      ]
     },
     "execution_count": 32,
     "metadata": {},
     "output_type": "execute_result"
    }
   ],
   "source": [
    "vendidos = df1.tipo_de_mercadoria.value_counts()\n",
    "\n",
    "dataframe3 = pd.DataFrame([vendidos.index, vendidos.values], index=[\"Produtos\",\"Vendidos\"]).T\n",
    "dataframe3"
   ]
  },
  {
   "cell_type": "markdown",
   "id": "f3d49f91",
   "metadata": {
    "id": "f3d49f91"
   },
   "source": [
    "###  O total de devoluções de cada produto"
   ]
  },
  {
   "cell_type": "code",
   "execution_count": 33,
   "id": "5f0bd119",
   "metadata": {
    "id": "5f0bd119",
    "outputId": "3d6d4897-5791-4599-ed3a-6869c2f6d761",
    "scrolled": false
   },
   "outputs": [
    {
     "data": {
      "text/html": [
       "<div>\n",
       "<style scoped>\n",
       "    .dataframe tbody tr th:only-of-type {\n",
       "        vertical-align: middle;\n",
       "    }\n",
       "\n",
       "    .dataframe tbody tr th {\n",
       "        vertical-align: top;\n",
       "    }\n",
       "\n",
       "    .dataframe thead th {\n",
       "        text-align: right;\n",
       "    }\n",
       "</style>\n",
       "<table border=\"1\" class=\"dataframe\">\n",
       "  <thead>\n",
       "    <tr style=\"text-align: right;\">\n",
       "      <th></th>\n",
       "      <th>Produtos</th>\n",
       "      <th>Devolvidos</th>\n",
       "    </tr>\n",
       "  </thead>\n",
       "  <tbody>\n",
       "    <tr>\n",
       "      <th>0</th>\n",
       "      <td>SPLIT 10001 À 18000</td>\n",
       "      <td>57</td>\n",
       "    </tr>\n",
       "    <tr>\n",
       "      <th>1</th>\n",
       "      <td>SPLIT 18001 À 30000</td>\n",
       "      <td>55</td>\n",
       "    </tr>\n",
       "    <tr>\n",
       "      <th>2</th>\n",
       "      <td>TV LED DE 48\" À 54\"</td>\n",
       "      <td>19</td>\n",
       "    </tr>\n",
       "    <tr>\n",
       "      <th>3</th>\n",
       "      <td>TANQUINHO/SEMI-AUTOM</td>\n",
       "      <td>16</td>\n",
       "    </tr>\n",
       "    <tr>\n",
       "      <th>4</th>\n",
       "      <td>TV LED DE 32\"</td>\n",
       "      <td>16</td>\n",
       "    </tr>\n",
       "    <tr>\n",
       "      <th>...</th>\n",
       "      <td>...</td>\n",
       "      <td>...</td>\n",
       "    </tr>\n",
       "    <tr>\n",
       "      <th>852</th>\n",
       "      <td>KIT COZINHA DE MADEI</td>\n",
       "      <td>3</td>\n",
       "    </tr>\n",
       "    <tr>\n",
       "      <th>853</th>\n",
       "      <td>TOALHA UMEDECIDA</td>\n",
       "      <td>3</td>\n",
       "    </tr>\n",
       "    <tr>\n",
       "      <th>854</th>\n",
       "      <td>ADEGA 1</td>\n",
       "      <td>2</td>\n",
       "    </tr>\n",
       "    <tr>\n",
       "      <th>855</th>\n",
       "      <td>SABONETE LÍQUIDO</td>\n",
       "      <td>2</td>\n",
       "    </tr>\n",
       "    <tr>\n",
       "      <th>856</th>\n",
       "      <td>ARQ/GAVETEIRO ESCRIT</td>\n",
       "      <td>2</td>\n",
       "    </tr>\n",
       "  </tbody>\n",
       "</table>\n",
       "<p>857 rows × 2 columns</p>\n",
       "</div>"
      ],
      "text/plain": [
       "                 Produtos Devolvidos\n",
       "0     SPLIT 10001 À 18000         57\n",
       "1     SPLIT 18001 À 30000         55\n",
       "2     TV LED DE 48\" À 54\"         19\n",
       "3    TANQUINHO/SEMI-AUTOM         16\n",
       "4           TV LED DE 32\"         16\n",
       "..                    ...        ...\n",
       "852  KIT COZINHA DE MADEI          3\n",
       "853      TOALHA UMEDECIDA          3\n",
       "854               ADEGA 1          2\n",
       "855      SABONETE LÍQUIDO          2\n",
       "856  ARQ/GAVETEIRO ESCRIT          2\n",
       "\n",
       "[857 rows x 2 columns]"
      ]
     },
     "execution_count": 33,
     "metadata": {},
     "output_type": "execute_result"
    }
   ],
   "source": [
    "condicao = df1.produto_devolvido == \"Sim\"\n",
    "devolvidos = df1[condicao].tipo_de_mercadoria.value_counts()\n",
    "dataframe4 = pd.DataFrame([devolvidos.index, devolvidos.values], index=[\"Produtos\", \"Devolvidos\"]).T\n",
    "dataframe4"
   ]
  },
  {
   "cell_type": "markdown",
   "id": "691ebb7f",
   "metadata": {
    "id": "691ebb7f"
   },
   "source": [
    "### O produto com mais devoluções"
   ]
  },
  {
   "cell_type": "code",
   "execution_count": 34,
   "id": "c8e90f54",
   "metadata": {
    "id": "c8e90f54",
    "outputId": "ee389291-a233-4fc4-dbd5-09cb063e5359"
   },
   "outputs": [
    {
     "data": {
      "text/html": [
       "<div>\n",
       "<style scoped>\n",
       "    .dataframe tbody tr th:only-of-type {\n",
       "        vertical-align: middle;\n",
       "    }\n",
       "\n",
       "    .dataframe tbody tr th {\n",
       "        vertical-align: top;\n",
       "    }\n",
       "\n",
       "    .dataframe thead th {\n",
       "        text-align: right;\n",
       "    }\n",
       "</style>\n",
       "<table border=\"1\" class=\"dataframe\">\n",
       "  <thead>\n",
       "    <tr style=\"text-align: right;\">\n",
       "      <th></th>\n",
       "      <th>Produtos</th>\n",
       "      <th>Devolvidos</th>\n",
       "    </tr>\n",
       "  </thead>\n",
       "  <tbody>\n",
       "    <tr>\n",
       "      <th>0</th>\n",
       "      <td>SPLIT 10001 À 18000</td>\n",
       "      <td>57</td>\n",
       "    </tr>\n",
       "  </tbody>\n",
       "</table>\n",
       "</div>"
      ],
      "text/plain": [
       "              Produtos Devolvidos\n",
       "0  SPLIT 10001 À 18000         57"
      ]
     },
     "execution_count": 34,
     "metadata": {},
     "output_type": "execute_result"
    }
   ],
   "source": [
    "dataframe4.head(1)"
   ]
  },
  {
   "cell_type": "markdown",
   "id": "f2f2375c",
   "metadata": {
    "id": "f2f2375c"
   },
   "source": [
    "###  O produto com menos devoluções"
   ]
  },
  {
   "cell_type": "code",
   "execution_count": 35,
   "id": "21746e15",
   "metadata": {
    "id": "21746e15",
    "outputId": "53c3fed2-80e8-4551-a7a5-b2f36879cd14"
   },
   "outputs": [
    {
     "data": {
      "text/html": [
       "<div>\n",
       "<style scoped>\n",
       "    .dataframe tbody tr th:only-of-type {\n",
       "        vertical-align: middle;\n",
       "    }\n",
       "\n",
       "    .dataframe tbody tr th {\n",
       "        vertical-align: top;\n",
       "    }\n",
       "\n",
       "    .dataframe thead th {\n",
       "        text-align: right;\n",
       "    }\n",
       "</style>\n",
       "<table border=\"1\" class=\"dataframe\">\n",
       "  <thead>\n",
       "    <tr style=\"text-align: right;\">\n",
       "      <th></th>\n",
       "      <th>Produtos</th>\n",
       "      <th>Devolvidos</th>\n",
       "    </tr>\n",
       "  </thead>\n",
       "  <tbody>\n",
       "    <tr>\n",
       "      <th>856</th>\n",
       "      <td>ARQ/GAVETEIRO ESCRIT</td>\n",
       "      <td>2</td>\n",
       "    </tr>\n",
       "  </tbody>\n",
       "</table>\n",
       "</div>"
      ],
      "text/plain": [
       "                 Produtos Devolvidos\n",
       "856  ARQ/GAVETEIRO ESCRIT          2"
      ]
     },
     "execution_count": 35,
     "metadata": {},
     "output_type": "execute_result"
    }
   ],
   "source": [
    "dataframe4.tail(1)"
   ]
  },
  {
   "cell_type": "markdown",
   "id": "9b79b21f",
   "metadata": {
    "id": "9b79b21f"
   },
   "source": [
    "###  O total de imposto de cada produto"
   ]
  },
  {
   "cell_type": "code",
   "execution_count": 36,
   "id": "59a61403",
   "metadata": {
    "id": "59a61403",
    "outputId": "241eea13-f8e9-4245-bdb1-e49b029d6822",
    "scrolled": false
   },
   "outputs": [
    {
     "data": {
      "text/html": [
       "<div>\n",
       "<style scoped>\n",
       "    .dataframe tbody tr th:only-of-type {\n",
       "        vertical-align: middle;\n",
       "    }\n",
       "\n",
       "    .dataframe tbody tr th {\n",
       "        vertical-align: top;\n",
       "    }\n",
       "\n",
       "    .dataframe thead th {\n",
       "        text-align: right;\n",
       "    }\n",
       "</style>\n",
       "<table border=\"1\" class=\"dataframe\">\n",
       "  <thead>\n",
       "    <tr style=\"text-align: right;\">\n",
       "      <th></th>\n",
       "      <th>Produtos</th>\n",
       "      <th>Imposto</th>\n",
       "    </tr>\n",
       "  </thead>\n",
       "  <tbody>\n",
       "    <tr>\n",
       "      <th>3</th>\n",
       "      <td>SPLIT 10001 À 18000</td>\n",
       "      <td>9478.9764</td>\n",
       "    </tr>\n",
       "    <tr>\n",
       "      <th>4</th>\n",
       "      <td>SPLIT 18001 À 30000</td>\n",
       "      <td>7004.4372</td>\n",
       "    </tr>\n",
       "    <tr>\n",
       "      <th>2</th>\n",
       "      <td>SPLIT ACIMA DE 30000</td>\n",
       "      <td>3900.1932</td>\n",
       "    </tr>\n",
       "    <tr>\n",
       "      <th>14</th>\n",
       "      <td>TV LED DE 48\" À 54\"</td>\n",
       "      <td>3750.9372</td>\n",
       "    </tr>\n",
       "    <tr>\n",
       "      <th>412</th>\n",
       "      <td>SPLIT INV18001À30000</td>\n",
       "      <td>3211.3476</td>\n",
       "    </tr>\n",
       "    <tr>\n",
       "      <th>...</th>\n",
       "      <td>...</td>\n",
       "      <td>...</td>\n",
       "    </tr>\n",
       "    <tr>\n",
       "      <th>803</th>\n",
       "      <td>AGULHAS E SERINGAS</td>\n",
       "      <td>11.11194</td>\n",
       "    </tr>\n",
       "    <tr>\n",
       "      <th>328</th>\n",
       "      <td>TELEVISOR LCD 2</td>\n",
       "      <td>10.82466</td>\n",
       "    </tr>\n",
       "    <tr>\n",
       "      <th>456</th>\n",
       "      <td>AR COND JANELA 2</td>\n",
       "      <td>10.38888</td>\n",
       "    </tr>\n",
       "    <tr>\n",
       "      <th>466</th>\n",
       "      <td>BEBEDOURO 2</td>\n",
       "      <td>9.99288</td>\n",
       "    </tr>\n",
       "    <tr>\n",
       "      <th>331</th>\n",
       "      <td>GELADEIRA 1</td>\n",
       "      <td>9.4725</td>\n",
       "    </tr>\n",
       "  </tbody>\n",
       "</table>\n",
       "<p>857 rows × 2 columns</p>\n",
       "</div>"
      ],
      "text/plain": [
       "                 Produtos    Imposto\n",
       "3     SPLIT 10001 À 18000  9478.9764\n",
       "4     SPLIT 18001 À 30000  7004.4372\n",
       "2    SPLIT ACIMA DE 30000  3900.1932\n",
       "14    TV LED DE 48\" À 54\"  3750.9372\n",
       "412  SPLIT INV18001À30000  3211.3476\n",
       "..                    ...        ...\n",
       "803    AGULHAS E SERINGAS   11.11194\n",
       "328       TELEVISOR LCD 2   10.82466\n",
       "456      AR COND JANELA 2   10.38888\n",
       "466           BEBEDOURO 2    9.99288\n",
       "331           GELADEIRA 1     9.4725\n",
       "\n",
       "[857 rows x 2 columns]"
      ]
     },
     "execution_count": 36,
     "metadata": {},
     "output_type": "execute_result"
    }
   ],
   "source": [
    "icms = np.array([])\n",
    "\n",
    "for produto in produtos:\n",
    "    condicao = df1.tipo_de_mercadoria == produto\n",
    "    imposto = df1[condicao].imposto.sum()\n",
    "    icms = np.append(icms, imposto)\n",
    "    \n",
    "dataframe5 = pd.DataFrame([produtos, icms], index=[\"Produtos\",\"Imposto\"]).T.sort_values(by=[\"Imposto\"], ascending=False)\n",
    "dataframe5"
   ]
  },
  {
   "cell_type": "markdown",
   "id": "01dc3a4f",
   "metadata": {
    "id": "01dc3a4f"
   },
   "source": [
    "### O total de imposto dos produtos"
   ]
  },
  {
   "cell_type": "code",
   "execution_count": 37,
   "id": "9c3ef974",
   "metadata": {
    "id": "9c3ef974",
    "outputId": "c6a8b79b-f3f8-43dc-e7dd-99f7c15e3ebc"
   },
   "outputs": [
    {
     "data": {
      "text/plain": [
       "'82.442,89'"
      ]
     },
     "execution_count": 37,
     "metadata": {},
     "output_type": "execute_result"
    }
   ],
   "source": [
    "moeda(dataframe5.Imposto.sum())"
   ]
  },
  {
   "cell_type": "markdown",
   "id": "1a36d8ea",
   "metadata": {
    "id": "1a36d8ea"
   },
   "source": [
    "### O produto vendido que pagou mais imposto"
   ]
  },
  {
   "cell_type": "code",
   "execution_count": 38,
   "id": "6ad0a731",
   "metadata": {
    "id": "6ad0a731",
    "outputId": "3e976156-bb3b-4df9-f554-d0ebd70fb733"
   },
   "outputs": [
    {
     "data": {
      "text/html": [
       "<div>\n",
       "<style scoped>\n",
       "    .dataframe tbody tr th:only-of-type {\n",
       "        vertical-align: middle;\n",
       "    }\n",
       "\n",
       "    .dataframe tbody tr th {\n",
       "        vertical-align: top;\n",
       "    }\n",
       "\n",
       "    .dataframe thead th {\n",
       "        text-align: right;\n",
       "    }\n",
       "</style>\n",
       "<table border=\"1\" class=\"dataframe\">\n",
       "  <thead>\n",
       "    <tr style=\"text-align: right;\">\n",
       "      <th></th>\n",
       "      <th>Produtos</th>\n",
       "      <th>Imposto</th>\n",
       "    </tr>\n",
       "  </thead>\n",
       "  <tbody>\n",
       "    <tr>\n",
       "      <th>3</th>\n",
       "      <td>SPLIT 10001 À 18000</td>\n",
       "      <td>9478.9764</td>\n",
       "    </tr>\n",
       "  </tbody>\n",
       "</table>\n",
       "</div>"
      ],
      "text/plain": [
       "              Produtos    Imposto\n",
       "3  SPLIT 10001 À 18000  9478.9764"
      ]
     },
     "execution_count": 38,
     "metadata": {},
     "output_type": "execute_result"
    }
   ],
   "source": [
    "dataframe5.head(1)"
   ]
  },
  {
   "cell_type": "markdown",
   "id": "b2f88abd",
   "metadata": {
    "id": "b2f88abd"
   },
   "source": [
    "### O produto vendido que pagou menos imposto"
   ]
  },
  {
   "cell_type": "code",
   "execution_count": 39,
   "id": "de8c095c",
   "metadata": {
    "id": "de8c095c",
    "outputId": "ea4728cf-338f-40d0-c3e2-ee5b9e86f228"
   },
   "outputs": [
    {
     "data": {
      "text/html": [
       "<div>\n",
       "<style scoped>\n",
       "    .dataframe tbody tr th:only-of-type {\n",
       "        vertical-align: middle;\n",
       "    }\n",
       "\n",
       "    .dataframe tbody tr th {\n",
       "        vertical-align: top;\n",
       "    }\n",
       "\n",
       "    .dataframe thead th {\n",
       "        text-align: right;\n",
       "    }\n",
       "</style>\n",
       "<table border=\"1\" class=\"dataframe\">\n",
       "  <thead>\n",
       "    <tr style=\"text-align: right;\">\n",
       "      <th></th>\n",
       "      <th>Produtos</th>\n",
       "      <th>Imposto</th>\n",
       "    </tr>\n",
       "  </thead>\n",
       "  <tbody>\n",
       "    <tr>\n",
       "      <th>331</th>\n",
       "      <td>GELADEIRA 1</td>\n",
       "      <td>9.4725</td>\n",
       "    </tr>\n",
       "  </tbody>\n",
       "</table>\n",
       "</div>"
      ],
      "text/plain": [
       "        Produtos Imposto\n",
       "331  GELADEIRA 1  9.4725"
      ]
     },
     "execution_count": 39,
     "metadata": {},
     "output_type": "execute_result"
    }
   ],
   "source": [
    "dataframe5.tail(1)"
   ]
  },
  {
   "cell_type": "markdown",
   "id": "d849ca00",
   "metadata": {
    "id": "d849ca00"
   },
   "source": [
    "### O total do valor de vendas de cada produto em cada filial"
   ]
  },
  {
   "cell_type": "code",
   "execution_count": 40,
   "id": "f3988a27",
   "metadata": {
    "id": "f3988a27"
   },
   "outputs": [],
   "source": [
    "lista_dataframes = dict()\n",
    "\n",
    "for loja in filiais:\n",
    "    vendas = np.array([])\n",
    "    \n",
    "    for produto in produtos:\n",
    "        condicao1 = df1.filial == loja\n",
    "        condicao2 = df1.tipo_de_mercadoria == produto\n",
    "        \n",
    "        soma = df1[condicao1 & condicao2].valor_compra.sum()\n",
    "        vendas = np.append(vendas, soma)\n",
    "        \n",
    "    dataframe6 = pd.DataFrame([produtos, vendas], index=[\"Produtos\", \"Valor_Vendas\"]).T\n",
    "    lista_dataframes[loja] = dataframe6.sort_values(by=[\"Valor_Vendas\"], ascending=False)"
   ]
  },
  {
   "cell_type": "markdown",
   "id": "003910ac",
   "metadata": {
    "id": "003910ac"
   },
   "source": [
    "### Total de Vendas da Loja Autazes"
   ]
  },
  {
   "cell_type": "code",
   "execution_count": 41,
   "id": "4045ae76",
   "metadata": {
    "id": "4045ae76",
    "outputId": "b4819c10-2f1f-4267-9c79-4fd6d492318f"
   },
   "outputs": [
    {
     "data": {
      "text/html": [
       "<div>\n",
       "<style scoped>\n",
       "    .dataframe tbody tr th:only-of-type {\n",
       "        vertical-align: middle;\n",
       "    }\n",
       "\n",
       "    .dataframe tbody tr th {\n",
       "        vertical-align: top;\n",
       "    }\n",
       "\n",
       "    .dataframe thead th {\n",
       "        text-align: right;\n",
       "    }\n",
       "</style>\n",
       "<table border=\"1\" class=\"dataframe\">\n",
       "  <thead>\n",
       "    <tr style=\"text-align: right;\">\n",
       "      <th></th>\n",
       "      <th>Produtos</th>\n",
       "      <th>Valor_Vendas</th>\n",
       "    </tr>\n",
       "  </thead>\n",
       "  <tbody>\n",
       "    <tr>\n",
       "      <th>4</th>\n",
       "      <td>SPLIT 18001 À 30000</td>\n",
       "      <td>26467.92</td>\n",
       "    </tr>\n",
       "    <tr>\n",
       "      <th>3</th>\n",
       "      <td>SPLIT 10001 À 18000</td>\n",
       "      <td>24860.88</td>\n",
       "    </tr>\n",
       "    <tr>\n",
       "      <th>0</th>\n",
       "      <td>SPLIT 8501 À 10000</td>\n",
       "      <td>10045.68</td>\n",
       "    </tr>\n",
       "    <tr>\n",
       "      <th>17</th>\n",
       "      <td>TV 4K ATÉ 59\"</td>\n",
       "      <td>9579.36</td>\n",
       "    </tr>\n",
       "    <tr>\n",
       "      <th>12</th>\n",
       "      <td>TV LED DE 32\"</td>\n",
       "      <td>9091.2</td>\n",
       "    </tr>\n",
       "    <tr>\n",
       "      <th>...</th>\n",
       "      <td>...</td>\n",
       "      <td>...</td>\n",
       "    </tr>\n",
       "    <tr>\n",
       "      <th>129</th>\n",
       "      <td>CONJ LOUÇA JANTAR</td>\n",
       "      <td>0.0</td>\n",
       "    </tr>\n",
       "    <tr>\n",
       "      <th>135</th>\n",
       "      <td>COMPL COZ DE AÇO</td>\n",
       "      <td>0.0</td>\n",
       "    </tr>\n",
       "    <tr>\n",
       "      <th>130</th>\n",
       "      <td>CAÇAROLA</td>\n",
       "      <td>0.0</td>\n",
       "    </tr>\n",
       "    <tr>\n",
       "      <th>382</th>\n",
       "      <td>ACESS. P/ BICICLETA</td>\n",
       "      <td>0.0</td>\n",
       "    </tr>\n",
       "    <tr>\n",
       "      <th>270</th>\n",
       "      <td>FILTRO M CONSTRUÇÃO</td>\n",
       "      <td>0.0</td>\n",
       "    </tr>\n",
       "  </tbody>\n",
       "</table>\n",
       "<p>857 rows × 2 columns</p>\n",
       "</div>"
      ],
      "text/plain": [
       "                Produtos Valor_Vendas\n",
       "4    SPLIT 18001 À 30000     26467.92\n",
       "3    SPLIT 10001 À 18000     24860.88\n",
       "0     SPLIT 8501 À 10000     10045.68\n",
       "17         TV 4K ATÉ 59\"      9579.36\n",
       "12         TV LED DE 32\"       9091.2\n",
       "..                   ...          ...\n",
       "129    CONJ LOUÇA JANTAR          0.0\n",
       "135     COMPL COZ DE AÇO          0.0\n",
       "130             CAÇAROLA          0.0\n",
       "382  ACESS. P/ BICICLETA          0.0\n",
       "270  FILTRO M CONSTRUÇÃO          0.0\n",
       "\n",
       "[857 rows x 2 columns]"
      ]
     },
     "execution_count": 41,
     "metadata": {},
     "output_type": "execute_result"
    }
   ],
   "source": [
    "lista_dataframes['Loja Autazes']"
   ]
  },
  {
   "cell_type": "markdown",
   "id": "8cc126e7",
   "metadata": {
    "id": "8cc126e7"
   },
   "source": [
    "### Total de Vendas da Loja Manicoré"
   ]
  },
  {
   "cell_type": "code",
   "execution_count": 42,
   "id": "85c98432",
   "metadata": {
    "id": "85c98432",
    "outputId": "d8ab98a6-8437-4c1d-dde2-1107f57f1089"
   },
   "outputs": [
    {
     "data": {
      "text/html": [
       "<div>\n",
       "<style scoped>\n",
       "    .dataframe tbody tr th:only-of-type {\n",
       "        vertical-align: middle;\n",
       "    }\n",
       "\n",
       "    .dataframe tbody tr th {\n",
       "        vertical-align: top;\n",
       "    }\n",
       "\n",
       "    .dataframe thead th {\n",
       "        text-align: right;\n",
       "    }\n",
       "</style>\n",
       "<table border=\"1\" class=\"dataframe\">\n",
       "  <thead>\n",
       "    <tr style=\"text-align: right;\">\n",
       "      <th></th>\n",
       "      <th>Produtos</th>\n",
       "      <th>Valor_Vendas</th>\n",
       "    </tr>\n",
       "  </thead>\n",
       "  <tbody>\n",
       "    <tr>\n",
       "      <th>3</th>\n",
       "      <td>SPLIT 10001 À 18000</td>\n",
       "      <td>117295.68</td>\n",
       "    </tr>\n",
       "    <tr>\n",
       "      <th>4</th>\n",
       "      <td>SPLIT 18001 À 30000</td>\n",
       "      <td>58812.0</td>\n",
       "    </tr>\n",
       "    <tr>\n",
       "      <th>412</th>\n",
       "      <td>SPLIT INV18001À30000</td>\n",
       "      <td>58611.12</td>\n",
       "    </tr>\n",
       "    <tr>\n",
       "      <th>14</th>\n",
       "      <td>TV LED DE 48\" À 54\"</td>\n",
       "      <td>56574.24</td>\n",
       "    </tr>\n",
       "    <tr>\n",
       "      <th>2</th>\n",
       "      <td>SPLIT ACIMA DE 30000</td>\n",
       "      <td>42071.76</td>\n",
       "    </tr>\n",
       "    <tr>\n",
       "      <th>...</th>\n",
       "      <td>...</td>\n",
       "      <td>...</td>\n",
       "    </tr>\n",
       "    <tr>\n",
       "      <th>788</th>\n",
       "      <td>HIDRATANTE FACIAL</td>\n",
       "      <td>8.692</td>\n",
       "    </tr>\n",
       "    <tr>\n",
       "      <th>819</th>\n",
       "      <td>GEL ANTISSÉPTICO</td>\n",
       "      <td>8.348</td>\n",
       "    </tr>\n",
       "    <tr>\n",
       "      <th>258</th>\n",
       "      <td>CONJ PLAYSET/MENINOS</td>\n",
       "      <td>6.208</td>\n",
       "    </tr>\n",
       "    <tr>\n",
       "      <th>465</th>\n",
       "      <td>RÁDIOS AUTO 2</td>\n",
       "      <td>5.94</td>\n",
       "    </tr>\n",
       "    <tr>\n",
       "      <th>793</th>\n",
       "      <td>MEIA DE COMPRESSÃO</td>\n",
       "      <td>0.0</td>\n",
       "    </tr>\n",
       "  </tbody>\n",
       "</table>\n",
       "<p>857 rows × 2 columns</p>\n",
       "</div>"
      ],
      "text/plain": [
       "                 Produtos Valor_Vendas\n",
       "3     SPLIT 10001 À 18000    117295.68\n",
       "4     SPLIT 18001 À 30000      58812.0\n",
       "412  SPLIT INV18001À30000     58611.12\n",
       "14    TV LED DE 48\" À 54\"     56574.24\n",
       "2    SPLIT ACIMA DE 30000     42071.76\n",
       "..                    ...          ...\n",
       "788     HIDRATANTE FACIAL        8.692\n",
       "819      GEL ANTISSÉPTICO        8.348\n",
       "258  CONJ PLAYSET/MENINOS        6.208\n",
       "465         RÁDIOS AUTO 2         5.94\n",
       "793    MEIA DE COMPRESSÃO          0.0\n",
       "\n",
       "[857 rows x 2 columns]"
      ]
     },
     "execution_count": 42,
     "metadata": {},
     "output_type": "execute_result"
    }
   ],
   "source": [
    "lista_dataframes['Loja Manicoré']"
   ]
  },
  {
   "cell_type": "markdown",
   "id": "c6cf01cc",
   "metadata": {
    "id": "c6cf01cc"
   },
   "source": [
    "### Total de Vendas da Loja Lábrea"
   ]
  },
  {
   "cell_type": "code",
   "execution_count": 43,
   "id": "ef76ff3b",
   "metadata": {
    "id": "ef76ff3b",
    "outputId": "1d9f9500-659b-4424-e595-eca4bf82c7e7"
   },
   "outputs": [
    {
     "data": {
      "text/html": [
       "<div>\n",
       "<style scoped>\n",
       "    .dataframe tbody tr th:only-of-type {\n",
       "        vertical-align: middle;\n",
       "    }\n",
       "\n",
       "    .dataframe tbody tr th {\n",
       "        vertical-align: top;\n",
       "    }\n",
       "\n",
       "    .dataframe thead th {\n",
       "        text-align: right;\n",
       "    }\n",
       "</style>\n",
       "<table border=\"1\" class=\"dataframe\">\n",
       "  <thead>\n",
       "    <tr style=\"text-align: right;\">\n",
       "      <th></th>\n",
       "      <th>Produtos</th>\n",
       "      <th>Valor_Vendas</th>\n",
       "    </tr>\n",
       "  </thead>\n",
       "  <tbody>\n",
       "    <tr>\n",
       "      <th>3</th>\n",
       "      <td>SPLIT 10001 À 18000</td>\n",
       "      <td>62978.4</td>\n",
       "    </tr>\n",
       "    <tr>\n",
       "      <th>4</th>\n",
       "      <td>SPLIT 18001 À 30000</td>\n",
       "      <td>60448.56</td>\n",
       "    </tr>\n",
       "    <tr>\n",
       "      <th>478</th>\n",
       "      <td>TV LED ACIMA DE 65\"</td>\n",
       "      <td>24965.52</td>\n",
       "    </tr>\n",
       "    <tr>\n",
       "      <th>64</th>\n",
       "      <td>SPLIT ATÉ 8500 BTUS</td>\n",
       "      <td>21507.12</td>\n",
       "    </tr>\n",
       "    <tr>\n",
       "      <th>471</th>\n",
       "      <td>TV 4K ACIMA DE 69\"</td>\n",
       "      <td>16160.88</td>\n",
       "    </tr>\n",
       "    <tr>\n",
       "      <th>...</th>\n",
       "      <td>...</td>\n",
       "      <td>...</td>\n",
       "    </tr>\n",
       "    <tr>\n",
       "      <th>546</th>\n",
       "      <td>FIO E FITA DENTAL</td>\n",
       "      <td>2.792</td>\n",
       "    </tr>\n",
       "    <tr>\n",
       "      <th>110</th>\n",
       "      <td>LIXADEIRA</td>\n",
       "      <td>2.356</td>\n",
       "    </tr>\n",
       "    <tr>\n",
       "      <th>780</th>\n",
       "      <td>CURATIVO</td>\n",
       "      <td>1.796</td>\n",
       "    </tr>\n",
       "    <tr>\n",
       "      <th>300</th>\n",
       "      <td>NOTEBOOK</td>\n",
       "      <td>0.792</td>\n",
       "    </tr>\n",
       "    <tr>\n",
       "      <th>113</th>\n",
       "      <td>MARTELETE</td>\n",
       "      <td>0.0</td>\n",
       "    </tr>\n",
       "  </tbody>\n",
       "</table>\n",
       "<p>857 rows × 2 columns</p>\n",
       "</div>"
      ],
      "text/plain": [
       "                Produtos Valor_Vendas\n",
       "3    SPLIT 10001 À 18000      62978.4\n",
       "4    SPLIT 18001 À 30000     60448.56\n",
       "478  TV LED ACIMA DE 65\"     24965.52\n",
       "64   SPLIT ATÉ 8500 BTUS     21507.12\n",
       "471   TV 4K ACIMA DE 69\"     16160.88\n",
       "..                   ...          ...\n",
       "546    FIO E FITA DENTAL        2.792\n",
       "110            LIXADEIRA        2.356\n",
       "780             CURATIVO        1.796\n",
       "300             NOTEBOOK        0.792\n",
       "113            MARTELETE          0.0\n",
       "\n",
       "[857 rows x 2 columns]"
      ]
     },
     "execution_count": 43,
     "metadata": {},
     "output_type": "execute_result"
    }
   ],
   "source": [
    "lista_dataframes['Loja Lábrea']"
   ]
  },
  {
   "cell_type": "markdown",
   "id": "8cac09e6",
   "metadata": {
    "id": "8cac09e6"
   },
   "source": [
    "### Total de Vendas da Loja Itacoatiara"
   ]
  },
  {
   "cell_type": "code",
   "execution_count": 44,
   "id": "a02429d0",
   "metadata": {
    "id": "a02429d0",
    "outputId": "6887d887-ed7e-4e4f-8f8f-724c9209119b"
   },
   "outputs": [
    {
     "data": {
      "text/html": [
       "<div>\n",
       "<style scoped>\n",
       "    .dataframe tbody tr th:only-of-type {\n",
       "        vertical-align: middle;\n",
       "    }\n",
       "\n",
       "    .dataframe tbody tr th {\n",
       "        vertical-align: top;\n",
       "    }\n",
       "\n",
       "    .dataframe thead th {\n",
       "        text-align: right;\n",
       "    }\n",
       "</style>\n",
       "<table border=\"1\" class=\"dataframe\">\n",
       "  <thead>\n",
       "    <tr style=\"text-align: right;\">\n",
       "      <th></th>\n",
       "      <th>Produtos</th>\n",
       "      <th>Valor_Vendas</th>\n",
       "    </tr>\n",
       "  </thead>\n",
       "  <tbody>\n",
       "    <tr>\n",
       "      <th>500</th>\n",
       "      <td>TV OLED / QLED</td>\n",
       "      <td>45852.0</td>\n",
       "    </tr>\n",
       "    <tr>\n",
       "      <th>19</th>\n",
       "      <td>TV LED DE 21\" À 24\"</td>\n",
       "      <td>17841.84</td>\n",
       "    </tr>\n",
       "    <tr>\n",
       "      <th>514</th>\n",
       "      <td>AR COND SPLIT 2</td>\n",
       "      <td>17184.24</td>\n",
       "    </tr>\n",
       "    <tr>\n",
       "      <th>14</th>\n",
       "      <td>TV LED DE 48\" À 54\"</td>\n",
       "      <td>9811.92</td>\n",
       "    </tr>\n",
       "    <tr>\n",
       "      <th>18</th>\n",
       "      <td>TV 4K DE 60\" À 69\"</td>\n",
       "      <td>9003.12</td>\n",
       "    </tr>\n",
       "    <tr>\n",
       "      <th>...</th>\n",
       "      <td>...</td>\n",
       "      <td>...</td>\n",
       "    </tr>\n",
       "    <tr>\n",
       "      <th>162</th>\n",
       "      <td>BRINC E FAZ DE CONTA</td>\n",
       "      <td>0.0</td>\n",
       "    </tr>\n",
       "    <tr>\n",
       "      <th>166</th>\n",
       "      <td>CERCADO</td>\n",
       "      <td>0.0</td>\n",
       "    </tr>\n",
       "    <tr>\n",
       "      <th>554</th>\n",
       "      <td>LUBRIFICANTES</td>\n",
       "      <td>0.0</td>\n",
       "    </tr>\n",
       "    <tr>\n",
       "      <th>716</th>\n",
       "      <td>ANTIGLAUCOMATOSO REF</td>\n",
       "      <td>0.0</td>\n",
       "    </tr>\n",
       "    <tr>\n",
       "      <th>667</th>\n",
       "      <td>TALCO P/ PÉS</td>\n",
       "      <td>0.0</td>\n",
       "    </tr>\n",
       "  </tbody>\n",
       "</table>\n",
       "<p>857 rows × 2 columns</p>\n",
       "</div>"
      ],
      "text/plain": [
       "                 Produtos Valor_Vendas\n",
       "500        TV OLED / QLED      45852.0\n",
       "19    TV LED DE 21\" À 24\"     17841.84\n",
       "514       AR COND SPLIT 2     17184.24\n",
       "14    TV LED DE 48\" À 54\"      9811.92\n",
       "18     TV 4K DE 60\" À 69\"      9003.12\n",
       "..                    ...          ...\n",
       "162  BRINC E FAZ DE CONTA          0.0\n",
       "166               CERCADO          0.0\n",
       "554         LUBRIFICANTES          0.0\n",
       "716  ANTIGLAUCOMATOSO REF          0.0\n",
       "667          TALCO P/ PÉS          0.0\n",
       "\n",
       "[857 rows x 2 columns]"
      ]
     },
     "execution_count": 44,
     "metadata": {},
     "output_type": "execute_result"
    }
   ],
   "source": [
    "lista_dataframes['Loja Itacoatiara']"
   ]
  },
  {
   "cell_type": "markdown",
   "id": "8cb12f67",
   "metadata": {
    "id": "8cb12f67"
   },
   "source": [
    "### Total de Vendas da Loja Manacapuru"
   ]
  },
  {
   "cell_type": "code",
   "execution_count": 45,
   "id": "11024464",
   "metadata": {
    "id": "11024464",
    "outputId": "fabc3bfd-f0bc-4cd0-cf0c-f5c92083e34a"
   },
   "outputs": [
    {
     "data": {
      "text/html": [
       "<div>\n",
       "<style scoped>\n",
       "    .dataframe tbody tr th:only-of-type {\n",
       "        vertical-align: middle;\n",
       "    }\n",
       "\n",
       "    .dataframe tbody tr th {\n",
       "        vertical-align: top;\n",
       "    }\n",
       "\n",
       "    .dataframe thead th {\n",
       "        text-align: right;\n",
       "    }\n",
       "</style>\n",
       "<table border=\"1\" class=\"dataframe\">\n",
       "  <thead>\n",
       "    <tr style=\"text-align: right;\">\n",
       "      <th></th>\n",
       "      <th>Produtos</th>\n",
       "      <th>Valor_Vendas</th>\n",
       "    </tr>\n",
       "  </thead>\n",
       "  <tbody>\n",
       "    <tr>\n",
       "      <th>2</th>\n",
       "      <td>SPLIT ACIMA DE 30000</td>\n",
       "      <td>26137.68</td>\n",
       "    </tr>\n",
       "    <tr>\n",
       "      <th>19</th>\n",
       "      <td>TV LED DE 21\" À 24\"</td>\n",
       "      <td>9174.72</td>\n",
       "    </tr>\n",
       "    <tr>\n",
       "      <th>284</th>\n",
       "      <td>TV LED DE 55\" À 59\"</td>\n",
       "      <td>7087.44</td>\n",
       "    </tr>\n",
       "    <tr>\n",
       "      <th>471</th>\n",
       "      <td>TV 4K ACIMA DE 69\"</td>\n",
       "      <td>6273.36</td>\n",
       "    </tr>\n",
       "    <tr>\n",
       "      <th>412</th>\n",
       "      <td>SPLIT INV18001À30000</td>\n",
       "      <td>5434.32</td>\n",
       "    </tr>\n",
       "    <tr>\n",
       "      <th>...</th>\n",
       "      <td>...</td>\n",
       "      <td>...</td>\n",
       "    </tr>\n",
       "    <tr>\n",
       "      <th>695</th>\n",
       "      <td>ANTIASMÁTICO REF</td>\n",
       "      <td>0.0</td>\n",
       "    </tr>\n",
       "    <tr>\n",
       "      <th>833</th>\n",
       "      <td>SORVETE E PICOLÉ</td>\n",
       "      <td>0.0</td>\n",
       "    </tr>\n",
       "    <tr>\n",
       "      <th>834</th>\n",
       "      <td>TÔNICO ADSTRINGENTE</td>\n",
       "      <td>0.0</td>\n",
       "    </tr>\n",
       "    <tr>\n",
       "      <th>835</th>\n",
       "      <td>ACESS DE MAQUIAGEM</td>\n",
       "      <td>0.0</td>\n",
       "    </tr>\n",
       "    <tr>\n",
       "      <th>222</th>\n",
       "      <td>ACESS DE MEDICINA</td>\n",
       "      <td>0.0</td>\n",
       "    </tr>\n",
       "  </tbody>\n",
       "</table>\n",
       "<p>857 rows × 2 columns</p>\n",
       "</div>"
      ],
      "text/plain": [
       "                 Produtos Valor_Vendas\n",
       "2    SPLIT ACIMA DE 30000     26137.68\n",
       "19    TV LED DE 21\" À 24\"      9174.72\n",
       "284   TV LED DE 55\" À 59\"      7087.44\n",
       "471    TV 4K ACIMA DE 69\"      6273.36\n",
       "412  SPLIT INV18001À30000      5434.32\n",
       "..                    ...          ...\n",
       "695      ANTIASMÁTICO REF          0.0\n",
       "833      SORVETE E PICOLÉ          0.0\n",
       "834   TÔNICO ADSTRINGENTE          0.0\n",
       "835    ACESS DE MAQUIAGEM          0.0\n",
       "222     ACESS DE MEDICINA          0.0\n",
       "\n",
       "[857 rows x 2 columns]"
      ]
     },
     "execution_count": 45,
     "metadata": {},
     "output_type": "execute_result"
    }
   ],
   "source": [
    "lista_dataframes['Loja Manacapuru']"
   ]
  },
  {
   "cell_type": "markdown",
   "id": "bb1636ad",
   "metadata": {
    "id": "bb1636ad"
   },
   "source": [
    "### O total de vendas em cada filial e o montante em vendas"
   ]
  },
  {
   "cell_type": "code",
   "execution_count": 46,
   "id": "0bdb3b77",
   "metadata": {
    "id": "0bdb3b77",
    "outputId": "63bc705a-312f-4634-c154-296fd518fd24",
    "scrolled": true
   },
   "outputs": [
    {
     "data": {
      "text/html": [
       "<div>\n",
       "<style scoped>\n",
       "    .dataframe tbody tr th:only-of-type {\n",
       "        vertical-align: middle;\n",
       "    }\n",
       "\n",
       "    .dataframe tbody tr th {\n",
       "        vertical-align: top;\n",
       "    }\n",
       "\n",
       "    .dataframe thead th {\n",
       "        text-align: right;\n",
       "    }\n",
       "</style>\n",
       "<table border=\"1\" class=\"dataframe\">\n",
       "  <thead>\n",
       "    <tr style=\"text-align: right;\">\n",
       "      <th></th>\n",
       "      <th>Unidades</th>\n",
       "      <th>Total_Vendas</th>\n",
       "      <th>Soma_Vendas</th>\n",
       "    </tr>\n",
       "  </thead>\n",
       "  <tbody>\n",
       "    <tr>\n",
       "      <th>0</th>\n",
       "      <td>Loja Autazes</td>\n",
       "      <td>1793</td>\n",
       "      <td>156479.604</td>\n",
       "    </tr>\n",
       "    <tr>\n",
       "      <th>1</th>\n",
       "      <td>Loja Manicoré</td>\n",
       "      <td>1214</td>\n",
       "      <td>234666.368</td>\n",
       "    </tr>\n",
       "    <tr>\n",
       "      <th>2</th>\n",
       "      <td>Loja Lábrea</td>\n",
       "      <td>4072</td>\n",
       "      <td>446117.764</td>\n",
       "    </tr>\n",
       "    <tr>\n",
       "      <th>3</th>\n",
       "      <td>Loja Itacoatiara</td>\n",
       "      <td>4085</td>\n",
       "      <td>794482.76</td>\n",
       "    </tr>\n",
       "    <tr>\n",
       "      <th>4</th>\n",
       "      <td>Loja Manacapuru</td>\n",
       "      <td>2713</td>\n",
       "      <td>200317.632</td>\n",
       "    </tr>\n",
       "  </tbody>\n",
       "</table>\n",
       "</div>"
      ],
      "text/plain": [
       "           Unidades Total_Vendas Soma_Vendas\n",
       "0      Loja Autazes         1793  156479.604\n",
       "1     Loja Manicoré         1214  234666.368\n",
       "2       Loja Lábrea         4072  446117.764\n",
       "3  Loja Itacoatiara         4085   794482.76\n",
       "4   Loja Manacapuru         2713  200317.632"
      ]
     },
     "execution_count": 46,
     "metadata": {},
     "output_type": "execute_result"
    }
   ],
   "source": [
    "qtde_vendas = np.array([])\n",
    "soma_vendas = np.array([])\n",
    "\n",
    "for loja in filiais:\n",
    "    condicao = df1.filial == loja\n",
    "    vendas = df1[condicao].valor_compra\n",
    "    \n",
    "    qtde_vendas = np.append(vendas.count(), qtde_vendas)\n",
    "    soma_vendas = np.append(vendas.sum(), soma_vendas)\n",
    "    \n",
    "dataframe7 = pd.DataFrame([filiais, qtde_vendas.astype(int), soma_vendas], index=[\"Unidades\", \"Total_Vendas\", \"Soma_Vendas\"]).T\n",
    "dataframe7"
   ]
  },
  {
   "cell_type": "markdown",
   "id": "1c7e20f3",
   "metadata": {
    "id": "1c7e20f3"
   },
   "source": [
    "###  A filial com mais vendas"
   ]
  },
  {
   "cell_type": "code",
   "execution_count": 47,
   "id": "77b6b745",
   "metadata": {
    "id": "77b6b745",
    "outputId": "ab065a1d-235f-4b40-ae4b-38d021c274b5"
   },
   "outputs": [
    {
     "data": {
      "text/html": [
       "<div>\n",
       "<style scoped>\n",
       "    .dataframe tbody tr th:only-of-type {\n",
       "        vertical-align: middle;\n",
       "    }\n",
       "\n",
       "    .dataframe tbody tr th {\n",
       "        vertical-align: top;\n",
       "    }\n",
       "\n",
       "    .dataframe thead th {\n",
       "        text-align: right;\n",
       "    }\n",
       "</style>\n",
       "<table border=\"1\" class=\"dataframe\">\n",
       "  <thead>\n",
       "    <tr style=\"text-align: right;\">\n",
       "      <th></th>\n",
       "      <th>Unidades</th>\n",
       "      <th>Total_Vendas</th>\n",
       "      <th>Soma_Vendas</th>\n",
       "    </tr>\n",
       "  </thead>\n",
       "  <tbody>\n",
       "    <tr>\n",
       "      <th>3</th>\n",
       "      <td>Loja Itacoatiara</td>\n",
       "      <td>4085</td>\n",
       "      <td>794482.76</td>\n",
       "    </tr>\n",
       "  </tbody>\n",
       "</table>\n",
       "</div>"
      ],
      "text/plain": [
       "           Unidades Total_Vendas Soma_Vendas\n",
       "3  Loja Itacoatiara         4085   794482.76"
      ]
     },
     "execution_count": 47,
     "metadata": {},
     "output_type": "execute_result"
    }
   ],
   "source": [
    "dataframe7.query(f\"Total_Vendas == {dataframe7.Total_Vendas.max()}\")"
   ]
  },
  {
   "cell_type": "markdown",
   "id": "1a1b6340",
   "metadata": {
    "id": "1a1b6340"
   },
   "source": [
    "###  A filial com menos vendas"
   ]
  },
  {
   "cell_type": "code",
   "execution_count": 48,
   "id": "5640d9d6",
   "metadata": {
    "id": "5640d9d6",
    "outputId": "c1a858c4-5720-45f2-d65b-49336db8bbf5",
    "scrolled": true
   },
   "outputs": [
    {
     "data": {
      "text/html": [
       "<div>\n",
       "<style scoped>\n",
       "    .dataframe tbody tr th:only-of-type {\n",
       "        vertical-align: middle;\n",
       "    }\n",
       "\n",
       "    .dataframe tbody tr th {\n",
       "        vertical-align: top;\n",
       "    }\n",
       "\n",
       "    .dataframe thead th {\n",
       "        text-align: right;\n",
       "    }\n",
       "</style>\n",
       "<table border=\"1\" class=\"dataframe\">\n",
       "  <thead>\n",
       "    <tr style=\"text-align: right;\">\n",
       "      <th></th>\n",
       "      <th>Unidades</th>\n",
       "      <th>Total_Vendas</th>\n",
       "      <th>Soma_Vendas</th>\n",
       "    </tr>\n",
       "  </thead>\n",
       "  <tbody>\n",
       "    <tr>\n",
       "      <th>1</th>\n",
       "      <td>Loja Manicoré</td>\n",
       "      <td>1214</td>\n",
       "      <td>234666.368</td>\n",
       "    </tr>\n",
       "  </tbody>\n",
       "</table>\n",
       "</div>"
      ],
      "text/plain": [
       "        Unidades Total_Vendas Soma_Vendas\n",
       "1  Loja Manicoré         1214  234666.368"
      ]
     },
     "execution_count": 48,
     "metadata": {},
     "output_type": "execute_result"
    }
   ],
   "source": [
    "dataframe7.query(f\"Total_Vendas == {dataframe7.Total_Vendas.min()}\")"
   ]
  },
  {
   "cell_type": "markdown",
   "id": "87389d56",
   "metadata": {
    "id": "87389d56"
   },
   "source": [
    "###  A filial que mais faturou em vendas"
   ]
  },
  {
   "cell_type": "code",
   "execution_count": 49,
   "id": "db83d2b8",
   "metadata": {
    "id": "db83d2b8",
    "outputId": "7b58b2fc-d5cb-486b-a268-1de9314d00cf"
   },
   "outputs": [
    {
     "data": {
      "text/html": [
       "<div>\n",
       "<style scoped>\n",
       "    .dataframe tbody tr th:only-of-type {\n",
       "        vertical-align: middle;\n",
       "    }\n",
       "\n",
       "    .dataframe tbody tr th {\n",
       "        vertical-align: top;\n",
       "    }\n",
       "\n",
       "    .dataframe thead th {\n",
       "        text-align: right;\n",
       "    }\n",
       "</style>\n",
       "<table border=\"1\" class=\"dataframe\">\n",
       "  <thead>\n",
       "    <tr style=\"text-align: right;\">\n",
       "      <th></th>\n",
       "      <th>Unidades</th>\n",
       "      <th>Total_Vendas</th>\n",
       "      <th>Soma_Vendas</th>\n",
       "    </tr>\n",
       "  </thead>\n",
       "  <tbody>\n",
       "    <tr>\n",
       "      <th>3</th>\n",
       "      <td>Loja Itacoatiara</td>\n",
       "      <td>4085</td>\n",
       "      <td>794482.76</td>\n",
       "    </tr>\n",
       "  </tbody>\n",
       "</table>\n",
       "</div>"
      ],
      "text/plain": [
       "           Unidades Total_Vendas Soma_Vendas\n",
       "3  Loja Itacoatiara         4085   794482.76"
      ]
     },
     "execution_count": 49,
     "metadata": {},
     "output_type": "execute_result"
    }
   ],
   "source": [
    "dataframe7.query(f\"Soma_Vendas == {dataframe7.Soma_Vendas.max()}\")"
   ]
  },
  {
   "cell_type": "markdown",
   "id": "46071a6a",
   "metadata": {
    "id": "46071a6a"
   },
   "source": [
    "###  A filial que menos faturou em vendas"
   ]
  },
  {
   "cell_type": "code",
   "execution_count": 50,
   "id": "86db67bf",
   "metadata": {
    "id": "86db67bf",
    "outputId": "02b5c702-3673-4aa9-c448-9325ad9116ef"
   },
   "outputs": [
    {
     "data": {
      "text/html": [
       "<div>\n",
       "<style scoped>\n",
       "    .dataframe tbody tr th:only-of-type {\n",
       "        vertical-align: middle;\n",
       "    }\n",
       "\n",
       "    .dataframe tbody tr th {\n",
       "        vertical-align: top;\n",
       "    }\n",
       "\n",
       "    .dataframe thead th {\n",
       "        text-align: right;\n",
       "    }\n",
       "</style>\n",
       "<table border=\"1\" class=\"dataframe\">\n",
       "  <thead>\n",
       "    <tr style=\"text-align: right;\">\n",
       "      <th></th>\n",
       "      <th>Unidades</th>\n",
       "      <th>Total_Vendas</th>\n",
       "      <th>Soma_Vendas</th>\n",
       "    </tr>\n",
       "  </thead>\n",
       "  <tbody>\n",
       "    <tr>\n",
       "      <th>0</th>\n",
       "      <td>Loja Autazes</td>\n",
       "      <td>1793</td>\n",
       "      <td>156479.604</td>\n",
       "    </tr>\n",
       "  </tbody>\n",
       "</table>\n",
       "</div>"
      ],
      "text/plain": [
       "       Unidades Total_Vendas Soma_Vendas\n",
       "0  Loja Autazes         1793  156479.604"
      ]
     },
     "execution_count": 50,
     "metadata": {},
     "output_type": "execute_result"
    }
   ],
   "source": [
    "dataframe7.query(f\"Soma_Vendas == {dataframe7.Soma_Vendas.min()}\")"
   ]
  },
  {
   "cell_type": "markdown",
   "id": "3f79b079",
   "metadata": {
    "id": "3f79b079"
   },
   "source": [
    "###  O total de devoluções em cada filial"
   ]
  },
  {
   "cell_type": "code",
   "execution_count": 51,
   "id": "d5310419",
   "metadata": {
    "id": "d5310419"
   },
   "outputs": [],
   "source": [
    "devolucoes = np.array([])\n",
    "\n",
    "for loja in filiais:\n",
    "    condicao1 = df1.produto_devolvido == \"Sim\"\n",
    "    condicao2 = df1.filial == loja\n",
    "    soma = df1[condicao1 & condicao2].produto_devolvido.count()\n",
    "    devolucoes = np.append(devolucoes, soma)\n"
   ]
  },
  {
   "cell_type": "code",
   "execution_count": 52,
   "id": "87735dbe",
   "metadata": {
    "id": "87735dbe"
   },
   "outputs": [],
   "source": [
    "unidades = pd.DataFrame.from_records(filiais.reshape(5,1))\n",
    "devolvidos = pd.DataFrame.from_records(devolucoes.reshape(5,1))"
   ]
  },
  {
   "cell_type": "code",
   "execution_count": 53,
   "id": "1865f58b",
   "metadata": {
    "id": "1865f58b",
    "outputId": "7ef3acff-4548-408b-d039-af6c13918a68"
   },
   "outputs": [
    {
     "data": {
      "text/html": [
       "<div>\n",
       "<style scoped>\n",
       "    .dataframe tbody tr th:only-of-type {\n",
       "        vertical-align: middle;\n",
       "    }\n",
       "\n",
       "    .dataframe tbody tr th {\n",
       "        vertical-align: top;\n",
       "    }\n",
       "\n",
       "    .dataframe thead th {\n",
       "        text-align: right;\n",
       "    }\n",
       "</style>\n",
       "<table border=\"1\" class=\"dataframe\">\n",
       "  <thead>\n",
       "    <tr style=\"text-align: right;\">\n",
       "      <th></th>\n",
       "      <th>Unidades</th>\n",
       "      <th>Produtos_Devolvidos</th>\n",
       "    </tr>\n",
       "  </thead>\n",
       "  <tbody>\n",
       "    <tr>\n",
       "      <th>0</th>\n",
       "      <td>Loja Autazes</td>\n",
       "      <td>1345.0</td>\n",
       "    </tr>\n",
       "    <tr>\n",
       "      <th>1</th>\n",
       "      <td>Loja Manicoré</td>\n",
       "      <td>2008.0</td>\n",
       "    </tr>\n",
       "    <tr>\n",
       "      <th>2</th>\n",
       "      <td>Loja Lábrea</td>\n",
       "      <td>2025.0</td>\n",
       "    </tr>\n",
       "    <tr>\n",
       "      <th>3</th>\n",
       "      <td>Loja Itacoatiara</td>\n",
       "      <td>636.0</td>\n",
       "    </tr>\n",
       "    <tr>\n",
       "      <th>4</th>\n",
       "      <td>Loja Manacapuru</td>\n",
       "      <td>901.0</td>\n",
       "    </tr>\n",
       "  </tbody>\n",
       "</table>\n",
       "</div>"
      ],
      "text/plain": [
       "           Unidades  Produtos_Devolvidos\n",
       "0      Loja Autazes               1345.0\n",
       "1     Loja Manicoré               2008.0\n",
       "2       Loja Lábrea               2025.0\n",
       "3  Loja Itacoatiara                636.0\n",
       "4   Loja Manacapuru                901.0"
      ]
     },
     "execution_count": 53,
     "metadata": {},
     "output_type": "execute_result"
    }
   ],
   "source": [
    "dataframe8 = pd.concat([unidades, devolvidos], axis=1)\n",
    "dataframe8.columns = [\"Unidades\", \"Produtos_Devolvidos\"]\n",
    "dataframe8"
   ]
  },
  {
   "cell_type": "markdown",
   "id": "209ceba7",
   "metadata": {
    "id": "209ceba7"
   },
   "source": [
    "### A unidade que teve muitas devoluções de produtos"
   ]
  },
  {
   "cell_type": "code",
   "execution_count": 54,
   "id": "90b57ebd",
   "metadata": {
    "id": "90b57ebd",
    "outputId": "415a2fcc-81ef-4dba-f368-7ec093d861a3"
   },
   "outputs": [
    {
     "data": {
      "text/html": [
       "<div>\n",
       "<style scoped>\n",
       "    .dataframe tbody tr th:only-of-type {\n",
       "        vertical-align: middle;\n",
       "    }\n",
       "\n",
       "    .dataframe tbody tr th {\n",
       "        vertical-align: top;\n",
       "    }\n",
       "\n",
       "    .dataframe thead th {\n",
       "        text-align: right;\n",
       "    }\n",
       "</style>\n",
       "<table border=\"1\" class=\"dataframe\">\n",
       "  <thead>\n",
       "    <tr style=\"text-align: right;\">\n",
       "      <th></th>\n",
       "      <th>Unidades</th>\n",
       "      <th>Produtos_Devolvidos</th>\n",
       "    </tr>\n",
       "  </thead>\n",
       "  <tbody>\n",
       "    <tr>\n",
       "      <th>2</th>\n",
       "      <td>Loja Lábrea</td>\n",
       "      <td>2025.0</td>\n",
       "    </tr>\n",
       "  </tbody>\n",
       "</table>\n",
       "</div>"
      ],
      "text/plain": [
       "      Unidades  Produtos_Devolvidos\n",
       "2  Loja Lábrea               2025.0"
      ]
     },
     "execution_count": 54,
     "metadata": {},
     "output_type": "execute_result"
    }
   ],
   "source": [
    "dataframe8[dataframe8.Produtos_Devolvidos ==  dataframe8.Produtos_Devolvidos.max()]"
   ]
  },
  {
   "cell_type": "markdown",
   "id": "677c3c67",
   "metadata": {
    "id": "677c3c67"
   },
   "source": [
    "### A unidade que teve poucas devoluções de produtos"
   ]
  },
  {
   "cell_type": "code",
   "execution_count": 55,
   "id": "5d71e3ee",
   "metadata": {
    "id": "5d71e3ee",
    "outputId": "112c2348-7d6a-4fca-9ad3-686738dc989e"
   },
   "outputs": [
    {
     "data": {
      "text/html": [
       "<div>\n",
       "<style scoped>\n",
       "    .dataframe tbody tr th:only-of-type {\n",
       "        vertical-align: middle;\n",
       "    }\n",
       "\n",
       "    .dataframe tbody tr th {\n",
       "        vertical-align: top;\n",
       "    }\n",
       "\n",
       "    .dataframe thead th {\n",
       "        text-align: right;\n",
       "    }\n",
       "</style>\n",
       "<table border=\"1\" class=\"dataframe\">\n",
       "  <thead>\n",
       "    <tr style=\"text-align: right;\">\n",
       "      <th></th>\n",
       "      <th>Unidades</th>\n",
       "      <th>Produtos_Devolvidos</th>\n",
       "    </tr>\n",
       "  </thead>\n",
       "  <tbody>\n",
       "    <tr>\n",
       "      <th>3</th>\n",
       "      <td>Loja Itacoatiara</td>\n",
       "      <td>636.0</td>\n",
       "    </tr>\n",
       "  </tbody>\n",
       "</table>\n",
       "</div>"
      ],
      "text/plain": [
       "           Unidades  Produtos_Devolvidos\n",
       "3  Loja Itacoatiara                636.0"
      ]
     },
     "execution_count": 55,
     "metadata": {},
     "output_type": "execute_result"
    }
   ],
   "source": [
    "dataframe8[dataframe8.Produtos_Devolvidos ==  dataframe8.Produtos_Devolvidos.min()]"
   ]
  },
  {
   "cell_type": "markdown",
   "id": "d6ca0731",
   "metadata": {
    "id": "d6ca0731"
   },
   "source": [
    "### O total de vendas sem devoluções em cada filial"
   ]
  },
  {
   "cell_type": "code",
   "execution_count": 56,
   "id": "be85af6c",
   "metadata": {
    "id": "be85af6c"
   },
   "outputs": [],
   "source": [
    "devolucoes = np.array([])\n",
    "\n",
    "for loja in filiais:\n",
    "    condicao1 = df1.produto_devolvido == \"Não\"\n",
    "    condicao2 = df1.filial == loja\n",
    "    condicao3 = df1.motivo_devolucao == \"Sem devolução\"\n",
    "    soma = df1[condicao1 & condicao2 & condicao3].produto_devolvido.count()\n",
    "    devolucoes = np.append(devolucoes, soma)"
   ]
  },
  {
   "cell_type": "code",
   "execution_count": 57,
   "id": "bb847a29",
   "metadata": {
    "id": "bb847a29",
    "outputId": "b97cb580-7cd9-4a9a-ec7e-37d00eb48462",
    "scrolled": true
   },
   "outputs": [
    {
     "data": {
      "text/html": [
       "<div>\n",
       "<style scoped>\n",
       "    .dataframe tbody tr th:only-of-type {\n",
       "        vertical-align: middle;\n",
       "    }\n",
       "\n",
       "    .dataframe tbody tr th {\n",
       "        vertical-align: top;\n",
       "    }\n",
       "\n",
       "    .dataframe thead th {\n",
       "        text-align: right;\n",
       "    }\n",
       "</style>\n",
       "<table border=\"1\" class=\"dataframe\">\n",
       "  <thead>\n",
       "    <tr style=\"text-align: right;\">\n",
       "      <th></th>\n",
       "      <th>Unidades</th>\n",
       "      <th>Vendas_Sem_Produtos_Devolvidos</th>\n",
       "    </tr>\n",
       "  </thead>\n",
       "  <tbody>\n",
       "    <tr>\n",
       "      <th>0</th>\n",
       "      <td>Loja Autazes</td>\n",
       "      <td>1368.0</td>\n",
       "    </tr>\n",
       "    <tr>\n",
       "      <th>1</th>\n",
       "      <td>Loja Manicoré</td>\n",
       "      <td>2077.0</td>\n",
       "    </tr>\n",
       "    <tr>\n",
       "      <th>2</th>\n",
       "      <td>Loja Lábrea</td>\n",
       "      <td>2047.0</td>\n",
       "    </tr>\n",
       "    <tr>\n",
       "      <th>3</th>\n",
       "      <td>Loja Itacoatiara</td>\n",
       "      <td>578.0</td>\n",
       "    </tr>\n",
       "    <tr>\n",
       "      <th>4</th>\n",
       "      <td>Loja Manacapuru</td>\n",
       "      <td>892.0</td>\n",
       "    </tr>\n",
       "  </tbody>\n",
       "</table>\n",
       "</div>"
      ],
      "text/plain": [
       "           Unidades Vendas_Sem_Produtos_Devolvidos\n",
       "0      Loja Autazes                         1368.0\n",
       "1     Loja Manicoré                         2077.0\n",
       "2       Loja Lábrea                         2047.0\n",
       "3  Loja Itacoatiara                          578.0\n",
       "4   Loja Manacapuru                          892.0"
      ]
     },
     "execution_count": 57,
     "metadata": {},
     "output_type": "execute_result"
    }
   ],
   "source": [
    "dataframe9 = pd.DataFrame([filiais, devolucoes], index=[\"Unidades\", \"Vendas_Sem_Produtos_Devolvidos\"]).T\n",
    "dataframe9"
   ]
  },
  {
   "cell_type": "markdown",
   "id": "bc8594cd",
   "metadata": {
    "id": "bc8594cd"
   },
   "source": [
    "### A unidade as maiores vendas sem devoluções de produtos"
   ]
  },
  {
   "cell_type": "code",
   "execution_count": 58,
   "id": "086888c5",
   "metadata": {
    "id": "086888c5",
    "outputId": "2f1291ef-451a-428b-b2d6-d4c55f99d50b"
   },
   "outputs": [
    {
     "data": {
      "text/html": [
       "<div>\n",
       "<style scoped>\n",
       "    .dataframe tbody tr th:only-of-type {\n",
       "        vertical-align: middle;\n",
       "    }\n",
       "\n",
       "    .dataframe tbody tr th {\n",
       "        vertical-align: top;\n",
       "    }\n",
       "\n",
       "    .dataframe thead th {\n",
       "        text-align: right;\n",
       "    }\n",
       "</style>\n",
       "<table border=\"1\" class=\"dataframe\">\n",
       "  <thead>\n",
       "    <tr style=\"text-align: right;\">\n",
       "      <th></th>\n",
       "      <th>Unidades</th>\n",
       "      <th>Vendas_Sem_Produtos_Devolvidos</th>\n",
       "    </tr>\n",
       "  </thead>\n",
       "  <tbody>\n",
       "    <tr>\n",
       "      <th>1</th>\n",
       "      <td>Loja Manicoré</td>\n",
       "      <td>2077.0</td>\n",
       "    </tr>\n",
       "  </tbody>\n",
       "</table>\n",
       "</div>"
      ],
      "text/plain": [
       "        Unidades Vendas_Sem_Produtos_Devolvidos\n",
       "1  Loja Manicoré                         2077.0"
      ]
     },
     "execution_count": 58,
     "metadata": {},
     "output_type": "execute_result"
    }
   ],
   "source": [
    "dataframe9.query(f\"Vendas_Sem_Produtos_Devolvidos == {dataframe9.Vendas_Sem_Produtos_Devolvidos.max()}\")"
   ]
  },
  {
   "cell_type": "markdown",
   "id": "bcfb2e65",
   "metadata": {
    "id": "bcfb2e65"
   },
   "source": [
    "### A unidade as menores vendas sem devoluções de produtos"
   ]
  },
  {
   "cell_type": "code",
   "execution_count": 59,
   "id": "39a5cfcd",
   "metadata": {
    "id": "39a5cfcd",
    "outputId": "3dba525f-1470-4b28-ead1-edd5fa35f8ff"
   },
   "outputs": [
    {
     "data": {
      "text/html": [
       "<div>\n",
       "<style scoped>\n",
       "    .dataframe tbody tr th:only-of-type {\n",
       "        vertical-align: middle;\n",
       "    }\n",
       "\n",
       "    .dataframe tbody tr th {\n",
       "        vertical-align: top;\n",
       "    }\n",
       "\n",
       "    .dataframe thead th {\n",
       "        text-align: right;\n",
       "    }\n",
       "</style>\n",
       "<table border=\"1\" class=\"dataframe\">\n",
       "  <thead>\n",
       "    <tr style=\"text-align: right;\">\n",
       "      <th></th>\n",
       "      <th>Unidades</th>\n",
       "      <th>Vendas_Sem_Produtos_Devolvidos</th>\n",
       "    </tr>\n",
       "  </thead>\n",
       "  <tbody>\n",
       "    <tr>\n",
       "      <th>3</th>\n",
       "      <td>Loja Itacoatiara</td>\n",
       "      <td>578.0</td>\n",
       "    </tr>\n",
       "  </tbody>\n",
       "</table>\n",
       "</div>"
      ],
      "text/plain": [
       "           Unidades Vendas_Sem_Produtos_Devolvidos\n",
       "3  Loja Itacoatiara                          578.0"
      ]
     },
     "execution_count": 59,
     "metadata": {},
     "output_type": "execute_result"
    }
   ],
   "source": [
    "dataframe9.query(f\"Vendas_Sem_Produtos_Devolvidos == {dataframe9.Vendas_Sem_Produtos_Devolvidos.min()}\")"
   ]
  },
  {
   "cell_type": "markdown",
   "id": "ea479479",
   "metadata": {
    "id": "ea479479"
   },
   "source": [
    "### Quantidade do maior motivo de devolução de produtos em cada filial"
   ]
  },
  {
   "cell_type": "code",
   "execution_count": 60,
   "id": "1cfe796a",
   "metadata": {
    "id": "1cfe796a",
    "outputId": "b18227d4-b128-472d-b0f1-36b41dfb65fe"
   },
   "outputs": [
    {
     "data": {
      "text/html": [
       "<div>\n",
       "<style scoped>\n",
       "    .dataframe tbody tr th:only-of-type {\n",
       "        vertical-align: middle;\n",
       "    }\n",
       "\n",
       "    .dataframe tbody tr th {\n",
       "        vertical-align: top;\n",
       "    }\n",
       "\n",
       "    .dataframe thead th {\n",
       "        text-align: right;\n",
       "    }\n",
       "</style>\n",
       "<table border=\"1\" class=\"dataframe\">\n",
       "  <thead>\n",
       "    <tr style=\"text-align: right;\">\n",
       "      <th></th>\n",
       "      <th>Unidades</th>\n",
       "      <th>Principais_Motivos</th>\n",
       "      <th>Quantidade</th>\n",
       "    </tr>\n",
       "  </thead>\n",
       "  <tbody>\n",
       "    <tr>\n",
       "      <th>0</th>\n",
       "      <td>Loja Autazes</td>\n",
       "      <td>Defeito do produto</td>\n",
       "      <td>289</td>\n",
       "    </tr>\n",
       "    <tr>\n",
       "      <th>1</th>\n",
       "      <td>Loja Manicoré</td>\n",
       "      <td>Defeito do produto</td>\n",
       "      <td>421</td>\n",
       "    </tr>\n",
       "    <tr>\n",
       "      <th>2</th>\n",
       "      <td>Loja Lábrea</td>\n",
       "      <td>Antecipação de troca</td>\n",
       "      <td>439</td>\n",
       "    </tr>\n",
       "    <tr>\n",
       "      <th>3</th>\n",
       "      <td>Loja Itacoatiara</td>\n",
       "      <td>Insatisfação com o atendimento</td>\n",
       "      <td>133</td>\n",
       "    </tr>\n",
       "    <tr>\n",
       "      <th>4</th>\n",
       "      <td>Loja Manacapuru</td>\n",
       "      <td>Defeito do produto</td>\n",
       "      <td>207</td>\n",
       "    </tr>\n",
       "  </tbody>\n",
       "</table>\n",
       "</div>"
      ],
      "text/plain": [
       "           Unidades              Principais_Motivos Quantidade\n",
       "0      Loja Autazes              Defeito do produto        289\n",
       "1     Loja Manicoré              Defeito do produto        421\n",
       "2       Loja Lábrea            Antecipação de troca        439\n",
       "3  Loja Itacoatiara  Insatisfação com o atendimento        133\n",
       "4   Loja Manacapuru              Defeito do produto        207"
      ]
     },
     "execution_count": 60,
     "metadata": {},
     "output_type": "execute_result"
    }
   ],
   "source": [
    "quantidade = np.array([])\n",
    "motivo_devolucao = np.array([])\n",
    "\n",
    "for loja in filiais:\n",
    "    condicao1 = df1.filial == loja\n",
    "    condicao2 = df1.motivo_devolucao != \"Sem devolução\"\n",
    "    soma = df1[condicao1 & condicao2].motivo_devolucao.value_counts() \n",
    "    \n",
    "    quantidade = np.append(quantidade, soma.values[0])\n",
    "    motivo_devolucao = np.append(motivo_devolucao, soma.index[0])\n",
    "    \n",
    "dataframe10 = pd.DataFrame([filiais, motivo_devolucao, quantidade.astype(int)], index=[\"Unidades\", \"Principais_Motivos\", \"Quantidade\"]).T\n",
    "dataframe10"
   ]
  },
  {
   "cell_type": "markdown",
   "id": "05ec757c",
   "metadata": {
    "id": "05ec757c"
   },
   "source": [
    "### A unidade que teve a maior quantidade de devoluções de produtos e o principal motivo de devolução"
   ]
  },
  {
   "cell_type": "code",
   "execution_count": 61,
   "id": "f2e65b19",
   "metadata": {
    "id": "f2e65b19",
    "outputId": "b02f0f74-ffe4-4b33-90c6-36d0f4f26092"
   },
   "outputs": [
    {
     "data": {
      "text/html": [
       "<div>\n",
       "<style scoped>\n",
       "    .dataframe tbody tr th:only-of-type {\n",
       "        vertical-align: middle;\n",
       "    }\n",
       "\n",
       "    .dataframe tbody tr th {\n",
       "        vertical-align: top;\n",
       "    }\n",
       "\n",
       "    .dataframe thead th {\n",
       "        text-align: right;\n",
       "    }\n",
       "</style>\n",
       "<table border=\"1\" class=\"dataframe\">\n",
       "  <thead>\n",
       "    <tr style=\"text-align: right;\">\n",
       "      <th></th>\n",
       "      <th>Unidades</th>\n",
       "      <th>Principais_Motivos</th>\n",
       "      <th>Quantidade</th>\n",
       "    </tr>\n",
       "  </thead>\n",
       "  <tbody>\n",
       "    <tr>\n",
       "      <th>2</th>\n",
       "      <td>Loja Lábrea</td>\n",
       "      <td>Antecipação de troca</td>\n",
       "      <td>439</td>\n",
       "    </tr>\n",
       "  </tbody>\n",
       "</table>\n",
       "</div>"
      ],
      "text/plain": [
       "      Unidades    Principais_Motivos Quantidade\n",
       "2  Loja Lábrea  Antecipação de troca        439"
      ]
     },
     "execution_count": 61,
     "metadata": {},
     "output_type": "execute_result"
    }
   ],
   "source": [
    "maior = dataframe10.Quantidade.max()\n",
    "dataframe10[dataframe10.Quantidade == maior]"
   ]
  },
  {
   "cell_type": "markdown",
   "id": "763915ed",
   "metadata": {
    "id": "763915ed"
   },
   "source": [
    "### A unidade que teve a menor quantidade de devoluções de produtos e o principal motivo de devolução"
   ]
  },
  {
   "cell_type": "code",
   "execution_count": 62,
   "id": "f7259576",
   "metadata": {
    "id": "f7259576",
    "outputId": "6eee8fa2-6a5a-4163-ca2f-e00439e9becd",
    "scrolled": true
   },
   "outputs": [
    {
     "data": {
      "text/html": [
       "<div>\n",
       "<style scoped>\n",
       "    .dataframe tbody tr th:only-of-type {\n",
       "        vertical-align: middle;\n",
       "    }\n",
       "\n",
       "    .dataframe tbody tr th {\n",
       "        vertical-align: top;\n",
       "    }\n",
       "\n",
       "    .dataframe thead th {\n",
       "        text-align: right;\n",
       "    }\n",
       "</style>\n",
       "<table border=\"1\" class=\"dataframe\">\n",
       "  <thead>\n",
       "    <tr style=\"text-align: right;\">\n",
       "      <th></th>\n",
       "      <th>Unidades</th>\n",
       "      <th>Principais_Motivos</th>\n",
       "      <th>Quantidade</th>\n",
       "    </tr>\n",
       "  </thead>\n",
       "  <tbody>\n",
       "    <tr>\n",
       "      <th>3</th>\n",
       "      <td>Loja Itacoatiara</td>\n",
       "      <td>Insatisfação com o atendimento</td>\n",
       "      <td>133</td>\n",
       "    </tr>\n",
       "  </tbody>\n",
       "</table>\n",
       "</div>"
      ],
      "text/plain": [
       "           Unidades              Principais_Motivos Quantidade\n",
       "3  Loja Itacoatiara  Insatisfação com o atendimento        133"
      ]
     },
     "execution_count": 62,
     "metadata": {},
     "output_type": "execute_result"
    }
   ],
   "source": [
    "menor = dataframe10.Quantidade.min()\n",
    "dataframe10[dataframe10.Quantidade == menor]"
   ]
  },
  {
   "cell_type": "markdown",
   "id": "f7781c59",
   "metadata": {
    "id": "f7781c59"
   },
   "source": [
    "## Dataframes gerados"
   ]
  },
  {
   "cell_type": "code",
   "execution_count": 63,
   "id": "78bff2bc",
   "metadata": {
    "id": "78bff2bc",
    "outputId": "b4226822-0d9f-4b4b-81e3-1762064efa66"
   },
   "outputs": [
    {
     "data": {
      "text/html": [
       "<div>\n",
       "<style scoped>\n",
       "    .dataframe tbody tr th:only-of-type {\n",
       "        vertical-align: middle;\n",
       "    }\n",
       "\n",
       "    .dataframe tbody tr th {\n",
       "        vertical-align: top;\n",
       "    }\n",
       "\n",
       "    .dataframe thead th {\n",
       "        text-align: right;\n",
       "    }\n",
       "</style>\n",
       "<table border=\"1\" class=\"dataframe\">\n",
       "  <thead>\n",
       "    <tr style=\"text-align: right;\">\n",
       "      <th></th>\n",
       "      <th>Cliente</th>\n",
       "      <th>Qtde_Compras</th>\n",
       "      <th>Soma_Compras</th>\n",
       "    </tr>\n",
       "  </thead>\n",
       "  <tbody>\n",
       "    <tr>\n",
       "      <th>0</th>\n",
       "      <td>295.0</td>\n",
       "      <td>22.0</td>\n",
       "      <td>4853.068</td>\n",
       "    </tr>\n",
       "    <tr>\n",
       "      <th>1</th>\n",
       "      <td>331.0</td>\n",
       "      <td>21.0</td>\n",
       "      <td>11262.288</td>\n",
       "    </tr>\n",
       "    <tr>\n",
       "      <th>2</th>\n",
       "      <td>370.0</td>\n",
       "      <td>21.0</td>\n",
       "      <td>24481.072</td>\n",
       "    </tr>\n",
       "    <tr>\n",
       "      <th>3</th>\n",
       "      <td>460.0</td>\n",
       "      <td>21.0</td>\n",
       "      <td>18042.312</td>\n",
       "    </tr>\n",
       "    <tr>\n",
       "      <th>4</th>\n",
       "      <td>538.0</td>\n",
       "      <td>21.0</td>\n",
       "      <td>9149.336</td>\n",
       "    </tr>\n",
       "  </tbody>\n",
       "</table>\n",
       "</div>"
      ],
      "text/plain": [
       "   Cliente  Qtde_Compras  Soma_Compras\n",
       "0    295.0          22.0      4853.068\n",
       "1    331.0          21.0     11262.288\n",
       "2    370.0          21.0     24481.072\n",
       "3    460.0          21.0     18042.312\n",
       "4    538.0          21.0      9149.336"
      ]
     },
     "execution_count": 63,
     "metadata": {},
     "output_type": "execute_result"
    }
   ],
   "source": [
    "dataframe1.to_excel(\"../Datasets/Analises/Quantidade de compras e a soma das compras de cada cliente.xlsx\", index=False)\n",
    "dataframe1.head()"
   ]
  },
  {
   "cell_type": "code",
   "execution_count": 64,
   "id": "ab107076",
   "metadata": {
    "id": "ab107076",
    "outputId": "4503bfd2-4f88-4ae0-f546-6643032868c2"
   },
   "outputs": [
    {
     "data": {
      "text/html": [
       "<div>\n",
       "<style scoped>\n",
       "    .dataframe tbody tr th:only-of-type {\n",
       "        vertical-align: middle;\n",
       "    }\n",
       "\n",
       "    .dataframe tbody tr th {\n",
       "        vertical-align: top;\n",
       "    }\n",
       "\n",
       "    .dataframe thead th {\n",
       "        text-align: right;\n",
       "    }\n",
       "</style>\n",
       "<table border=\"1\" class=\"dataframe\">\n",
       "  <thead>\n",
       "    <tr style=\"text-align: right;\">\n",
       "      <th></th>\n",
       "      <th>Motivos</th>\n",
       "      <th>Total</th>\n",
       "    </tr>\n",
       "  </thead>\n",
       "  <tbody>\n",
       "    <tr>\n",
       "      <th>0</th>\n",
       "      <td>Sem devolução</td>\n",
       "      <td>6962</td>\n",
       "    </tr>\n",
       "    <tr>\n",
       "      <th>5</th>\n",
       "      <td>Defeito do produto</td>\n",
       "      <td>1439</td>\n",
       "    </tr>\n",
       "    <tr>\n",
       "      <th>2</th>\n",
       "      <td>Insatisfação com o produto</td>\n",
       "      <td>1385</td>\n",
       "    </tr>\n",
       "    <tr>\n",
       "      <th>3</th>\n",
       "      <td>Problema na Entrega</td>\n",
       "      <td>1369</td>\n",
       "    </tr>\n",
       "    <tr>\n",
       "      <th>1</th>\n",
       "      <td>Antecipação de troca</td>\n",
       "      <td>1368</td>\n",
       "    </tr>\n",
       "  </tbody>\n",
       "</table>\n",
       "</div>"
      ],
      "text/plain": [
       "                      Motivos Total\n",
       "0               Sem devolução  6962\n",
       "5          Defeito do produto  1439\n",
       "2  Insatisfação com o produto  1385\n",
       "3         Problema na Entrega  1369\n",
       "1        Antecipação de troca  1368"
      ]
     },
     "execution_count": 64,
     "metadata": {},
     "output_type": "execute_result"
    }
   ],
   "source": [
    "dataframe2 = dataframe2.sort_values(by=[\"Total\"], ascending=False)\n",
    "dataframe2.to_excel(\"../Datasets/Analises/O total de cada motivo de devolução.xlsx\", index=False)\n",
    "dataframe2.head()"
   ]
  },
  {
   "cell_type": "code",
   "execution_count": 65,
   "id": "c6b045cf",
   "metadata": {
    "id": "c6b045cf",
    "outputId": "370f6f91-d3b0-4150-ee94-81fca0c74c00"
   },
   "outputs": [
    {
     "data": {
      "text/html": [
       "<div>\n",
       "<style scoped>\n",
       "    .dataframe tbody tr th:only-of-type {\n",
       "        vertical-align: middle;\n",
       "    }\n",
       "\n",
       "    .dataframe tbody tr th {\n",
       "        vertical-align: top;\n",
       "    }\n",
       "\n",
       "    .dataframe thead th {\n",
       "        text-align: right;\n",
       "    }\n",
       "</style>\n",
       "<table border=\"1\" class=\"dataframe\">\n",
       "  <thead>\n",
       "    <tr style=\"text-align: right;\">\n",
       "      <th></th>\n",
       "      <th>Produtos</th>\n",
       "      <th>Vendidos</th>\n",
       "    </tr>\n",
       "  </thead>\n",
       "  <tbody>\n",
       "    <tr>\n",
       "      <th>0</th>\n",
       "      <td>SPLIT 18001 À 30000</td>\n",
       "      <td>103</td>\n",
       "    </tr>\n",
       "    <tr>\n",
       "      <th>1</th>\n",
       "      <td>SPLIT 10001 À 18000</td>\n",
       "      <td>103</td>\n",
       "    </tr>\n",
       "    <tr>\n",
       "      <th>2</th>\n",
       "      <td>TV LED DE 48\" À 54\"</td>\n",
       "      <td>25</td>\n",
       "    </tr>\n",
       "    <tr>\n",
       "      <th>3</th>\n",
       "      <td>SMART MULTISIM LIVRE</td>\n",
       "      <td>25</td>\n",
       "    </tr>\n",
       "    <tr>\n",
       "      <th>4</th>\n",
       "      <td>TV LED DE 40\" À 43\"</td>\n",
       "      <td>25</td>\n",
       "    </tr>\n",
       "  </tbody>\n",
       "</table>\n",
       "</div>"
      ],
      "text/plain": [
       "               Produtos Vendidos\n",
       "0   SPLIT 18001 À 30000      103\n",
       "1   SPLIT 10001 À 18000      103\n",
       "2   TV LED DE 48\" À 54\"       25\n",
       "3  SMART MULTISIM LIVRE       25\n",
       "4   TV LED DE 40\" À 43\"       25"
      ]
     },
     "execution_count": 65,
     "metadata": {},
     "output_type": "execute_result"
    }
   ],
   "source": [
    "dataframe3.to_excel(\"../Datasets/Analises/Os produtos mais vendidos.xlsx\", index=False)\n",
    "dataframe3.head()"
   ]
  },
  {
   "cell_type": "code",
   "execution_count": 66,
   "id": "a586a42b",
   "metadata": {
    "id": "a586a42b",
    "outputId": "4c918409-b389-4462-aa39-99658f8684a7"
   },
   "outputs": [
    {
     "data": {
      "text/html": [
       "<div>\n",
       "<style scoped>\n",
       "    .dataframe tbody tr th:only-of-type {\n",
       "        vertical-align: middle;\n",
       "    }\n",
       "\n",
       "    .dataframe tbody tr th {\n",
       "        vertical-align: top;\n",
       "    }\n",
       "\n",
       "    .dataframe thead th {\n",
       "        text-align: right;\n",
       "    }\n",
       "</style>\n",
       "<table border=\"1\" class=\"dataframe\">\n",
       "  <thead>\n",
       "    <tr style=\"text-align: right;\">\n",
       "      <th></th>\n",
       "      <th>Produtos</th>\n",
       "      <th>Devolvidos</th>\n",
       "    </tr>\n",
       "  </thead>\n",
       "  <tbody>\n",
       "    <tr>\n",
       "      <th>0</th>\n",
       "      <td>SPLIT 10001 À 18000</td>\n",
       "      <td>57</td>\n",
       "    </tr>\n",
       "    <tr>\n",
       "      <th>1</th>\n",
       "      <td>SPLIT 18001 À 30000</td>\n",
       "      <td>55</td>\n",
       "    </tr>\n",
       "    <tr>\n",
       "      <th>2</th>\n",
       "      <td>TV LED DE 48\" À 54\"</td>\n",
       "      <td>19</td>\n",
       "    </tr>\n",
       "    <tr>\n",
       "      <th>3</th>\n",
       "      <td>TANQUINHO/SEMI-AUTOM</td>\n",
       "      <td>16</td>\n",
       "    </tr>\n",
       "    <tr>\n",
       "      <th>4</th>\n",
       "      <td>TV LED DE 32\"</td>\n",
       "      <td>16</td>\n",
       "    </tr>\n",
       "  </tbody>\n",
       "</table>\n",
       "</div>"
      ],
      "text/plain": [
       "               Produtos Devolvidos\n",
       "0   SPLIT 10001 À 18000         57\n",
       "1   SPLIT 18001 À 30000         55\n",
       "2   TV LED DE 48\" À 54\"         19\n",
       "3  TANQUINHO/SEMI-AUTOM         16\n",
       "4         TV LED DE 32\"         16"
      ]
     },
     "execution_count": 66,
     "metadata": {},
     "output_type": "execute_result"
    }
   ],
   "source": [
    "dataframe4.to_excel(\"../Datasets/Analises/O total de devoluções de cada produto.xlsx\", index=False)\n",
    "dataframe4.head()"
   ]
  },
  {
   "cell_type": "code",
   "execution_count": 67,
   "id": "d97cbd54",
   "metadata": {
    "id": "d97cbd54",
    "outputId": "30516a25-a397-4084-9872-0f3dff7362b7"
   },
   "outputs": [
    {
     "data": {
      "text/html": [
       "<div>\n",
       "<style scoped>\n",
       "    .dataframe tbody tr th:only-of-type {\n",
       "        vertical-align: middle;\n",
       "    }\n",
       "\n",
       "    .dataframe tbody tr th {\n",
       "        vertical-align: top;\n",
       "    }\n",
       "\n",
       "    .dataframe thead th {\n",
       "        text-align: right;\n",
       "    }\n",
       "</style>\n",
       "<table border=\"1\" class=\"dataframe\">\n",
       "  <thead>\n",
       "    <tr style=\"text-align: right;\">\n",
       "      <th></th>\n",
       "      <th>Produtos</th>\n",
       "      <th>Imposto</th>\n",
       "    </tr>\n",
       "  </thead>\n",
       "  <tbody>\n",
       "    <tr>\n",
       "      <th>3</th>\n",
       "      <td>SPLIT 10001 À 18000</td>\n",
       "      <td>9478.9764</td>\n",
       "    </tr>\n",
       "    <tr>\n",
       "      <th>4</th>\n",
       "      <td>SPLIT 18001 À 30000</td>\n",
       "      <td>7004.4372</td>\n",
       "    </tr>\n",
       "    <tr>\n",
       "      <th>2</th>\n",
       "      <td>SPLIT ACIMA DE 30000</td>\n",
       "      <td>3900.1932</td>\n",
       "    </tr>\n",
       "    <tr>\n",
       "      <th>14</th>\n",
       "      <td>TV LED DE 48\" À 54\"</td>\n",
       "      <td>3750.9372</td>\n",
       "    </tr>\n",
       "    <tr>\n",
       "      <th>412</th>\n",
       "      <td>SPLIT INV18001À30000</td>\n",
       "      <td>3211.3476</td>\n",
       "    </tr>\n",
       "  </tbody>\n",
       "</table>\n",
       "</div>"
      ],
      "text/plain": [
       "                 Produtos    Imposto\n",
       "3     SPLIT 10001 À 18000  9478.9764\n",
       "4     SPLIT 18001 À 30000  7004.4372\n",
       "2    SPLIT ACIMA DE 30000  3900.1932\n",
       "14    TV LED DE 48\" À 54\"  3750.9372\n",
       "412  SPLIT INV18001À30000  3211.3476"
      ]
     },
     "execution_count": 67,
     "metadata": {},
     "output_type": "execute_result"
    }
   ],
   "source": [
    "dataframe5.to_excel(\"../Datasets/Analises/O total de imposto de cada produto.xlsx\", index=False)\n",
    "dataframe5.head()"
   ]
  },
  {
   "cell_type": "code",
   "execution_count": 68,
   "id": "e4a52741",
   "metadata": {
    "id": "e4a52741",
    "outputId": "1abbf427-93e4-4970-cb51-e399b594febf"
   },
   "outputs": [
    {
     "name": "stdout",
     "output_type": "stream",
     "text": [
      "*************** Loja Autazes ***************\n",
      "               Produtos Valor_Vendas\n",
      "4   SPLIT 18001 À 30000     26467.92\n",
      "3   SPLIT 10001 À 18000     24860.88\n",
      "0    SPLIT 8501 À 10000     10045.68\n",
      "17        TV 4K ATÉ 59\"      9579.36\n",
      "12        TV LED DE 32\"       9091.2\n",
      "*************** Loja Manicoré ***************\n",
      "                 Produtos Valor_Vendas\n",
      "3     SPLIT 10001 À 18000    117295.68\n",
      "4     SPLIT 18001 À 30000      58812.0\n",
      "412  SPLIT INV18001À30000     58611.12\n",
      "14    TV LED DE 48\" À 54\"     56574.24\n",
      "2    SPLIT ACIMA DE 30000     42071.76\n",
      "*************** Loja Lábrea ***************\n",
      "                Produtos Valor_Vendas\n",
      "3    SPLIT 10001 À 18000      62978.4\n",
      "4    SPLIT 18001 À 30000     60448.56\n",
      "478  TV LED ACIMA DE 65\"     24965.52\n",
      "64   SPLIT ATÉ 8500 BTUS     21507.12\n",
      "471   TV 4K ACIMA DE 69\"     16160.88\n",
      "*************** Loja Itacoatiara ***************\n",
      "                Produtos Valor_Vendas\n",
      "500       TV OLED / QLED      45852.0\n",
      "19   TV LED DE 21\" À 24\"     17841.84\n",
      "514      AR COND SPLIT 2     17184.24\n",
      "14   TV LED DE 48\" À 54\"      9811.92\n",
      "18    TV 4K DE 60\" À 69\"      9003.12\n",
      "*************** Loja Manacapuru ***************\n",
      "                 Produtos Valor_Vendas\n",
      "2    SPLIT ACIMA DE 30000     26137.68\n",
      "19    TV LED DE 21\" À 24\"      9174.72\n",
      "284   TV LED DE 55\" À 59\"      7087.44\n",
      "471    TV 4K ACIMA DE 69\"      6273.36\n",
      "412  SPLIT INV18001À30000      5434.32\n"
     ]
    }
   ],
   "source": [
    "for unidade, data in lista_dataframes.items():\n",
    "    print(\"***************\",unidade,\"***************\")\n",
    "    data = data.sort_values(by=[\"Valor_Vendas\"], ascending=False)\n",
    "    data.to_excel(f\"../Datasets/Analises/{unidade} - O total do valor de vendas de cada produto em cada filial.xlsx\", index=False)\n",
    "    print(data.head())"
   ]
  },
  {
   "cell_type": "code",
   "execution_count": 69,
   "id": "af82f5b8",
   "metadata": {
    "id": "af82f5b8",
    "outputId": "857a8328-15a6-46d0-977e-f94133fe3c68"
   },
   "outputs": [
    {
     "data": {
      "text/html": [
       "<div>\n",
       "<style scoped>\n",
       "    .dataframe tbody tr th:only-of-type {\n",
       "        vertical-align: middle;\n",
       "    }\n",
       "\n",
       "    .dataframe tbody tr th {\n",
       "        vertical-align: top;\n",
       "    }\n",
       "\n",
       "    .dataframe thead th {\n",
       "        text-align: right;\n",
       "    }\n",
       "</style>\n",
       "<table border=\"1\" class=\"dataframe\">\n",
       "  <thead>\n",
       "    <tr style=\"text-align: right;\">\n",
       "      <th></th>\n",
       "      <th>Unidades</th>\n",
       "      <th>Total_Vendas</th>\n",
       "      <th>Soma_Vendas</th>\n",
       "    </tr>\n",
       "  </thead>\n",
       "  <tbody>\n",
       "    <tr>\n",
       "      <th>0</th>\n",
       "      <td>Loja Autazes</td>\n",
       "      <td>1793</td>\n",
       "      <td>156479.604</td>\n",
       "    </tr>\n",
       "    <tr>\n",
       "      <th>1</th>\n",
       "      <td>Loja Manicoré</td>\n",
       "      <td>1214</td>\n",
       "      <td>234666.368</td>\n",
       "    </tr>\n",
       "    <tr>\n",
       "      <th>2</th>\n",
       "      <td>Loja Lábrea</td>\n",
       "      <td>4072</td>\n",
       "      <td>446117.764</td>\n",
       "    </tr>\n",
       "    <tr>\n",
       "      <th>3</th>\n",
       "      <td>Loja Itacoatiara</td>\n",
       "      <td>4085</td>\n",
       "      <td>794482.76</td>\n",
       "    </tr>\n",
       "    <tr>\n",
       "      <th>4</th>\n",
       "      <td>Loja Manacapuru</td>\n",
       "      <td>2713</td>\n",
       "      <td>200317.632</td>\n",
       "    </tr>\n",
       "  </tbody>\n",
       "</table>\n",
       "</div>"
      ],
      "text/plain": [
       "           Unidades Total_Vendas Soma_Vendas\n",
       "0      Loja Autazes         1793  156479.604\n",
       "1     Loja Manicoré         1214  234666.368\n",
       "2       Loja Lábrea         4072  446117.764\n",
       "3  Loja Itacoatiara         4085   794482.76\n",
       "4   Loja Manacapuru         2713  200317.632"
      ]
     },
     "execution_count": 69,
     "metadata": {},
     "output_type": "execute_result"
    }
   ],
   "source": [
    "dataframe7.to_excel(\"../Datasets/Analises/O total de vendas em cada filial e o montante em vendas.xlsx\", index=False)\n",
    "dataframe7.head()"
   ]
  },
  {
   "cell_type": "code",
   "execution_count": 70,
   "id": "768f5a78",
   "metadata": {
    "id": "768f5a78",
    "outputId": "54f4fe72-5eea-427a-829a-561804f1f8dc"
   },
   "outputs": [
    {
     "data": {
      "text/html": [
       "<div>\n",
       "<style scoped>\n",
       "    .dataframe tbody tr th:only-of-type {\n",
       "        vertical-align: middle;\n",
       "    }\n",
       "\n",
       "    .dataframe tbody tr th {\n",
       "        vertical-align: top;\n",
       "    }\n",
       "\n",
       "    .dataframe thead th {\n",
       "        text-align: right;\n",
       "    }\n",
       "</style>\n",
       "<table border=\"1\" class=\"dataframe\">\n",
       "  <thead>\n",
       "    <tr style=\"text-align: right;\">\n",
       "      <th></th>\n",
       "      <th>Unidades</th>\n",
       "      <th>Produtos_Devolvidos</th>\n",
       "    </tr>\n",
       "  </thead>\n",
       "  <tbody>\n",
       "    <tr>\n",
       "      <th>2</th>\n",
       "      <td>Loja Lábrea</td>\n",
       "      <td>2025.0</td>\n",
       "    </tr>\n",
       "    <tr>\n",
       "      <th>1</th>\n",
       "      <td>Loja Manicoré</td>\n",
       "      <td>2008.0</td>\n",
       "    </tr>\n",
       "    <tr>\n",
       "      <th>0</th>\n",
       "      <td>Loja Autazes</td>\n",
       "      <td>1345.0</td>\n",
       "    </tr>\n",
       "    <tr>\n",
       "      <th>4</th>\n",
       "      <td>Loja Manacapuru</td>\n",
       "      <td>901.0</td>\n",
       "    </tr>\n",
       "    <tr>\n",
       "      <th>3</th>\n",
       "      <td>Loja Itacoatiara</td>\n",
       "      <td>636.0</td>\n",
       "    </tr>\n",
       "  </tbody>\n",
       "</table>\n",
       "</div>"
      ],
      "text/plain": [
       "           Unidades  Produtos_Devolvidos\n",
       "2       Loja Lábrea               2025.0\n",
       "1     Loja Manicoré               2008.0\n",
       "0      Loja Autazes               1345.0\n",
       "4   Loja Manacapuru                901.0\n",
       "3  Loja Itacoatiara                636.0"
      ]
     },
     "execution_count": 70,
     "metadata": {},
     "output_type": "execute_result"
    }
   ],
   "source": [
    "dataframe8 = dataframe8.sort_values(by=[\"Produtos_Devolvidos\"], ascending=False)\n",
    "dataframe8.to_excel(\"../Datasets/Analises/O total de devoluções em cada filial.xlsx\", index=False)\n",
    "dataframe8.head()"
   ]
  },
  {
   "cell_type": "code",
   "execution_count": 71,
   "id": "85fa60fc",
   "metadata": {
    "id": "85fa60fc",
    "outputId": "c5df0b11-ac7d-4f91-f292-ee9d383161d0"
   },
   "outputs": [
    {
     "data": {
      "text/html": [
       "<div>\n",
       "<style scoped>\n",
       "    .dataframe tbody tr th:only-of-type {\n",
       "        vertical-align: middle;\n",
       "    }\n",
       "\n",
       "    .dataframe tbody tr th {\n",
       "        vertical-align: top;\n",
       "    }\n",
       "\n",
       "    .dataframe thead th {\n",
       "        text-align: right;\n",
       "    }\n",
       "</style>\n",
       "<table border=\"1\" class=\"dataframe\">\n",
       "  <thead>\n",
       "    <tr style=\"text-align: right;\">\n",
       "      <th></th>\n",
       "      <th>Unidades</th>\n",
       "      <th>Vendas_Sem_Produtos_Devolvidos</th>\n",
       "    </tr>\n",
       "  </thead>\n",
       "  <tbody>\n",
       "    <tr>\n",
       "      <th>1</th>\n",
       "      <td>Loja Manicoré</td>\n",
       "      <td>2077.0</td>\n",
       "    </tr>\n",
       "    <tr>\n",
       "      <th>2</th>\n",
       "      <td>Loja Lábrea</td>\n",
       "      <td>2047.0</td>\n",
       "    </tr>\n",
       "    <tr>\n",
       "      <th>0</th>\n",
       "      <td>Loja Autazes</td>\n",
       "      <td>1368.0</td>\n",
       "    </tr>\n",
       "    <tr>\n",
       "      <th>4</th>\n",
       "      <td>Loja Manacapuru</td>\n",
       "      <td>892.0</td>\n",
       "    </tr>\n",
       "    <tr>\n",
       "      <th>3</th>\n",
       "      <td>Loja Itacoatiara</td>\n",
       "      <td>578.0</td>\n",
       "    </tr>\n",
       "  </tbody>\n",
       "</table>\n",
       "</div>"
      ],
      "text/plain": [
       "           Unidades Vendas_Sem_Produtos_Devolvidos\n",
       "1     Loja Manicoré                         2077.0\n",
       "2       Loja Lábrea                         2047.0\n",
       "0      Loja Autazes                         1368.0\n",
       "4   Loja Manacapuru                          892.0\n",
       "3  Loja Itacoatiara                          578.0"
      ]
     },
     "execution_count": 71,
     "metadata": {},
     "output_type": "execute_result"
    }
   ],
   "source": [
    "dataframe9 = dataframe9.sort_values(by=[\"Vendas_Sem_Produtos_Devolvidos\"], ascending=False)\n",
    "dataframe9.to_excel(\"../Datasets/Analises/O total de vendas sem devoluções em cada filial.xlsx\", index=False)\n",
    "dataframe9.head()"
   ]
  },
  {
   "cell_type": "code",
   "execution_count": 72,
   "id": "1f50dcb2",
   "metadata": {
    "id": "1f50dcb2",
    "outputId": "0cc1c222-fb3c-455a-93d5-ef0962b29e0a",
    "scrolled": true
   },
   "outputs": [
    {
     "data": {
      "text/html": [
       "<div>\n",
       "<style scoped>\n",
       "    .dataframe tbody tr th:only-of-type {\n",
       "        vertical-align: middle;\n",
       "    }\n",
       "\n",
       "    .dataframe tbody tr th {\n",
       "        vertical-align: top;\n",
       "    }\n",
       "\n",
       "    .dataframe thead th {\n",
       "        text-align: right;\n",
       "    }\n",
       "</style>\n",
       "<table border=\"1\" class=\"dataframe\">\n",
       "  <thead>\n",
       "    <tr style=\"text-align: right;\">\n",
       "      <th></th>\n",
       "      <th>Unidades</th>\n",
       "      <th>Principais_Motivos</th>\n",
       "      <th>Quantidade</th>\n",
       "    </tr>\n",
       "  </thead>\n",
       "  <tbody>\n",
       "    <tr>\n",
       "      <th>2</th>\n",
       "      <td>Loja Lábrea</td>\n",
       "      <td>Antecipação de troca</td>\n",
       "      <td>439</td>\n",
       "    </tr>\n",
       "    <tr>\n",
       "      <th>1</th>\n",
       "      <td>Loja Manicoré</td>\n",
       "      <td>Defeito do produto</td>\n",
       "      <td>421</td>\n",
       "    </tr>\n",
       "    <tr>\n",
       "      <th>0</th>\n",
       "      <td>Loja Autazes</td>\n",
       "      <td>Defeito do produto</td>\n",
       "      <td>289</td>\n",
       "    </tr>\n",
       "    <tr>\n",
       "      <th>4</th>\n",
       "      <td>Loja Manacapuru</td>\n",
       "      <td>Defeito do produto</td>\n",
       "      <td>207</td>\n",
       "    </tr>\n",
       "    <tr>\n",
       "      <th>3</th>\n",
       "      <td>Loja Itacoatiara</td>\n",
       "      <td>Insatisfação com o atendimento</td>\n",
       "      <td>133</td>\n",
       "    </tr>\n",
       "  </tbody>\n",
       "</table>\n",
       "</div>"
      ],
      "text/plain": [
       "           Unidades              Principais_Motivos Quantidade\n",
       "2       Loja Lábrea            Antecipação de troca        439\n",
       "1     Loja Manicoré              Defeito do produto        421\n",
       "0      Loja Autazes              Defeito do produto        289\n",
       "4   Loja Manacapuru              Defeito do produto        207\n",
       "3  Loja Itacoatiara  Insatisfação com o atendimento        133"
      ]
     },
     "execution_count": 72,
     "metadata": {},
     "output_type": "execute_result"
    }
   ],
   "source": [
    "dataframe10 = dataframe10.sort_values(by=[\"Quantidade\"], ascending=False)\n",
    "dataframe10.to_excel(\"../Datasets/Analises/Quantidade do maior motivo de devolução de produtos em cada filial.xlsx\", index=False)\n",
    "dataframe10.head()"
   ]
  },
  {
   "cell_type": "markdown",
   "id": "NDFyBsOPnBzr",
   "metadata": {
    "id": "NDFyBsOPnBzr"
   },
   "source": [
    "# Análise Dataset - Questão 2"
   ]
  },
  {
   "cell_type": "markdown",
   "id": "aY8Bjm83UWZR",
   "metadata": {
    "id": "aY8Bjm83UWZR"
   },
   "source": [
    "### Vendas por dia nas filiais"
   ]
  },
  {
   "cell_type": "code",
   "execution_count": 73,
   "id": "RDYdBEA1Vo1c",
   "metadata": {
    "id": "RDYdBEA1Vo1c"
   },
   "outputs": [],
   "source": [
    "datas = pd.to_datetime(df2.data_compra.unique())\n",
    "anos = set()\n",
    "meses = set()\n",
    "dias = set()\n",
    "\n",
    "for data in datas:\n",
    "    anos.add(data.strftime(\"%Y\"))\n",
    "    meses.add(data.strftime(\"%m\"))\n",
    "    dias.add(data.strftime(\"%d\"))"
   ]
  },
  {
   "cell_type": "code",
   "execution_count": 74,
   "id": "SA_dgRRDYu3x",
   "metadata": {
    "colab": {
     "base_uri": "https://localhost:8080/"
    },
    "executionInfo": {
     "elapsed": 69,
     "status": "ok",
     "timestamp": 1630335675315,
     "user": {
      "displayName": "Hiago Oliveira de Jesus",
      "photoUrl": "https://lh3.googleusercontent.com/a-/AOh14GjE8zRojKMt6ESrCGK-2de-rxF3vvqaV_vXU2Jmsw=s64",
      "userId": "04828748390226314927"
     },
     "user_tz": 240
    },
    "id": "SA_dgRRDYu3x",
    "outputId": "0a34ad53-5034-4522-ff2e-0ce2c8549573"
   },
   "outputs": [
    {
     "data": {
      "text/plain": [
       "{'2019'}"
      ]
     },
     "execution_count": 74,
     "metadata": {},
     "output_type": "execute_result"
    }
   ],
   "source": [
    "anos"
   ]
  },
  {
   "cell_type": "code",
   "execution_count": 75,
   "id": "LD8e9pKbY-4l",
   "metadata": {
    "colab": {
     "base_uri": "https://localhost:8080/"
    },
    "executionInfo": {
     "elapsed": 65,
     "status": "ok",
     "timestamp": 1630335675317,
     "user": {
      "displayName": "Hiago Oliveira de Jesus",
      "photoUrl": "https://lh3.googleusercontent.com/a-/AOh14GjE8zRojKMt6ESrCGK-2de-rxF3vvqaV_vXU2Jmsw=s64",
      "userId": "04828748390226314927"
     },
     "user_tz": 240
    },
    "id": "LD8e9pKbY-4l",
    "outputId": "5319c2d3-170d-4ee1-ac3c-de46e2e1efe0"
   },
   "outputs": [
    {
     "data": {
      "text/plain": [
       "{'07'}"
      ]
     },
     "execution_count": 75,
     "metadata": {},
     "output_type": "execute_result"
    }
   ],
   "source": [
    "meses"
   ]
  },
  {
   "cell_type": "code",
   "execution_count": 76,
   "id": "vswmpYkxZAVr",
   "metadata": {
    "colab": {
     "base_uri": "https://localhost:8080/"
    },
    "executionInfo": {
     "elapsed": 61,
     "status": "ok",
     "timestamp": 1630335675319,
     "user": {
      "displayName": "Hiago Oliveira de Jesus",
      "photoUrl": "https://lh3.googleusercontent.com/a-/AOh14GjE8zRojKMt6ESrCGK-2de-rxF3vvqaV_vXU2Jmsw=s64",
      "userId": "04828748390226314927"
     },
     "user_tz": 240
    },
    "id": "vswmpYkxZAVr",
    "outputId": "8b95a0de-b82c-454d-f4b3-f98808c49673"
   },
   "outputs": [
    {
     "data": {
      "text/plain": [
       "{'02', '03', '04', '05', '06', '07', '08'}"
      ]
     },
     "execution_count": 76,
     "metadata": {},
     "output_type": "execute_result"
    }
   ],
   "source": [
    "dias"
   ]
  },
  {
   "cell_type": "code",
   "execution_count": 77,
   "id": "Ne4vf3ZUZD30",
   "metadata": {
    "colab": {
     "base_uri": "https://localhost:8080/"
    },
    "executionInfo": {
     "elapsed": 57,
     "status": "ok",
     "timestamp": 1630335675320,
     "user": {
      "displayName": "Hiago Oliveira de Jesus",
      "photoUrl": "https://lh3.googleusercontent.com/a-/AOh14GjE8zRojKMt6ESrCGK-2de-rxF3vvqaV_vXU2Jmsw=s64",
      "userId": "04828748390226314927"
     },
     "user_tz": 240
    },
    "id": "Ne4vf3ZUZD30",
    "outputId": "888fbcae-53cf-4734-9795-08f07e8f4cb7"
   },
   "outputs": [
    {
     "name": "stderr",
     "output_type": "stream",
     "text": [
      "<ipython-input-77-d49f445903c3>:11: UserWarning: Boolean Series key will be reindexed to match DataFrame index.\n",
      "  vendas = dataframe[condicao1 & condicao2].data_compra.count()\n"
     ]
    }
   ],
   "source": [
    "dados = {\"Loja\":[], \"Data\": [], \"Vendas\":[]}\n",
    "\n",
    "for dia in dias:\n",
    "    data = f\"2019-07-{dia}\"\n",
    "    condicao1 = df2.data_compra.str.contains(data)\n",
    "    dataframe = df2[condicao1][[\"loja\",\"data_compra\"]] \n",
    "    lojas = dataframe.loja.unique()\n",
    "\n",
    "    for loja in lojas:\n",
    "        condicao2 = dataframe.loja == loja\n",
    "        vendas = dataframe[condicao1 & condicao2].data_compra.count()\n",
    "        data_reversa = f\"{dia}-07-2019\"\n",
    "        dados[\"Loja\"].append(loja)\n",
    "        dados[\"Data\"].append(data_reversa)\n",
    "        dados[\"Vendas\"].append(vendas)"
   ]
  },
  {
   "cell_type": "code",
   "execution_count": 78,
   "id": "fnd0-w_mfKEz",
   "metadata": {
    "id": "fnd0-w_mfKEz"
   },
   "outputs": [],
   "source": [
    "tabela11 = pd.DataFrame(dados)"
   ]
  },
  {
   "cell_type": "code",
   "execution_count": 79,
   "id": "0t53DQ16ZiTp",
   "metadata": {
    "colab": {
     "base_uri": "https://localhost:8080/",
     "height": 421
    },
    "executionInfo": {
     "elapsed": 56,
     "status": "ok",
     "timestamp": 1630335675325,
     "user": {
      "displayName": "Hiago Oliveira de Jesus",
      "photoUrl": "https://lh3.googleusercontent.com/a-/AOh14GjE8zRojKMt6ESrCGK-2de-rxF3vvqaV_vXU2Jmsw=s64",
      "userId": "04828748390226314927"
     },
     "user_tz": 240
    },
    "id": "0t53DQ16ZiTp",
    "outputId": "d911f108-23a9-4704-acd3-59b86610d674"
   },
   "outputs": [
    {
     "data": {
      "text/html": [
       "<div>\n",
       "<style scoped>\n",
       "    .dataframe tbody tr th:only-of-type {\n",
       "        vertical-align: middle;\n",
       "    }\n",
       "\n",
       "    .dataframe tbody tr th {\n",
       "        vertical-align: top;\n",
       "    }\n",
       "\n",
       "    .dataframe thead th {\n",
       "        text-align: right;\n",
       "    }\n",
       "</style>\n",
       "<table border=\"1\" class=\"dataframe\">\n",
       "  <thead>\n",
       "    <tr style=\"text-align: right;\">\n",
       "      <th></th>\n",
       "      <th>Loja</th>\n",
       "      <th>Data</th>\n",
       "      <th>Vendas</th>\n",
       "    </tr>\n",
       "  </thead>\n",
       "  <tbody>\n",
       "    <tr>\n",
       "      <th>4</th>\n",
       "      <td>Unidade Manaus 3</td>\n",
       "      <td>08-07-2019</td>\n",
       "      <td>68</td>\n",
       "    </tr>\n",
       "    <tr>\n",
       "      <th>3</th>\n",
       "      <td>Unidade Manaus 1</td>\n",
       "      <td>08-07-2019</td>\n",
       "      <td>60</td>\n",
       "    </tr>\n",
       "    <tr>\n",
       "      <th>1</th>\n",
       "      <td>Unidade Manaus 1</td>\n",
       "      <td>07-07-2019</td>\n",
       "      <td>105</td>\n",
       "    </tr>\n",
       "    <tr>\n",
       "      <th>2</th>\n",
       "      <td>Unidade Manaus 3</td>\n",
       "      <td>07-07-2019</td>\n",
       "      <td>83</td>\n",
       "    </tr>\n",
       "    <tr>\n",
       "      <th>10</th>\n",
       "      <td>Unidade Manaus 1</td>\n",
       "      <td>06-07-2019</td>\n",
       "      <td>105</td>\n",
       "    </tr>\n",
       "    <tr>\n",
       "      <th>11</th>\n",
       "      <td>Unidade Manaus 3</td>\n",
       "      <td>06-07-2019</td>\n",
       "      <td>89</td>\n",
       "    </tr>\n",
       "    <tr>\n",
       "      <th>8</th>\n",
       "      <td>Unidade Manaus 1</td>\n",
       "      <td>05-07-2019</td>\n",
       "      <td>47</td>\n",
       "    </tr>\n",
       "    <tr>\n",
       "      <th>9</th>\n",
       "      <td>Unidade Manaus 3</td>\n",
       "      <td>05-07-2019</td>\n",
       "      <td>46</td>\n",
       "    </tr>\n",
       "    <tr>\n",
       "      <th>7</th>\n",
       "      <td>Unidade Manaus 1</td>\n",
       "      <td>04-07-2019</td>\n",
       "      <td>25</td>\n",
       "    </tr>\n",
       "    <tr>\n",
       "      <th>0</th>\n",
       "      <td>Unidade Manaus 1</td>\n",
       "      <td>03-07-2019</td>\n",
       "      <td>31</td>\n",
       "    </tr>\n",
       "    <tr>\n",
       "      <th>6</th>\n",
       "      <td>Unidade Manaus 3</td>\n",
       "      <td>02-07-2019</td>\n",
       "      <td>132</td>\n",
       "    </tr>\n",
       "    <tr>\n",
       "      <th>5</th>\n",
       "      <td>Unidade Manaus 1</td>\n",
       "      <td>02-07-2019</td>\n",
       "      <td>108</td>\n",
       "    </tr>\n",
       "  </tbody>\n",
       "</table>\n",
       "</div>"
      ],
      "text/plain": [
       "                Loja        Data  Vendas\n",
       "4   Unidade Manaus 3  08-07-2019      68\n",
       "3   Unidade Manaus 1  08-07-2019      60\n",
       "1   Unidade Manaus 1  07-07-2019     105\n",
       "2   Unidade Manaus 3  07-07-2019      83\n",
       "10  Unidade Manaus 1  06-07-2019     105\n",
       "11  Unidade Manaus 3  06-07-2019      89\n",
       "8   Unidade Manaus 1  05-07-2019      47\n",
       "9   Unidade Manaus 3  05-07-2019      46\n",
       "7   Unidade Manaus 1  04-07-2019      25\n",
       "0   Unidade Manaus 1  03-07-2019      31\n",
       "6   Unidade Manaus 3  02-07-2019     132\n",
       "5   Unidade Manaus 1  02-07-2019     108"
      ]
     },
     "execution_count": 79,
     "metadata": {},
     "output_type": "execute_result"
    }
   ],
   "source": [
    "tabela11.sort_values(by=[\"Data\",\"Vendas\"], ascending=False)"
   ]
  },
  {
   "cell_type": "markdown",
   "id": "qo82ZcO5fQdv",
   "metadata": {
    "id": "qo82ZcO5fQdv"
   },
   "source": [
    "### Unidade que teve o dia com mais vendas"
   ]
  },
  {
   "cell_type": "code",
   "execution_count": 80,
   "id": "YLNY088tZtKj",
   "metadata": {
    "colab": {
     "base_uri": "https://localhost:8080/",
     "height": 80
    },
    "executionInfo": {
     "elapsed": 55,
     "status": "ok",
     "timestamp": 1630335675326,
     "user": {
      "displayName": "Hiago Oliveira de Jesus",
      "photoUrl": "https://lh3.googleusercontent.com/a-/AOh14GjE8zRojKMt6ESrCGK-2de-rxF3vvqaV_vXU2Jmsw=s64",
      "userId": "04828748390226314927"
     },
     "user_tz": 240
    },
    "id": "YLNY088tZtKj",
    "outputId": "caaa9ee1-e071-41c7-bbdd-1be27f3de828"
   },
   "outputs": [
    {
     "data": {
      "text/html": [
       "<div>\n",
       "<style scoped>\n",
       "    .dataframe tbody tr th:only-of-type {\n",
       "        vertical-align: middle;\n",
       "    }\n",
       "\n",
       "    .dataframe tbody tr th {\n",
       "        vertical-align: top;\n",
       "    }\n",
       "\n",
       "    .dataframe thead th {\n",
       "        text-align: right;\n",
       "    }\n",
       "</style>\n",
       "<table border=\"1\" class=\"dataframe\">\n",
       "  <thead>\n",
       "    <tr style=\"text-align: right;\">\n",
       "      <th></th>\n",
       "      <th>Loja</th>\n",
       "      <th>Data</th>\n",
       "      <th>Vendas</th>\n",
       "    </tr>\n",
       "  </thead>\n",
       "  <tbody>\n",
       "    <tr>\n",
       "      <th>6</th>\n",
       "      <td>Unidade Manaus 3</td>\n",
       "      <td>02-07-2019</td>\n",
       "      <td>132</td>\n",
       "    </tr>\n",
       "  </tbody>\n",
       "</table>\n",
       "</div>"
      ],
      "text/plain": [
       "               Loja        Data  Vendas\n",
       "6  Unidade Manaus 3  02-07-2019     132"
      ]
     },
     "execution_count": 80,
     "metadata": {},
     "output_type": "execute_result"
    }
   ],
   "source": [
    "tabela11[tabela11.Vendas == tabela11.Vendas.max()]"
   ]
  },
  {
   "cell_type": "markdown",
   "id": "zDzgErMcfikn",
   "metadata": {
    "id": "zDzgErMcfikn"
   },
   "source": [
    "### Unidade que teve o dia com menos vendas"
   ]
  },
  {
   "cell_type": "code",
   "execution_count": 81,
   "id": "_ih9bhiwfl_b",
   "metadata": {
    "colab": {
     "base_uri": "https://localhost:8080/",
     "height": 80
    },
    "executionInfo": {
     "elapsed": 56,
     "status": "ok",
     "timestamp": 1630335675329,
     "user": {
      "displayName": "Hiago Oliveira de Jesus",
      "photoUrl": "https://lh3.googleusercontent.com/a-/AOh14GjE8zRojKMt6ESrCGK-2de-rxF3vvqaV_vXU2Jmsw=s64",
      "userId": "04828748390226314927"
     },
     "user_tz": 240
    },
    "id": "_ih9bhiwfl_b",
    "outputId": "9b54d8c1-043c-4ba1-eff1-5e95e50a1c0e"
   },
   "outputs": [
    {
     "data": {
      "text/html": [
       "<div>\n",
       "<style scoped>\n",
       "    .dataframe tbody tr th:only-of-type {\n",
       "        vertical-align: middle;\n",
       "    }\n",
       "\n",
       "    .dataframe tbody tr th {\n",
       "        vertical-align: top;\n",
       "    }\n",
       "\n",
       "    .dataframe thead th {\n",
       "        text-align: right;\n",
       "    }\n",
       "</style>\n",
       "<table border=\"1\" class=\"dataframe\">\n",
       "  <thead>\n",
       "    <tr style=\"text-align: right;\">\n",
       "      <th></th>\n",
       "      <th>Loja</th>\n",
       "      <th>Data</th>\n",
       "      <th>Vendas</th>\n",
       "    </tr>\n",
       "  </thead>\n",
       "  <tbody>\n",
       "    <tr>\n",
       "      <th>7</th>\n",
       "      <td>Unidade Manaus 1</td>\n",
       "      <td>04-07-2019</td>\n",
       "      <td>25</td>\n",
       "    </tr>\n",
       "  </tbody>\n",
       "</table>\n",
       "</div>"
      ],
      "text/plain": [
       "               Loja        Data  Vendas\n",
       "7  Unidade Manaus 1  04-07-2019      25"
      ]
     },
     "execution_count": 81,
     "metadata": {},
     "output_type": "execute_result"
    }
   ],
   "source": [
    "tabela11[tabela11.Vendas == tabela11.Vendas.min()]"
   ]
  },
  {
   "cell_type": "markdown",
   "id": "bnwzmwEgfppK",
   "metadata": {
    "id": "bnwzmwEgfppK"
   },
   "source": [
    "### Média de Vendas"
   ]
  },
  {
   "cell_type": "code",
   "execution_count": 82,
   "id": "S9t5Z3DEfoqg",
   "metadata": {
    "colab": {
     "base_uri": "https://localhost:8080/"
    },
    "executionInfo": {
     "elapsed": 573,
     "status": "ok",
     "timestamp": 1630335675847,
     "user": {
      "displayName": "Hiago Oliveira de Jesus",
      "photoUrl": "https://lh3.googleusercontent.com/a-/AOh14GjE8zRojKMt6ESrCGK-2de-rxF3vvqaV_vXU2Jmsw=s64",
      "userId": "04828748390226314927"
     },
     "user_tz": 240
    },
    "id": "S9t5Z3DEfoqg",
    "outputId": "8fd7e4c4-4ad8-4f4a-ee86-012fd939aabf"
   },
   "outputs": [
    {
     "data": {
      "text/plain": [
       "74"
      ]
     },
     "execution_count": 82,
     "metadata": {},
     "output_type": "execute_result"
    }
   ],
   "source": [
    "media = (tabela11.Vendas.sum() // tabela11.Vendas.count())\n",
    "media"
   ]
  },
  {
   "cell_type": "markdown",
   "id": "VeiGFQtJgoF6",
   "metadata": {
    "id": "VeiGFQtJgoF6"
   },
   "source": [
    "### Total de vendas por dia em todas as unidades"
   ]
  },
  {
   "cell_type": "code",
   "execution_count": 83,
   "id": "cyTExQlHhriI",
   "metadata": {
    "colab": {
     "base_uri": "https://localhost:8080/"
    },
    "executionInfo": {
     "elapsed": 40,
     "status": "ok",
     "timestamp": 1630335675849,
     "user": {
      "displayName": "Hiago Oliveira de Jesus",
      "photoUrl": "https://lh3.googleusercontent.com/a-/AOh14GjE8zRojKMt6ESrCGK-2de-rxF3vvqaV_vXU2Jmsw=s64",
      "userId": "04828748390226314927"
     },
     "user_tz": 240
    },
    "id": "cyTExQlHhriI",
    "outputId": "d258df3f-82d2-491e-92ef-f1099db32179"
   },
   "outputs": [],
   "source": [
    "datas_unicas = tabela11.Data.unique()\n",
    "dados = np.array([])\n",
    "\n",
    "for data in datas_unicas:\n",
    "    condicao = tabela11.Data == data\n",
    "    soma = tabela11[condicao].Vendas.sum()\n",
    "    dados = np.append(dados, (data, soma))"
   ]
  },
  {
   "cell_type": "code",
   "execution_count": 84,
   "id": "mSfqvGd2iQsx",
   "metadata": {
    "colab": {
     "base_uri": "https://localhost:8080/",
     "height": 266
    },
    "executionInfo": {
     "elapsed": 37,
     "status": "ok",
     "timestamp": 1630335675852,
     "user": {
      "displayName": "Hiago Oliveira de Jesus",
      "photoUrl": "https://lh3.googleusercontent.com/a-/AOh14GjE8zRojKMt6ESrCGK-2de-rxF3vvqaV_vXU2Jmsw=s64",
      "userId": "04828748390226314927"
     },
     "user_tz": 240
    },
    "id": "mSfqvGd2iQsx",
    "outputId": "74cd24bf-f154-4049-b963-dd928b294b06"
   },
   "outputs": [
    {
     "data": {
      "text/html": [
       "<div>\n",
       "<style scoped>\n",
       "    .dataframe tbody tr th:only-of-type {\n",
       "        vertical-align: middle;\n",
       "    }\n",
       "\n",
       "    .dataframe tbody tr th {\n",
       "        vertical-align: top;\n",
       "    }\n",
       "\n",
       "    .dataframe thead th {\n",
       "        text-align: right;\n",
       "    }\n",
       "</style>\n",
       "<table border=\"1\" class=\"dataframe\">\n",
       "  <thead>\n",
       "    <tr style=\"text-align: right;\">\n",
       "      <th></th>\n",
       "      <th>Data</th>\n",
       "      <th>Total_Vendas</th>\n",
       "    </tr>\n",
       "  </thead>\n",
       "  <tbody>\n",
       "    <tr>\n",
       "      <th>0</th>\n",
       "      <td>03-07-2019</td>\n",
       "      <td>31</td>\n",
       "    </tr>\n",
       "    <tr>\n",
       "      <th>1</th>\n",
       "      <td>07-07-2019</td>\n",
       "      <td>188</td>\n",
       "    </tr>\n",
       "    <tr>\n",
       "      <th>2</th>\n",
       "      <td>08-07-2019</td>\n",
       "      <td>128</td>\n",
       "    </tr>\n",
       "    <tr>\n",
       "      <th>3</th>\n",
       "      <td>02-07-2019</td>\n",
       "      <td>240</td>\n",
       "    </tr>\n",
       "    <tr>\n",
       "      <th>4</th>\n",
       "      <td>04-07-2019</td>\n",
       "      <td>25</td>\n",
       "    </tr>\n",
       "    <tr>\n",
       "      <th>5</th>\n",
       "      <td>05-07-2019</td>\n",
       "      <td>93</td>\n",
       "    </tr>\n",
       "    <tr>\n",
       "      <th>6</th>\n",
       "      <td>06-07-2019</td>\n",
       "      <td>194</td>\n",
       "    </tr>\n",
       "  </tbody>\n",
       "</table>\n",
       "</div>"
      ],
      "text/plain": [
       "         Data  Total_Vendas\n",
       "0  03-07-2019            31\n",
       "1  07-07-2019           188\n",
       "2  08-07-2019           128\n",
       "3  02-07-2019           240\n",
       "4  04-07-2019            25\n",
       "5  05-07-2019            93\n",
       "6  06-07-2019           194"
      ]
     },
     "execution_count": 84,
     "metadata": {},
     "output_type": "execute_result"
    }
   ],
   "source": [
    "dados = dados.reshape(7,2)\n",
    "tabela11 = pd.DataFrame.from_records(dados)\n",
    "tabela11.columns = [\"Data\", \"Total_Vendas\"]\n",
    "tabela11.Total_Vendas = tabela11.Total_Vendas.astype(\"int\")\n",
    "tabela11"
   ]
  },
  {
   "cell_type": "markdown",
   "id": "9o4V3BZ7l3r9",
   "metadata": {
    "id": "9o4V3BZ7l3r9"
   },
   "source": [
    "### O dia que teve mais vendas"
   ]
  },
  {
   "cell_type": "code",
   "execution_count": 85,
   "id": "7IPP99ZFhAmp",
   "metadata": {
    "id": "7IPP99ZFhAmp"
   },
   "outputs": [],
   "source": [
    "maior_venda = tabela11.Total_Vendas.max()\n",
    "menor_venda = tabela11.Total_Vendas.min()"
   ]
  },
  {
   "cell_type": "code",
   "execution_count": 86,
   "id": "XQNbIwoJj61m",
   "metadata": {
    "colab": {
     "base_uri": "https://localhost:8080/",
     "height": 80
    },
    "executionInfo": {
     "elapsed": 34,
     "status": "ok",
     "timestamp": 1630335675855,
     "user": {
      "displayName": "Hiago Oliveira de Jesus",
      "photoUrl": "https://lh3.googleusercontent.com/a-/AOh14GjE8zRojKMt6ESrCGK-2de-rxF3vvqaV_vXU2Jmsw=s64",
      "userId": "04828748390226314927"
     },
     "user_tz": 240
    },
    "id": "XQNbIwoJj61m",
    "outputId": "8e26ae68-1656-4e81-dd94-e840f0664e40"
   },
   "outputs": [
    {
     "data": {
      "text/html": [
       "<div>\n",
       "<style scoped>\n",
       "    .dataframe tbody tr th:only-of-type {\n",
       "        vertical-align: middle;\n",
       "    }\n",
       "\n",
       "    .dataframe tbody tr th {\n",
       "        vertical-align: top;\n",
       "    }\n",
       "\n",
       "    .dataframe thead th {\n",
       "        text-align: right;\n",
       "    }\n",
       "</style>\n",
       "<table border=\"1\" class=\"dataframe\">\n",
       "  <thead>\n",
       "    <tr style=\"text-align: right;\">\n",
       "      <th></th>\n",
       "      <th>Data</th>\n",
       "      <th>Total_Vendas</th>\n",
       "    </tr>\n",
       "  </thead>\n",
       "  <tbody>\n",
       "    <tr>\n",
       "      <th>3</th>\n",
       "      <td>02-07-2019</td>\n",
       "      <td>240</td>\n",
       "    </tr>\n",
       "  </tbody>\n",
       "</table>\n",
       "</div>"
      ],
      "text/plain": [
       "         Data  Total_Vendas\n",
       "3  02-07-2019           240"
      ]
     },
     "execution_count": 86,
     "metadata": {},
     "output_type": "execute_result"
    }
   ],
   "source": [
    "tabela11[tabela11.Total_Vendas == maior_venda]"
   ]
  },
  {
   "cell_type": "markdown",
   "id": "hwKseqHWl-iN",
   "metadata": {
    "id": "hwKseqHWl-iN"
   },
   "source": [
    "### O dia que teve menos vendas"
   ]
  },
  {
   "cell_type": "code",
   "execution_count": 87,
   "id": "1fNXc4UYkCuu",
   "metadata": {
    "colab": {
     "base_uri": "https://localhost:8080/",
     "height": 80
    },
    "executionInfo": {
     "elapsed": 33,
     "status": "ok",
     "timestamp": 1630335675856,
     "user": {
      "displayName": "Hiago Oliveira de Jesus",
      "photoUrl": "https://lh3.googleusercontent.com/a-/AOh14GjE8zRojKMt6ESrCGK-2de-rxF3vvqaV_vXU2Jmsw=s64",
      "userId": "04828748390226314927"
     },
     "user_tz": 240
    },
    "id": "1fNXc4UYkCuu",
    "outputId": "46ddd8b0-d0d7-4053-ff76-23389f7e034d"
   },
   "outputs": [
    {
     "data": {
      "text/html": [
       "<div>\n",
       "<style scoped>\n",
       "    .dataframe tbody tr th:only-of-type {\n",
       "        vertical-align: middle;\n",
       "    }\n",
       "\n",
       "    .dataframe tbody tr th {\n",
       "        vertical-align: top;\n",
       "    }\n",
       "\n",
       "    .dataframe thead th {\n",
       "        text-align: right;\n",
       "    }\n",
       "</style>\n",
       "<table border=\"1\" class=\"dataframe\">\n",
       "  <thead>\n",
       "    <tr style=\"text-align: right;\">\n",
       "      <th></th>\n",
       "      <th>Data</th>\n",
       "      <th>Total_Vendas</th>\n",
       "    </tr>\n",
       "  </thead>\n",
       "  <tbody>\n",
       "    <tr>\n",
       "      <th>4</th>\n",
       "      <td>04-07-2019</td>\n",
       "      <td>25</td>\n",
       "    </tr>\n",
       "  </tbody>\n",
       "</table>\n",
       "</div>"
      ],
      "text/plain": [
       "         Data  Total_Vendas\n",
       "4  04-07-2019            25"
      ]
     },
     "execution_count": 87,
     "metadata": {},
     "output_type": "execute_result"
    }
   ],
   "source": [
    "tabela11[tabela11.Total_Vendas == menor_venda]"
   ]
  }
 ],
 "metadata": {
  "colab": {
   "collapsed_sections": [
    "a29b271a",
    "68212333",
    "8c7b9195",
    "54e528c9",
    "41acbcfa",
    "d6180ceb",
    "d8072642",
    "db944b81",
    "2c32c8a7",
    "dc0eeadc",
    "dfaafc4a",
    "0266f1ce",
    "03e08a62",
    "9834c9d2",
    "65291f08",
    "1ced821f",
    "174c5219",
    "18603307",
    "b5816a99",
    "c2f4469a",
    "91a4dc06",
    "3062d2ed",
    "f3d49f91",
    "691ebb7f",
    "f2f2375c",
    "9b79b21f",
    "01dc3a4f",
    "1a36d8ea",
    "b2f88abd",
    "d849ca00",
    "003910ac",
    "8cc126e7",
    "c6cf01cc",
    "8cac09e6",
    "8cb12f67",
    "bb1636ad",
    "1c7e20f3",
    "1a1b6340",
    "87389d56",
    "46071a6a",
    "3f79b079",
    "209ceba7",
    "677c3c67",
    "d6ca0731",
    "bc8594cd",
    "bcfb2e65",
    "ea479479",
    "05ec757c",
    "763915ed"
   ],
   "name": "analises.ipynb",
   "provenance": []
  },
  "kernelspec": {
   "display_name": "Python 3",
   "language": "python",
   "name": "python3"
  },
  "language_info": {
   "codemirror_mode": {
    "name": "ipython",
    "version": 3
   },
   "file_extension": ".py",
   "mimetype": "text/x-python",
   "name": "python",
   "nbconvert_exporter": "python",
   "pygments_lexer": "ipython3",
   "version": "3.8.8"
  }
 },
 "nbformat": 4,
 "nbformat_minor": 5
}
